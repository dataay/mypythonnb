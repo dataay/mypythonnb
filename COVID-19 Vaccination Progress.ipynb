{
 "cells": [
  {
   "cell_type": "markdown",
   "metadata": {},
   "source": [
    "### <center> COVID-19 World Vaccination Progress - Data Visualization And Analysis\n"
   ]
  },
  {
   "cell_type": "markdown",
   "metadata": {},
   "source": [
    "<img src=\"Coronavirus-vaccine-Reuters.jpg\" width=\"200\">"
   ]
  },
  {
   "cell_type": "markdown",
   "metadata": {},
   "source": [
    "1. What vaccines are used and in which countries?\n",
    "2. What country is vaccinated more people?\n",
    "3. What country is vaccinated a larger percent from its population?"
   ]
  },
  {
   "cell_type": "code",
   "execution_count": 2,
   "metadata": {},
   "outputs": [],
   "source": [
    "import pandas as pd\n",
    "import numpy as np\n",
    "\n",
    "\n",
    "#for data visualization\n",
    "import matplotlib.pyplot as plt\n",
    "import seaborn as sns\n",
    "import chart_studio.plotly as py\n",
    "import cufflinks as cf\n",
    "import plotly.graph_objs as go\n",
    "import plotly.express as px\n",
    "sns.set_style('whitegrid')\n",
    "%matplotlib inline\n",
    "\n"
   ]
  },
  {
   "cell_type": "code",
   "execution_count": 3,
   "metadata": {},
   "outputs": [
    {
     "data": {
      "text/html": [
       "        <script type=\"text/javascript\">\n",
       "        window.PlotlyConfig = {MathJaxConfig: 'local'};\n",
       "        if (window.MathJax) {MathJax.Hub.Config({SVG: {font: \"STIX-Web\"}});}\n",
       "        if (typeof require !== 'undefined') {\n",
       "        require.undef(\"plotly\");\n",
       "        requirejs.config({\n",
       "            paths: {\n",
       "                'plotly': ['https://cdn.plot.ly/plotly-latest.min']\n",
       "            }\n",
       "        });\n",
       "        require(['plotly'], function(Plotly) {\n",
       "            window._Plotly = Plotly;\n",
       "        });\n",
       "        }\n",
       "        </script>\n",
       "        "
      ]
     },
     "metadata": {},
     "output_type": "display_data"
    },
    {
     "data": {
      "text/plain": [
       "<function cufflinks.offline.go_offline(connected=None)>"
      ]
     },
     "execution_count": 3,
     "metadata": {},
     "output_type": "execute_result"
    }
   ],
   "source": [
    "from plotly.offline import download_plotlyjs, init_notebook_mode, plot, iplot \n",
    "# to get the connection \n",
    "init_notebook_mode(connected = True) \n",
    "\n",
    "# plotly also serves online, \n",
    "# but we are using just a sample \n",
    "cf.go_offline "
   ]
  },
  {
   "cell_type": "code",
   "execution_count": 4,
   "metadata": {},
   "outputs": [
    {
     "data": {
      "text/html": [
       "<div>\n",
       "<style scoped>\n",
       "    .dataframe tbody tr th:only-of-type {\n",
       "        vertical-align: middle;\n",
       "    }\n",
       "\n",
       "    .dataframe tbody tr th {\n",
       "        vertical-align: top;\n",
       "    }\n",
       "\n",
       "    .dataframe thead th {\n",
       "        text-align: right;\n",
       "    }\n",
       "</style>\n",
       "<table border=\"1\" class=\"dataframe\">\n",
       "  <thead>\n",
       "    <tr style=\"text-align: right;\">\n",
       "      <th></th>\n",
       "      <th>country</th>\n",
       "      <th>iso_code</th>\n",
       "      <th>date</th>\n",
       "      <th>total_vaccinations</th>\n",
       "      <th>people_vaccinated</th>\n",
       "      <th>people_fully_vaccinated</th>\n",
       "      <th>daily_vaccinations_raw</th>\n",
       "      <th>daily_vaccinations</th>\n",
       "      <th>total_vaccinations_per_hundred</th>\n",
       "      <th>people_vaccinated_per_hundred</th>\n",
       "      <th>people_fully_vaccinated_per_hundred</th>\n",
       "      <th>daily_vaccinations_per_million</th>\n",
       "      <th>vaccines</th>\n",
       "      <th>source_name</th>\n",
       "      <th>source_website</th>\n",
       "    </tr>\n",
       "  </thead>\n",
       "  <tbody>\n",
       "    <tr>\n",
       "      <th>0</th>\n",
       "      <td>Albania</td>\n",
       "      <td>ALB</td>\n",
       "      <td>2021-01-10</td>\n",
       "      <td>0.0</td>\n",
       "      <td>0.0</td>\n",
       "      <td>NaN</td>\n",
       "      <td>NaN</td>\n",
       "      <td>NaN</td>\n",
       "      <td>0.00</td>\n",
       "      <td>0.00</td>\n",
       "      <td>NaN</td>\n",
       "      <td>NaN</td>\n",
       "      <td>Pfizer/BioNTech</td>\n",
       "      <td>Ministry of Health</td>\n",
       "      <td>https://shendetesia.gov.al/covid19-ministria-e...</td>\n",
       "    </tr>\n",
       "    <tr>\n",
       "      <th>1</th>\n",
       "      <td>Albania</td>\n",
       "      <td>ALB</td>\n",
       "      <td>2021-01-11</td>\n",
       "      <td>NaN</td>\n",
       "      <td>NaN</td>\n",
       "      <td>NaN</td>\n",
       "      <td>NaN</td>\n",
       "      <td>64.0</td>\n",
       "      <td>NaN</td>\n",
       "      <td>NaN</td>\n",
       "      <td>NaN</td>\n",
       "      <td>22.0</td>\n",
       "      <td>Pfizer/BioNTech</td>\n",
       "      <td>Ministry of Health</td>\n",
       "      <td>https://shendetesia.gov.al/covid19-ministria-e...</td>\n",
       "    </tr>\n",
       "    <tr>\n",
       "      <th>2</th>\n",
       "      <td>Albania</td>\n",
       "      <td>ALB</td>\n",
       "      <td>2021-01-12</td>\n",
       "      <td>128.0</td>\n",
       "      <td>128.0</td>\n",
       "      <td>NaN</td>\n",
       "      <td>NaN</td>\n",
       "      <td>64.0</td>\n",
       "      <td>0.00</td>\n",
       "      <td>0.00</td>\n",
       "      <td>NaN</td>\n",
       "      <td>22.0</td>\n",
       "      <td>Pfizer/BioNTech</td>\n",
       "      <td>Ministry of Health</td>\n",
       "      <td>https://shendetesia.gov.al/covid19-ministria-e...</td>\n",
       "    </tr>\n",
       "    <tr>\n",
       "      <th>3</th>\n",
       "      <td>Albania</td>\n",
       "      <td>ALB</td>\n",
       "      <td>2021-01-13</td>\n",
       "      <td>188.0</td>\n",
       "      <td>188.0</td>\n",
       "      <td>NaN</td>\n",
       "      <td>60.0</td>\n",
       "      <td>63.0</td>\n",
       "      <td>0.01</td>\n",
       "      <td>0.01</td>\n",
       "      <td>NaN</td>\n",
       "      <td>22.0</td>\n",
       "      <td>Pfizer/BioNTech</td>\n",
       "      <td>Ministry of Health</td>\n",
       "      <td>https://shendetesia.gov.al/covid19-ministria-e...</td>\n",
       "    </tr>\n",
       "    <tr>\n",
       "      <th>4</th>\n",
       "      <td>Albania</td>\n",
       "      <td>ALB</td>\n",
       "      <td>2021-01-14</td>\n",
       "      <td>266.0</td>\n",
       "      <td>266.0</td>\n",
       "      <td>NaN</td>\n",
       "      <td>78.0</td>\n",
       "      <td>66.0</td>\n",
       "      <td>0.01</td>\n",
       "      <td>0.01</td>\n",
       "      <td>NaN</td>\n",
       "      <td>23.0</td>\n",
       "      <td>Pfizer/BioNTech</td>\n",
       "      <td>Ministry of Health</td>\n",
       "      <td>https://shendetesia.gov.al/covid19-ministria-e...</td>\n",
       "    </tr>\n",
       "    <tr>\n",
       "      <th>...</th>\n",
       "      <td>...</td>\n",
       "      <td>...</td>\n",
       "      <td>...</td>\n",
       "      <td>...</td>\n",
       "      <td>...</td>\n",
       "      <td>...</td>\n",
       "      <td>...</td>\n",
       "      <td>...</td>\n",
       "      <td>...</td>\n",
       "      <td>...</td>\n",
       "      <td>...</td>\n",
       "      <td>...</td>\n",
       "      <td>...</td>\n",
       "      <td>...</td>\n",
       "      <td>...</td>\n",
       "    </tr>\n",
       "    <tr>\n",
       "      <th>5819</th>\n",
       "      <td>Zimbabwe</td>\n",
       "      <td>ZWE</td>\n",
       "      <td>2021-03-06</td>\n",
       "      <td>32014.0</td>\n",
       "      <td>32014.0</td>\n",
       "      <td>NaN</td>\n",
       "      <td>689.0</td>\n",
       "      <td>2330.0</td>\n",
       "      <td>0.22</td>\n",
       "      <td>0.22</td>\n",
       "      <td>NaN</td>\n",
       "      <td>157.0</td>\n",
       "      <td>Sinopharm/Beijing</td>\n",
       "      <td>Ministry of Health</td>\n",
       "      <td>https://twitter.com/MoHCCZim/status/1369721692...</td>\n",
       "    </tr>\n",
       "    <tr>\n",
       "      <th>5820</th>\n",
       "      <td>Zimbabwe</td>\n",
       "      <td>ZWE</td>\n",
       "      <td>2021-03-07</td>\n",
       "      <td>32240.0</td>\n",
       "      <td>32240.0</td>\n",
       "      <td>NaN</td>\n",
       "      <td>226.0</td>\n",
       "      <td>1914.0</td>\n",
       "      <td>0.22</td>\n",
       "      <td>0.22</td>\n",
       "      <td>NaN</td>\n",
       "      <td>129.0</td>\n",
       "      <td>Sinopharm/Beijing</td>\n",
       "      <td>Ministry of Health</td>\n",
       "      <td>https://twitter.com/MoHCCZim/status/1369721692...</td>\n",
       "    </tr>\n",
       "    <tr>\n",
       "      <th>5821</th>\n",
       "      <td>Zimbabwe</td>\n",
       "      <td>ZWE</td>\n",
       "      <td>2021-03-08</td>\n",
       "      <td>35518.0</td>\n",
       "      <td>35518.0</td>\n",
       "      <td>NaN</td>\n",
       "      <td>3278.0</td>\n",
       "      <td>2009.0</td>\n",
       "      <td>0.24</td>\n",
       "      <td>0.24</td>\n",
       "      <td>NaN</td>\n",
       "      <td>135.0</td>\n",
       "      <td>Sinopharm/Beijing</td>\n",
       "      <td>Ministry of Health</td>\n",
       "      <td>https://twitter.com/MoHCCZim/status/1369721692...</td>\n",
       "    </tr>\n",
       "    <tr>\n",
       "      <th>5822</th>\n",
       "      <td>Zimbabwe</td>\n",
       "      <td>ZWE</td>\n",
       "      <td>2021-03-09</td>\n",
       "      <td>35761.0</td>\n",
       "      <td>35761.0</td>\n",
       "      <td>NaN</td>\n",
       "      <td>243.0</td>\n",
       "      <td>1526.0</td>\n",
       "      <td>0.24</td>\n",
       "      <td>0.24</td>\n",
       "      <td>NaN</td>\n",
       "      <td>103.0</td>\n",
       "      <td>Sinopharm/Beijing</td>\n",
       "      <td>Ministry of Health</td>\n",
       "      <td>https://twitter.com/MoHCCZim/status/1369721692...</td>\n",
       "    </tr>\n",
       "    <tr>\n",
       "      <th>5823</th>\n",
       "      <td>Zimbabwe</td>\n",
       "      <td>ZWE</td>\n",
       "      <td>2021-03-10</td>\n",
       "      <td>35901.0</td>\n",
       "      <td>35901.0</td>\n",
       "      <td>NaN</td>\n",
       "      <td>140.0</td>\n",
       "      <td>1133.0</td>\n",
       "      <td>0.24</td>\n",
       "      <td>0.24</td>\n",
       "      <td>NaN</td>\n",
       "      <td>76.0</td>\n",
       "      <td>Sinopharm/Beijing</td>\n",
       "      <td>Ministry of Health</td>\n",
       "      <td>https://twitter.com/MoHCCZim/status/1369721692...</td>\n",
       "    </tr>\n",
       "  </tbody>\n",
       "</table>\n",
       "<p>5824 rows × 15 columns</p>\n",
       "</div>"
      ],
      "text/plain": [
       "       country iso_code        date  total_vaccinations  people_vaccinated  \\\n",
       "0      Albania      ALB  2021-01-10                 0.0                0.0   \n",
       "1      Albania      ALB  2021-01-11                 NaN                NaN   \n",
       "2      Albania      ALB  2021-01-12               128.0              128.0   \n",
       "3      Albania      ALB  2021-01-13               188.0              188.0   \n",
       "4      Albania      ALB  2021-01-14               266.0              266.0   \n",
       "...        ...      ...         ...                 ...                ...   \n",
       "5819  Zimbabwe      ZWE  2021-03-06             32014.0            32014.0   \n",
       "5820  Zimbabwe      ZWE  2021-03-07             32240.0            32240.0   \n",
       "5821  Zimbabwe      ZWE  2021-03-08             35518.0            35518.0   \n",
       "5822  Zimbabwe      ZWE  2021-03-09             35761.0            35761.0   \n",
       "5823  Zimbabwe      ZWE  2021-03-10             35901.0            35901.0   \n",
       "\n",
       "      people_fully_vaccinated  daily_vaccinations_raw  daily_vaccinations  \\\n",
       "0                         NaN                     NaN                 NaN   \n",
       "1                         NaN                     NaN                64.0   \n",
       "2                         NaN                     NaN                64.0   \n",
       "3                         NaN                    60.0                63.0   \n",
       "4                         NaN                    78.0                66.0   \n",
       "...                       ...                     ...                 ...   \n",
       "5819                      NaN                   689.0              2330.0   \n",
       "5820                      NaN                   226.0              1914.0   \n",
       "5821                      NaN                  3278.0              2009.0   \n",
       "5822                      NaN                   243.0              1526.0   \n",
       "5823                      NaN                   140.0              1133.0   \n",
       "\n",
       "      total_vaccinations_per_hundred  people_vaccinated_per_hundred  \\\n",
       "0                               0.00                           0.00   \n",
       "1                                NaN                            NaN   \n",
       "2                               0.00                           0.00   \n",
       "3                               0.01                           0.01   \n",
       "4                               0.01                           0.01   \n",
       "...                              ...                            ...   \n",
       "5819                            0.22                           0.22   \n",
       "5820                            0.22                           0.22   \n",
       "5821                            0.24                           0.24   \n",
       "5822                            0.24                           0.24   \n",
       "5823                            0.24                           0.24   \n",
       "\n",
       "      people_fully_vaccinated_per_hundred  daily_vaccinations_per_million  \\\n",
       "0                                     NaN                             NaN   \n",
       "1                                     NaN                            22.0   \n",
       "2                                     NaN                            22.0   \n",
       "3                                     NaN                            22.0   \n",
       "4                                     NaN                            23.0   \n",
       "...                                   ...                             ...   \n",
       "5819                                  NaN                           157.0   \n",
       "5820                                  NaN                           129.0   \n",
       "5821                                  NaN                           135.0   \n",
       "5822                                  NaN                           103.0   \n",
       "5823                                  NaN                            76.0   \n",
       "\n",
       "               vaccines         source_name  \\\n",
       "0       Pfizer/BioNTech  Ministry of Health   \n",
       "1       Pfizer/BioNTech  Ministry of Health   \n",
       "2       Pfizer/BioNTech  Ministry of Health   \n",
       "3       Pfizer/BioNTech  Ministry of Health   \n",
       "4       Pfizer/BioNTech  Ministry of Health   \n",
       "...                 ...                 ...   \n",
       "5819  Sinopharm/Beijing  Ministry of Health   \n",
       "5820  Sinopharm/Beijing  Ministry of Health   \n",
       "5821  Sinopharm/Beijing  Ministry of Health   \n",
       "5822  Sinopharm/Beijing  Ministry of Health   \n",
       "5823  Sinopharm/Beijing  Ministry of Health   \n",
       "\n",
       "                                         source_website  \n",
       "0     https://shendetesia.gov.al/covid19-ministria-e...  \n",
       "1     https://shendetesia.gov.al/covid19-ministria-e...  \n",
       "2     https://shendetesia.gov.al/covid19-ministria-e...  \n",
       "3     https://shendetesia.gov.al/covid19-ministria-e...  \n",
       "4     https://shendetesia.gov.al/covid19-ministria-e...  \n",
       "...                                                 ...  \n",
       "5819  https://twitter.com/MoHCCZim/status/1369721692...  \n",
       "5820  https://twitter.com/MoHCCZim/status/1369721692...  \n",
       "5821  https://twitter.com/MoHCCZim/status/1369721692...  \n",
       "5822  https://twitter.com/MoHCCZim/status/1369721692...  \n",
       "5823  https://twitter.com/MoHCCZim/status/1369721692...  \n",
       "\n",
       "[5824 rows x 15 columns]"
      ]
     },
     "execution_count": 4,
     "metadata": {},
     "output_type": "execute_result"
    }
   ],
   "source": [
    "covid_df = pd.read_csv('country_vaccinations.csv')\n",
    "covid_df"
   ]
  },
  {
   "cell_type": "code",
   "execution_count": 5,
   "metadata": {},
   "outputs": [
    {
     "data": {
      "text/html": [
       "<div>\n",
       "<style scoped>\n",
       "    .dataframe tbody tr th:only-of-type {\n",
       "        vertical-align: middle;\n",
       "    }\n",
       "\n",
       "    .dataframe tbody tr th {\n",
       "        vertical-align: top;\n",
       "    }\n",
       "\n",
       "    .dataframe thead th {\n",
       "        text-align: right;\n",
       "    }\n",
       "</style>\n",
       "<table border=\"1\" class=\"dataframe\">\n",
       "  <thead>\n",
       "    <tr style=\"text-align: right;\">\n",
       "      <th></th>\n",
       "      <th>country</th>\n",
       "      <th>iso_code</th>\n",
       "      <th>date</th>\n",
       "      <th>total_vaccinations</th>\n",
       "      <th>people_vaccinated</th>\n",
       "      <th>people_fully_vaccinated</th>\n",
       "      <th>daily_vaccinations_raw</th>\n",
       "      <th>daily_vaccinations</th>\n",
       "      <th>total_vaccinations_per_hundred</th>\n",
       "      <th>people_vaccinated_per_hundred</th>\n",
       "      <th>people_fully_vaccinated_per_hundred</th>\n",
       "      <th>daily_vaccinations_per_million</th>\n",
       "      <th>vaccines</th>\n",
       "    </tr>\n",
       "  </thead>\n",
       "  <tbody>\n",
       "    <tr>\n",
       "      <th>0</th>\n",
       "      <td>Albania</td>\n",
       "      <td>ALB</td>\n",
       "      <td>2021-01-10</td>\n",
       "      <td>0.0</td>\n",
       "      <td>0.0</td>\n",
       "      <td>NaN</td>\n",
       "      <td>NaN</td>\n",
       "      <td>NaN</td>\n",
       "      <td>0.00</td>\n",
       "      <td>0.00</td>\n",
       "      <td>NaN</td>\n",
       "      <td>NaN</td>\n",
       "      <td>Pfizer/BioNTech</td>\n",
       "    </tr>\n",
       "    <tr>\n",
       "      <th>1</th>\n",
       "      <td>Albania</td>\n",
       "      <td>ALB</td>\n",
       "      <td>2021-01-11</td>\n",
       "      <td>NaN</td>\n",
       "      <td>NaN</td>\n",
       "      <td>NaN</td>\n",
       "      <td>NaN</td>\n",
       "      <td>64.0</td>\n",
       "      <td>NaN</td>\n",
       "      <td>NaN</td>\n",
       "      <td>NaN</td>\n",
       "      <td>22.0</td>\n",
       "      <td>Pfizer/BioNTech</td>\n",
       "    </tr>\n",
       "    <tr>\n",
       "      <th>2</th>\n",
       "      <td>Albania</td>\n",
       "      <td>ALB</td>\n",
       "      <td>2021-01-12</td>\n",
       "      <td>128.0</td>\n",
       "      <td>128.0</td>\n",
       "      <td>NaN</td>\n",
       "      <td>NaN</td>\n",
       "      <td>64.0</td>\n",
       "      <td>0.00</td>\n",
       "      <td>0.00</td>\n",
       "      <td>NaN</td>\n",
       "      <td>22.0</td>\n",
       "      <td>Pfizer/BioNTech</td>\n",
       "    </tr>\n",
       "    <tr>\n",
       "      <th>3</th>\n",
       "      <td>Albania</td>\n",
       "      <td>ALB</td>\n",
       "      <td>2021-01-13</td>\n",
       "      <td>188.0</td>\n",
       "      <td>188.0</td>\n",
       "      <td>NaN</td>\n",
       "      <td>60.0</td>\n",
       "      <td>63.0</td>\n",
       "      <td>0.01</td>\n",
       "      <td>0.01</td>\n",
       "      <td>NaN</td>\n",
       "      <td>22.0</td>\n",
       "      <td>Pfizer/BioNTech</td>\n",
       "    </tr>\n",
       "    <tr>\n",
       "      <th>4</th>\n",
       "      <td>Albania</td>\n",
       "      <td>ALB</td>\n",
       "      <td>2021-01-14</td>\n",
       "      <td>266.0</td>\n",
       "      <td>266.0</td>\n",
       "      <td>NaN</td>\n",
       "      <td>78.0</td>\n",
       "      <td>66.0</td>\n",
       "      <td>0.01</td>\n",
       "      <td>0.01</td>\n",
       "      <td>NaN</td>\n",
       "      <td>23.0</td>\n",
       "      <td>Pfizer/BioNTech</td>\n",
       "    </tr>\n",
       "    <tr>\n",
       "      <th>...</th>\n",
       "      <td>...</td>\n",
       "      <td>...</td>\n",
       "      <td>...</td>\n",
       "      <td>...</td>\n",
       "      <td>...</td>\n",
       "      <td>...</td>\n",
       "      <td>...</td>\n",
       "      <td>...</td>\n",
       "      <td>...</td>\n",
       "      <td>...</td>\n",
       "      <td>...</td>\n",
       "      <td>...</td>\n",
       "      <td>...</td>\n",
       "    </tr>\n",
       "    <tr>\n",
       "      <th>5819</th>\n",
       "      <td>Zimbabwe</td>\n",
       "      <td>ZWE</td>\n",
       "      <td>2021-03-06</td>\n",
       "      <td>32014.0</td>\n",
       "      <td>32014.0</td>\n",
       "      <td>NaN</td>\n",
       "      <td>689.0</td>\n",
       "      <td>2330.0</td>\n",
       "      <td>0.22</td>\n",
       "      <td>0.22</td>\n",
       "      <td>NaN</td>\n",
       "      <td>157.0</td>\n",
       "      <td>Sinopharm/Beijing</td>\n",
       "    </tr>\n",
       "    <tr>\n",
       "      <th>5820</th>\n",
       "      <td>Zimbabwe</td>\n",
       "      <td>ZWE</td>\n",
       "      <td>2021-03-07</td>\n",
       "      <td>32240.0</td>\n",
       "      <td>32240.0</td>\n",
       "      <td>NaN</td>\n",
       "      <td>226.0</td>\n",
       "      <td>1914.0</td>\n",
       "      <td>0.22</td>\n",
       "      <td>0.22</td>\n",
       "      <td>NaN</td>\n",
       "      <td>129.0</td>\n",
       "      <td>Sinopharm/Beijing</td>\n",
       "    </tr>\n",
       "    <tr>\n",
       "      <th>5821</th>\n",
       "      <td>Zimbabwe</td>\n",
       "      <td>ZWE</td>\n",
       "      <td>2021-03-08</td>\n",
       "      <td>35518.0</td>\n",
       "      <td>35518.0</td>\n",
       "      <td>NaN</td>\n",
       "      <td>3278.0</td>\n",
       "      <td>2009.0</td>\n",
       "      <td>0.24</td>\n",
       "      <td>0.24</td>\n",
       "      <td>NaN</td>\n",
       "      <td>135.0</td>\n",
       "      <td>Sinopharm/Beijing</td>\n",
       "    </tr>\n",
       "    <tr>\n",
       "      <th>5822</th>\n",
       "      <td>Zimbabwe</td>\n",
       "      <td>ZWE</td>\n",
       "      <td>2021-03-09</td>\n",
       "      <td>35761.0</td>\n",
       "      <td>35761.0</td>\n",
       "      <td>NaN</td>\n",
       "      <td>243.0</td>\n",
       "      <td>1526.0</td>\n",
       "      <td>0.24</td>\n",
       "      <td>0.24</td>\n",
       "      <td>NaN</td>\n",
       "      <td>103.0</td>\n",
       "      <td>Sinopharm/Beijing</td>\n",
       "    </tr>\n",
       "    <tr>\n",
       "      <th>5823</th>\n",
       "      <td>Zimbabwe</td>\n",
       "      <td>ZWE</td>\n",
       "      <td>2021-03-10</td>\n",
       "      <td>35901.0</td>\n",
       "      <td>35901.0</td>\n",
       "      <td>NaN</td>\n",
       "      <td>140.0</td>\n",
       "      <td>1133.0</td>\n",
       "      <td>0.24</td>\n",
       "      <td>0.24</td>\n",
       "      <td>NaN</td>\n",
       "      <td>76.0</td>\n",
       "      <td>Sinopharm/Beijing</td>\n",
       "    </tr>\n",
       "  </tbody>\n",
       "</table>\n",
       "<p>5824 rows × 13 columns</p>\n",
       "</div>"
      ],
      "text/plain": [
       "       country iso_code        date  total_vaccinations  people_vaccinated  \\\n",
       "0      Albania      ALB  2021-01-10                 0.0                0.0   \n",
       "1      Albania      ALB  2021-01-11                 NaN                NaN   \n",
       "2      Albania      ALB  2021-01-12               128.0              128.0   \n",
       "3      Albania      ALB  2021-01-13               188.0              188.0   \n",
       "4      Albania      ALB  2021-01-14               266.0              266.0   \n",
       "...        ...      ...         ...                 ...                ...   \n",
       "5819  Zimbabwe      ZWE  2021-03-06             32014.0            32014.0   \n",
       "5820  Zimbabwe      ZWE  2021-03-07             32240.0            32240.0   \n",
       "5821  Zimbabwe      ZWE  2021-03-08             35518.0            35518.0   \n",
       "5822  Zimbabwe      ZWE  2021-03-09             35761.0            35761.0   \n",
       "5823  Zimbabwe      ZWE  2021-03-10             35901.0            35901.0   \n",
       "\n",
       "      people_fully_vaccinated  daily_vaccinations_raw  daily_vaccinations  \\\n",
       "0                         NaN                     NaN                 NaN   \n",
       "1                         NaN                     NaN                64.0   \n",
       "2                         NaN                     NaN                64.0   \n",
       "3                         NaN                    60.0                63.0   \n",
       "4                         NaN                    78.0                66.0   \n",
       "...                       ...                     ...                 ...   \n",
       "5819                      NaN                   689.0              2330.0   \n",
       "5820                      NaN                   226.0              1914.0   \n",
       "5821                      NaN                  3278.0              2009.0   \n",
       "5822                      NaN                   243.0              1526.0   \n",
       "5823                      NaN                   140.0              1133.0   \n",
       "\n",
       "      total_vaccinations_per_hundred  people_vaccinated_per_hundred  \\\n",
       "0                               0.00                           0.00   \n",
       "1                                NaN                            NaN   \n",
       "2                               0.00                           0.00   \n",
       "3                               0.01                           0.01   \n",
       "4                               0.01                           0.01   \n",
       "...                              ...                            ...   \n",
       "5819                            0.22                           0.22   \n",
       "5820                            0.22                           0.22   \n",
       "5821                            0.24                           0.24   \n",
       "5822                            0.24                           0.24   \n",
       "5823                            0.24                           0.24   \n",
       "\n",
       "      people_fully_vaccinated_per_hundred  daily_vaccinations_per_million  \\\n",
       "0                                     NaN                             NaN   \n",
       "1                                     NaN                            22.0   \n",
       "2                                     NaN                            22.0   \n",
       "3                                     NaN                            22.0   \n",
       "4                                     NaN                            23.0   \n",
       "...                                   ...                             ...   \n",
       "5819                                  NaN                           157.0   \n",
       "5820                                  NaN                           129.0   \n",
       "5821                                  NaN                           135.0   \n",
       "5822                                  NaN                           103.0   \n",
       "5823                                  NaN                            76.0   \n",
       "\n",
       "               vaccines  \n",
       "0       Pfizer/BioNTech  \n",
       "1       Pfizer/BioNTech  \n",
       "2       Pfizer/BioNTech  \n",
       "3       Pfizer/BioNTech  \n",
       "4       Pfizer/BioNTech  \n",
       "...                 ...  \n",
       "5819  Sinopharm/Beijing  \n",
       "5820  Sinopharm/Beijing  \n",
       "5821  Sinopharm/Beijing  \n",
       "5822  Sinopharm/Beijing  \n",
       "5823  Sinopharm/Beijing  \n",
       "\n",
       "[5824 rows x 13 columns]"
      ]
     },
     "execution_count": 5,
     "metadata": {},
     "output_type": "execute_result"
    }
   ],
   "source": [
    "#let's drop source_name\tand source_website\n",
    "covid_df.drop(['source_name','source_website'], axis=1, inplace = True)\n",
    "covid_df"
   ]
  },
  {
   "cell_type": "code",
   "execution_count": 6,
   "metadata": {},
   "outputs": [
    {
     "data": {
      "text/html": [
       "<div>\n",
       "<style scoped>\n",
       "    .dataframe tbody tr th:only-of-type {\n",
       "        vertical-align: middle;\n",
       "    }\n",
       "\n",
       "    .dataframe tbody tr th {\n",
       "        vertical-align: top;\n",
       "    }\n",
       "\n",
       "    .dataframe thead th {\n",
       "        text-align: right;\n",
       "    }\n",
       "</style>\n",
       "<table border=\"1\" class=\"dataframe\">\n",
       "  <thead>\n",
       "    <tr style=\"text-align: right;\">\n",
       "      <th></th>\n",
       "      <th>country</th>\n",
       "      <th>iso_code</th>\n",
       "      <th>date</th>\n",
       "      <th>total_vaccinations</th>\n",
       "      <th>people_vaccinated</th>\n",
       "      <th>people_fully_vaccinated</th>\n",
       "      <th>daily_vaccinations_raw</th>\n",
       "      <th>daily_vaccinations</th>\n",
       "      <th>total_vaccinations_per_hundred</th>\n",
       "      <th>people_vaccinated_per_hundred</th>\n",
       "      <th>people_fully_vaccinated_per_hundred</th>\n",
       "      <th>daily_vaccinations_per_million</th>\n",
       "      <th>vaccines</th>\n",
       "    </tr>\n",
       "  </thead>\n",
       "  <tbody>\n",
       "    <tr>\n",
       "      <th>0</th>\n",
       "      <td>Albania</td>\n",
       "      <td>ALB</td>\n",
       "      <td>2021-01-10</td>\n",
       "      <td>0.0</td>\n",
       "      <td>0.0</td>\n",
       "      <td>NaN</td>\n",
       "      <td>NaN</td>\n",
       "      <td>NaN</td>\n",
       "      <td>0.00</td>\n",
       "      <td>0.00</td>\n",
       "      <td>NaN</td>\n",
       "      <td>NaN</td>\n",
       "      <td>Pfizer/BioNTech</td>\n",
       "    </tr>\n",
       "    <tr>\n",
       "      <th>1</th>\n",
       "      <td>Albania</td>\n",
       "      <td>ALB</td>\n",
       "      <td>2021-01-11</td>\n",
       "      <td>NaN</td>\n",
       "      <td>NaN</td>\n",
       "      <td>NaN</td>\n",
       "      <td>NaN</td>\n",
       "      <td>64.0</td>\n",
       "      <td>NaN</td>\n",
       "      <td>NaN</td>\n",
       "      <td>NaN</td>\n",
       "      <td>22.0</td>\n",
       "      <td>Pfizer/BioNTech</td>\n",
       "    </tr>\n",
       "    <tr>\n",
       "      <th>2</th>\n",
       "      <td>Albania</td>\n",
       "      <td>ALB</td>\n",
       "      <td>2021-01-12</td>\n",
       "      <td>128.0</td>\n",
       "      <td>128.0</td>\n",
       "      <td>NaN</td>\n",
       "      <td>NaN</td>\n",
       "      <td>64.0</td>\n",
       "      <td>0.00</td>\n",
       "      <td>0.00</td>\n",
       "      <td>NaN</td>\n",
       "      <td>22.0</td>\n",
       "      <td>Pfizer/BioNTech</td>\n",
       "    </tr>\n",
       "    <tr>\n",
       "      <th>3</th>\n",
       "      <td>Albania</td>\n",
       "      <td>ALB</td>\n",
       "      <td>2021-01-13</td>\n",
       "      <td>188.0</td>\n",
       "      <td>188.0</td>\n",
       "      <td>NaN</td>\n",
       "      <td>60.0</td>\n",
       "      <td>63.0</td>\n",
       "      <td>0.01</td>\n",
       "      <td>0.01</td>\n",
       "      <td>NaN</td>\n",
       "      <td>22.0</td>\n",
       "      <td>Pfizer/BioNTech</td>\n",
       "    </tr>\n",
       "    <tr>\n",
       "      <th>4</th>\n",
       "      <td>Albania</td>\n",
       "      <td>ALB</td>\n",
       "      <td>2021-01-14</td>\n",
       "      <td>266.0</td>\n",
       "      <td>266.0</td>\n",
       "      <td>NaN</td>\n",
       "      <td>78.0</td>\n",
       "      <td>66.0</td>\n",
       "      <td>0.01</td>\n",
       "      <td>0.01</td>\n",
       "      <td>NaN</td>\n",
       "      <td>23.0</td>\n",
       "      <td>Pfizer/BioNTech</td>\n",
       "    </tr>\n",
       "  </tbody>\n",
       "</table>\n",
       "</div>"
      ],
      "text/plain": [
       "   country iso_code        date  total_vaccinations  people_vaccinated  \\\n",
       "0  Albania      ALB  2021-01-10                 0.0                0.0   \n",
       "1  Albania      ALB  2021-01-11                 NaN                NaN   \n",
       "2  Albania      ALB  2021-01-12               128.0              128.0   \n",
       "3  Albania      ALB  2021-01-13               188.0              188.0   \n",
       "4  Albania      ALB  2021-01-14               266.0              266.0   \n",
       "\n",
       "   people_fully_vaccinated  daily_vaccinations_raw  daily_vaccinations  \\\n",
       "0                      NaN                     NaN                 NaN   \n",
       "1                      NaN                     NaN                64.0   \n",
       "2                      NaN                     NaN                64.0   \n",
       "3                      NaN                    60.0                63.0   \n",
       "4                      NaN                    78.0                66.0   \n",
       "\n",
       "   total_vaccinations_per_hundred  people_vaccinated_per_hundred  \\\n",
       "0                            0.00                           0.00   \n",
       "1                             NaN                            NaN   \n",
       "2                            0.00                           0.00   \n",
       "3                            0.01                           0.01   \n",
       "4                            0.01                           0.01   \n",
       "\n",
       "   people_fully_vaccinated_per_hundred  daily_vaccinations_per_million  \\\n",
       "0                                  NaN                             NaN   \n",
       "1                                  NaN                            22.0   \n",
       "2                                  NaN                            22.0   \n",
       "3                                  NaN                            22.0   \n",
       "4                                  NaN                            23.0   \n",
       "\n",
       "          vaccines  \n",
       "0  Pfizer/BioNTech  \n",
       "1  Pfizer/BioNTech  \n",
       "2  Pfizer/BioNTech  \n",
       "3  Pfizer/BioNTech  \n",
       "4  Pfizer/BioNTech  "
      ]
     },
     "execution_count": 6,
     "metadata": {},
     "output_type": "execute_result"
    }
   ],
   "source": [
    "covid_df.head()"
   ]
  },
  {
   "cell_type": "markdown",
   "metadata": {},
   "source": [
    "*As we can see, there are a lot of nan values in dataset. For correct visualization some of columns are needed to be interpolate*"
   ]
  },
  {
   "cell_type": "code",
   "execution_count": 7,
   "metadata": {},
   "outputs": [
    {
     "data": {
      "text/plain": [
       "country                                   0\n",
       "iso_code                                348\n",
       "date                                      0\n",
       "total_vaccinations                     2107\n",
       "people_vaccinated                      2522\n",
       "people_fully_vaccinated                3567\n",
       "daily_vaccinations_raw                 2693\n",
       "daily_vaccinations                      187\n",
       "total_vaccinations_per_hundred         2107\n",
       "people_vaccinated_per_hundred          2522\n",
       "people_fully_vaccinated_per_hundred    3567\n",
       "daily_vaccinations_per_million          187\n",
       "vaccines                                  0\n",
       "dtype: int64"
      ]
     },
     "execution_count": 7,
     "metadata": {},
     "output_type": "execute_result"
    }
   ],
   "source": [
    "covid_df.isnull().sum(axis=0)"
   ]
  },
  {
   "cell_type": "code",
   "execution_count": 8,
   "metadata": {},
   "outputs": [
    {
     "data": {
      "text/plain": [
       "(5824, 13)"
      ]
     },
     "execution_count": 8,
     "metadata": {},
     "output_type": "execute_result"
    }
   ],
   "source": [
    "covid_df.shape"
   ]
  },
  {
   "cell_type": "code",
   "execution_count": 18,
   "metadata": {},
   "outputs": [],
   "source": [
    "covid_df.dropna(subset=[\"total_vaccinations\", \"people_vaccinated\"], how=\"all\", inplace=True)"
   ]
  },
  {
   "cell_type": "code",
   "execution_count": 9,
   "metadata": {},
   "outputs": [
    {
     "data": {
      "text/html": [
       "<div>\n",
       "<style scoped>\n",
       "    .dataframe tbody tr th:only-of-type {\n",
       "        vertical-align: middle;\n",
       "    }\n",
       "\n",
       "    .dataframe tbody tr th {\n",
       "        vertical-align: top;\n",
       "    }\n",
       "\n",
       "    .dataframe thead th {\n",
       "        text-align: right;\n",
       "    }\n",
       "</style>\n",
       "<table border=\"1\" class=\"dataframe\">\n",
       "  <thead>\n",
       "    <tr style=\"text-align: right;\">\n",
       "      <th></th>\n",
       "      <th>country</th>\n",
       "      <th>iso_code</th>\n",
       "      <th>date</th>\n",
       "      <th>total_vaccinations</th>\n",
       "      <th>people_vaccinated</th>\n",
       "      <th>people_fully_vaccinated</th>\n",
       "      <th>daily_vaccinations_raw</th>\n",
       "      <th>daily_vaccinations</th>\n",
       "      <th>total_vaccinations_per_hundred</th>\n",
       "      <th>people_vaccinated_per_hundred</th>\n",
       "      <th>people_fully_vaccinated_per_hundred</th>\n",
       "      <th>daily_vaccinations_per_million</th>\n",
       "      <th>vaccines</th>\n",
       "    </tr>\n",
       "  </thead>\n",
       "  <tbody>\n",
       "    <tr>\n",
       "      <th>0</th>\n",
       "      <td>Albania</td>\n",
       "      <td>ALB</td>\n",
       "      <td>2021-01-10</td>\n",
       "      <td>0.0</td>\n",
       "      <td>0.0</td>\n",
       "      <td>NaN</td>\n",
       "      <td>NaN</td>\n",
       "      <td>NaN</td>\n",
       "      <td>0.00</td>\n",
       "      <td>0.00</td>\n",
       "      <td>NaN</td>\n",
       "      <td>NaN</td>\n",
       "      <td>Pfizer/BioNTech</td>\n",
       "    </tr>\n",
       "    <tr>\n",
       "      <th>1</th>\n",
       "      <td>Albania</td>\n",
       "      <td>ALB</td>\n",
       "      <td>2021-01-11</td>\n",
       "      <td>NaN</td>\n",
       "      <td>NaN</td>\n",
       "      <td>NaN</td>\n",
       "      <td>NaN</td>\n",
       "      <td>64.0</td>\n",
       "      <td>NaN</td>\n",
       "      <td>NaN</td>\n",
       "      <td>NaN</td>\n",
       "      <td>22.0</td>\n",
       "      <td>Pfizer/BioNTech</td>\n",
       "    </tr>\n",
       "    <tr>\n",
       "      <th>2</th>\n",
       "      <td>Albania</td>\n",
       "      <td>ALB</td>\n",
       "      <td>2021-01-12</td>\n",
       "      <td>128.0</td>\n",
       "      <td>128.0</td>\n",
       "      <td>NaN</td>\n",
       "      <td>NaN</td>\n",
       "      <td>64.0</td>\n",
       "      <td>0.00</td>\n",
       "      <td>0.00</td>\n",
       "      <td>NaN</td>\n",
       "      <td>22.0</td>\n",
       "      <td>Pfizer/BioNTech</td>\n",
       "    </tr>\n",
       "    <tr>\n",
       "      <th>3</th>\n",
       "      <td>Albania</td>\n",
       "      <td>ALB</td>\n",
       "      <td>2021-01-13</td>\n",
       "      <td>188.0</td>\n",
       "      <td>188.0</td>\n",
       "      <td>NaN</td>\n",
       "      <td>60.0</td>\n",
       "      <td>63.0</td>\n",
       "      <td>0.01</td>\n",
       "      <td>0.01</td>\n",
       "      <td>NaN</td>\n",
       "      <td>22.0</td>\n",
       "      <td>Pfizer/BioNTech</td>\n",
       "    </tr>\n",
       "    <tr>\n",
       "      <th>4</th>\n",
       "      <td>Albania</td>\n",
       "      <td>ALB</td>\n",
       "      <td>2021-01-14</td>\n",
       "      <td>266.0</td>\n",
       "      <td>266.0</td>\n",
       "      <td>NaN</td>\n",
       "      <td>78.0</td>\n",
       "      <td>66.0</td>\n",
       "      <td>0.01</td>\n",
       "      <td>0.01</td>\n",
       "      <td>NaN</td>\n",
       "      <td>23.0</td>\n",
       "      <td>Pfizer/BioNTech</td>\n",
       "    </tr>\n",
       "    <tr>\n",
       "      <th>...</th>\n",
       "      <td>...</td>\n",
       "      <td>...</td>\n",
       "      <td>...</td>\n",
       "      <td>...</td>\n",
       "      <td>...</td>\n",
       "      <td>...</td>\n",
       "      <td>...</td>\n",
       "      <td>...</td>\n",
       "      <td>...</td>\n",
       "      <td>...</td>\n",
       "      <td>...</td>\n",
       "      <td>...</td>\n",
       "      <td>...</td>\n",
       "    </tr>\n",
       "    <tr>\n",
       "      <th>5819</th>\n",
       "      <td>Zimbabwe</td>\n",
       "      <td>ZWE</td>\n",
       "      <td>2021-03-06</td>\n",
       "      <td>32014.0</td>\n",
       "      <td>32014.0</td>\n",
       "      <td>NaN</td>\n",
       "      <td>689.0</td>\n",
       "      <td>2330.0</td>\n",
       "      <td>0.22</td>\n",
       "      <td>0.22</td>\n",
       "      <td>NaN</td>\n",
       "      <td>157.0</td>\n",
       "      <td>Sinopharm/Beijing</td>\n",
       "    </tr>\n",
       "    <tr>\n",
       "      <th>5820</th>\n",
       "      <td>Zimbabwe</td>\n",
       "      <td>ZWE</td>\n",
       "      <td>2021-03-07</td>\n",
       "      <td>32240.0</td>\n",
       "      <td>32240.0</td>\n",
       "      <td>NaN</td>\n",
       "      <td>226.0</td>\n",
       "      <td>1914.0</td>\n",
       "      <td>0.22</td>\n",
       "      <td>0.22</td>\n",
       "      <td>NaN</td>\n",
       "      <td>129.0</td>\n",
       "      <td>Sinopharm/Beijing</td>\n",
       "    </tr>\n",
       "    <tr>\n",
       "      <th>5821</th>\n",
       "      <td>Zimbabwe</td>\n",
       "      <td>ZWE</td>\n",
       "      <td>2021-03-08</td>\n",
       "      <td>35518.0</td>\n",
       "      <td>35518.0</td>\n",
       "      <td>NaN</td>\n",
       "      <td>3278.0</td>\n",
       "      <td>2009.0</td>\n",
       "      <td>0.24</td>\n",
       "      <td>0.24</td>\n",
       "      <td>NaN</td>\n",
       "      <td>135.0</td>\n",
       "      <td>Sinopharm/Beijing</td>\n",
       "    </tr>\n",
       "    <tr>\n",
       "      <th>5822</th>\n",
       "      <td>Zimbabwe</td>\n",
       "      <td>ZWE</td>\n",
       "      <td>2021-03-09</td>\n",
       "      <td>35761.0</td>\n",
       "      <td>35761.0</td>\n",
       "      <td>NaN</td>\n",
       "      <td>243.0</td>\n",
       "      <td>1526.0</td>\n",
       "      <td>0.24</td>\n",
       "      <td>0.24</td>\n",
       "      <td>NaN</td>\n",
       "      <td>103.0</td>\n",
       "      <td>Sinopharm/Beijing</td>\n",
       "    </tr>\n",
       "    <tr>\n",
       "      <th>5823</th>\n",
       "      <td>Zimbabwe</td>\n",
       "      <td>ZWE</td>\n",
       "      <td>2021-03-10</td>\n",
       "      <td>35901.0</td>\n",
       "      <td>35901.0</td>\n",
       "      <td>NaN</td>\n",
       "      <td>140.0</td>\n",
       "      <td>1133.0</td>\n",
       "      <td>0.24</td>\n",
       "      <td>0.24</td>\n",
       "      <td>NaN</td>\n",
       "      <td>76.0</td>\n",
       "      <td>Sinopharm/Beijing</td>\n",
       "    </tr>\n",
       "  </tbody>\n",
       "</table>\n",
       "<p>5824 rows × 13 columns</p>\n",
       "</div>"
      ],
      "text/plain": [
       "       country iso_code        date  total_vaccinations  people_vaccinated  \\\n",
       "0      Albania      ALB  2021-01-10                 0.0                0.0   \n",
       "1      Albania      ALB  2021-01-11                 NaN                NaN   \n",
       "2      Albania      ALB  2021-01-12               128.0              128.0   \n",
       "3      Albania      ALB  2021-01-13               188.0              188.0   \n",
       "4      Albania      ALB  2021-01-14               266.0              266.0   \n",
       "...        ...      ...         ...                 ...                ...   \n",
       "5819  Zimbabwe      ZWE  2021-03-06             32014.0            32014.0   \n",
       "5820  Zimbabwe      ZWE  2021-03-07             32240.0            32240.0   \n",
       "5821  Zimbabwe      ZWE  2021-03-08             35518.0            35518.0   \n",
       "5822  Zimbabwe      ZWE  2021-03-09             35761.0            35761.0   \n",
       "5823  Zimbabwe      ZWE  2021-03-10             35901.0            35901.0   \n",
       "\n",
       "      people_fully_vaccinated  daily_vaccinations_raw  daily_vaccinations  \\\n",
       "0                         NaN                     NaN                 NaN   \n",
       "1                         NaN                     NaN                64.0   \n",
       "2                         NaN                     NaN                64.0   \n",
       "3                         NaN                    60.0                63.0   \n",
       "4                         NaN                    78.0                66.0   \n",
       "...                       ...                     ...                 ...   \n",
       "5819                      NaN                   689.0              2330.0   \n",
       "5820                      NaN                   226.0              1914.0   \n",
       "5821                      NaN                  3278.0              2009.0   \n",
       "5822                      NaN                   243.0              1526.0   \n",
       "5823                      NaN                   140.0              1133.0   \n",
       "\n",
       "      total_vaccinations_per_hundred  people_vaccinated_per_hundred  \\\n",
       "0                               0.00                           0.00   \n",
       "1                                NaN                            NaN   \n",
       "2                               0.00                           0.00   \n",
       "3                               0.01                           0.01   \n",
       "4                               0.01                           0.01   \n",
       "...                              ...                            ...   \n",
       "5819                            0.22                           0.22   \n",
       "5820                            0.22                           0.22   \n",
       "5821                            0.24                           0.24   \n",
       "5822                            0.24                           0.24   \n",
       "5823                            0.24                           0.24   \n",
       "\n",
       "      people_fully_vaccinated_per_hundred  daily_vaccinations_per_million  \\\n",
       "0                                     NaN                             NaN   \n",
       "1                                     NaN                            22.0   \n",
       "2                                     NaN                            22.0   \n",
       "3                                     NaN                            22.0   \n",
       "4                                     NaN                            23.0   \n",
       "...                                   ...                             ...   \n",
       "5819                                  NaN                           157.0   \n",
       "5820                                  NaN                           129.0   \n",
       "5821                                  NaN                           135.0   \n",
       "5822                                  NaN                           103.0   \n",
       "5823                                  NaN                            76.0   \n",
       "\n",
       "               vaccines  \n",
       "0       Pfizer/BioNTech  \n",
       "1       Pfizer/BioNTech  \n",
       "2       Pfizer/BioNTech  \n",
       "3       Pfizer/BioNTech  \n",
       "4       Pfizer/BioNTech  \n",
       "...                 ...  \n",
       "5819  Sinopharm/Beijing  \n",
       "5820  Sinopharm/Beijing  \n",
       "5821  Sinopharm/Beijing  \n",
       "5822  Sinopharm/Beijing  \n",
       "5823  Sinopharm/Beijing  \n",
       "\n",
       "[5824 rows x 13 columns]"
      ]
     },
     "execution_count": 9,
     "metadata": {},
     "output_type": "execute_result"
    }
   ],
   "source": [
    "covid_df"
   ]
  },
  {
   "cell_type": "code",
   "execution_count": 10,
   "metadata": {},
   "outputs": [
    {
     "data": {
      "text/plain": [
       "country                                   0\n",
       "iso_code                                348\n",
       "date                                      0\n",
       "total_vaccinations                     2107\n",
       "people_vaccinated                      2522\n",
       "people_fully_vaccinated                3567\n",
       "daily_vaccinations_raw                 2693\n",
       "daily_vaccinations                      187\n",
       "total_vaccinations_per_hundred         2107\n",
       "people_vaccinated_per_hundred          2522\n",
       "people_fully_vaccinated_per_hundred    3567\n",
       "daily_vaccinations_per_million          187\n",
       "vaccines                                  0\n",
       "dtype: int64"
      ]
     },
     "execution_count": 10,
     "metadata": {},
     "output_type": "execute_result"
    }
   ],
   "source": [
    "covid_df.isnull().sum()"
   ]
  },
  {
   "cell_type": "markdown",
   "metadata": {},
   "source": [
    "**1. What vaccines are used and in which countries?**"
   ]
  },
  {
   "cell_type": "code",
   "execution_count": 11,
   "metadata": {},
   "outputs": [
    {
     "data": {
      "text/html": [
       "<div>\n",
       "<style scoped>\n",
       "    .dataframe tbody tr th:only-of-type {\n",
       "        vertical-align: middle;\n",
       "    }\n",
       "\n",
       "    .dataframe tbody tr th {\n",
       "        vertical-align: top;\n",
       "    }\n",
       "\n",
       "    .dataframe thead th {\n",
       "        text-align: right;\n",
       "    }\n",
       "</style>\n",
       "<table border=\"1\" class=\"dataframe\">\n",
       "  <thead>\n",
       "    <tr style=\"text-align: right;\">\n",
       "      <th></th>\n",
       "      <th>country</th>\n",
       "      <th>iso_code</th>\n",
       "      <th>vaccines</th>\n",
       "    </tr>\n",
       "  </thead>\n",
       "  <tbody>\n",
       "    <tr>\n",
       "      <th>0</th>\n",
       "      <td>Albania</td>\n",
       "      <td>ALB</td>\n",
       "      <td>Pfizer/BioNTech</td>\n",
       "    </tr>\n",
       "    <tr>\n",
       "      <th>1</th>\n",
       "      <td>Albania</td>\n",
       "      <td>ALB</td>\n",
       "      <td>Pfizer/BioNTech</td>\n",
       "    </tr>\n",
       "    <tr>\n",
       "      <th>2</th>\n",
       "      <td>Albania</td>\n",
       "      <td>ALB</td>\n",
       "      <td>Pfizer/BioNTech</td>\n",
       "    </tr>\n",
       "    <tr>\n",
       "      <th>3</th>\n",
       "      <td>Albania</td>\n",
       "      <td>ALB</td>\n",
       "      <td>Pfizer/BioNTech</td>\n",
       "    </tr>\n",
       "    <tr>\n",
       "      <th>4</th>\n",
       "      <td>Albania</td>\n",
       "      <td>ALB</td>\n",
       "      <td>Pfizer/BioNTech</td>\n",
       "    </tr>\n",
       "    <tr>\n",
       "      <th>...</th>\n",
       "      <td>...</td>\n",
       "      <td>...</td>\n",
       "      <td>...</td>\n",
       "    </tr>\n",
       "    <tr>\n",
       "      <th>5819</th>\n",
       "      <td>Zimbabwe</td>\n",
       "      <td>ZWE</td>\n",
       "      <td>Sinopharm/Beijing</td>\n",
       "    </tr>\n",
       "    <tr>\n",
       "      <th>5820</th>\n",
       "      <td>Zimbabwe</td>\n",
       "      <td>ZWE</td>\n",
       "      <td>Sinopharm/Beijing</td>\n",
       "    </tr>\n",
       "    <tr>\n",
       "      <th>5821</th>\n",
       "      <td>Zimbabwe</td>\n",
       "      <td>ZWE</td>\n",
       "      <td>Sinopharm/Beijing</td>\n",
       "    </tr>\n",
       "    <tr>\n",
       "      <th>5822</th>\n",
       "      <td>Zimbabwe</td>\n",
       "      <td>ZWE</td>\n",
       "      <td>Sinopharm/Beijing</td>\n",
       "    </tr>\n",
       "    <tr>\n",
       "      <th>5823</th>\n",
       "      <td>Zimbabwe</td>\n",
       "      <td>ZWE</td>\n",
       "      <td>Sinopharm/Beijing</td>\n",
       "    </tr>\n",
       "  </tbody>\n",
       "</table>\n",
       "<p>5824 rows × 3 columns</p>\n",
       "</div>"
      ],
      "text/plain": [
       "       country iso_code           vaccines\n",
       "0      Albania      ALB    Pfizer/BioNTech\n",
       "1      Albania      ALB    Pfizer/BioNTech\n",
       "2      Albania      ALB    Pfizer/BioNTech\n",
       "3      Albania      ALB    Pfizer/BioNTech\n",
       "4      Albania      ALB    Pfizer/BioNTech\n",
       "...        ...      ...                ...\n",
       "5819  Zimbabwe      ZWE  Sinopharm/Beijing\n",
       "5820  Zimbabwe      ZWE  Sinopharm/Beijing\n",
       "5821  Zimbabwe      ZWE  Sinopharm/Beijing\n",
       "5822  Zimbabwe      ZWE  Sinopharm/Beijing\n",
       "5823  Zimbabwe      ZWE  Sinopharm/Beijing\n",
       "\n",
       "[5824 rows x 3 columns]"
      ]
     },
     "execution_count": 11,
     "metadata": {},
     "output_type": "execute_result"
    }
   ],
   "source": [
    "vaccinebycountry_df = covid_df[['country','iso_code','vaccines']]\n",
    "vaccinebycountry_df                         "
   ]
  },
  {
   "cell_type": "code",
   "execution_count": 62,
   "metadata": {},
   "outputs": [
    {
     "data": {
      "text/html": [
       "<div>\n",
       "<style scoped>\n",
       "    .dataframe tbody tr th:only-of-type {\n",
       "        vertical-align: middle;\n",
       "    }\n",
       "\n",
       "    .dataframe tbody tr th {\n",
       "        vertical-align: top;\n",
       "    }\n",
       "\n",
       "    .dataframe thead th {\n",
       "        text-align: right;\n",
       "    }\n",
       "</style>\n",
       "<table border=\"1\" class=\"dataframe\">\n",
       "  <thead>\n",
       "    <tr style=\"text-align: right;\">\n",
       "      <th></th>\n",
       "      <th>iso_code</th>\n",
       "      <th>vaccines</th>\n",
       "      <th>total_vaccinations</th>\n",
       "    </tr>\n",
       "    <tr>\n",
       "      <th>country</th>\n",
       "      <th></th>\n",
       "      <th></th>\n",
       "      <th></th>\n",
       "    </tr>\n",
       "  </thead>\n",
       "  <tbody>\n",
       "    <tr>\n",
       "      <th>Albania</th>\n",
       "      <td>ALB</td>\n",
       "      <td>Pfizer/BioNTech</td>\n",
       "      <td>15793.0</td>\n",
       "    </tr>\n",
       "    <tr>\n",
       "      <th>Algeria</th>\n",
       "      <td>DZA</td>\n",
       "      <td>Sputnik V</td>\n",
       "      <td>75000.0</td>\n",
       "    </tr>\n",
       "    <tr>\n",
       "      <th>Andorra</th>\n",
       "      <td>AND</td>\n",
       "      <td>Pfizer/BioNTech</td>\n",
       "      <td>2526.0</td>\n",
       "    </tr>\n",
       "    <tr>\n",
       "      <th>Anguilla</th>\n",
       "      <td>AIA</td>\n",
       "      <td>Oxford/AstraZeneca</td>\n",
       "      <td>3929.0</td>\n",
       "    </tr>\n",
       "    <tr>\n",
       "      <th>Argentina</th>\n",
       "      <td>ARG</td>\n",
       "      <td>Oxford/AstraZeneca, Sinopharm/Beijing, Sputnik V</td>\n",
       "      <td>1774438.0</td>\n",
       "    </tr>\n",
       "    <tr>\n",
       "      <th>...</th>\n",
       "      <td>...</td>\n",
       "      <td>...</td>\n",
       "      <td>...</td>\n",
       "    </tr>\n",
       "    <tr>\n",
       "      <th>United States</th>\n",
       "      <td>USA</td>\n",
       "      <td>Johnson&amp;Johnson, Moderna, Pfizer/BioNTech</td>\n",
       "      <td>95721290.0</td>\n",
       "    </tr>\n",
       "    <tr>\n",
       "      <th>Uruguay</th>\n",
       "      <td>URY</td>\n",
       "      <td>Sinovac</td>\n",
       "      <td>147749.0</td>\n",
       "    </tr>\n",
       "    <tr>\n",
       "      <th>Venezuela</th>\n",
       "      <td>VEN</td>\n",
       "      <td>Sputnik V</td>\n",
       "      <td>12194.0</td>\n",
       "    </tr>\n",
       "    <tr>\n",
       "      <th>Wales</th>\n",
       "      <td>NaN</td>\n",
       "      <td>Oxford/AstraZeneca, Pfizer/BioNTech</td>\n",
       "      <td>1225604.0</td>\n",
       "    </tr>\n",
       "    <tr>\n",
       "      <th>Zimbabwe</th>\n",
       "      <td>ZWE</td>\n",
       "      <td>Sinopharm/Beijing</td>\n",
       "      <td>35901.0</td>\n",
       "    </tr>\n",
       "  </tbody>\n",
       "</table>\n",
       "<p>130 rows × 3 columns</p>\n",
       "</div>"
      ],
      "text/plain": [
       "              iso_code                                          vaccines  \\\n",
       "country                                                                    \n",
       "Albania            ALB                                   Pfizer/BioNTech   \n",
       "Algeria            DZA                                         Sputnik V   \n",
       "Andorra            AND                                   Pfizer/BioNTech   \n",
       "Anguilla           AIA                                Oxford/AstraZeneca   \n",
       "Argentina          ARG  Oxford/AstraZeneca, Sinopharm/Beijing, Sputnik V   \n",
       "...                ...                                               ...   \n",
       "United States      USA         Johnson&Johnson, Moderna, Pfizer/BioNTech   \n",
       "Uruguay            URY                                           Sinovac   \n",
       "Venezuela          VEN                                         Sputnik V   \n",
       "Wales              NaN               Oxford/AstraZeneca, Pfizer/BioNTech   \n",
       "Zimbabwe           ZWE                                 Sinopharm/Beijing   \n",
       "\n",
       "               total_vaccinations  \n",
       "country                            \n",
       "Albania                   15793.0  \n",
       "Algeria                   75000.0  \n",
       "Andorra                    2526.0  \n",
       "Anguilla                   3929.0  \n",
       "Argentina               1774438.0  \n",
       "...                           ...  \n",
       "United States          95721290.0  \n",
       "Uruguay                  147749.0  \n",
       "Venezuela                 12194.0  \n",
       "Wales                   1225604.0  \n",
       "Zimbabwe                  35901.0  \n",
       "\n",
       "[130 rows x 3 columns]"
      ]
     },
     "execution_count": 62,
     "metadata": {},
     "output_type": "execute_result"
    }
   ],
   "source": [
    "vaccinesbycountry_grd = vaccinebycountry_df.groupby('country').max()\n",
    "vaccinesbycountry_grd"
   ]
  },
  {
   "cell_type": "code",
   "execution_count": 63,
   "metadata": {},
   "outputs": [
    {
     "data": {
      "application/vnd.plotly.v1+json": {
       "config": {
        "linkText": "Export to plot.ly",
        "plotlyServerURL": "https://plot.ly",
        "showLink": false
       },
       "data": [
        {
         "colorscale": [
          [
           0,
           "#636efa"
          ],
          [
           1,
           "#636efa"
          ]
         ],
         "geo": "geo",
         "hovertemplate": "<b>%{hovertext}</b><br><br>country=Albania<br>iso_code=%{location}<extra></extra>",
         "hovertext": [
          "Pfizer/BioNTech"
         ],
         "locations": [
          "ALB"
         ],
         "name": "Albania",
         "showlegend": true,
         "showscale": false,
         "type": "choropleth",
         "z": [
          1
         ]
        },
        {
         "colorscale": [
          [
           0,
           "#EF553B"
          ],
          [
           1,
           "#EF553B"
          ]
         ],
         "geo": "geo",
         "hovertemplate": "<b>%{hovertext}</b><br><br>country=Algeria<br>iso_code=%{location}<extra></extra>",
         "hovertext": [
          "Sputnik V"
         ],
         "locations": [
          "DZA"
         ],
         "name": "Algeria",
         "showlegend": true,
         "showscale": false,
         "type": "choropleth",
         "z": [
          1
         ]
        },
        {
         "colorscale": [
          [
           0,
           "#00cc96"
          ],
          [
           1,
           "#00cc96"
          ]
         ],
         "geo": "geo",
         "hovertemplate": "<b>%{hovertext}</b><br><br>country=Andorra<br>iso_code=%{location}<extra></extra>",
         "hovertext": [
          "Pfizer/BioNTech"
         ],
         "locations": [
          "AND"
         ],
         "name": "Andorra",
         "showlegend": true,
         "showscale": false,
         "type": "choropleth",
         "z": [
          1
         ]
        },
        {
         "colorscale": [
          [
           0,
           "#ab63fa"
          ],
          [
           1,
           "#ab63fa"
          ]
         ],
         "geo": "geo",
         "hovertemplate": "<b>%{hovertext}</b><br><br>country=Anguilla<br>iso_code=%{location}<extra></extra>",
         "hovertext": [
          "Oxford/AstraZeneca"
         ],
         "locations": [
          "AIA"
         ],
         "name": "Anguilla",
         "showlegend": true,
         "showscale": false,
         "type": "choropleth",
         "z": [
          1
         ]
        },
        {
         "colorscale": [
          [
           0,
           "#FFA15A"
          ],
          [
           1,
           "#FFA15A"
          ]
         ],
         "geo": "geo",
         "hovertemplate": "<b>%{hovertext}</b><br><br>country=Argentina<br>iso_code=%{location}<extra></extra>",
         "hovertext": [
          "Oxford/AstraZeneca, Sinopharm/Beijing, Sputnik V"
         ],
         "locations": [
          "ARG"
         ],
         "name": "Argentina",
         "showlegend": true,
         "showscale": false,
         "type": "choropleth",
         "z": [
          1
         ]
        },
        {
         "colorscale": [
          [
           0,
           "#19d3f3"
          ],
          [
           1,
           "#19d3f3"
          ]
         ],
         "geo": "geo",
         "hovertemplate": "<b>%{hovertext}</b><br><br>country=Australia<br>iso_code=%{location}<extra></extra>",
         "hovertext": [
          "Oxford/AstraZeneca, Pfizer/BioNTech"
         ],
         "locations": [
          "AUS"
         ],
         "name": "Australia",
         "showlegend": true,
         "showscale": false,
         "type": "choropleth",
         "z": [
          1
         ]
        },
        {
         "colorscale": [
          [
           0,
           "#FF6692"
          ],
          [
           1,
           "#FF6692"
          ]
         ],
         "geo": "geo",
         "hovertemplate": "<b>%{hovertext}</b><br><br>country=Austria<br>iso_code=%{location}<extra></extra>",
         "hovertext": [
          "Moderna, Oxford/AstraZeneca, Pfizer/BioNTech"
         ],
         "locations": [
          "AUT"
         ],
         "name": "Austria",
         "showlegend": true,
         "showscale": false,
         "type": "choropleth",
         "z": [
          1
         ]
        },
        {
         "colorscale": [
          [
           0,
           "#B6E880"
          ],
          [
           1,
           "#B6E880"
          ]
         ],
         "geo": "geo",
         "hovertemplate": "<b>%{hovertext}</b><br><br>country=Azerbaijan<br>iso_code=%{location}<extra></extra>",
         "hovertext": [
          "Sinovac"
         ],
         "locations": [
          "AZE"
         ],
         "name": "Azerbaijan",
         "showlegend": true,
         "showscale": false,
         "type": "choropleth",
         "z": [
          1
         ]
        },
        {
         "colorscale": [
          [
           0,
           "#FF97FF"
          ],
          [
           1,
           "#FF97FF"
          ]
         ],
         "geo": "geo",
         "hovertemplate": "<b>%{hovertext}</b><br><br>country=Bahrain<br>iso_code=%{location}<extra></extra>",
         "hovertext": [
          "Oxford/AstraZeneca, Pfizer/BioNTech, Sinopharm/Beijing, Sputnik V"
         ],
         "locations": [
          "BHR"
         ],
         "name": "Bahrain",
         "showlegend": true,
         "showscale": false,
         "type": "choropleth",
         "z": [
          1
         ]
        },
        {
         "colorscale": [
          [
           0,
           "#FECB52"
          ],
          [
           1,
           "#FECB52"
          ]
         ],
         "geo": "geo",
         "hovertemplate": "<b>%{hovertext}</b><br><br>country=Bangladesh<br>iso_code=%{location}<extra></extra>",
         "hovertext": [
          "Oxford/AstraZeneca"
         ],
         "locations": [
          "BGD"
         ],
         "name": "Bangladesh",
         "showlegend": true,
         "showscale": false,
         "type": "choropleth",
         "z": [
          1
         ]
        },
        {
         "colorscale": [
          [
           0,
           "#636efa"
          ],
          [
           1,
           "#636efa"
          ]
         ],
         "geo": "geo",
         "hovertemplate": "<b>%{hovertext}</b><br><br>country=Barbados<br>iso_code=%{location}<extra></extra>",
         "hovertext": [
          "Oxford/AstraZeneca"
         ],
         "locations": [
          "BRB"
         ],
         "name": "Barbados",
         "showlegend": true,
         "showscale": false,
         "type": "choropleth",
         "z": [
          1
         ]
        },
        {
         "colorscale": [
          [
           0,
           "#EF553B"
          ],
          [
           1,
           "#EF553B"
          ]
         ],
         "geo": "geo",
         "hovertemplate": "<b>%{hovertext}</b><br><br>country=Belarus<br>iso_code=%{location}<extra></extra>",
         "hovertext": [
          "Sputnik V"
         ],
         "locations": [
          "BLR"
         ],
         "name": "Belarus",
         "showlegend": true,
         "showscale": false,
         "type": "choropleth",
         "z": [
          1
         ]
        },
        {
         "colorscale": [
          [
           0,
           "#00cc96"
          ],
          [
           1,
           "#00cc96"
          ]
         ],
         "geo": "geo",
         "hovertemplate": "<b>%{hovertext}</b><br><br>country=Belgium<br>iso_code=%{location}<extra></extra>",
         "hovertext": [
          "Moderna, Oxford/AstraZeneca, Pfizer/BioNTech"
         ],
         "locations": [
          "BEL"
         ],
         "name": "Belgium",
         "showlegend": true,
         "showscale": false,
         "type": "choropleth",
         "z": [
          1
         ]
        },
        {
         "colorscale": [
          [
           0,
           "#ab63fa"
          ],
          [
           1,
           "#ab63fa"
          ]
         ],
         "geo": "geo",
         "hovertemplate": "<b>%{hovertext}</b><br><br>country=Belize<br>iso_code=%{location}<extra></extra>",
         "hovertext": [
          "Oxford/AstraZeneca"
         ],
         "locations": [
          "BLZ"
         ],
         "name": "Belize",
         "showlegend": true,
         "showscale": false,
         "type": "choropleth",
         "z": [
          1
         ]
        },
        {
         "colorscale": [
          [
           0,
           "#FFA15A"
          ],
          [
           1,
           "#FFA15A"
          ]
         ],
         "geo": "geo",
         "hovertemplate": "<b>%{hovertext}</b><br><br>country=Bermuda<br>iso_code=%{location}<extra></extra>",
         "hovertext": [
          "Pfizer/BioNTech"
         ],
         "locations": [
          "BMU"
         ],
         "name": "Bermuda",
         "showlegend": true,
         "showscale": false,
         "type": "choropleth",
         "z": [
          1
         ]
        },
        {
         "colorscale": [
          [
           0,
           "#19d3f3"
          ],
          [
           1,
           "#19d3f3"
          ]
         ],
         "geo": "geo",
         "hovertemplate": "<b>%{hovertext}</b><br><br>country=Bolivia<br>iso_code=%{location}<extra></extra>",
         "hovertext": [
          "Sputnik V"
         ],
         "locations": [
          "BOL"
         ],
         "name": "Bolivia",
         "showlegend": true,
         "showscale": false,
         "type": "choropleth",
         "z": [
          1
         ]
        },
        {
         "colorscale": [
          [
           0,
           "#FF6692"
          ],
          [
           1,
           "#FF6692"
          ]
         ],
         "geo": "geo",
         "hovertemplate": "<b>%{hovertext}</b><br><br>country=Brazil<br>iso_code=%{location}<extra></extra>",
         "hovertext": [
          "Oxford/AstraZeneca, Sinovac"
         ],
         "locations": [
          "BRA"
         ],
         "name": "Brazil",
         "showlegend": true,
         "showscale": false,
         "type": "choropleth",
         "z": [
          1
         ]
        },
        {
         "colorscale": [
          [
           0,
           "#B6E880"
          ],
          [
           1,
           "#B6E880"
          ]
         ],
         "geo": "geo",
         "hovertemplate": "<b>%{hovertext}</b><br><br>country=Bulgaria<br>iso_code=%{location}<extra></extra>",
         "hovertext": [
          "Moderna, Oxford/AstraZeneca, Pfizer/BioNTech"
         ],
         "locations": [
          "BGR"
         ],
         "name": "Bulgaria",
         "showlegend": true,
         "showscale": false,
         "type": "choropleth",
         "z": [
          1
         ]
        },
        {
         "colorscale": [
          [
           0,
           "#FF97FF"
          ],
          [
           1,
           "#FF97FF"
          ]
         ],
         "geo": "geo",
         "hovertemplate": "<b>%{hovertext}</b><br><br>country=Cambodia<br>iso_code=%{location}<extra></extra>",
         "hovertext": [
          "Sinopharm/Beijing"
         ],
         "locations": [
          "KHM"
         ],
         "name": "Cambodia",
         "showlegend": true,
         "showscale": false,
         "type": "choropleth",
         "z": [
          1
         ]
        },
        {
         "colorscale": [
          [
           0,
           "#FECB52"
          ],
          [
           1,
           "#FECB52"
          ]
         ],
         "geo": "geo",
         "hovertemplate": "<b>%{hovertext}</b><br><br>country=Canada<br>iso_code=%{location}<extra></extra>",
         "hovertext": [
          "Moderna, Pfizer/BioNTech"
         ],
         "locations": [
          "CAN"
         ],
         "name": "Canada",
         "showlegend": true,
         "showscale": false,
         "type": "choropleth",
         "z": [
          1
         ]
        },
        {
         "colorscale": [
          [
           0,
           "#636efa"
          ],
          [
           1,
           "#636efa"
          ]
         ],
         "geo": "geo",
         "hovertemplate": "<b>%{hovertext}</b><br><br>country=Cayman Islands<br>iso_code=%{location}<extra></extra>",
         "hovertext": [
          "Pfizer/BioNTech"
         ],
         "locations": [
          "CYM"
         ],
         "name": "Cayman Islands",
         "showlegend": true,
         "showscale": false,
         "type": "choropleth",
         "z": [
          1
         ]
        },
        {
         "colorscale": [
          [
           0,
           "#EF553B"
          ],
          [
           1,
           "#EF553B"
          ]
         ],
         "geo": "geo",
         "hovertemplate": "<b>%{hovertext}</b><br><br>country=Chile<br>iso_code=%{location}<extra></extra>",
         "hovertext": [
          "Pfizer/BioNTech, Sinovac"
         ],
         "locations": [
          "CHL"
         ],
         "name": "Chile",
         "showlegend": true,
         "showscale": false,
         "type": "choropleth",
         "z": [
          1
         ]
        },
        {
         "colorscale": [
          [
           0,
           "#00cc96"
          ],
          [
           1,
           "#00cc96"
          ]
         ],
         "geo": "geo",
         "hovertemplate": "<b>%{hovertext}</b><br><br>country=China<br>iso_code=%{location}<extra></extra>",
         "hovertext": [
          "Sinopharm/Beijing, Sinopharm/Wuhan, Sinovac"
         ],
         "locations": [
          "CHN"
         ],
         "name": "China",
         "showlegend": true,
         "showscale": false,
         "type": "choropleth",
         "z": [
          1
         ]
        },
        {
         "colorscale": [
          [
           0,
           "#ab63fa"
          ],
          [
           1,
           "#ab63fa"
          ]
         ],
         "geo": "geo",
         "hovertemplate": "<b>%{hovertext}</b><br><br>country=Colombia<br>iso_code=%{location}<extra></extra>",
         "hovertext": [
          "Pfizer/BioNTech, Sinovac"
         ],
         "locations": [
          "COL"
         ],
         "name": "Colombia",
         "showlegend": true,
         "showscale": false,
         "type": "choropleth",
         "z": [
          1
         ]
        },
        {
         "colorscale": [
          [
           0,
           "#FFA15A"
          ],
          [
           1,
           "#FFA15A"
          ]
         ],
         "geo": "geo",
         "hovertemplate": "<b>%{hovertext}</b><br><br>country=Costa Rica<br>iso_code=%{location}<extra></extra>",
         "hovertext": [
          "Pfizer/BioNTech"
         ],
         "locations": [
          "CRI"
         ],
         "name": "Costa Rica",
         "showlegend": true,
         "showscale": false,
         "type": "choropleth",
         "z": [
          1
         ]
        },
        {
         "colorscale": [
          [
           0,
           "#19d3f3"
          ],
          [
           1,
           "#19d3f3"
          ]
         ],
         "geo": "geo",
         "hovertemplate": "<b>%{hovertext}</b><br><br>country=Croatia<br>iso_code=%{location}<extra></extra>",
         "hovertext": [
          "Pfizer/BioNTech"
         ],
         "locations": [
          "HRV"
         ],
         "name": "Croatia",
         "showlegend": true,
         "showscale": false,
         "type": "choropleth",
         "z": [
          1
         ]
        },
        {
         "colorscale": [
          [
           0,
           "#FF6692"
          ],
          [
           1,
           "#FF6692"
          ]
         ],
         "geo": "geo",
         "hovertemplate": "<b>%{hovertext}</b><br><br>country=Cyprus<br>iso_code=%{location}<extra></extra>",
         "hovertext": [
          "Pfizer/BioNTech"
         ],
         "locations": [
          "CYP"
         ],
         "name": "Cyprus",
         "showlegend": true,
         "showscale": false,
         "type": "choropleth",
         "z": [
          1
         ]
        },
        {
         "colorscale": [
          [
           0,
           "#B6E880"
          ],
          [
           1,
           "#B6E880"
          ]
         ],
         "geo": "geo",
         "hovertemplate": "<b>%{hovertext}</b><br><br>country=Czechia<br>iso_code=%{location}<extra></extra>",
         "hovertext": [
          "Moderna, Oxford/AstraZeneca, Pfizer/BioNTech"
         ],
         "locations": [
          "CZE"
         ],
         "name": "Czechia",
         "showlegend": true,
         "showscale": false,
         "type": "choropleth",
         "z": [
          1
         ]
        },
        {
         "colorscale": [
          [
           0,
           "#FF97FF"
          ],
          [
           1,
           "#FF97FF"
          ]
         ],
         "geo": "geo",
         "hovertemplate": "<b>%{hovertext}</b><br><br>country=Denmark<br>iso_code=%{location}<extra></extra>",
         "hovertext": [
          "Moderna, Oxford/AstraZeneca, Pfizer/BioNTech"
         ],
         "locations": [
          "DNK"
         ],
         "name": "Denmark",
         "showlegend": true,
         "showscale": false,
         "type": "choropleth",
         "z": [
          1
         ]
        },
        {
         "colorscale": [
          [
           0,
           "#FECB52"
          ],
          [
           1,
           "#FECB52"
          ]
         ],
         "geo": "geo",
         "hovertemplate": "<b>%{hovertext}</b><br><br>country=Dominica<br>iso_code=%{location}<extra></extra>",
         "hovertext": [
          "Oxford/AstraZeneca"
         ],
         "locations": [
          "DMA"
         ],
         "name": "Dominica",
         "showlegend": true,
         "showscale": false,
         "type": "choropleth",
         "z": [
          1
         ]
        },
        {
         "colorscale": [
          [
           0,
           "#636efa"
          ],
          [
           1,
           "#636efa"
          ]
         ],
         "geo": "geo",
         "hovertemplate": "<b>%{hovertext}</b><br><br>country=Dominican Republic<br>iso_code=%{location}<extra></extra>",
         "hovertext": [
          "Oxford/AstraZeneca"
         ],
         "locations": [
          "DOM"
         ],
         "name": "Dominican Republic",
         "showlegend": true,
         "showscale": false,
         "type": "choropleth",
         "z": [
          1
         ]
        },
        {
         "colorscale": [
          [
           0,
           "#EF553B"
          ],
          [
           1,
           "#EF553B"
          ]
         ],
         "geo": "geo",
         "hovertemplate": "<b>%{hovertext}</b><br><br>country=Ecuador<br>iso_code=%{location}<extra></extra>",
         "hovertext": [
          "Pfizer/BioNTech"
         ],
         "locations": [
          "ECU"
         ],
         "name": "Ecuador",
         "showlegend": true,
         "showscale": false,
         "type": "choropleth",
         "z": [
          1
         ]
        },
        {
         "colorscale": [
          [
           0,
           "#00cc96"
          ],
          [
           1,
           "#00cc96"
          ]
         ],
         "geo": "geo",
         "hovertemplate": "<b>%{hovertext}</b><br><br>country=Egypt<br>iso_code=%{location}<extra></extra>",
         "hovertext": [
          "Sinopharm/Beijing"
         ],
         "locations": [
          "EGY"
         ],
         "name": "Egypt",
         "showlegend": true,
         "showscale": false,
         "type": "choropleth",
         "z": [
          1
         ]
        },
        {
         "colorscale": [
          [
           0,
           "#ab63fa"
          ],
          [
           1,
           "#ab63fa"
          ]
         ],
         "geo": "geo",
         "hovertemplate": "<b>%{hovertext}</b><br><br>country=El Salvador<br>iso_code=%{location}<extra></extra>",
         "hovertext": [
          "Oxford/AstraZeneca"
         ],
         "locations": [
          "SLV"
         ],
         "name": "El Salvador",
         "showlegend": true,
         "showscale": false,
         "type": "choropleth",
         "z": [
          1
         ]
        },
        {
         "colorscale": [
          [
           0,
           "#FFA15A"
          ],
          [
           1,
           "#FFA15A"
          ]
         ],
         "geo": "geo",
         "hovertemplate": "<b>%{hovertext}</b><br><br>country=England<br>iso_code=%{location}<extra></extra>",
         "hovertext": [
          "Oxford/AstraZeneca, Pfizer/BioNTech"
         ],
         "locations": [
          null
         ],
         "name": "England",
         "showlegend": true,
         "showscale": false,
         "type": "choropleth",
         "z": [
          1
         ]
        },
        {
         "colorscale": [
          [
           0,
           "#19d3f3"
          ],
          [
           1,
           "#19d3f3"
          ]
         ],
         "geo": "geo",
         "hovertemplate": "<b>%{hovertext}</b><br><br>country=Estonia<br>iso_code=%{location}<extra></extra>",
         "hovertext": [
          "Moderna, Oxford/AstraZeneca, Pfizer/BioNTech"
         ],
         "locations": [
          "EST"
         ],
         "name": "Estonia",
         "showlegend": true,
         "showscale": false,
         "type": "choropleth",
         "z": [
          1
         ]
        },
        {
         "colorscale": [
          [
           0,
           "#FF6692"
          ],
          [
           1,
           "#FF6692"
          ]
         ],
         "geo": "geo",
         "hovertemplate": "<b>%{hovertext}</b><br><br>country=Faeroe Islands<br>iso_code=%{location}<extra></extra>",
         "hovertext": [
          "Moderna, Pfizer/BioNTech"
         ],
         "locations": [
          "FRO"
         ],
         "name": "Faeroe Islands",
         "showlegend": true,
         "showscale": false,
         "type": "choropleth",
         "z": [
          1
         ]
        },
        {
         "colorscale": [
          [
           0,
           "#B6E880"
          ],
          [
           1,
           "#B6E880"
          ]
         ],
         "geo": "geo",
         "hovertemplate": "<b>%{hovertext}</b><br><br>country=Falkland Islands<br>iso_code=%{location}<extra></extra>",
         "hovertext": [
          "Oxford/AstraZeneca"
         ],
         "locations": [
          "FLK"
         ],
         "name": "Falkland Islands",
         "showlegend": true,
         "showscale": false,
         "type": "choropleth",
         "z": [
          1
         ]
        },
        {
         "colorscale": [
          [
           0,
           "#FF97FF"
          ],
          [
           1,
           "#FF97FF"
          ]
         ],
         "geo": "geo",
         "hovertemplate": "<b>%{hovertext}</b><br><br>country=Finland<br>iso_code=%{location}<extra></extra>",
         "hovertext": [
          "Moderna, Oxford/AstraZeneca, Pfizer/BioNTech"
         ],
         "locations": [
          "FIN"
         ],
         "name": "Finland",
         "showlegend": true,
         "showscale": false,
         "type": "choropleth",
         "z": [
          1
         ]
        },
        {
         "colorscale": [
          [
           0,
           "#FECB52"
          ],
          [
           1,
           "#FECB52"
          ]
         ],
         "geo": "geo",
         "hovertemplate": "<b>%{hovertext}</b><br><br>country=France<br>iso_code=%{location}<extra></extra>",
         "hovertext": [
          "Moderna, Oxford/AstraZeneca, Pfizer/BioNTech"
         ],
         "locations": [
          "FRA"
         ],
         "name": "France",
         "showlegend": true,
         "showscale": false,
         "type": "choropleth",
         "z": [
          1
         ]
        },
        {
         "colorscale": [
          [
           0,
           "#636efa"
          ],
          [
           1,
           "#636efa"
          ]
         ],
         "geo": "geo",
         "hovertemplate": "<b>%{hovertext}</b><br><br>country=Germany<br>iso_code=%{location}<extra></extra>",
         "hovertext": [
          "Moderna, Oxford/AstraZeneca, Pfizer/BioNTech"
         ],
         "locations": [
          "DEU"
         ],
         "name": "Germany",
         "showlegend": true,
         "showscale": false,
         "type": "choropleth",
         "z": [
          1
         ]
        },
        {
         "colorscale": [
          [
           0,
           "#EF553B"
          ],
          [
           1,
           "#EF553B"
          ]
         ],
         "geo": "geo",
         "hovertemplate": "<b>%{hovertext}</b><br><br>country=Ghana<br>iso_code=%{location}<extra></extra>",
         "hovertext": [
          "Oxford/AstraZeneca"
         ],
         "locations": [
          "GHA"
         ],
         "name": "Ghana",
         "showlegend": true,
         "showscale": false,
         "type": "choropleth",
         "z": [
          1
         ]
        },
        {
         "colorscale": [
          [
           0,
           "#00cc96"
          ],
          [
           1,
           "#00cc96"
          ]
         ],
         "geo": "geo",
         "hovertemplate": "<b>%{hovertext}</b><br><br>country=Gibraltar<br>iso_code=%{location}<extra></extra>",
         "hovertext": [
          "Pfizer/BioNTech"
         ],
         "locations": [
          "GIB"
         ],
         "name": "Gibraltar",
         "showlegend": true,
         "showscale": false,
         "type": "choropleth",
         "z": [
          1
         ]
        },
        {
         "colorscale": [
          [
           0,
           "#ab63fa"
          ],
          [
           1,
           "#ab63fa"
          ]
         ],
         "geo": "geo",
         "hovertemplate": "<b>%{hovertext}</b><br><br>country=Greece<br>iso_code=%{location}<extra></extra>",
         "hovertext": [
          "Moderna, Oxford/AstraZeneca, Pfizer/BioNTech"
         ],
         "locations": [
          "GRC"
         ],
         "name": "Greece",
         "showlegend": true,
         "showscale": false,
         "type": "choropleth",
         "z": [
          1
         ]
        },
        {
         "colorscale": [
          [
           0,
           "#FFA15A"
          ],
          [
           1,
           "#FFA15A"
          ]
         ],
         "geo": "geo",
         "hovertemplate": "<b>%{hovertext}</b><br><br>country=Greenland<br>iso_code=%{location}<extra></extra>",
         "hovertext": [
          "Pfizer/BioNTech"
         ],
         "locations": [
          "GRL"
         ],
         "name": "Greenland",
         "showlegend": true,
         "showscale": false,
         "type": "choropleth",
         "z": [
          1
         ]
        },
        {
         "colorscale": [
          [
           0,
           "#19d3f3"
          ],
          [
           1,
           "#19d3f3"
          ]
         ],
         "geo": "geo",
         "hovertemplate": "<b>%{hovertext}</b><br><br>country=Grenada<br>iso_code=%{location}<extra></extra>",
         "hovertext": [
          "Oxford/AstraZeneca"
         ],
         "locations": [
          "GRD"
         ],
         "name": "Grenada",
         "showlegend": true,
         "showscale": false,
         "type": "choropleth",
         "z": [
          1
         ]
        },
        {
         "colorscale": [
          [
           0,
           "#FF6692"
          ],
          [
           1,
           "#FF6692"
          ]
         ],
         "geo": "geo",
         "hovertemplate": "<b>%{hovertext}</b><br><br>country=Guatemala<br>iso_code=%{location}<extra></extra>",
         "hovertext": [
          "Moderna"
         ],
         "locations": [
          "GTM"
         ],
         "name": "Guatemala",
         "showlegend": true,
         "showscale": false,
         "type": "choropleth",
         "z": [
          1
         ]
        },
        {
         "colorscale": [
          [
           0,
           "#B6E880"
          ],
          [
           1,
           "#B6E880"
          ]
         ],
         "geo": "geo",
         "hovertemplate": "<b>%{hovertext}</b><br><br>country=Guernsey<br>iso_code=%{location}<extra></extra>",
         "hovertext": [
          "Pfizer/BioNTech"
         ],
         "locations": [
          "GGY"
         ],
         "name": "Guernsey",
         "showlegend": true,
         "showscale": false,
         "type": "choropleth",
         "z": [
          1
         ]
        },
        {
         "colorscale": [
          [
           0,
           "#FF97FF"
          ],
          [
           1,
           "#FF97FF"
          ]
         ],
         "geo": "geo",
         "hovertemplate": "<b>%{hovertext}</b><br><br>country=Guyana<br>iso_code=%{location}<extra></extra>",
         "hovertext": [
          "Oxford/AstraZeneca"
         ],
         "locations": [
          "GUY"
         ],
         "name": "Guyana",
         "showlegend": true,
         "showscale": false,
         "type": "choropleth",
         "z": [
          1
         ]
        },
        {
         "colorscale": [
          [
           0,
           "#FECB52"
          ],
          [
           1,
           "#FECB52"
          ]
         ],
         "geo": "geo",
         "hovertemplate": "<b>%{hovertext}</b><br><br>country=Honduras<br>iso_code=%{location}<extra></extra>",
         "hovertext": [
          "Moderna"
         ],
         "locations": [
          "HND"
         ],
         "name": "Honduras",
         "showlegend": true,
         "showscale": false,
         "type": "choropleth",
         "z": [
          1
         ]
        },
        {
         "colorscale": [
          [
           0,
           "#636efa"
          ],
          [
           1,
           "#636efa"
          ]
         ],
         "geo": "geo",
         "hovertemplate": "<b>%{hovertext}</b><br><br>country=Hong Kong<br>iso_code=%{location}<extra></extra>",
         "hovertext": [
          "Pfizer/BioNTech, Sinovac"
         ],
         "locations": [
          "HKG"
         ],
         "name": "Hong Kong",
         "showlegend": true,
         "showscale": false,
         "type": "choropleth",
         "z": [
          1
         ]
        },
        {
         "colorscale": [
          [
           0,
           "#EF553B"
          ],
          [
           1,
           "#EF553B"
          ]
         ],
         "geo": "geo",
         "hovertemplate": "<b>%{hovertext}</b><br><br>country=Hungary<br>iso_code=%{location}<extra></extra>",
         "hovertext": [
          "Moderna, Oxford/AstraZeneca, Pfizer/BioNTech, Sinopharm/Beijing, Sputnik V"
         ],
         "locations": [
          "HUN"
         ],
         "name": "Hungary",
         "showlegend": true,
         "showscale": false,
         "type": "choropleth",
         "z": [
          1
         ]
        },
        {
         "colorscale": [
          [
           0,
           "#00cc96"
          ],
          [
           1,
           "#00cc96"
          ]
         ],
         "geo": "geo",
         "hovertemplate": "<b>%{hovertext}</b><br><br>country=Iceland<br>iso_code=%{location}<extra></extra>",
         "hovertext": [
          "Moderna, Oxford/AstraZeneca, Pfizer/BioNTech"
         ],
         "locations": [
          "ISL"
         ],
         "name": "Iceland",
         "showlegend": true,
         "showscale": false,
         "type": "choropleth",
         "z": [
          1
         ]
        },
        {
         "colorscale": [
          [
           0,
           "#ab63fa"
          ],
          [
           1,
           "#ab63fa"
          ]
         ],
         "geo": "geo",
         "hovertemplate": "<b>%{hovertext}</b><br><br>country=India<br>iso_code=%{location}<extra></extra>",
         "hovertext": [
          "Covaxin, Oxford/AstraZeneca"
         ],
         "locations": [
          "IND"
         ],
         "name": "India",
         "showlegend": true,
         "showscale": false,
         "type": "choropleth",
         "z": [
          1
         ]
        },
        {
         "colorscale": [
          [
           0,
           "#FFA15A"
          ],
          [
           1,
           "#FFA15A"
          ]
         ],
         "geo": "geo",
         "hovertemplate": "<b>%{hovertext}</b><br><br>country=Indonesia<br>iso_code=%{location}<extra></extra>",
         "hovertext": [
          "Sinovac"
         ],
         "locations": [
          "IDN"
         ],
         "name": "Indonesia",
         "showlegend": true,
         "showscale": false,
         "type": "choropleth",
         "z": [
          1
         ]
        },
        {
         "colorscale": [
          [
           0,
           "#19d3f3"
          ],
          [
           1,
           "#19d3f3"
          ]
         ],
         "geo": "geo",
         "hovertemplate": "<b>%{hovertext}</b><br><br>country=Iran<br>iso_code=%{location}<extra></extra>",
         "hovertext": [
          "Sputnik V"
         ],
         "locations": [
          "IRN"
         ],
         "name": "Iran",
         "showlegend": true,
         "showscale": false,
         "type": "choropleth",
         "z": [
          1
         ]
        },
        {
         "colorscale": [
          [
           0,
           "#FF6692"
          ],
          [
           1,
           "#FF6692"
          ]
         ],
         "geo": "geo",
         "hovertemplate": "<b>%{hovertext}</b><br><br>country=Ireland<br>iso_code=%{location}<extra></extra>",
         "hovertext": [
          "Moderna, Oxford/AstraZeneca, Pfizer/BioNTech"
         ],
         "locations": [
          "IRL"
         ],
         "name": "Ireland",
         "showlegend": true,
         "showscale": false,
         "type": "choropleth",
         "z": [
          1
         ]
        },
        {
         "colorscale": [
          [
           0,
           "#B6E880"
          ],
          [
           1,
           "#B6E880"
          ]
         ],
         "geo": "geo",
         "hovertemplate": "<b>%{hovertext}</b><br><br>country=Isle of Man<br>iso_code=%{location}<extra></extra>",
         "hovertext": [
          "Oxford/AstraZeneca, Pfizer/BioNTech"
         ],
         "locations": [
          "IMN"
         ],
         "name": "Isle of Man",
         "showlegend": true,
         "showscale": false,
         "type": "choropleth",
         "z": [
          1
         ]
        },
        {
         "colorscale": [
          [
           0,
           "#FF97FF"
          ],
          [
           1,
           "#FF97FF"
          ]
         ],
         "geo": "geo",
         "hovertemplate": "<b>%{hovertext}</b><br><br>country=Israel<br>iso_code=%{location}<extra></extra>",
         "hovertext": [
          "Moderna, Pfizer/BioNTech"
         ],
         "locations": [
          "ISR"
         ],
         "name": "Israel",
         "showlegend": true,
         "showscale": false,
         "type": "choropleth",
         "z": [
          1
         ]
        },
        {
         "colorscale": [
          [
           0,
           "#FECB52"
          ],
          [
           1,
           "#FECB52"
          ]
         ],
         "geo": "geo",
         "hovertemplate": "<b>%{hovertext}</b><br><br>country=Italy<br>iso_code=%{location}<extra></extra>",
         "hovertext": [
          "Moderna, Oxford/AstraZeneca, Pfizer/BioNTech"
         ],
         "locations": [
          "ITA"
         ],
         "name": "Italy",
         "showlegend": true,
         "showscale": false,
         "type": "choropleth",
         "z": [
          1
         ]
        },
        {
         "colorscale": [
          [
           0,
           "#636efa"
          ],
          [
           1,
           "#636efa"
          ]
         ],
         "geo": "geo",
         "hovertemplate": "<b>%{hovertext}</b><br><br>country=Japan<br>iso_code=%{location}<extra></extra>",
         "hovertext": [
          "Pfizer/BioNTech"
         ],
         "locations": [
          "JPN"
         ],
         "name": "Japan",
         "showlegend": true,
         "showscale": false,
         "type": "choropleth",
         "z": [
          1
         ]
        },
        {
         "colorscale": [
          [
           0,
           "#EF553B"
          ],
          [
           1,
           "#EF553B"
          ]
         ],
         "geo": "geo",
         "hovertemplate": "<b>%{hovertext}</b><br><br>country=Jersey<br>iso_code=%{location}<extra></extra>",
         "hovertext": [
          "Oxford/AstraZeneca, Pfizer/BioNTech"
         ],
         "locations": [
          "JEY"
         ],
         "name": "Jersey",
         "showlegend": true,
         "showscale": false,
         "type": "choropleth",
         "z": [
          1
         ]
        },
        {
         "colorscale": [
          [
           0,
           "#00cc96"
          ],
          [
           1,
           "#00cc96"
          ]
         ],
         "geo": "geo",
         "hovertemplate": "<b>%{hovertext}</b><br><br>country=Jordan<br>iso_code=%{location}<extra></extra>",
         "hovertext": [
          "Pfizer/BioNTech, Sinopharm/Beijing"
         ],
         "locations": [
          "JOR"
         ],
         "name": "Jordan",
         "showlegend": true,
         "showscale": false,
         "type": "choropleth",
         "z": [
          1
         ]
        },
        {
         "colorscale": [
          [
           0,
           "#ab63fa"
          ],
          [
           1,
           "#ab63fa"
          ]
         ],
         "geo": "geo",
         "hovertemplate": "<b>%{hovertext}</b><br><br>country=Kazakhstan<br>iso_code=%{location}<extra></extra>",
         "hovertext": [
          "Sputnik V"
         ],
         "locations": [
          "KAZ"
         ],
         "name": "Kazakhstan",
         "showlegend": true,
         "showscale": false,
         "type": "choropleth",
         "z": [
          1
         ]
        },
        {
         "colorscale": [
          [
           0,
           "#FFA15A"
          ],
          [
           1,
           "#FFA15A"
          ]
         ],
         "geo": "geo",
         "hovertemplate": "<b>%{hovertext}</b><br><br>country=Kuwait<br>iso_code=%{location}<extra></extra>",
         "hovertext": [
          "Pfizer/BioNTech"
         ],
         "locations": [
          "KWT"
         ],
         "name": "Kuwait",
         "showlegend": true,
         "showscale": false,
         "type": "choropleth",
         "z": [
          1
         ]
        },
        {
         "colorscale": [
          [
           0,
           "#19d3f3"
          ],
          [
           1,
           "#19d3f3"
          ]
         ],
         "geo": "geo",
         "hovertemplate": "<b>%{hovertext}</b><br><br>country=Latvia<br>iso_code=%{location}<extra></extra>",
         "hovertext": [
          "Moderna, Oxford/AstraZeneca, Pfizer/BioNTech"
         ],
         "locations": [
          "LVA"
         ],
         "name": "Latvia",
         "showlegend": true,
         "showscale": false,
         "type": "choropleth",
         "z": [
          1
         ]
        },
        {
         "colorscale": [
          [
           0,
           "#FF6692"
          ],
          [
           1,
           "#FF6692"
          ]
         ],
         "geo": "geo",
         "hovertemplate": "<b>%{hovertext}</b><br><br>country=Lebanon<br>iso_code=%{location}<extra></extra>",
         "hovertext": [
          "Pfizer/BioNTech"
         ],
         "locations": [
          "LBN"
         ],
         "name": "Lebanon",
         "showlegend": true,
         "showscale": false,
         "type": "choropleth",
         "z": [
          1
         ]
        },
        {
         "colorscale": [
          [
           0,
           "#B6E880"
          ],
          [
           1,
           "#B6E880"
          ]
         ],
         "geo": "geo",
         "hovertemplate": "<b>%{hovertext}</b><br><br>country=Liechtenstein<br>iso_code=%{location}<extra></extra>",
         "hovertext": [
          "Moderna, Pfizer/BioNTech"
         ],
         "locations": [
          "LIE"
         ],
         "name": "Liechtenstein",
         "showlegend": true,
         "showscale": false,
         "type": "choropleth",
         "z": [
          1
         ]
        },
        {
         "colorscale": [
          [
           0,
           "#FF97FF"
          ],
          [
           1,
           "#FF97FF"
          ]
         ],
         "geo": "geo",
         "hovertemplate": "<b>%{hovertext}</b><br><br>country=Lithuania<br>iso_code=%{location}<extra></extra>",
         "hovertext": [
          "Moderna, Oxford/AstraZeneca, Pfizer/BioNTech"
         ],
         "locations": [
          "LTU"
         ],
         "name": "Lithuania",
         "showlegend": true,
         "showscale": false,
         "type": "choropleth",
         "z": [
          1
         ]
        },
        {
         "colorscale": [
          [
           0,
           "#FECB52"
          ],
          [
           1,
           "#FECB52"
          ]
         ],
         "geo": "geo",
         "hovertemplate": "<b>%{hovertext}</b><br><br>country=Luxembourg<br>iso_code=%{location}<extra></extra>",
         "hovertext": [
          "Moderna, Oxford/AstraZeneca, Pfizer/BioNTech"
         ],
         "locations": [
          "LUX"
         ],
         "name": "Luxembourg",
         "showlegend": true,
         "showscale": false,
         "type": "choropleth",
         "z": [
          1
         ]
        },
        {
         "colorscale": [
          [
           0,
           "#636efa"
          ],
          [
           1,
           "#636efa"
          ]
         ],
         "geo": "geo",
         "hovertemplate": "<b>%{hovertext}</b><br><br>country=Macao<br>iso_code=%{location}<extra></extra>",
         "hovertext": [
          "Sinopharm/Beijing"
         ],
         "locations": [
          "MAC"
         ],
         "name": "Macao",
         "showlegend": true,
         "showscale": false,
         "type": "choropleth",
         "z": [
          1
         ]
        },
        {
         "colorscale": [
          [
           0,
           "#EF553B"
          ],
          [
           1,
           "#EF553B"
          ]
         ],
         "geo": "geo",
         "hovertemplate": "<b>%{hovertext}</b><br><br>country=Malaysia<br>iso_code=%{location}<extra></extra>",
         "hovertext": [
          "Pfizer/BioNTech"
         ],
         "locations": [
          "MYS"
         ],
         "name": "Malaysia",
         "showlegend": true,
         "showscale": false,
         "type": "choropleth",
         "z": [
          1
         ]
        },
        {
         "colorscale": [
          [
           0,
           "#00cc96"
          ],
          [
           1,
           "#00cc96"
          ]
         ],
         "geo": "geo",
         "hovertemplate": "<b>%{hovertext}</b><br><br>country=Maldives<br>iso_code=%{location}<extra></extra>",
         "hovertext": [
          "Oxford/AstraZeneca"
         ],
         "locations": [
          "MDV"
         ],
         "name": "Maldives",
         "showlegend": true,
         "showscale": false,
         "type": "choropleth",
         "z": [
          1
         ]
        },
        {
         "colorscale": [
          [
           0,
           "#ab63fa"
          ],
          [
           1,
           "#ab63fa"
          ]
         ],
         "geo": "geo",
         "hovertemplate": "<b>%{hovertext}</b><br><br>country=Malta<br>iso_code=%{location}<extra></extra>",
         "hovertext": [
          "Pfizer/BioNTech"
         ],
         "locations": [
          "MLT"
         ],
         "name": "Malta",
         "showlegend": true,
         "showscale": false,
         "type": "choropleth",
         "z": [
          1
         ]
        },
        {
         "colorscale": [
          [
           0,
           "#FFA15A"
          ],
          [
           1,
           "#FFA15A"
          ]
         ],
         "geo": "geo",
         "hovertemplate": "<b>%{hovertext}</b><br><br>country=Mauritius<br>iso_code=%{location}<extra></extra>",
         "hovertext": [
          "Oxford/AstraZeneca"
         ],
         "locations": [
          "MUS"
         ],
         "name": "Mauritius",
         "showlegend": true,
         "showscale": false,
         "type": "choropleth",
         "z": [
          1
         ]
        },
        {
         "colorscale": [
          [
           0,
           "#19d3f3"
          ],
          [
           1,
           "#19d3f3"
          ]
         ],
         "geo": "geo",
         "hovertemplate": "<b>%{hovertext}</b><br><br>country=Mexico<br>iso_code=%{location}<extra></extra>",
         "hovertext": [
          "Oxford/AstraZeneca, Pfizer/BioNTech, Sputnik V"
         ],
         "locations": [
          "MEX"
         ],
         "name": "Mexico",
         "showlegend": true,
         "showscale": false,
         "type": "choropleth",
         "z": [
          1
         ]
        },
        {
         "colorscale": [
          [
           0,
           "#FF6692"
          ],
          [
           1,
           "#FF6692"
          ]
         ],
         "geo": "geo",
         "hovertemplate": "<b>%{hovertext}</b><br><br>country=Moldova<br>iso_code=%{location}<extra></extra>",
         "hovertext": [
          "Oxford/AstraZeneca"
         ],
         "locations": [
          "MDA"
         ],
         "name": "Moldova",
         "showlegend": true,
         "showscale": false,
         "type": "choropleth",
         "z": [
          1
         ]
        },
        {
         "colorscale": [
          [
           0,
           "#B6E880"
          ],
          [
           1,
           "#B6E880"
          ]
         ],
         "geo": "geo",
         "hovertemplate": "<b>%{hovertext}</b><br><br>country=Monaco<br>iso_code=%{location}<extra></extra>",
         "hovertext": [
          "Pfizer/BioNTech"
         ],
         "locations": [
          "MCO"
         ],
         "name": "Monaco",
         "showlegend": true,
         "showscale": false,
         "type": "choropleth",
         "z": [
          1
         ]
        },
        {
         "colorscale": [
          [
           0,
           "#FF97FF"
          ],
          [
           1,
           "#FF97FF"
          ]
         ],
         "geo": "geo",
         "hovertemplate": "<b>%{hovertext}</b><br><br>country=Mongolia<br>iso_code=%{location}<extra></extra>",
         "hovertext": [
          "Oxford/AstraZeneca"
         ],
         "locations": [
          "MNG"
         ],
         "name": "Mongolia",
         "showlegend": true,
         "showscale": false,
         "type": "choropleth",
         "z": [
          1
         ]
        },
        {
         "colorscale": [
          [
           0,
           "#FECB52"
          ],
          [
           1,
           "#FECB52"
          ]
         ],
         "geo": "geo",
         "hovertemplate": "<b>%{hovertext}</b><br><br>country=Montenegro<br>iso_code=%{location}<extra></extra>",
         "hovertext": [
          "Sinopharm/Beijing, Sputnik V"
         ],
         "locations": [
          "MNE"
         ],
         "name": "Montenegro",
         "showlegend": true,
         "showscale": false,
         "type": "choropleth",
         "z": [
          1
         ]
        },
        {
         "colorscale": [
          [
           0,
           "#636efa"
          ],
          [
           1,
           "#636efa"
          ]
         ],
         "geo": "geo",
         "hovertemplate": "<b>%{hovertext}</b><br><br>country=Montserrat<br>iso_code=%{location}<extra></extra>",
         "hovertext": [
          "Oxford/AstraZeneca"
         ],
         "locations": [
          "MSR"
         ],
         "name": "Montserrat",
         "showlegend": true,
         "showscale": false,
         "type": "choropleth",
         "z": [
          1
         ]
        },
        {
         "colorscale": [
          [
           0,
           "#EF553B"
          ],
          [
           1,
           "#EF553B"
          ]
         ],
         "geo": "geo",
         "hovertemplate": "<b>%{hovertext}</b><br><br>country=Morocco<br>iso_code=%{location}<extra></extra>",
         "hovertext": [
          "Oxford/AstraZeneca, Sinopharm/Beijing"
         ],
         "locations": [
          "MAR"
         ],
         "name": "Morocco",
         "showlegend": true,
         "showscale": false,
         "type": "choropleth",
         "z": [
          1
         ]
        },
        {
         "colorscale": [
          [
           0,
           "#00cc96"
          ],
          [
           1,
           "#00cc96"
          ]
         ],
         "geo": "geo",
         "hovertemplate": "<b>%{hovertext}</b><br><br>country=Myanmar<br>iso_code=%{location}<extra></extra>",
         "hovertext": [
          "Oxford/AstraZeneca"
         ],
         "locations": [
          "MMR"
         ],
         "name": "Myanmar",
         "showlegend": true,
         "showscale": false,
         "type": "choropleth",
         "z": [
          1
         ]
        },
        {
         "colorscale": [
          [
           0,
           "#ab63fa"
          ],
          [
           1,
           "#ab63fa"
          ]
         ],
         "geo": "geo",
         "hovertemplate": "<b>%{hovertext}</b><br><br>country=Nepal<br>iso_code=%{location}<extra></extra>",
         "hovertext": [
          "Oxford/AstraZeneca"
         ],
         "locations": [
          "NPL"
         ],
         "name": "Nepal",
         "showlegend": true,
         "showscale": false,
         "type": "choropleth",
         "z": [
          1
         ]
        },
        {
         "colorscale": [
          [
           0,
           "#FFA15A"
          ],
          [
           1,
           "#FFA15A"
          ]
         ],
         "geo": "geo",
         "hovertemplate": "<b>%{hovertext}</b><br><br>country=Netherlands<br>iso_code=%{location}<extra></extra>",
         "hovertext": [
          "Moderna, Oxford/AstraZeneca, Pfizer/BioNTech"
         ],
         "locations": [
          "NLD"
         ],
         "name": "Netherlands",
         "showlegend": true,
         "showscale": false,
         "type": "choropleth",
         "z": [
          1
         ]
        },
        {
         "colorscale": [
          [
           0,
           "#19d3f3"
          ],
          [
           1,
           "#19d3f3"
          ]
         ],
         "geo": "geo",
         "hovertemplate": "<b>%{hovertext}</b><br><br>country=New Zealand<br>iso_code=%{location}<extra></extra>",
         "hovertext": [
          "Pfizer/BioNTech"
         ],
         "locations": [
          "NZL"
         ],
         "name": "New Zealand",
         "showlegend": true,
         "showscale": false,
         "type": "choropleth",
         "z": [
          1
         ]
        },
        {
         "colorscale": [
          [
           0,
           "#FF6692"
          ],
          [
           1,
           "#FF6692"
          ]
         ],
         "geo": "geo",
         "hovertemplate": "<b>%{hovertext}</b><br><br>country=Northern Cyprus<br>iso_code=%{location}<extra></extra>",
         "hovertext": [
          "Pfizer/BioNTech, Sinovac"
         ],
         "locations": [
          "OWID_NCY"
         ],
         "name": "Northern Cyprus",
         "showlegend": true,
         "showscale": false,
         "type": "choropleth",
         "z": [
          1
         ]
        },
        {
         "colorscale": [
          [
           0,
           "#B6E880"
          ],
          [
           1,
           "#B6E880"
          ]
         ],
         "geo": "geo",
         "hovertemplate": "<b>%{hovertext}</b><br><br>country=Northern Ireland<br>iso_code=%{location}<extra></extra>",
         "hovertext": [
          "Oxford/AstraZeneca, Pfizer/BioNTech"
         ],
         "locations": [
          null
         ],
         "name": "Northern Ireland",
         "showlegend": true,
         "showscale": false,
         "type": "choropleth",
         "z": [
          1
         ]
        },
        {
         "colorscale": [
          [
           0,
           "#FF97FF"
          ],
          [
           1,
           "#FF97FF"
          ]
         ],
         "geo": "geo",
         "hovertemplate": "<b>%{hovertext}</b><br><br>country=Norway<br>iso_code=%{location}<extra></extra>",
         "hovertext": [
          "Moderna, Oxford/AstraZeneca, Pfizer/BioNTech"
         ],
         "locations": [
          "NOR"
         ],
         "name": "Norway",
         "showlegend": true,
         "showscale": false,
         "type": "choropleth",
         "z": [
          1
         ]
        },
        {
         "colorscale": [
          [
           0,
           "#FECB52"
          ],
          [
           1,
           "#FECB52"
          ]
         ],
         "geo": "geo",
         "hovertemplate": "<b>%{hovertext}</b><br><br>country=Oman<br>iso_code=%{location}<extra></extra>",
         "hovertext": [
          "Oxford/AstraZeneca, Pfizer/BioNTech"
         ],
         "locations": [
          "OMN"
         ],
         "name": "Oman",
         "showlegend": true,
         "showscale": false,
         "type": "choropleth",
         "z": [
          1
         ]
        },
        {
         "colorscale": [
          [
           0,
           "#636efa"
          ],
          [
           1,
           "#636efa"
          ]
         ],
         "geo": "geo",
         "hovertemplate": "<b>%{hovertext}</b><br><br>country=Pakistan<br>iso_code=%{location}<extra></extra>",
         "hovertext": [
          "Oxford/AstraZeneca, Sinopharm/Beijing, Sputnik V"
         ],
         "locations": [
          "PAK"
         ],
         "name": "Pakistan",
         "showlegend": true,
         "showscale": false,
         "type": "choropleth",
         "z": [
          1
         ]
        },
        {
         "colorscale": [
          [
           0,
           "#EF553B"
          ],
          [
           1,
           "#EF553B"
          ]
         ],
         "geo": "geo",
         "hovertemplate": "<b>%{hovertext}</b><br><br>country=Panama<br>iso_code=%{location}<extra></extra>",
         "hovertext": [
          "Pfizer/BioNTech"
         ],
         "locations": [
          "PAN"
         ],
         "name": "Panama",
         "showlegend": true,
         "showscale": false,
         "type": "choropleth",
         "z": [
          1
         ]
        },
        {
         "colorscale": [
          [
           0,
           "#00cc96"
          ],
          [
           1,
           "#00cc96"
          ]
         ],
         "geo": "geo",
         "hovertemplate": "<b>%{hovertext}</b><br><br>country=Paraguay<br>iso_code=%{location}<extra></extra>",
         "hovertext": [
          "Sputnik V"
         ],
         "locations": [
          "PRY"
         ],
         "name": "Paraguay",
         "showlegend": true,
         "showscale": false,
         "type": "choropleth",
         "z": [
          1
         ]
        },
        {
         "colorscale": [
          [
           0,
           "#ab63fa"
          ],
          [
           1,
           "#ab63fa"
          ]
         ],
         "geo": "geo",
         "hovertemplate": "<b>%{hovertext}</b><br><br>country=Peru<br>iso_code=%{location}<extra></extra>",
         "hovertext": [
          "Sinopharm/Beijing"
         ],
         "locations": [
          "PER"
         ],
         "name": "Peru",
         "showlegend": true,
         "showscale": false,
         "type": "choropleth",
         "z": [
          1
         ]
        },
        {
         "colorscale": [
          [
           0,
           "#FFA15A"
          ],
          [
           1,
           "#FFA15A"
          ]
         ],
         "geo": "geo",
         "hovertemplate": "<b>%{hovertext}</b><br><br>country=Philippines<br>iso_code=%{location}<extra></extra>",
         "hovertext": [
          "Sinovac"
         ],
         "locations": [
          "PHL"
         ],
         "name": "Philippines",
         "showlegend": true,
         "showscale": false,
         "type": "choropleth",
         "z": [
          1
         ]
        },
        {
         "colorscale": [
          [
           0,
           "#19d3f3"
          ],
          [
           1,
           "#19d3f3"
          ]
         ],
         "geo": "geo",
         "hovertemplate": "<b>%{hovertext}</b><br><br>country=Poland<br>iso_code=%{location}<extra></extra>",
         "hovertext": [
          "Moderna, Oxford/AstraZeneca, Pfizer/BioNTech"
         ],
         "locations": [
          "POL"
         ],
         "name": "Poland",
         "showlegend": true,
         "showscale": false,
         "type": "choropleth",
         "z": [
          1
         ]
        },
        {
         "colorscale": [
          [
           0,
           "#FF6692"
          ],
          [
           1,
           "#FF6692"
          ]
         ],
         "geo": "geo",
         "hovertemplate": "<b>%{hovertext}</b><br><br>country=Portugal<br>iso_code=%{location}<extra></extra>",
         "hovertext": [
          "Moderna, Pfizer/BioNTech"
         ],
         "locations": [
          "PRT"
         ],
         "name": "Portugal",
         "showlegend": true,
         "showscale": false,
         "type": "choropleth",
         "z": [
          1
         ]
        },
        {
         "colorscale": [
          [
           0,
           "#B6E880"
          ],
          [
           1,
           "#B6E880"
          ]
         ],
         "geo": "geo",
         "hovertemplate": "<b>%{hovertext}</b><br><br>country=Qatar<br>iso_code=%{location}<extra></extra>",
         "hovertext": [
          "Pfizer/BioNTech"
         ],
         "locations": [
          "QAT"
         ],
         "name": "Qatar",
         "showlegend": true,
         "showscale": false,
         "type": "choropleth",
         "z": [
          1
         ]
        },
        {
         "colorscale": [
          [
           0,
           "#FF97FF"
          ],
          [
           1,
           "#FF97FF"
          ]
         ],
         "geo": "geo",
         "hovertemplate": "<b>%{hovertext}</b><br><br>country=Romania<br>iso_code=%{location}<extra></extra>",
         "hovertext": [
          "Moderna, Oxford/AstraZeneca, Pfizer/BioNTech"
         ],
         "locations": [
          "ROU"
         ],
         "name": "Romania",
         "showlegend": true,
         "showscale": false,
         "type": "choropleth",
         "z": [
          1
         ]
        },
        {
         "colorscale": [
          [
           0,
           "#FECB52"
          ],
          [
           1,
           "#FECB52"
          ]
         ],
         "geo": "geo",
         "hovertemplate": "<b>%{hovertext}</b><br><br>country=Russia<br>iso_code=%{location}<extra></extra>",
         "hovertext": [
          "EpiVacCorona, Sputnik V"
         ],
         "locations": [
          "RUS"
         ],
         "name": "Russia",
         "showlegend": true,
         "showscale": false,
         "type": "choropleth",
         "z": [
          1
         ]
        },
        {
         "colorscale": [
          [
           0,
           "#636efa"
          ],
          [
           1,
           "#636efa"
          ]
         ],
         "geo": "geo",
         "hovertemplate": "<b>%{hovertext}</b><br><br>country=Rwanda<br>iso_code=%{location}<extra></extra>",
         "hovertext": [
          "Moderna, Oxford/AstraZeneca, Pfizer/BioNTech"
         ],
         "locations": [
          "RWA"
         ],
         "name": "Rwanda",
         "showlegend": true,
         "showscale": false,
         "type": "choropleth",
         "z": [
          1
         ]
        },
        {
         "colorscale": [
          [
           0,
           "#EF553B"
          ],
          [
           1,
           "#EF553B"
          ]
         ],
         "geo": "geo",
         "hovertemplate": "<b>%{hovertext}</b><br><br>country=Saint Helena<br>iso_code=%{location}<extra></extra>",
         "hovertext": [
          "Oxford/AstraZeneca"
         ],
         "locations": [
          "SHN"
         ],
         "name": "Saint Helena",
         "showlegend": true,
         "showscale": false,
         "type": "choropleth",
         "z": [
          1
         ]
        },
        {
         "colorscale": [
          [
           0,
           "#00cc96"
          ],
          [
           1,
           "#00cc96"
          ]
         ],
         "geo": "geo",
         "hovertemplate": "<b>%{hovertext}</b><br><br>country=Saint Lucia<br>iso_code=%{location}<extra></extra>",
         "hovertext": [
          "Oxford/AstraZeneca"
         ],
         "locations": [
          "LCA"
         ],
         "name": "Saint Lucia",
         "showlegend": true,
         "showscale": false,
         "type": "choropleth",
         "z": [
          1
         ]
        },
        {
         "colorscale": [
          [
           0,
           "#ab63fa"
          ],
          [
           1,
           "#ab63fa"
          ]
         ],
         "geo": "geo",
         "hovertemplate": "<b>%{hovertext}</b><br><br>country=San Marino<br>iso_code=%{location}<extra></extra>",
         "hovertext": [
          "Sputnik V"
         ],
         "locations": [
          "SMR"
         ],
         "name": "San Marino",
         "showlegend": true,
         "showscale": false,
         "type": "choropleth",
         "z": [
          1
         ]
        },
        {
         "colorscale": [
          [
           0,
           "#FFA15A"
          ],
          [
           1,
           "#FFA15A"
          ]
         ],
         "geo": "geo",
         "hovertemplate": "<b>%{hovertext}</b><br><br>country=Saudi Arabia<br>iso_code=%{location}<extra></extra>",
         "hovertext": [
          "Oxford/AstraZeneca, Pfizer/BioNTech"
         ],
         "locations": [
          "SAU"
         ],
         "name": "Saudi Arabia",
         "showlegend": true,
         "showscale": false,
         "type": "choropleth",
         "z": [
          1
         ]
        },
        {
         "colorscale": [
          [
           0,
           "#19d3f3"
          ],
          [
           1,
           "#19d3f3"
          ]
         ],
         "geo": "geo",
         "hovertemplate": "<b>%{hovertext}</b><br><br>country=Scotland<br>iso_code=%{location}<extra></extra>",
         "hovertext": [
          "Oxford/AstraZeneca, Pfizer/BioNTech"
         ],
         "locations": [
          null
         ],
         "name": "Scotland",
         "showlegend": true,
         "showscale": false,
         "type": "choropleth",
         "z": [
          1
         ]
        },
        {
         "colorscale": [
          [
           0,
           "#FF6692"
          ],
          [
           1,
           "#FF6692"
          ]
         ],
         "geo": "geo",
         "hovertemplate": "<b>%{hovertext}</b><br><br>country=Senegal<br>iso_code=%{location}<extra></extra>",
         "hovertext": [
          "Sinopharm/Beijing"
         ],
         "locations": [
          "SEN"
         ],
         "name": "Senegal",
         "showlegend": true,
         "showscale": false,
         "type": "choropleth",
         "z": [
          1
         ]
        },
        {
         "colorscale": [
          [
           0,
           "#B6E880"
          ],
          [
           1,
           "#B6E880"
          ]
         ],
         "geo": "geo",
         "hovertemplate": "<b>%{hovertext}</b><br><br>country=Serbia<br>iso_code=%{location}<extra></extra>",
         "hovertext": [
          "Oxford/AstraZeneca, Pfizer/BioNTech, Sinopharm/Beijing, Sputnik V"
         ],
         "locations": [
          "SRB"
         ],
         "name": "Serbia",
         "showlegend": true,
         "showscale": false,
         "type": "choropleth",
         "z": [
          1
         ]
        },
        {
         "colorscale": [
          [
           0,
           "#FF97FF"
          ],
          [
           1,
           "#FF97FF"
          ]
         ],
         "geo": "geo",
         "hovertemplate": "<b>%{hovertext}</b><br><br>country=Seychelles<br>iso_code=%{location}<extra></extra>",
         "hovertext": [
          "Oxford/AstraZeneca, Sinopharm/Beijing"
         ],
         "locations": [
          "SYC"
         ],
         "name": "Seychelles",
         "showlegend": true,
         "showscale": false,
         "type": "choropleth",
         "z": [
          1
         ]
        },
        {
         "colorscale": [
          [
           0,
           "#FECB52"
          ],
          [
           1,
           "#FECB52"
          ]
         ],
         "geo": "geo",
         "hovertemplate": "<b>%{hovertext}</b><br><br>country=Singapore<br>iso_code=%{location}<extra></extra>",
         "hovertext": [
          "Pfizer/BioNTech"
         ],
         "locations": [
          "SGP"
         ],
         "name": "Singapore",
         "showlegend": true,
         "showscale": false,
         "type": "choropleth",
         "z": [
          1
         ]
        },
        {
         "colorscale": [
          [
           0,
           "#636efa"
          ],
          [
           1,
           "#636efa"
          ]
         ],
         "geo": "geo",
         "hovertemplate": "<b>%{hovertext}</b><br><br>country=Slovakia<br>iso_code=%{location}<extra></extra>",
         "hovertext": [
          "Pfizer/BioNTech"
         ],
         "locations": [
          "SVK"
         ],
         "name": "Slovakia",
         "showlegend": true,
         "showscale": false,
         "type": "choropleth",
         "z": [
          1
         ]
        },
        {
         "colorscale": [
          [
           0,
           "#EF553B"
          ],
          [
           1,
           "#EF553B"
          ]
         ],
         "geo": "geo",
         "hovertemplate": "<b>%{hovertext}</b><br><br>country=Slovenia<br>iso_code=%{location}<extra></extra>",
         "hovertext": [
          "Oxford/AstraZeneca, Pfizer/BioNTech"
         ],
         "locations": [
          "SVN"
         ],
         "name": "Slovenia",
         "showlegend": true,
         "showscale": false,
         "type": "choropleth",
         "z": [
          1
         ]
        },
        {
         "colorscale": [
          [
           0,
           "#00cc96"
          ],
          [
           1,
           "#00cc96"
          ]
         ],
         "geo": "geo",
         "hovertemplate": "<b>%{hovertext}</b><br><br>country=South Africa<br>iso_code=%{location}<extra></extra>",
         "hovertext": [
          "Johnson&Johnson"
         ],
         "locations": [
          "ZAF"
         ],
         "name": "South Africa",
         "showlegend": true,
         "showscale": false,
         "type": "choropleth",
         "z": [
          1
         ]
        },
        {
         "colorscale": [
          [
           0,
           "#ab63fa"
          ],
          [
           1,
           "#ab63fa"
          ]
         ],
         "geo": "geo",
         "hovertemplate": "<b>%{hovertext}</b><br><br>country=South Korea<br>iso_code=%{location}<extra></extra>",
         "hovertext": [
          "Oxford/AstraZeneca, Pfizer/BioNTech"
         ],
         "locations": [
          "KOR"
         ],
         "name": "South Korea",
         "showlegend": true,
         "showscale": false,
         "type": "choropleth",
         "z": [
          1
         ]
        },
        {
         "colorscale": [
          [
           0,
           "#FFA15A"
          ],
          [
           1,
           "#FFA15A"
          ]
         ],
         "geo": "geo",
         "hovertemplate": "<b>%{hovertext}</b><br><br>country=Spain<br>iso_code=%{location}<extra></extra>",
         "hovertext": [
          "Moderna, Oxford/AstraZeneca, Pfizer/BioNTech"
         ],
         "locations": [
          "ESP"
         ],
         "name": "Spain",
         "showlegend": true,
         "showscale": false,
         "type": "choropleth",
         "z": [
          1
         ]
        },
        {
         "colorscale": [
          [
           0,
           "#19d3f3"
          ],
          [
           1,
           "#19d3f3"
          ]
         ],
         "geo": "geo",
         "hovertemplate": "<b>%{hovertext}</b><br><br>country=Sri Lanka<br>iso_code=%{location}<extra></extra>",
         "hovertext": [
          "Oxford/AstraZeneca"
         ],
         "locations": [
          "LKA"
         ],
         "name": "Sri Lanka",
         "showlegend": true,
         "showscale": false,
         "type": "choropleth",
         "z": [
          1
         ]
        },
        {
         "colorscale": [
          [
           0,
           "#FF6692"
          ],
          [
           1,
           "#FF6692"
          ]
         ],
         "geo": "geo",
         "hovertemplate": "<b>%{hovertext}</b><br><br>country=Sweden<br>iso_code=%{location}<extra></extra>",
         "hovertext": [
          "Oxford/AstraZeneca, Pfizer/BioNTech"
         ],
         "locations": [
          "SWE"
         ],
         "name": "Sweden",
         "showlegend": true,
         "showscale": false,
         "type": "choropleth",
         "z": [
          1
         ]
        },
        {
         "colorscale": [
          [
           0,
           "#B6E880"
          ],
          [
           1,
           "#B6E880"
          ]
         ],
         "geo": "geo",
         "hovertemplate": "<b>%{hovertext}</b><br><br>country=Switzerland<br>iso_code=%{location}<extra></extra>",
         "hovertext": [
          "Moderna, Pfizer/BioNTech"
         ],
         "locations": [
          "CHE"
         ],
         "name": "Switzerland",
         "showlegend": true,
         "showscale": false,
         "type": "choropleth",
         "z": [
          1
         ]
        },
        {
         "colorscale": [
          [
           0,
           "#FF97FF"
          ],
          [
           1,
           "#FF97FF"
          ]
         ],
         "geo": "geo",
         "hovertemplate": "<b>%{hovertext}</b><br><br>country=Thailand<br>iso_code=%{location}<extra></extra>",
         "hovertext": [
          "Sinovac"
         ],
         "locations": [
          "THA"
         ],
         "name": "Thailand",
         "showlegend": true,
         "showscale": false,
         "type": "choropleth",
         "z": [
          1
         ]
        },
        {
         "colorscale": [
          [
           0,
           "#FECB52"
          ],
          [
           1,
           "#FECB52"
          ]
         ],
         "geo": "geo",
         "hovertemplate": "<b>%{hovertext}</b><br><br>country=Trinidad and Tobago<br>iso_code=%{location}<extra></extra>",
         "hovertext": [
          "Oxford/AstraZeneca"
         ],
         "locations": [
          "TTO"
         ],
         "name": "Trinidad and Tobago",
         "showlegend": true,
         "showscale": false,
         "type": "choropleth",
         "z": [
          1
         ]
        },
        {
         "colorscale": [
          [
           0,
           "#636efa"
          ],
          [
           1,
           "#636efa"
          ]
         ],
         "geo": "geo",
         "hovertemplate": "<b>%{hovertext}</b><br><br>country=Turkey<br>iso_code=%{location}<extra></extra>",
         "hovertext": [
          "Sinovac"
         ],
         "locations": [
          "TUR"
         ],
         "name": "Turkey",
         "showlegend": true,
         "showscale": false,
         "type": "choropleth",
         "z": [
          1
         ]
        },
        {
         "colorscale": [
          [
           0,
           "#EF553B"
          ],
          [
           1,
           "#EF553B"
          ]
         ],
         "geo": "geo",
         "hovertemplate": "<b>%{hovertext}</b><br><br>country=Turks and Caicos Islands<br>iso_code=%{location}<extra></extra>",
         "hovertext": [
          "Pfizer/BioNTech"
         ],
         "locations": [
          "TCA"
         ],
         "name": "Turks and Caicos Islands",
         "showlegend": true,
         "showscale": false,
         "type": "choropleth",
         "z": [
          1
         ]
        },
        {
         "colorscale": [
          [
           0,
           "#00cc96"
          ],
          [
           1,
           "#00cc96"
          ]
         ],
         "geo": "geo",
         "hovertemplate": "<b>%{hovertext}</b><br><br>country=Ukraine<br>iso_code=%{location}<extra></extra>",
         "hovertext": [
          "Oxford/AstraZeneca"
         ],
         "locations": [
          "UKR"
         ],
         "name": "Ukraine",
         "showlegend": true,
         "showscale": false,
         "type": "choropleth",
         "z": [
          1
         ]
        },
        {
         "colorscale": [
          [
           0,
           "#ab63fa"
          ],
          [
           1,
           "#ab63fa"
          ]
         ],
         "geo": "geo",
         "hovertemplate": "<b>%{hovertext}</b><br><br>country=United Arab Emirates<br>iso_code=%{location}<extra></extra>",
         "hovertext": [
          "Oxford/AstraZeneca, Pfizer/BioNTech, Sinopharm/Beijing, Sinopharm/Wuhan, Sputnik V"
         ],
         "locations": [
          "ARE"
         ],
         "name": "United Arab Emirates",
         "showlegend": true,
         "showscale": false,
         "type": "choropleth",
         "z": [
          1
         ]
        },
        {
         "colorscale": [
          [
           0,
           "#FFA15A"
          ],
          [
           1,
           "#FFA15A"
          ]
         ],
         "geo": "geo",
         "hovertemplate": "<b>%{hovertext}</b><br><br>country=United Kingdom<br>iso_code=%{location}<extra></extra>",
         "hovertext": [
          "Oxford/AstraZeneca, Pfizer/BioNTech"
         ],
         "locations": [
          "GBR"
         ],
         "name": "United Kingdom",
         "showlegend": true,
         "showscale": false,
         "type": "choropleth",
         "z": [
          1
         ]
        },
        {
         "colorscale": [
          [
           0,
           "#19d3f3"
          ],
          [
           1,
           "#19d3f3"
          ]
         ],
         "geo": "geo",
         "hovertemplate": "<b>%{hovertext}</b><br><br>country=United States<br>iso_code=%{location}<extra></extra>",
         "hovertext": [
          "Johnson&Johnson, Moderna, Pfizer/BioNTech"
         ],
         "locations": [
          "USA"
         ],
         "name": "United States",
         "showlegend": true,
         "showscale": false,
         "type": "choropleth",
         "z": [
          1
         ]
        },
        {
         "colorscale": [
          [
           0,
           "#FF6692"
          ],
          [
           1,
           "#FF6692"
          ]
         ],
         "geo": "geo",
         "hovertemplate": "<b>%{hovertext}</b><br><br>country=Uruguay<br>iso_code=%{location}<extra></extra>",
         "hovertext": [
          "Sinovac"
         ],
         "locations": [
          "URY"
         ],
         "name": "Uruguay",
         "showlegend": true,
         "showscale": false,
         "type": "choropleth",
         "z": [
          1
         ]
        },
        {
         "colorscale": [
          [
           0,
           "#B6E880"
          ],
          [
           1,
           "#B6E880"
          ]
         ],
         "geo": "geo",
         "hovertemplate": "<b>%{hovertext}</b><br><br>country=Venezuela<br>iso_code=%{location}<extra></extra>",
         "hovertext": [
          "Sputnik V"
         ],
         "locations": [
          "VEN"
         ],
         "name": "Venezuela",
         "showlegend": true,
         "showscale": false,
         "type": "choropleth",
         "z": [
          1
         ]
        },
        {
         "colorscale": [
          [
           0,
           "#FF97FF"
          ],
          [
           1,
           "#FF97FF"
          ]
         ],
         "geo": "geo",
         "hovertemplate": "<b>%{hovertext}</b><br><br>country=Wales<br>iso_code=%{location}<extra></extra>",
         "hovertext": [
          "Oxford/AstraZeneca, Pfizer/BioNTech"
         ],
         "locations": [
          null
         ],
         "name": "Wales",
         "showlegend": true,
         "showscale": false,
         "type": "choropleth",
         "z": [
          1
         ]
        },
        {
         "colorscale": [
          [
           0,
           "#FECB52"
          ],
          [
           1,
           "#FECB52"
          ]
         ],
         "geo": "geo",
         "hovertemplate": "<b>%{hovertext}</b><br><br>country=Zimbabwe<br>iso_code=%{location}<extra></extra>",
         "hovertext": [
          "Sinopharm/Beijing"
         ],
         "locations": [
          "ZWE"
         ],
         "name": "Zimbabwe",
         "showlegend": true,
         "showscale": false,
         "type": "choropleth",
         "z": [
          1
         ]
        }
       ],
       "layout": {
        "geo": {
         "domain": {
          "x": [
           0,
           1
          ],
          "y": [
           0,
           1
          ]
         },
         "projection": {
          "type": "natural earth"
         }
        },
        "legend": {
         "title": {
          "text": "country"
         },
         "tracegroupgap": 0
        },
        "margin": {
         "t": 60
        },
        "template": {
         "data": {
          "bar": [
           {
            "error_x": {
             "color": "#2a3f5f"
            },
            "error_y": {
             "color": "#2a3f5f"
            },
            "marker": {
             "line": {
              "color": "#E5ECF6",
              "width": 0.5
             }
            },
            "type": "bar"
           }
          ],
          "barpolar": [
           {
            "marker": {
             "line": {
              "color": "#E5ECF6",
              "width": 0.5
             }
            },
            "type": "barpolar"
           }
          ],
          "carpet": [
           {
            "aaxis": {
             "endlinecolor": "#2a3f5f",
             "gridcolor": "white",
             "linecolor": "white",
             "minorgridcolor": "white",
             "startlinecolor": "#2a3f5f"
            },
            "baxis": {
             "endlinecolor": "#2a3f5f",
             "gridcolor": "white",
             "linecolor": "white",
             "minorgridcolor": "white",
             "startlinecolor": "#2a3f5f"
            },
            "type": "carpet"
           }
          ],
          "choropleth": [
           {
            "colorbar": {
             "outlinewidth": 0,
             "ticks": ""
            },
            "type": "choropleth"
           }
          ],
          "contour": [
           {
            "colorbar": {
             "outlinewidth": 0,
             "ticks": ""
            },
            "colorscale": [
             [
              0,
              "#0d0887"
             ],
             [
              0.1111111111111111,
              "#46039f"
             ],
             [
              0.2222222222222222,
              "#7201a8"
             ],
             [
              0.3333333333333333,
              "#9c179e"
             ],
             [
              0.4444444444444444,
              "#bd3786"
             ],
             [
              0.5555555555555556,
              "#d8576b"
             ],
             [
              0.6666666666666666,
              "#ed7953"
             ],
             [
              0.7777777777777778,
              "#fb9f3a"
             ],
             [
              0.8888888888888888,
              "#fdca26"
             ],
             [
              1,
              "#f0f921"
             ]
            ],
            "type": "contour"
           }
          ],
          "contourcarpet": [
           {
            "colorbar": {
             "outlinewidth": 0,
             "ticks": ""
            },
            "type": "contourcarpet"
           }
          ],
          "heatmap": [
           {
            "colorbar": {
             "outlinewidth": 0,
             "ticks": ""
            },
            "colorscale": [
             [
              0,
              "#0d0887"
             ],
             [
              0.1111111111111111,
              "#46039f"
             ],
             [
              0.2222222222222222,
              "#7201a8"
             ],
             [
              0.3333333333333333,
              "#9c179e"
             ],
             [
              0.4444444444444444,
              "#bd3786"
             ],
             [
              0.5555555555555556,
              "#d8576b"
             ],
             [
              0.6666666666666666,
              "#ed7953"
             ],
             [
              0.7777777777777778,
              "#fb9f3a"
             ],
             [
              0.8888888888888888,
              "#fdca26"
             ],
             [
              1,
              "#f0f921"
             ]
            ],
            "type": "heatmap"
           }
          ],
          "heatmapgl": [
           {
            "colorbar": {
             "outlinewidth": 0,
             "ticks": ""
            },
            "colorscale": [
             [
              0,
              "#0d0887"
             ],
             [
              0.1111111111111111,
              "#46039f"
             ],
             [
              0.2222222222222222,
              "#7201a8"
             ],
             [
              0.3333333333333333,
              "#9c179e"
             ],
             [
              0.4444444444444444,
              "#bd3786"
             ],
             [
              0.5555555555555556,
              "#d8576b"
             ],
             [
              0.6666666666666666,
              "#ed7953"
             ],
             [
              0.7777777777777778,
              "#fb9f3a"
             ],
             [
              0.8888888888888888,
              "#fdca26"
             ],
             [
              1,
              "#f0f921"
             ]
            ],
            "type": "heatmapgl"
           }
          ],
          "histogram": [
           {
            "marker": {
             "colorbar": {
              "outlinewidth": 0,
              "ticks": ""
             }
            },
            "type": "histogram"
           }
          ],
          "histogram2d": [
           {
            "colorbar": {
             "outlinewidth": 0,
             "ticks": ""
            },
            "colorscale": [
             [
              0,
              "#0d0887"
             ],
             [
              0.1111111111111111,
              "#46039f"
             ],
             [
              0.2222222222222222,
              "#7201a8"
             ],
             [
              0.3333333333333333,
              "#9c179e"
             ],
             [
              0.4444444444444444,
              "#bd3786"
             ],
             [
              0.5555555555555556,
              "#d8576b"
             ],
             [
              0.6666666666666666,
              "#ed7953"
             ],
             [
              0.7777777777777778,
              "#fb9f3a"
             ],
             [
              0.8888888888888888,
              "#fdca26"
             ],
             [
              1,
              "#f0f921"
             ]
            ],
            "type": "histogram2d"
           }
          ],
          "histogram2dcontour": [
           {
            "colorbar": {
             "outlinewidth": 0,
             "ticks": ""
            },
            "colorscale": [
             [
              0,
              "#0d0887"
             ],
             [
              0.1111111111111111,
              "#46039f"
             ],
             [
              0.2222222222222222,
              "#7201a8"
             ],
             [
              0.3333333333333333,
              "#9c179e"
             ],
             [
              0.4444444444444444,
              "#bd3786"
             ],
             [
              0.5555555555555556,
              "#d8576b"
             ],
             [
              0.6666666666666666,
              "#ed7953"
             ],
             [
              0.7777777777777778,
              "#fb9f3a"
             ],
             [
              0.8888888888888888,
              "#fdca26"
             ],
             [
              1,
              "#f0f921"
             ]
            ],
            "type": "histogram2dcontour"
           }
          ],
          "mesh3d": [
           {
            "colorbar": {
             "outlinewidth": 0,
             "ticks": ""
            },
            "type": "mesh3d"
           }
          ],
          "parcoords": [
           {
            "line": {
             "colorbar": {
              "outlinewidth": 0,
              "ticks": ""
             }
            },
            "type": "parcoords"
           }
          ],
          "pie": [
           {
            "automargin": true,
            "type": "pie"
           }
          ],
          "scatter": [
           {
            "marker": {
             "colorbar": {
              "outlinewidth": 0,
              "ticks": ""
             }
            },
            "type": "scatter"
           }
          ],
          "scatter3d": [
           {
            "line": {
             "colorbar": {
              "outlinewidth": 0,
              "ticks": ""
             }
            },
            "marker": {
             "colorbar": {
              "outlinewidth": 0,
              "ticks": ""
             }
            },
            "type": "scatter3d"
           }
          ],
          "scattercarpet": [
           {
            "marker": {
             "colorbar": {
              "outlinewidth": 0,
              "ticks": ""
             }
            },
            "type": "scattercarpet"
           }
          ],
          "scattergeo": [
           {
            "marker": {
             "colorbar": {
              "outlinewidth": 0,
              "ticks": ""
             }
            },
            "type": "scattergeo"
           }
          ],
          "scattergl": [
           {
            "marker": {
             "colorbar": {
              "outlinewidth": 0,
              "ticks": ""
             }
            },
            "type": "scattergl"
           }
          ],
          "scattermapbox": [
           {
            "marker": {
             "colorbar": {
              "outlinewidth": 0,
              "ticks": ""
             }
            },
            "type": "scattermapbox"
           }
          ],
          "scatterpolar": [
           {
            "marker": {
             "colorbar": {
              "outlinewidth": 0,
              "ticks": ""
             }
            },
            "type": "scatterpolar"
           }
          ],
          "scatterpolargl": [
           {
            "marker": {
             "colorbar": {
              "outlinewidth": 0,
              "ticks": ""
             }
            },
            "type": "scatterpolargl"
           }
          ],
          "scatterternary": [
           {
            "marker": {
             "colorbar": {
              "outlinewidth": 0,
              "ticks": ""
             }
            },
            "type": "scatterternary"
           }
          ],
          "surface": [
           {
            "colorbar": {
             "outlinewidth": 0,
             "ticks": ""
            },
            "colorscale": [
             [
              0,
              "#0d0887"
             ],
             [
              0.1111111111111111,
              "#46039f"
             ],
             [
              0.2222222222222222,
              "#7201a8"
             ],
             [
              0.3333333333333333,
              "#9c179e"
             ],
             [
              0.4444444444444444,
              "#bd3786"
             ],
             [
              0.5555555555555556,
              "#d8576b"
             ],
             [
              0.6666666666666666,
              "#ed7953"
             ],
             [
              0.7777777777777778,
              "#fb9f3a"
             ],
             [
              0.8888888888888888,
              "#fdca26"
             ],
             [
              1,
              "#f0f921"
             ]
            ],
            "type": "surface"
           }
          ],
          "table": [
           {
            "cells": {
             "fill": {
              "color": "#EBF0F8"
             },
             "line": {
              "color": "white"
             }
            },
            "header": {
             "fill": {
              "color": "#C8D4E3"
             },
             "line": {
              "color": "white"
             }
            },
            "type": "table"
           }
          ]
         },
         "layout": {
          "annotationdefaults": {
           "arrowcolor": "#2a3f5f",
           "arrowhead": 0,
           "arrowwidth": 1
          },
          "autotypenumbers": "strict",
          "coloraxis": {
           "colorbar": {
            "outlinewidth": 0,
            "ticks": ""
           }
          },
          "colorscale": {
           "diverging": [
            [
             0,
             "#8e0152"
            ],
            [
             0.1,
             "#c51b7d"
            ],
            [
             0.2,
             "#de77ae"
            ],
            [
             0.3,
             "#f1b6da"
            ],
            [
             0.4,
             "#fde0ef"
            ],
            [
             0.5,
             "#f7f7f7"
            ],
            [
             0.6,
             "#e6f5d0"
            ],
            [
             0.7,
             "#b8e186"
            ],
            [
             0.8,
             "#7fbc41"
            ],
            [
             0.9,
             "#4d9221"
            ],
            [
             1,
             "#276419"
            ]
           ],
           "sequential": [
            [
             0,
             "#0d0887"
            ],
            [
             0.1111111111111111,
             "#46039f"
            ],
            [
             0.2222222222222222,
             "#7201a8"
            ],
            [
             0.3333333333333333,
             "#9c179e"
            ],
            [
             0.4444444444444444,
             "#bd3786"
            ],
            [
             0.5555555555555556,
             "#d8576b"
            ],
            [
             0.6666666666666666,
             "#ed7953"
            ],
            [
             0.7777777777777778,
             "#fb9f3a"
            ],
            [
             0.8888888888888888,
             "#fdca26"
            ],
            [
             1,
             "#f0f921"
            ]
           ],
           "sequentialminus": [
            [
             0,
             "#0d0887"
            ],
            [
             0.1111111111111111,
             "#46039f"
            ],
            [
             0.2222222222222222,
             "#7201a8"
            ],
            [
             0.3333333333333333,
             "#9c179e"
            ],
            [
             0.4444444444444444,
             "#bd3786"
            ],
            [
             0.5555555555555556,
             "#d8576b"
            ],
            [
             0.6666666666666666,
             "#ed7953"
            ],
            [
             0.7777777777777778,
             "#fb9f3a"
            ],
            [
             0.8888888888888888,
             "#fdca26"
            ],
            [
             1,
             "#f0f921"
            ]
           ]
          },
          "colorway": [
           "#636efa",
           "#EF553B",
           "#00cc96",
           "#ab63fa",
           "#FFA15A",
           "#19d3f3",
           "#FF6692",
           "#B6E880",
           "#FF97FF",
           "#FECB52"
          ],
          "font": {
           "color": "#2a3f5f"
          },
          "geo": {
           "bgcolor": "white",
           "lakecolor": "white",
           "landcolor": "#E5ECF6",
           "showlakes": true,
           "showland": true,
           "subunitcolor": "white"
          },
          "hoverlabel": {
           "align": "left"
          },
          "hovermode": "closest",
          "mapbox": {
           "style": "light"
          },
          "paper_bgcolor": "white",
          "plot_bgcolor": "#E5ECF6",
          "polar": {
           "angularaxis": {
            "gridcolor": "white",
            "linecolor": "white",
            "ticks": ""
           },
           "bgcolor": "#E5ECF6",
           "radialaxis": {
            "gridcolor": "white",
            "linecolor": "white",
            "ticks": ""
           }
          },
          "scene": {
           "xaxis": {
            "backgroundcolor": "#E5ECF6",
            "gridcolor": "white",
            "gridwidth": 2,
            "linecolor": "white",
            "showbackground": true,
            "ticks": "",
            "zerolinecolor": "white"
           },
           "yaxis": {
            "backgroundcolor": "#E5ECF6",
            "gridcolor": "white",
            "gridwidth": 2,
            "linecolor": "white",
            "showbackground": true,
            "ticks": "",
            "zerolinecolor": "white"
           },
           "zaxis": {
            "backgroundcolor": "#E5ECF6",
            "gridcolor": "white",
            "gridwidth": 2,
            "linecolor": "white",
            "showbackground": true,
            "ticks": "",
            "zerolinecolor": "white"
           }
          },
          "shapedefaults": {
           "line": {
            "color": "#2a3f5f"
           }
          },
          "ternary": {
           "aaxis": {
            "gridcolor": "white",
            "linecolor": "white",
            "ticks": ""
           },
           "baxis": {
            "gridcolor": "white",
            "linecolor": "white",
            "ticks": ""
           },
           "bgcolor": "#E5ECF6",
           "caxis": {
            "gridcolor": "white",
            "linecolor": "white",
            "ticks": ""
           }
          },
          "title": {
           "x": 0.05
          },
          "xaxis": {
           "automargin": true,
           "gridcolor": "white",
           "linecolor": "white",
           "ticks": "",
           "title": {
            "standoff": 15
           },
           "zerolinecolor": "white",
           "zerolinewidth": 2
          },
          "yaxis": {
           "automargin": true,
           "gridcolor": "white",
           "linecolor": "white",
           "ticks": "",
           "title": {
            "standoff": 15
           },
           "zerolinecolor": "white",
           "zerolinewidth": 2
          }
         }
        },
        "title": {
         "text": "Vaccines used by each Country"
        }
       }
      },
      "text/html": [
       "<div>                            <div id=\"d2a1a6e5-14a9-44d8-9242-f27c88dcb54d\" class=\"plotly-graph-div\" style=\"height:525px; width:100%;\"></div>            <script type=\"text/javascript\">                require([\"plotly\"], function(Plotly) {                    window.PLOTLYENV=window.PLOTLYENV || {};                                    if (document.getElementById(\"d2a1a6e5-14a9-44d8-9242-f27c88dcb54d\")) {                    Plotly.newPlot(                        \"d2a1a6e5-14a9-44d8-9242-f27c88dcb54d\",                        [{\"colorscale\": [[0.0, \"#636efa\"], [1.0, \"#636efa\"]], \"geo\": \"geo\", \"hovertemplate\": \"<b>%{hovertext}</b><br><br>country=Albania<br>iso_code=%{location}<extra></extra>\", \"hovertext\": [\"Pfizer/BioNTech\"], \"locations\": [\"ALB\"], \"name\": \"Albania\", \"showlegend\": true, \"showscale\": false, \"type\": \"choropleth\", \"z\": [1]}, {\"colorscale\": [[0.0, \"#EF553B\"], [1.0, \"#EF553B\"]], \"geo\": \"geo\", \"hovertemplate\": \"<b>%{hovertext}</b><br><br>country=Algeria<br>iso_code=%{location}<extra></extra>\", \"hovertext\": [\"Sputnik V\"], \"locations\": [\"DZA\"], \"name\": \"Algeria\", \"showlegend\": true, \"showscale\": false, \"type\": \"choropleth\", \"z\": [1]}, {\"colorscale\": [[0.0, \"#00cc96\"], [1.0, \"#00cc96\"]], \"geo\": \"geo\", \"hovertemplate\": \"<b>%{hovertext}</b><br><br>country=Andorra<br>iso_code=%{location}<extra></extra>\", \"hovertext\": [\"Pfizer/BioNTech\"], \"locations\": [\"AND\"], \"name\": \"Andorra\", \"showlegend\": true, \"showscale\": false, \"type\": \"choropleth\", \"z\": [1]}, {\"colorscale\": [[0.0, \"#ab63fa\"], [1.0, \"#ab63fa\"]], \"geo\": \"geo\", \"hovertemplate\": \"<b>%{hovertext}</b><br><br>country=Anguilla<br>iso_code=%{location}<extra></extra>\", \"hovertext\": [\"Oxford/AstraZeneca\"], \"locations\": [\"AIA\"], \"name\": \"Anguilla\", \"showlegend\": true, \"showscale\": false, \"type\": \"choropleth\", \"z\": [1]}, {\"colorscale\": [[0.0, \"#FFA15A\"], [1.0, \"#FFA15A\"]], \"geo\": \"geo\", \"hovertemplate\": \"<b>%{hovertext}</b><br><br>country=Argentina<br>iso_code=%{location}<extra></extra>\", \"hovertext\": [\"Oxford/AstraZeneca, Sinopharm/Beijing, Sputnik V\"], \"locations\": [\"ARG\"], \"name\": \"Argentina\", \"showlegend\": true, \"showscale\": false, \"type\": \"choropleth\", \"z\": [1]}, {\"colorscale\": [[0.0, \"#19d3f3\"], [1.0, \"#19d3f3\"]], \"geo\": \"geo\", \"hovertemplate\": \"<b>%{hovertext}</b><br><br>country=Australia<br>iso_code=%{location}<extra></extra>\", \"hovertext\": [\"Oxford/AstraZeneca, Pfizer/BioNTech\"], \"locations\": [\"AUS\"], \"name\": \"Australia\", \"showlegend\": true, \"showscale\": false, \"type\": \"choropleth\", \"z\": [1]}, {\"colorscale\": [[0.0, \"#FF6692\"], [1.0, \"#FF6692\"]], \"geo\": \"geo\", \"hovertemplate\": \"<b>%{hovertext}</b><br><br>country=Austria<br>iso_code=%{location}<extra></extra>\", \"hovertext\": [\"Moderna, Oxford/AstraZeneca, Pfizer/BioNTech\"], \"locations\": [\"AUT\"], \"name\": \"Austria\", \"showlegend\": true, \"showscale\": false, \"type\": \"choropleth\", \"z\": [1]}, {\"colorscale\": [[0.0, \"#B6E880\"], [1.0, \"#B6E880\"]], \"geo\": \"geo\", \"hovertemplate\": \"<b>%{hovertext}</b><br><br>country=Azerbaijan<br>iso_code=%{location}<extra></extra>\", \"hovertext\": [\"Sinovac\"], \"locations\": [\"AZE\"], \"name\": \"Azerbaijan\", \"showlegend\": true, \"showscale\": false, \"type\": \"choropleth\", \"z\": [1]}, {\"colorscale\": [[0.0, \"#FF97FF\"], [1.0, \"#FF97FF\"]], \"geo\": \"geo\", \"hovertemplate\": \"<b>%{hovertext}</b><br><br>country=Bahrain<br>iso_code=%{location}<extra></extra>\", \"hovertext\": [\"Oxford/AstraZeneca, Pfizer/BioNTech, Sinopharm/Beijing, Sputnik V\"], \"locations\": [\"BHR\"], \"name\": \"Bahrain\", \"showlegend\": true, \"showscale\": false, \"type\": \"choropleth\", \"z\": [1]}, {\"colorscale\": [[0.0, \"#FECB52\"], [1.0, \"#FECB52\"]], \"geo\": \"geo\", \"hovertemplate\": \"<b>%{hovertext}</b><br><br>country=Bangladesh<br>iso_code=%{location}<extra></extra>\", \"hovertext\": [\"Oxford/AstraZeneca\"], \"locations\": [\"BGD\"], \"name\": \"Bangladesh\", \"showlegend\": true, \"showscale\": false, \"type\": \"choropleth\", \"z\": [1]}, {\"colorscale\": [[0.0, \"#636efa\"], [1.0, \"#636efa\"]], \"geo\": \"geo\", \"hovertemplate\": \"<b>%{hovertext}</b><br><br>country=Barbados<br>iso_code=%{location}<extra></extra>\", \"hovertext\": [\"Oxford/AstraZeneca\"], \"locations\": [\"BRB\"], \"name\": \"Barbados\", \"showlegend\": true, \"showscale\": false, \"type\": \"choropleth\", \"z\": [1]}, {\"colorscale\": [[0.0, \"#EF553B\"], [1.0, \"#EF553B\"]], \"geo\": \"geo\", \"hovertemplate\": \"<b>%{hovertext}</b><br><br>country=Belarus<br>iso_code=%{location}<extra></extra>\", \"hovertext\": [\"Sputnik V\"], \"locations\": [\"BLR\"], \"name\": \"Belarus\", \"showlegend\": true, \"showscale\": false, \"type\": \"choropleth\", \"z\": [1]}, {\"colorscale\": [[0.0, \"#00cc96\"], [1.0, \"#00cc96\"]], \"geo\": \"geo\", \"hovertemplate\": \"<b>%{hovertext}</b><br><br>country=Belgium<br>iso_code=%{location}<extra></extra>\", \"hovertext\": [\"Moderna, Oxford/AstraZeneca, Pfizer/BioNTech\"], \"locations\": [\"BEL\"], \"name\": \"Belgium\", \"showlegend\": true, \"showscale\": false, \"type\": \"choropleth\", \"z\": [1]}, {\"colorscale\": [[0.0, \"#ab63fa\"], [1.0, \"#ab63fa\"]], \"geo\": \"geo\", \"hovertemplate\": \"<b>%{hovertext}</b><br><br>country=Belize<br>iso_code=%{location}<extra></extra>\", \"hovertext\": [\"Oxford/AstraZeneca\"], \"locations\": [\"BLZ\"], \"name\": \"Belize\", \"showlegend\": true, \"showscale\": false, \"type\": \"choropleth\", \"z\": [1]}, {\"colorscale\": [[0.0, \"#FFA15A\"], [1.0, \"#FFA15A\"]], \"geo\": \"geo\", \"hovertemplate\": \"<b>%{hovertext}</b><br><br>country=Bermuda<br>iso_code=%{location}<extra></extra>\", \"hovertext\": [\"Pfizer/BioNTech\"], \"locations\": [\"BMU\"], \"name\": \"Bermuda\", \"showlegend\": true, \"showscale\": false, \"type\": \"choropleth\", \"z\": [1]}, {\"colorscale\": [[0.0, \"#19d3f3\"], [1.0, \"#19d3f3\"]], \"geo\": \"geo\", \"hovertemplate\": \"<b>%{hovertext}</b><br><br>country=Bolivia<br>iso_code=%{location}<extra></extra>\", \"hovertext\": [\"Sputnik V\"], \"locations\": [\"BOL\"], \"name\": \"Bolivia\", \"showlegend\": true, \"showscale\": false, \"type\": \"choropleth\", \"z\": [1]}, {\"colorscale\": [[0.0, \"#FF6692\"], [1.0, \"#FF6692\"]], \"geo\": \"geo\", \"hovertemplate\": \"<b>%{hovertext}</b><br><br>country=Brazil<br>iso_code=%{location}<extra></extra>\", \"hovertext\": [\"Oxford/AstraZeneca, Sinovac\"], \"locations\": [\"BRA\"], \"name\": \"Brazil\", \"showlegend\": true, \"showscale\": false, \"type\": \"choropleth\", \"z\": [1]}, {\"colorscale\": [[0.0, \"#B6E880\"], [1.0, \"#B6E880\"]], \"geo\": \"geo\", \"hovertemplate\": \"<b>%{hovertext}</b><br><br>country=Bulgaria<br>iso_code=%{location}<extra></extra>\", \"hovertext\": [\"Moderna, Oxford/AstraZeneca, Pfizer/BioNTech\"], \"locations\": [\"BGR\"], \"name\": \"Bulgaria\", \"showlegend\": true, \"showscale\": false, \"type\": \"choropleth\", \"z\": [1]}, {\"colorscale\": [[0.0, \"#FF97FF\"], [1.0, \"#FF97FF\"]], \"geo\": \"geo\", \"hovertemplate\": \"<b>%{hovertext}</b><br><br>country=Cambodia<br>iso_code=%{location}<extra></extra>\", \"hovertext\": [\"Sinopharm/Beijing\"], \"locations\": [\"KHM\"], \"name\": \"Cambodia\", \"showlegend\": true, \"showscale\": false, \"type\": \"choropleth\", \"z\": [1]}, {\"colorscale\": [[0.0, \"#FECB52\"], [1.0, \"#FECB52\"]], \"geo\": \"geo\", \"hovertemplate\": \"<b>%{hovertext}</b><br><br>country=Canada<br>iso_code=%{location}<extra></extra>\", \"hovertext\": [\"Moderna, Pfizer/BioNTech\"], \"locations\": [\"CAN\"], \"name\": \"Canada\", \"showlegend\": true, \"showscale\": false, \"type\": \"choropleth\", \"z\": [1]}, {\"colorscale\": [[0.0, \"#636efa\"], [1.0, \"#636efa\"]], \"geo\": \"geo\", \"hovertemplate\": \"<b>%{hovertext}</b><br><br>country=Cayman Islands<br>iso_code=%{location}<extra></extra>\", \"hovertext\": [\"Pfizer/BioNTech\"], \"locations\": [\"CYM\"], \"name\": \"Cayman Islands\", \"showlegend\": true, \"showscale\": false, \"type\": \"choropleth\", \"z\": [1]}, {\"colorscale\": [[0.0, \"#EF553B\"], [1.0, \"#EF553B\"]], \"geo\": \"geo\", \"hovertemplate\": \"<b>%{hovertext}</b><br><br>country=Chile<br>iso_code=%{location}<extra></extra>\", \"hovertext\": [\"Pfizer/BioNTech, Sinovac\"], \"locations\": [\"CHL\"], \"name\": \"Chile\", \"showlegend\": true, \"showscale\": false, \"type\": \"choropleth\", \"z\": [1]}, {\"colorscale\": [[0.0, \"#00cc96\"], [1.0, \"#00cc96\"]], \"geo\": \"geo\", \"hovertemplate\": \"<b>%{hovertext}</b><br><br>country=China<br>iso_code=%{location}<extra></extra>\", \"hovertext\": [\"Sinopharm/Beijing, Sinopharm/Wuhan, Sinovac\"], \"locations\": [\"CHN\"], \"name\": \"China\", \"showlegend\": true, \"showscale\": false, \"type\": \"choropleth\", \"z\": [1]}, {\"colorscale\": [[0.0, \"#ab63fa\"], [1.0, \"#ab63fa\"]], \"geo\": \"geo\", \"hovertemplate\": \"<b>%{hovertext}</b><br><br>country=Colombia<br>iso_code=%{location}<extra></extra>\", \"hovertext\": [\"Pfizer/BioNTech, Sinovac\"], \"locations\": [\"COL\"], \"name\": \"Colombia\", \"showlegend\": true, \"showscale\": false, \"type\": \"choropleth\", \"z\": [1]}, {\"colorscale\": [[0.0, \"#FFA15A\"], [1.0, \"#FFA15A\"]], \"geo\": \"geo\", \"hovertemplate\": \"<b>%{hovertext}</b><br><br>country=Costa Rica<br>iso_code=%{location}<extra></extra>\", \"hovertext\": [\"Pfizer/BioNTech\"], \"locations\": [\"CRI\"], \"name\": \"Costa Rica\", \"showlegend\": true, \"showscale\": false, \"type\": \"choropleth\", \"z\": [1]}, {\"colorscale\": [[0.0, \"#19d3f3\"], [1.0, \"#19d3f3\"]], \"geo\": \"geo\", \"hovertemplate\": \"<b>%{hovertext}</b><br><br>country=Croatia<br>iso_code=%{location}<extra></extra>\", \"hovertext\": [\"Pfizer/BioNTech\"], \"locations\": [\"HRV\"], \"name\": \"Croatia\", \"showlegend\": true, \"showscale\": false, \"type\": \"choropleth\", \"z\": [1]}, {\"colorscale\": [[0.0, \"#FF6692\"], [1.0, \"#FF6692\"]], \"geo\": \"geo\", \"hovertemplate\": \"<b>%{hovertext}</b><br><br>country=Cyprus<br>iso_code=%{location}<extra></extra>\", \"hovertext\": [\"Pfizer/BioNTech\"], \"locations\": [\"CYP\"], \"name\": \"Cyprus\", \"showlegend\": true, \"showscale\": false, \"type\": \"choropleth\", \"z\": [1]}, {\"colorscale\": [[0.0, \"#B6E880\"], [1.0, \"#B6E880\"]], \"geo\": \"geo\", \"hovertemplate\": \"<b>%{hovertext}</b><br><br>country=Czechia<br>iso_code=%{location}<extra></extra>\", \"hovertext\": [\"Moderna, Oxford/AstraZeneca, Pfizer/BioNTech\"], \"locations\": [\"CZE\"], \"name\": \"Czechia\", \"showlegend\": true, \"showscale\": false, \"type\": \"choropleth\", \"z\": [1]}, {\"colorscale\": [[0.0, \"#FF97FF\"], [1.0, \"#FF97FF\"]], \"geo\": \"geo\", \"hovertemplate\": \"<b>%{hovertext}</b><br><br>country=Denmark<br>iso_code=%{location}<extra></extra>\", \"hovertext\": [\"Moderna, Oxford/AstraZeneca, Pfizer/BioNTech\"], \"locations\": [\"DNK\"], \"name\": \"Denmark\", \"showlegend\": true, \"showscale\": false, \"type\": \"choropleth\", \"z\": [1]}, {\"colorscale\": [[0.0, \"#FECB52\"], [1.0, \"#FECB52\"]], \"geo\": \"geo\", \"hovertemplate\": \"<b>%{hovertext}</b><br><br>country=Dominica<br>iso_code=%{location}<extra></extra>\", \"hovertext\": [\"Oxford/AstraZeneca\"], \"locations\": [\"DMA\"], \"name\": \"Dominica\", \"showlegend\": true, \"showscale\": false, \"type\": \"choropleth\", \"z\": [1]}, {\"colorscale\": [[0.0, \"#636efa\"], [1.0, \"#636efa\"]], \"geo\": \"geo\", \"hovertemplate\": \"<b>%{hovertext}</b><br><br>country=Dominican Republic<br>iso_code=%{location}<extra></extra>\", \"hovertext\": [\"Oxford/AstraZeneca\"], \"locations\": [\"DOM\"], \"name\": \"Dominican Republic\", \"showlegend\": true, \"showscale\": false, \"type\": \"choropleth\", \"z\": [1]}, {\"colorscale\": [[0.0, \"#EF553B\"], [1.0, \"#EF553B\"]], \"geo\": \"geo\", \"hovertemplate\": \"<b>%{hovertext}</b><br><br>country=Ecuador<br>iso_code=%{location}<extra></extra>\", \"hovertext\": [\"Pfizer/BioNTech\"], \"locations\": [\"ECU\"], \"name\": \"Ecuador\", \"showlegend\": true, \"showscale\": false, \"type\": \"choropleth\", \"z\": [1]}, {\"colorscale\": [[0.0, \"#00cc96\"], [1.0, \"#00cc96\"]], \"geo\": \"geo\", \"hovertemplate\": \"<b>%{hovertext}</b><br><br>country=Egypt<br>iso_code=%{location}<extra></extra>\", \"hovertext\": [\"Sinopharm/Beijing\"], \"locations\": [\"EGY\"], \"name\": \"Egypt\", \"showlegend\": true, \"showscale\": false, \"type\": \"choropleth\", \"z\": [1]}, {\"colorscale\": [[0.0, \"#ab63fa\"], [1.0, \"#ab63fa\"]], \"geo\": \"geo\", \"hovertemplate\": \"<b>%{hovertext}</b><br><br>country=El Salvador<br>iso_code=%{location}<extra></extra>\", \"hovertext\": [\"Oxford/AstraZeneca\"], \"locations\": [\"SLV\"], \"name\": \"El Salvador\", \"showlegend\": true, \"showscale\": false, \"type\": \"choropleth\", \"z\": [1]}, {\"colorscale\": [[0.0, \"#FFA15A\"], [1.0, \"#FFA15A\"]], \"geo\": \"geo\", \"hovertemplate\": \"<b>%{hovertext}</b><br><br>country=England<br>iso_code=%{location}<extra></extra>\", \"hovertext\": [\"Oxford/AstraZeneca, Pfizer/BioNTech\"], \"locations\": [null], \"name\": \"England\", \"showlegend\": true, \"showscale\": false, \"type\": \"choropleth\", \"z\": [1]}, {\"colorscale\": [[0.0, \"#19d3f3\"], [1.0, \"#19d3f3\"]], \"geo\": \"geo\", \"hovertemplate\": \"<b>%{hovertext}</b><br><br>country=Estonia<br>iso_code=%{location}<extra></extra>\", \"hovertext\": [\"Moderna, Oxford/AstraZeneca, Pfizer/BioNTech\"], \"locations\": [\"EST\"], \"name\": \"Estonia\", \"showlegend\": true, \"showscale\": false, \"type\": \"choropleth\", \"z\": [1]}, {\"colorscale\": [[0.0, \"#FF6692\"], [1.0, \"#FF6692\"]], \"geo\": \"geo\", \"hovertemplate\": \"<b>%{hovertext}</b><br><br>country=Faeroe Islands<br>iso_code=%{location}<extra></extra>\", \"hovertext\": [\"Moderna, Pfizer/BioNTech\"], \"locations\": [\"FRO\"], \"name\": \"Faeroe Islands\", \"showlegend\": true, \"showscale\": false, \"type\": \"choropleth\", \"z\": [1]}, {\"colorscale\": [[0.0, \"#B6E880\"], [1.0, \"#B6E880\"]], \"geo\": \"geo\", \"hovertemplate\": \"<b>%{hovertext}</b><br><br>country=Falkland Islands<br>iso_code=%{location}<extra></extra>\", \"hovertext\": [\"Oxford/AstraZeneca\"], \"locations\": [\"FLK\"], \"name\": \"Falkland Islands\", \"showlegend\": true, \"showscale\": false, \"type\": \"choropleth\", \"z\": [1]}, {\"colorscale\": [[0.0, \"#FF97FF\"], [1.0, \"#FF97FF\"]], \"geo\": \"geo\", \"hovertemplate\": \"<b>%{hovertext}</b><br><br>country=Finland<br>iso_code=%{location}<extra></extra>\", \"hovertext\": [\"Moderna, Oxford/AstraZeneca, Pfizer/BioNTech\"], \"locations\": [\"FIN\"], \"name\": \"Finland\", \"showlegend\": true, \"showscale\": false, \"type\": \"choropleth\", \"z\": [1]}, {\"colorscale\": [[0.0, \"#FECB52\"], [1.0, \"#FECB52\"]], \"geo\": \"geo\", \"hovertemplate\": \"<b>%{hovertext}</b><br><br>country=France<br>iso_code=%{location}<extra></extra>\", \"hovertext\": [\"Moderna, Oxford/AstraZeneca, Pfizer/BioNTech\"], \"locations\": [\"FRA\"], \"name\": \"France\", \"showlegend\": true, \"showscale\": false, \"type\": \"choropleth\", \"z\": [1]}, {\"colorscale\": [[0.0, \"#636efa\"], [1.0, \"#636efa\"]], \"geo\": \"geo\", \"hovertemplate\": \"<b>%{hovertext}</b><br><br>country=Germany<br>iso_code=%{location}<extra></extra>\", \"hovertext\": [\"Moderna, Oxford/AstraZeneca, Pfizer/BioNTech\"], \"locations\": [\"DEU\"], \"name\": \"Germany\", \"showlegend\": true, \"showscale\": false, \"type\": \"choropleth\", \"z\": [1]}, {\"colorscale\": [[0.0, \"#EF553B\"], [1.0, \"#EF553B\"]], \"geo\": \"geo\", \"hovertemplate\": \"<b>%{hovertext}</b><br><br>country=Ghana<br>iso_code=%{location}<extra></extra>\", \"hovertext\": [\"Oxford/AstraZeneca\"], \"locations\": [\"GHA\"], \"name\": \"Ghana\", \"showlegend\": true, \"showscale\": false, \"type\": \"choropleth\", \"z\": [1]}, {\"colorscale\": [[0.0, \"#00cc96\"], [1.0, \"#00cc96\"]], \"geo\": \"geo\", \"hovertemplate\": \"<b>%{hovertext}</b><br><br>country=Gibraltar<br>iso_code=%{location}<extra></extra>\", \"hovertext\": [\"Pfizer/BioNTech\"], \"locations\": [\"GIB\"], \"name\": \"Gibraltar\", \"showlegend\": true, \"showscale\": false, \"type\": \"choropleth\", \"z\": [1]}, {\"colorscale\": [[0.0, \"#ab63fa\"], [1.0, \"#ab63fa\"]], \"geo\": \"geo\", \"hovertemplate\": \"<b>%{hovertext}</b><br><br>country=Greece<br>iso_code=%{location}<extra></extra>\", \"hovertext\": [\"Moderna, Oxford/AstraZeneca, Pfizer/BioNTech\"], \"locations\": [\"GRC\"], \"name\": \"Greece\", \"showlegend\": true, \"showscale\": false, \"type\": \"choropleth\", \"z\": [1]}, {\"colorscale\": [[0.0, \"#FFA15A\"], [1.0, \"#FFA15A\"]], \"geo\": \"geo\", \"hovertemplate\": \"<b>%{hovertext}</b><br><br>country=Greenland<br>iso_code=%{location}<extra></extra>\", \"hovertext\": [\"Pfizer/BioNTech\"], \"locations\": [\"GRL\"], \"name\": \"Greenland\", \"showlegend\": true, \"showscale\": false, \"type\": \"choropleth\", \"z\": [1]}, {\"colorscale\": [[0.0, \"#19d3f3\"], [1.0, \"#19d3f3\"]], \"geo\": \"geo\", \"hovertemplate\": \"<b>%{hovertext}</b><br><br>country=Grenada<br>iso_code=%{location}<extra></extra>\", \"hovertext\": [\"Oxford/AstraZeneca\"], \"locations\": [\"GRD\"], \"name\": \"Grenada\", \"showlegend\": true, \"showscale\": false, \"type\": \"choropleth\", \"z\": [1]}, {\"colorscale\": [[0.0, \"#FF6692\"], [1.0, \"#FF6692\"]], \"geo\": \"geo\", \"hovertemplate\": \"<b>%{hovertext}</b><br><br>country=Guatemala<br>iso_code=%{location}<extra></extra>\", \"hovertext\": [\"Moderna\"], \"locations\": [\"GTM\"], \"name\": \"Guatemala\", \"showlegend\": true, \"showscale\": false, \"type\": \"choropleth\", \"z\": [1]}, {\"colorscale\": [[0.0, \"#B6E880\"], [1.0, \"#B6E880\"]], \"geo\": \"geo\", \"hovertemplate\": \"<b>%{hovertext}</b><br><br>country=Guernsey<br>iso_code=%{location}<extra></extra>\", \"hovertext\": [\"Pfizer/BioNTech\"], \"locations\": [\"GGY\"], \"name\": \"Guernsey\", \"showlegend\": true, \"showscale\": false, \"type\": \"choropleth\", \"z\": [1]}, {\"colorscale\": [[0.0, \"#FF97FF\"], [1.0, \"#FF97FF\"]], \"geo\": \"geo\", \"hovertemplate\": \"<b>%{hovertext}</b><br><br>country=Guyana<br>iso_code=%{location}<extra></extra>\", \"hovertext\": [\"Oxford/AstraZeneca\"], \"locations\": [\"GUY\"], \"name\": \"Guyana\", \"showlegend\": true, \"showscale\": false, \"type\": \"choropleth\", \"z\": [1]}, {\"colorscale\": [[0.0, \"#FECB52\"], [1.0, \"#FECB52\"]], \"geo\": \"geo\", \"hovertemplate\": \"<b>%{hovertext}</b><br><br>country=Honduras<br>iso_code=%{location}<extra></extra>\", \"hovertext\": [\"Moderna\"], \"locations\": [\"HND\"], \"name\": \"Honduras\", \"showlegend\": true, \"showscale\": false, \"type\": \"choropleth\", \"z\": [1]}, {\"colorscale\": [[0.0, \"#636efa\"], [1.0, \"#636efa\"]], \"geo\": \"geo\", \"hovertemplate\": \"<b>%{hovertext}</b><br><br>country=Hong Kong<br>iso_code=%{location}<extra></extra>\", \"hovertext\": [\"Pfizer/BioNTech, Sinovac\"], \"locations\": [\"HKG\"], \"name\": \"Hong Kong\", \"showlegend\": true, \"showscale\": false, \"type\": \"choropleth\", \"z\": [1]}, {\"colorscale\": [[0.0, \"#EF553B\"], [1.0, \"#EF553B\"]], \"geo\": \"geo\", \"hovertemplate\": \"<b>%{hovertext}</b><br><br>country=Hungary<br>iso_code=%{location}<extra></extra>\", \"hovertext\": [\"Moderna, Oxford/AstraZeneca, Pfizer/BioNTech, Sinopharm/Beijing, Sputnik V\"], \"locations\": [\"HUN\"], \"name\": \"Hungary\", \"showlegend\": true, \"showscale\": false, \"type\": \"choropleth\", \"z\": [1]}, {\"colorscale\": [[0.0, \"#00cc96\"], [1.0, \"#00cc96\"]], \"geo\": \"geo\", \"hovertemplate\": \"<b>%{hovertext}</b><br><br>country=Iceland<br>iso_code=%{location}<extra></extra>\", \"hovertext\": [\"Moderna, Oxford/AstraZeneca, Pfizer/BioNTech\"], \"locations\": [\"ISL\"], \"name\": \"Iceland\", \"showlegend\": true, \"showscale\": false, \"type\": \"choropleth\", \"z\": [1]}, {\"colorscale\": [[0.0, \"#ab63fa\"], [1.0, \"#ab63fa\"]], \"geo\": \"geo\", \"hovertemplate\": \"<b>%{hovertext}</b><br><br>country=India<br>iso_code=%{location}<extra></extra>\", \"hovertext\": [\"Covaxin, Oxford/AstraZeneca\"], \"locations\": [\"IND\"], \"name\": \"India\", \"showlegend\": true, \"showscale\": false, \"type\": \"choropleth\", \"z\": [1]}, {\"colorscale\": [[0.0, \"#FFA15A\"], [1.0, \"#FFA15A\"]], \"geo\": \"geo\", \"hovertemplate\": \"<b>%{hovertext}</b><br><br>country=Indonesia<br>iso_code=%{location}<extra></extra>\", \"hovertext\": [\"Sinovac\"], \"locations\": [\"IDN\"], \"name\": \"Indonesia\", \"showlegend\": true, \"showscale\": false, \"type\": \"choropleth\", \"z\": [1]}, {\"colorscale\": [[0.0, \"#19d3f3\"], [1.0, \"#19d3f3\"]], \"geo\": \"geo\", \"hovertemplate\": \"<b>%{hovertext}</b><br><br>country=Iran<br>iso_code=%{location}<extra></extra>\", \"hovertext\": [\"Sputnik V\"], \"locations\": [\"IRN\"], \"name\": \"Iran\", \"showlegend\": true, \"showscale\": false, \"type\": \"choropleth\", \"z\": [1]}, {\"colorscale\": [[0.0, \"#FF6692\"], [1.0, \"#FF6692\"]], \"geo\": \"geo\", \"hovertemplate\": \"<b>%{hovertext}</b><br><br>country=Ireland<br>iso_code=%{location}<extra></extra>\", \"hovertext\": [\"Moderna, Oxford/AstraZeneca, Pfizer/BioNTech\"], \"locations\": [\"IRL\"], \"name\": \"Ireland\", \"showlegend\": true, \"showscale\": false, \"type\": \"choropleth\", \"z\": [1]}, {\"colorscale\": [[0.0, \"#B6E880\"], [1.0, \"#B6E880\"]], \"geo\": \"geo\", \"hovertemplate\": \"<b>%{hovertext}</b><br><br>country=Isle of Man<br>iso_code=%{location}<extra></extra>\", \"hovertext\": [\"Oxford/AstraZeneca, Pfizer/BioNTech\"], \"locations\": [\"IMN\"], \"name\": \"Isle of Man\", \"showlegend\": true, \"showscale\": false, \"type\": \"choropleth\", \"z\": [1]}, {\"colorscale\": [[0.0, \"#FF97FF\"], [1.0, \"#FF97FF\"]], \"geo\": \"geo\", \"hovertemplate\": \"<b>%{hovertext}</b><br><br>country=Israel<br>iso_code=%{location}<extra></extra>\", \"hovertext\": [\"Moderna, Pfizer/BioNTech\"], \"locations\": [\"ISR\"], \"name\": \"Israel\", \"showlegend\": true, \"showscale\": false, \"type\": \"choropleth\", \"z\": [1]}, {\"colorscale\": [[0.0, \"#FECB52\"], [1.0, \"#FECB52\"]], \"geo\": \"geo\", \"hovertemplate\": \"<b>%{hovertext}</b><br><br>country=Italy<br>iso_code=%{location}<extra></extra>\", \"hovertext\": [\"Moderna, Oxford/AstraZeneca, Pfizer/BioNTech\"], \"locations\": [\"ITA\"], \"name\": \"Italy\", \"showlegend\": true, \"showscale\": false, \"type\": \"choropleth\", \"z\": [1]}, {\"colorscale\": [[0.0, \"#636efa\"], [1.0, \"#636efa\"]], \"geo\": \"geo\", \"hovertemplate\": \"<b>%{hovertext}</b><br><br>country=Japan<br>iso_code=%{location}<extra></extra>\", \"hovertext\": [\"Pfizer/BioNTech\"], \"locations\": [\"JPN\"], \"name\": \"Japan\", \"showlegend\": true, \"showscale\": false, \"type\": \"choropleth\", \"z\": [1]}, {\"colorscale\": [[0.0, \"#EF553B\"], [1.0, \"#EF553B\"]], \"geo\": \"geo\", \"hovertemplate\": \"<b>%{hovertext}</b><br><br>country=Jersey<br>iso_code=%{location}<extra></extra>\", \"hovertext\": [\"Oxford/AstraZeneca, Pfizer/BioNTech\"], \"locations\": [\"JEY\"], \"name\": \"Jersey\", \"showlegend\": true, \"showscale\": false, \"type\": \"choropleth\", \"z\": [1]}, {\"colorscale\": [[0.0, \"#00cc96\"], [1.0, \"#00cc96\"]], \"geo\": \"geo\", \"hovertemplate\": \"<b>%{hovertext}</b><br><br>country=Jordan<br>iso_code=%{location}<extra></extra>\", \"hovertext\": [\"Pfizer/BioNTech, Sinopharm/Beijing\"], \"locations\": [\"JOR\"], \"name\": \"Jordan\", \"showlegend\": true, \"showscale\": false, \"type\": \"choropleth\", \"z\": [1]}, {\"colorscale\": [[0.0, \"#ab63fa\"], [1.0, \"#ab63fa\"]], \"geo\": \"geo\", \"hovertemplate\": \"<b>%{hovertext}</b><br><br>country=Kazakhstan<br>iso_code=%{location}<extra></extra>\", \"hovertext\": [\"Sputnik V\"], \"locations\": [\"KAZ\"], \"name\": \"Kazakhstan\", \"showlegend\": true, \"showscale\": false, \"type\": \"choropleth\", \"z\": [1]}, {\"colorscale\": [[0.0, \"#FFA15A\"], [1.0, \"#FFA15A\"]], \"geo\": \"geo\", \"hovertemplate\": \"<b>%{hovertext}</b><br><br>country=Kuwait<br>iso_code=%{location}<extra></extra>\", \"hovertext\": [\"Pfizer/BioNTech\"], \"locations\": [\"KWT\"], \"name\": \"Kuwait\", \"showlegend\": true, \"showscale\": false, \"type\": \"choropleth\", \"z\": [1]}, {\"colorscale\": [[0.0, \"#19d3f3\"], [1.0, \"#19d3f3\"]], \"geo\": \"geo\", \"hovertemplate\": \"<b>%{hovertext}</b><br><br>country=Latvia<br>iso_code=%{location}<extra></extra>\", \"hovertext\": [\"Moderna, Oxford/AstraZeneca, Pfizer/BioNTech\"], \"locations\": [\"LVA\"], \"name\": \"Latvia\", \"showlegend\": true, \"showscale\": false, \"type\": \"choropleth\", \"z\": [1]}, {\"colorscale\": [[0.0, \"#FF6692\"], [1.0, \"#FF6692\"]], \"geo\": \"geo\", \"hovertemplate\": \"<b>%{hovertext}</b><br><br>country=Lebanon<br>iso_code=%{location}<extra></extra>\", \"hovertext\": [\"Pfizer/BioNTech\"], \"locations\": [\"LBN\"], \"name\": \"Lebanon\", \"showlegend\": true, \"showscale\": false, \"type\": \"choropleth\", \"z\": [1]}, {\"colorscale\": [[0.0, \"#B6E880\"], [1.0, \"#B6E880\"]], \"geo\": \"geo\", \"hovertemplate\": \"<b>%{hovertext}</b><br><br>country=Liechtenstein<br>iso_code=%{location}<extra></extra>\", \"hovertext\": [\"Moderna, Pfizer/BioNTech\"], \"locations\": [\"LIE\"], \"name\": \"Liechtenstein\", \"showlegend\": true, \"showscale\": false, \"type\": \"choropleth\", \"z\": [1]}, {\"colorscale\": [[0.0, \"#FF97FF\"], [1.0, \"#FF97FF\"]], \"geo\": \"geo\", \"hovertemplate\": \"<b>%{hovertext}</b><br><br>country=Lithuania<br>iso_code=%{location}<extra></extra>\", \"hovertext\": [\"Moderna, Oxford/AstraZeneca, Pfizer/BioNTech\"], \"locations\": [\"LTU\"], \"name\": \"Lithuania\", \"showlegend\": true, \"showscale\": false, \"type\": \"choropleth\", \"z\": [1]}, {\"colorscale\": [[0.0, \"#FECB52\"], [1.0, \"#FECB52\"]], \"geo\": \"geo\", \"hovertemplate\": \"<b>%{hovertext}</b><br><br>country=Luxembourg<br>iso_code=%{location}<extra></extra>\", \"hovertext\": [\"Moderna, Oxford/AstraZeneca, Pfizer/BioNTech\"], \"locations\": [\"LUX\"], \"name\": \"Luxembourg\", \"showlegend\": true, \"showscale\": false, \"type\": \"choropleth\", \"z\": [1]}, {\"colorscale\": [[0.0, \"#636efa\"], [1.0, \"#636efa\"]], \"geo\": \"geo\", \"hovertemplate\": \"<b>%{hovertext}</b><br><br>country=Macao<br>iso_code=%{location}<extra></extra>\", \"hovertext\": [\"Sinopharm/Beijing\"], \"locations\": [\"MAC\"], \"name\": \"Macao\", \"showlegend\": true, \"showscale\": false, \"type\": \"choropleth\", \"z\": [1]}, {\"colorscale\": [[0.0, \"#EF553B\"], [1.0, \"#EF553B\"]], \"geo\": \"geo\", \"hovertemplate\": \"<b>%{hovertext}</b><br><br>country=Malaysia<br>iso_code=%{location}<extra></extra>\", \"hovertext\": [\"Pfizer/BioNTech\"], \"locations\": [\"MYS\"], \"name\": \"Malaysia\", \"showlegend\": true, \"showscale\": false, \"type\": \"choropleth\", \"z\": [1]}, {\"colorscale\": [[0.0, \"#00cc96\"], [1.0, \"#00cc96\"]], \"geo\": \"geo\", \"hovertemplate\": \"<b>%{hovertext}</b><br><br>country=Maldives<br>iso_code=%{location}<extra></extra>\", \"hovertext\": [\"Oxford/AstraZeneca\"], \"locations\": [\"MDV\"], \"name\": \"Maldives\", \"showlegend\": true, \"showscale\": false, \"type\": \"choropleth\", \"z\": [1]}, {\"colorscale\": [[0.0, \"#ab63fa\"], [1.0, \"#ab63fa\"]], \"geo\": \"geo\", \"hovertemplate\": \"<b>%{hovertext}</b><br><br>country=Malta<br>iso_code=%{location}<extra></extra>\", \"hovertext\": [\"Pfizer/BioNTech\"], \"locations\": [\"MLT\"], \"name\": \"Malta\", \"showlegend\": true, \"showscale\": false, \"type\": \"choropleth\", \"z\": [1]}, {\"colorscale\": [[0.0, \"#FFA15A\"], [1.0, \"#FFA15A\"]], \"geo\": \"geo\", \"hovertemplate\": \"<b>%{hovertext}</b><br><br>country=Mauritius<br>iso_code=%{location}<extra></extra>\", \"hovertext\": [\"Oxford/AstraZeneca\"], \"locations\": [\"MUS\"], \"name\": \"Mauritius\", \"showlegend\": true, \"showscale\": false, \"type\": \"choropleth\", \"z\": [1]}, {\"colorscale\": [[0.0, \"#19d3f3\"], [1.0, \"#19d3f3\"]], \"geo\": \"geo\", \"hovertemplate\": \"<b>%{hovertext}</b><br><br>country=Mexico<br>iso_code=%{location}<extra></extra>\", \"hovertext\": [\"Oxford/AstraZeneca, Pfizer/BioNTech, Sputnik V\"], \"locations\": [\"MEX\"], \"name\": \"Mexico\", \"showlegend\": true, \"showscale\": false, \"type\": \"choropleth\", \"z\": [1]}, {\"colorscale\": [[0.0, \"#FF6692\"], [1.0, \"#FF6692\"]], \"geo\": \"geo\", \"hovertemplate\": \"<b>%{hovertext}</b><br><br>country=Moldova<br>iso_code=%{location}<extra></extra>\", \"hovertext\": [\"Oxford/AstraZeneca\"], \"locations\": [\"MDA\"], \"name\": \"Moldova\", \"showlegend\": true, \"showscale\": false, \"type\": \"choropleth\", \"z\": [1]}, {\"colorscale\": [[0.0, \"#B6E880\"], [1.0, \"#B6E880\"]], \"geo\": \"geo\", \"hovertemplate\": \"<b>%{hovertext}</b><br><br>country=Monaco<br>iso_code=%{location}<extra></extra>\", \"hovertext\": [\"Pfizer/BioNTech\"], \"locations\": [\"MCO\"], \"name\": \"Monaco\", \"showlegend\": true, \"showscale\": false, \"type\": \"choropleth\", \"z\": [1]}, {\"colorscale\": [[0.0, \"#FF97FF\"], [1.0, \"#FF97FF\"]], \"geo\": \"geo\", \"hovertemplate\": \"<b>%{hovertext}</b><br><br>country=Mongolia<br>iso_code=%{location}<extra></extra>\", \"hovertext\": [\"Oxford/AstraZeneca\"], \"locations\": [\"MNG\"], \"name\": \"Mongolia\", \"showlegend\": true, \"showscale\": false, \"type\": \"choropleth\", \"z\": [1]}, {\"colorscale\": [[0.0, \"#FECB52\"], [1.0, \"#FECB52\"]], \"geo\": \"geo\", \"hovertemplate\": \"<b>%{hovertext}</b><br><br>country=Montenegro<br>iso_code=%{location}<extra></extra>\", \"hovertext\": [\"Sinopharm/Beijing, Sputnik V\"], \"locations\": [\"MNE\"], \"name\": \"Montenegro\", \"showlegend\": true, \"showscale\": false, \"type\": \"choropleth\", \"z\": [1]}, {\"colorscale\": [[0.0, \"#636efa\"], [1.0, \"#636efa\"]], \"geo\": \"geo\", \"hovertemplate\": \"<b>%{hovertext}</b><br><br>country=Montserrat<br>iso_code=%{location}<extra></extra>\", \"hovertext\": [\"Oxford/AstraZeneca\"], \"locations\": [\"MSR\"], \"name\": \"Montserrat\", \"showlegend\": true, \"showscale\": false, \"type\": \"choropleth\", \"z\": [1]}, {\"colorscale\": [[0.0, \"#EF553B\"], [1.0, \"#EF553B\"]], \"geo\": \"geo\", \"hovertemplate\": \"<b>%{hovertext}</b><br><br>country=Morocco<br>iso_code=%{location}<extra></extra>\", \"hovertext\": [\"Oxford/AstraZeneca, Sinopharm/Beijing\"], \"locations\": [\"MAR\"], \"name\": \"Morocco\", \"showlegend\": true, \"showscale\": false, \"type\": \"choropleth\", \"z\": [1]}, {\"colorscale\": [[0.0, \"#00cc96\"], [1.0, \"#00cc96\"]], \"geo\": \"geo\", \"hovertemplate\": \"<b>%{hovertext}</b><br><br>country=Myanmar<br>iso_code=%{location}<extra></extra>\", \"hovertext\": [\"Oxford/AstraZeneca\"], \"locations\": [\"MMR\"], \"name\": \"Myanmar\", \"showlegend\": true, \"showscale\": false, \"type\": \"choropleth\", \"z\": [1]}, {\"colorscale\": [[0.0, \"#ab63fa\"], [1.0, \"#ab63fa\"]], \"geo\": \"geo\", \"hovertemplate\": \"<b>%{hovertext}</b><br><br>country=Nepal<br>iso_code=%{location}<extra></extra>\", \"hovertext\": [\"Oxford/AstraZeneca\"], \"locations\": [\"NPL\"], \"name\": \"Nepal\", \"showlegend\": true, \"showscale\": false, \"type\": \"choropleth\", \"z\": [1]}, {\"colorscale\": [[0.0, \"#FFA15A\"], [1.0, \"#FFA15A\"]], \"geo\": \"geo\", \"hovertemplate\": \"<b>%{hovertext}</b><br><br>country=Netherlands<br>iso_code=%{location}<extra></extra>\", \"hovertext\": [\"Moderna, Oxford/AstraZeneca, Pfizer/BioNTech\"], \"locations\": [\"NLD\"], \"name\": \"Netherlands\", \"showlegend\": true, \"showscale\": false, \"type\": \"choropleth\", \"z\": [1]}, {\"colorscale\": [[0.0, \"#19d3f3\"], [1.0, \"#19d3f3\"]], \"geo\": \"geo\", \"hovertemplate\": \"<b>%{hovertext}</b><br><br>country=New Zealand<br>iso_code=%{location}<extra></extra>\", \"hovertext\": [\"Pfizer/BioNTech\"], \"locations\": [\"NZL\"], \"name\": \"New Zealand\", \"showlegend\": true, \"showscale\": false, \"type\": \"choropleth\", \"z\": [1]}, {\"colorscale\": [[0.0, \"#FF6692\"], [1.0, \"#FF6692\"]], \"geo\": \"geo\", \"hovertemplate\": \"<b>%{hovertext}</b><br><br>country=Northern Cyprus<br>iso_code=%{location}<extra></extra>\", \"hovertext\": [\"Pfizer/BioNTech, Sinovac\"], \"locations\": [\"OWID_NCY\"], \"name\": \"Northern Cyprus\", \"showlegend\": true, \"showscale\": false, \"type\": \"choropleth\", \"z\": [1]}, {\"colorscale\": [[0.0, \"#B6E880\"], [1.0, \"#B6E880\"]], \"geo\": \"geo\", \"hovertemplate\": \"<b>%{hovertext}</b><br><br>country=Northern Ireland<br>iso_code=%{location}<extra></extra>\", \"hovertext\": [\"Oxford/AstraZeneca, Pfizer/BioNTech\"], \"locations\": [null], \"name\": \"Northern Ireland\", \"showlegend\": true, \"showscale\": false, \"type\": \"choropleth\", \"z\": [1]}, {\"colorscale\": [[0.0, \"#FF97FF\"], [1.0, \"#FF97FF\"]], \"geo\": \"geo\", \"hovertemplate\": \"<b>%{hovertext}</b><br><br>country=Norway<br>iso_code=%{location}<extra></extra>\", \"hovertext\": [\"Moderna, Oxford/AstraZeneca, Pfizer/BioNTech\"], \"locations\": [\"NOR\"], \"name\": \"Norway\", \"showlegend\": true, \"showscale\": false, \"type\": \"choropleth\", \"z\": [1]}, {\"colorscale\": [[0.0, \"#FECB52\"], [1.0, \"#FECB52\"]], \"geo\": \"geo\", \"hovertemplate\": \"<b>%{hovertext}</b><br><br>country=Oman<br>iso_code=%{location}<extra></extra>\", \"hovertext\": [\"Oxford/AstraZeneca, Pfizer/BioNTech\"], \"locations\": [\"OMN\"], \"name\": \"Oman\", \"showlegend\": true, \"showscale\": false, \"type\": \"choropleth\", \"z\": [1]}, {\"colorscale\": [[0.0, \"#636efa\"], [1.0, \"#636efa\"]], \"geo\": \"geo\", \"hovertemplate\": \"<b>%{hovertext}</b><br><br>country=Pakistan<br>iso_code=%{location}<extra></extra>\", \"hovertext\": [\"Oxford/AstraZeneca, Sinopharm/Beijing, Sputnik V\"], \"locations\": [\"PAK\"], \"name\": \"Pakistan\", \"showlegend\": true, \"showscale\": false, \"type\": \"choropleth\", \"z\": [1]}, {\"colorscale\": [[0.0, \"#EF553B\"], [1.0, \"#EF553B\"]], \"geo\": \"geo\", \"hovertemplate\": \"<b>%{hovertext}</b><br><br>country=Panama<br>iso_code=%{location}<extra></extra>\", \"hovertext\": [\"Pfizer/BioNTech\"], \"locations\": [\"PAN\"], \"name\": \"Panama\", \"showlegend\": true, \"showscale\": false, \"type\": \"choropleth\", \"z\": [1]}, {\"colorscale\": [[0.0, \"#00cc96\"], [1.0, \"#00cc96\"]], \"geo\": \"geo\", \"hovertemplate\": \"<b>%{hovertext}</b><br><br>country=Paraguay<br>iso_code=%{location}<extra></extra>\", \"hovertext\": [\"Sputnik V\"], \"locations\": [\"PRY\"], \"name\": \"Paraguay\", \"showlegend\": true, \"showscale\": false, \"type\": \"choropleth\", \"z\": [1]}, {\"colorscale\": [[0.0, \"#ab63fa\"], [1.0, \"#ab63fa\"]], \"geo\": \"geo\", \"hovertemplate\": \"<b>%{hovertext}</b><br><br>country=Peru<br>iso_code=%{location}<extra></extra>\", \"hovertext\": [\"Sinopharm/Beijing\"], \"locations\": [\"PER\"], \"name\": \"Peru\", \"showlegend\": true, \"showscale\": false, \"type\": \"choropleth\", \"z\": [1]}, {\"colorscale\": [[0.0, \"#FFA15A\"], [1.0, \"#FFA15A\"]], \"geo\": \"geo\", \"hovertemplate\": \"<b>%{hovertext}</b><br><br>country=Philippines<br>iso_code=%{location}<extra></extra>\", \"hovertext\": [\"Sinovac\"], \"locations\": [\"PHL\"], \"name\": \"Philippines\", \"showlegend\": true, \"showscale\": false, \"type\": \"choropleth\", \"z\": [1]}, {\"colorscale\": [[0.0, \"#19d3f3\"], [1.0, \"#19d3f3\"]], \"geo\": \"geo\", \"hovertemplate\": \"<b>%{hovertext}</b><br><br>country=Poland<br>iso_code=%{location}<extra></extra>\", \"hovertext\": [\"Moderna, Oxford/AstraZeneca, Pfizer/BioNTech\"], \"locations\": [\"POL\"], \"name\": \"Poland\", \"showlegend\": true, \"showscale\": false, \"type\": \"choropleth\", \"z\": [1]}, {\"colorscale\": [[0.0, \"#FF6692\"], [1.0, \"#FF6692\"]], \"geo\": \"geo\", \"hovertemplate\": \"<b>%{hovertext}</b><br><br>country=Portugal<br>iso_code=%{location}<extra></extra>\", \"hovertext\": [\"Moderna, Pfizer/BioNTech\"], \"locations\": [\"PRT\"], \"name\": \"Portugal\", \"showlegend\": true, \"showscale\": false, \"type\": \"choropleth\", \"z\": [1]}, {\"colorscale\": [[0.0, \"#B6E880\"], [1.0, \"#B6E880\"]], \"geo\": \"geo\", \"hovertemplate\": \"<b>%{hovertext}</b><br><br>country=Qatar<br>iso_code=%{location}<extra></extra>\", \"hovertext\": [\"Pfizer/BioNTech\"], \"locations\": [\"QAT\"], \"name\": \"Qatar\", \"showlegend\": true, \"showscale\": false, \"type\": \"choropleth\", \"z\": [1]}, {\"colorscale\": [[0.0, \"#FF97FF\"], [1.0, \"#FF97FF\"]], \"geo\": \"geo\", \"hovertemplate\": \"<b>%{hovertext}</b><br><br>country=Romania<br>iso_code=%{location}<extra></extra>\", \"hovertext\": [\"Moderna, Oxford/AstraZeneca, Pfizer/BioNTech\"], \"locations\": [\"ROU\"], \"name\": \"Romania\", \"showlegend\": true, \"showscale\": false, \"type\": \"choropleth\", \"z\": [1]}, {\"colorscale\": [[0.0, \"#FECB52\"], [1.0, \"#FECB52\"]], \"geo\": \"geo\", \"hovertemplate\": \"<b>%{hovertext}</b><br><br>country=Russia<br>iso_code=%{location}<extra></extra>\", \"hovertext\": [\"EpiVacCorona, Sputnik V\"], \"locations\": [\"RUS\"], \"name\": \"Russia\", \"showlegend\": true, \"showscale\": false, \"type\": \"choropleth\", \"z\": [1]}, {\"colorscale\": [[0.0, \"#636efa\"], [1.0, \"#636efa\"]], \"geo\": \"geo\", \"hovertemplate\": \"<b>%{hovertext}</b><br><br>country=Rwanda<br>iso_code=%{location}<extra></extra>\", \"hovertext\": [\"Moderna, Oxford/AstraZeneca, Pfizer/BioNTech\"], \"locations\": [\"RWA\"], \"name\": \"Rwanda\", \"showlegend\": true, \"showscale\": false, \"type\": \"choropleth\", \"z\": [1]}, {\"colorscale\": [[0.0, \"#EF553B\"], [1.0, \"#EF553B\"]], \"geo\": \"geo\", \"hovertemplate\": \"<b>%{hovertext}</b><br><br>country=Saint Helena<br>iso_code=%{location}<extra></extra>\", \"hovertext\": [\"Oxford/AstraZeneca\"], \"locations\": [\"SHN\"], \"name\": \"Saint Helena\", \"showlegend\": true, \"showscale\": false, \"type\": \"choropleth\", \"z\": [1]}, {\"colorscale\": [[0.0, \"#00cc96\"], [1.0, \"#00cc96\"]], \"geo\": \"geo\", \"hovertemplate\": \"<b>%{hovertext}</b><br><br>country=Saint Lucia<br>iso_code=%{location}<extra></extra>\", \"hovertext\": [\"Oxford/AstraZeneca\"], \"locations\": [\"LCA\"], \"name\": \"Saint Lucia\", \"showlegend\": true, \"showscale\": false, \"type\": \"choropleth\", \"z\": [1]}, {\"colorscale\": [[0.0, \"#ab63fa\"], [1.0, \"#ab63fa\"]], \"geo\": \"geo\", \"hovertemplate\": \"<b>%{hovertext}</b><br><br>country=San Marino<br>iso_code=%{location}<extra></extra>\", \"hovertext\": [\"Sputnik V\"], \"locations\": [\"SMR\"], \"name\": \"San Marino\", \"showlegend\": true, \"showscale\": false, \"type\": \"choropleth\", \"z\": [1]}, {\"colorscale\": [[0.0, \"#FFA15A\"], [1.0, \"#FFA15A\"]], \"geo\": \"geo\", \"hovertemplate\": \"<b>%{hovertext}</b><br><br>country=Saudi Arabia<br>iso_code=%{location}<extra></extra>\", \"hovertext\": [\"Oxford/AstraZeneca, Pfizer/BioNTech\"], \"locations\": [\"SAU\"], \"name\": \"Saudi Arabia\", \"showlegend\": true, \"showscale\": false, \"type\": \"choropleth\", \"z\": [1]}, {\"colorscale\": [[0.0, \"#19d3f3\"], [1.0, \"#19d3f3\"]], \"geo\": \"geo\", \"hovertemplate\": \"<b>%{hovertext}</b><br><br>country=Scotland<br>iso_code=%{location}<extra></extra>\", \"hovertext\": [\"Oxford/AstraZeneca, Pfizer/BioNTech\"], \"locations\": [null], \"name\": \"Scotland\", \"showlegend\": true, \"showscale\": false, \"type\": \"choropleth\", \"z\": [1]}, {\"colorscale\": [[0.0, \"#FF6692\"], [1.0, \"#FF6692\"]], \"geo\": \"geo\", \"hovertemplate\": \"<b>%{hovertext}</b><br><br>country=Senegal<br>iso_code=%{location}<extra></extra>\", \"hovertext\": [\"Sinopharm/Beijing\"], \"locations\": [\"SEN\"], \"name\": \"Senegal\", \"showlegend\": true, \"showscale\": false, \"type\": \"choropleth\", \"z\": [1]}, {\"colorscale\": [[0.0, \"#B6E880\"], [1.0, \"#B6E880\"]], \"geo\": \"geo\", \"hovertemplate\": \"<b>%{hovertext}</b><br><br>country=Serbia<br>iso_code=%{location}<extra></extra>\", \"hovertext\": [\"Oxford/AstraZeneca, Pfizer/BioNTech, Sinopharm/Beijing, Sputnik V\"], \"locations\": [\"SRB\"], \"name\": \"Serbia\", \"showlegend\": true, \"showscale\": false, \"type\": \"choropleth\", \"z\": [1]}, {\"colorscale\": [[0.0, \"#FF97FF\"], [1.0, \"#FF97FF\"]], \"geo\": \"geo\", \"hovertemplate\": \"<b>%{hovertext}</b><br><br>country=Seychelles<br>iso_code=%{location}<extra></extra>\", \"hovertext\": [\"Oxford/AstraZeneca, Sinopharm/Beijing\"], \"locations\": [\"SYC\"], \"name\": \"Seychelles\", \"showlegend\": true, \"showscale\": false, \"type\": \"choropleth\", \"z\": [1]}, {\"colorscale\": [[0.0, \"#FECB52\"], [1.0, \"#FECB52\"]], \"geo\": \"geo\", \"hovertemplate\": \"<b>%{hovertext}</b><br><br>country=Singapore<br>iso_code=%{location}<extra></extra>\", \"hovertext\": [\"Pfizer/BioNTech\"], \"locations\": [\"SGP\"], \"name\": \"Singapore\", \"showlegend\": true, \"showscale\": false, \"type\": \"choropleth\", \"z\": [1]}, {\"colorscale\": [[0.0, \"#636efa\"], [1.0, \"#636efa\"]], \"geo\": \"geo\", \"hovertemplate\": \"<b>%{hovertext}</b><br><br>country=Slovakia<br>iso_code=%{location}<extra></extra>\", \"hovertext\": [\"Pfizer/BioNTech\"], \"locations\": [\"SVK\"], \"name\": \"Slovakia\", \"showlegend\": true, \"showscale\": false, \"type\": \"choropleth\", \"z\": [1]}, {\"colorscale\": [[0.0, \"#EF553B\"], [1.0, \"#EF553B\"]], \"geo\": \"geo\", \"hovertemplate\": \"<b>%{hovertext}</b><br><br>country=Slovenia<br>iso_code=%{location}<extra></extra>\", \"hovertext\": [\"Oxford/AstraZeneca, Pfizer/BioNTech\"], \"locations\": [\"SVN\"], \"name\": \"Slovenia\", \"showlegend\": true, \"showscale\": false, \"type\": \"choropleth\", \"z\": [1]}, {\"colorscale\": [[0.0, \"#00cc96\"], [1.0, \"#00cc96\"]], \"geo\": \"geo\", \"hovertemplate\": \"<b>%{hovertext}</b><br><br>country=South Africa<br>iso_code=%{location}<extra></extra>\", \"hovertext\": [\"Johnson&Johnson\"], \"locations\": [\"ZAF\"], \"name\": \"South Africa\", \"showlegend\": true, \"showscale\": false, \"type\": \"choropleth\", \"z\": [1]}, {\"colorscale\": [[0.0, \"#ab63fa\"], [1.0, \"#ab63fa\"]], \"geo\": \"geo\", \"hovertemplate\": \"<b>%{hovertext}</b><br><br>country=South Korea<br>iso_code=%{location}<extra></extra>\", \"hovertext\": [\"Oxford/AstraZeneca, Pfizer/BioNTech\"], \"locations\": [\"KOR\"], \"name\": \"South Korea\", \"showlegend\": true, \"showscale\": false, \"type\": \"choropleth\", \"z\": [1]}, {\"colorscale\": [[0.0, \"#FFA15A\"], [1.0, \"#FFA15A\"]], \"geo\": \"geo\", \"hovertemplate\": \"<b>%{hovertext}</b><br><br>country=Spain<br>iso_code=%{location}<extra></extra>\", \"hovertext\": [\"Moderna, Oxford/AstraZeneca, Pfizer/BioNTech\"], \"locations\": [\"ESP\"], \"name\": \"Spain\", \"showlegend\": true, \"showscale\": false, \"type\": \"choropleth\", \"z\": [1]}, {\"colorscale\": [[0.0, \"#19d3f3\"], [1.0, \"#19d3f3\"]], \"geo\": \"geo\", \"hovertemplate\": \"<b>%{hovertext}</b><br><br>country=Sri Lanka<br>iso_code=%{location}<extra></extra>\", \"hovertext\": [\"Oxford/AstraZeneca\"], \"locations\": [\"LKA\"], \"name\": \"Sri Lanka\", \"showlegend\": true, \"showscale\": false, \"type\": \"choropleth\", \"z\": [1]}, {\"colorscale\": [[0.0, \"#FF6692\"], [1.0, \"#FF6692\"]], \"geo\": \"geo\", \"hovertemplate\": \"<b>%{hovertext}</b><br><br>country=Sweden<br>iso_code=%{location}<extra></extra>\", \"hovertext\": [\"Oxford/AstraZeneca, Pfizer/BioNTech\"], \"locations\": [\"SWE\"], \"name\": \"Sweden\", \"showlegend\": true, \"showscale\": false, \"type\": \"choropleth\", \"z\": [1]}, {\"colorscale\": [[0.0, \"#B6E880\"], [1.0, \"#B6E880\"]], \"geo\": \"geo\", \"hovertemplate\": \"<b>%{hovertext}</b><br><br>country=Switzerland<br>iso_code=%{location}<extra></extra>\", \"hovertext\": [\"Moderna, Pfizer/BioNTech\"], \"locations\": [\"CHE\"], \"name\": \"Switzerland\", \"showlegend\": true, \"showscale\": false, \"type\": \"choropleth\", \"z\": [1]}, {\"colorscale\": [[0.0, \"#FF97FF\"], [1.0, \"#FF97FF\"]], \"geo\": \"geo\", \"hovertemplate\": \"<b>%{hovertext}</b><br><br>country=Thailand<br>iso_code=%{location}<extra></extra>\", \"hovertext\": [\"Sinovac\"], \"locations\": [\"THA\"], \"name\": \"Thailand\", \"showlegend\": true, \"showscale\": false, \"type\": \"choropleth\", \"z\": [1]}, {\"colorscale\": [[0.0, \"#FECB52\"], [1.0, \"#FECB52\"]], \"geo\": \"geo\", \"hovertemplate\": \"<b>%{hovertext}</b><br><br>country=Trinidad and Tobago<br>iso_code=%{location}<extra></extra>\", \"hovertext\": [\"Oxford/AstraZeneca\"], \"locations\": [\"TTO\"], \"name\": \"Trinidad and Tobago\", \"showlegend\": true, \"showscale\": false, \"type\": \"choropleth\", \"z\": [1]}, {\"colorscale\": [[0.0, \"#636efa\"], [1.0, \"#636efa\"]], \"geo\": \"geo\", \"hovertemplate\": \"<b>%{hovertext}</b><br><br>country=Turkey<br>iso_code=%{location}<extra></extra>\", \"hovertext\": [\"Sinovac\"], \"locations\": [\"TUR\"], \"name\": \"Turkey\", \"showlegend\": true, \"showscale\": false, \"type\": \"choropleth\", \"z\": [1]}, {\"colorscale\": [[0.0, \"#EF553B\"], [1.0, \"#EF553B\"]], \"geo\": \"geo\", \"hovertemplate\": \"<b>%{hovertext}</b><br><br>country=Turks and Caicos Islands<br>iso_code=%{location}<extra></extra>\", \"hovertext\": [\"Pfizer/BioNTech\"], \"locations\": [\"TCA\"], \"name\": \"Turks and Caicos Islands\", \"showlegend\": true, \"showscale\": false, \"type\": \"choropleth\", \"z\": [1]}, {\"colorscale\": [[0.0, \"#00cc96\"], [1.0, \"#00cc96\"]], \"geo\": \"geo\", \"hovertemplate\": \"<b>%{hovertext}</b><br><br>country=Ukraine<br>iso_code=%{location}<extra></extra>\", \"hovertext\": [\"Oxford/AstraZeneca\"], \"locations\": [\"UKR\"], \"name\": \"Ukraine\", \"showlegend\": true, \"showscale\": false, \"type\": \"choropleth\", \"z\": [1]}, {\"colorscale\": [[0.0, \"#ab63fa\"], [1.0, \"#ab63fa\"]], \"geo\": \"geo\", \"hovertemplate\": \"<b>%{hovertext}</b><br><br>country=United Arab Emirates<br>iso_code=%{location}<extra></extra>\", \"hovertext\": [\"Oxford/AstraZeneca, Pfizer/BioNTech, Sinopharm/Beijing, Sinopharm/Wuhan, Sputnik V\"], \"locations\": [\"ARE\"], \"name\": \"United Arab Emirates\", \"showlegend\": true, \"showscale\": false, \"type\": \"choropleth\", \"z\": [1]}, {\"colorscale\": [[0.0, \"#FFA15A\"], [1.0, \"#FFA15A\"]], \"geo\": \"geo\", \"hovertemplate\": \"<b>%{hovertext}</b><br><br>country=United Kingdom<br>iso_code=%{location}<extra></extra>\", \"hovertext\": [\"Oxford/AstraZeneca, Pfizer/BioNTech\"], \"locations\": [\"GBR\"], \"name\": \"United Kingdom\", \"showlegend\": true, \"showscale\": false, \"type\": \"choropleth\", \"z\": [1]}, {\"colorscale\": [[0.0, \"#19d3f3\"], [1.0, \"#19d3f3\"]], \"geo\": \"geo\", \"hovertemplate\": \"<b>%{hovertext}</b><br><br>country=United States<br>iso_code=%{location}<extra></extra>\", \"hovertext\": [\"Johnson&Johnson, Moderna, Pfizer/BioNTech\"], \"locations\": [\"USA\"], \"name\": \"United States\", \"showlegend\": true, \"showscale\": false, \"type\": \"choropleth\", \"z\": [1]}, {\"colorscale\": [[0.0, \"#FF6692\"], [1.0, \"#FF6692\"]], \"geo\": \"geo\", \"hovertemplate\": \"<b>%{hovertext}</b><br><br>country=Uruguay<br>iso_code=%{location}<extra></extra>\", \"hovertext\": [\"Sinovac\"], \"locations\": [\"URY\"], \"name\": \"Uruguay\", \"showlegend\": true, \"showscale\": false, \"type\": \"choropleth\", \"z\": [1]}, {\"colorscale\": [[0.0, \"#B6E880\"], [1.0, \"#B6E880\"]], \"geo\": \"geo\", \"hovertemplate\": \"<b>%{hovertext}</b><br><br>country=Venezuela<br>iso_code=%{location}<extra></extra>\", \"hovertext\": [\"Sputnik V\"], \"locations\": [\"VEN\"], \"name\": \"Venezuela\", \"showlegend\": true, \"showscale\": false, \"type\": \"choropleth\", \"z\": [1]}, {\"colorscale\": [[0.0, \"#FF97FF\"], [1.0, \"#FF97FF\"]], \"geo\": \"geo\", \"hovertemplate\": \"<b>%{hovertext}</b><br><br>country=Wales<br>iso_code=%{location}<extra></extra>\", \"hovertext\": [\"Oxford/AstraZeneca, Pfizer/BioNTech\"], \"locations\": [null], \"name\": \"Wales\", \"showlegend\": true, \"showscale\": false, \"type\": \"choropleth\", \"z\": [1]}, {\"colorscale\": [[0.0, \"#FECB52\"], [1.0, \"#FECB52\"]], \"geo\": \"geo\", \"hovertemplate\": \"<b>%{hovertext}</b><br><br>country=Zimbabwe<br>iso_code=%{location}<extra></extra>\", \"hovertext\": [\"Sinopharm/Beijing\"], \"locations\": [\"ZWE\"], \"name\": \"Zimbabwe\", \"showlegend\": true, \"showscale\": false, \"type\": \"choropleth\", \"z\": [1]}],                        {\"geo\": {\"domain\": {\"x\": [0.0, 1.0], \"y\": [0.0, 1.0]}, \"projection\": {\"type\": \"natural earth\"}}, \"legend\": {\"title\": {\"text\": \"country\"}, \"tracegroupgap\": 0}, \"margin\": {\"t\": 60}, \"template\": {\"data\": {\"bar\": [{\"error_x\": {\"color\": \"#2a3f5f\"}, \"error_y\": {\"color\": \"#2a3f5f\"}, \"marker\": {\"line\": {\"color\": \"#E5ECF6\", \"width\": 0.5}}, \"type\": \"bar\"}], \"barpolar\": [{\"marker\": {\"line\": {\"color\": \"#E5ECF6\", \"width\": 0.5}}, \"type\": \"barpolar\"}], \"carpet\": [{\"aaxis\": {\"endlinecolor\": \"#2a3f5f\", \"gridcolor\": \"white\", \"linecolor\": \"white\", \"minorgridcolor\": \"white\", \"startlinecolor\": \"#2a3f5f\"}, \"baxis\": {\"endlinecolor\": \"#2a3f5f\", \"gridcolor\": \"white\", \"linecolor\": \"white\", \"minorgridcolor\": \"white\", \"startlinecolor\": \"#2a3f5f\"}, \"type\": \"carpet\"}], \"choropleth\": [{\"colorbar\": {\"outlinewidth\": 0, \"ticks\": \"\"}, \"type\": \"choropleth\"}], \"contour\": [{\"colorbar\": {\"outlinewidth\": 0, \"ticks\": \"\"}, \"colorscale\": [[0.0, \"#0d0887\"], [0.1111111111111111, \"#46039f\"], [0.2222222222222222, \"#7201a8\"], [0.3333333333333333, \"#9c179e\"], [0.4444444444444444, \"#bd3786\"], [0.5555555555555556, \"#d8576b\"], [0.6666666666666666, \"#ed7953\"], [0.7777777777777778, \"#fb9f3a\"], [0.8888888888888888, \"#fdca26\"], [1.0, \"#f0f921\"]], \"type\": \"contour\"}], \"contourcarpet\": [{\"colorbar\": {\"outlinewidth\": 0, \"ticks\": \"\"}, \"type\": \"contourcarpet\"}], \"heatmap\": [{\"colorbar\": {\"outlinewidth\": 0, \"ticks\": \"\"}, \"colorscale\": [[0.0, \"#0d0887\"], [0.1111111111111111, \"#46039f\"], [0.2222222222222222, \"#7201a8\"], [0.3333333333333333, \"#9c179e\"], [0.4444444444444444, \"#bd3786\"], [0.5555555555555556, \"#d8576b\"], [0.6666666666666666, \"#ed7953\"], [0.7777777777777778, \"#fb9f3a\"], [0.8888888888888888, \"#fdca26\"], [1.0, \"#f0f921\"]], \"type\": \"heatmap\"}], \"heatmapgl\": [{\"colorbar\": {\"outlinewidth\": 0, \"ticks\": \"\"}, \"colorscale\": [[0.0, \"#0d0887\"], [0.1111111111111111, \"#46039f\"], [0.2222222222222222, \"#7201a8\"], [0.3333333333333333, \"#9c179e\"], [0.4444444444444444, \"#bd3786\"], [0.5555555555555556, \"#d8576b\"], [0.6666666666666666, \"#ed7953\"], [0.7777777777777778, \"#fb9f3a\"], [0.8888888888888888, \"#fdca26\"], [1.0, \"#f0f921\"]], \"type\": \"heatmapgl\"}], \"histogram\": [{\"marker\": {\"colorbar\": {\"outlinewidth\": 0, \"ticks\": \"\"}}, \"type\": \"histogram\"}], \"histogram2d\": [{\"colorbar\": {\"outlinewidth\": 0, \"ticks\": \"\"}, \"colorscale\": [[0.0, \"#0d0887\"], [0.1111111111111111, \"#46039f\"], [0.2222222222222222, \"#7201a8\"], [0.3333333333333333, \"#9c179e\"], [0.4444444444444444, \"#bd3786\"], [0.5555555555555556, \"#d8576b\"], [0.6666666666666666, \"#ed7953\"], [0.7777777777777778, \"#fb9f3a\"], [0.8888888888888888, \"#fdca26\"], [1.0, \"#f0f921\"]], \"type\": \"histogram2d\"}], \"histogram2dcontour\": [{\"colorbar\": {\"outlinewidth\": 0, \"ticks\": \"\"}, \"colorscale\": [[0.0, \"#0d0887\"], [0.1111111111111111, \"#46039f\"], [0.2222222222222222, \"#7201a8\"], [0.3333333333333333, \"#9c179e\"], [0.4444444444444444, \"#bd3786\"], [0.5555555555555556, \"#d8576b\"], [0.6666666666666666, \"#ed7953\"], [0.7777777777777778, \"#fb9f3a\"], [0.8888888888888888, \"#fdca26\"], [1.0, \"#f0f921\"]], \"type\": \"histogram2dcontour\"}], \"mesh3d\": [{\"colorbar\": {\"outlinewidth\": 0, \"ticks\": \"\"}, \"type\": \"mesh3d\"}], \"parcoords\": [{\"line\": {\"colorbar\": {\"outlinewidth\": 0, \"ticks\": \"\"}}, \"type\": \"parcoords\"}], \"pie\": [{\"automargin\": true, \"type\": \"pie\"}], \"scatter\": [{\"marker\": {\"colorbar\": {\"outlinewidth\": 0, \"ticks\": \"\"}}, \"type\": \"scatter\"}], \"scatter3d\": [{\"line\": {\"colorbar\": {\"outlinewidth\": 0, \"ticks\": \"\"}}, \"marker\": {\"colorbar\": {\"outlinewidth\": 0, \"ticks\": \"\"}}, \"type\": \"scatter3d\"}], \"scattercarpet\": [{\"marker\": {\"colorbar\": {\"outlinewidth\": 0, \"ticks\": \"\"}}, \"type\": \"scattercarpet\"}], \"scattergeo\": [{\"marker\": {\"colorbar\": {\"outlinewidth\": 0, \"ticks\": \"\"}}, \"type\": \"scattergeo\"}], \"scattergl\": [{\"marker\": {\"colorbar\": {\"outlinewidth\": 0, \"ticks\": \"\"}}, \"type\": \"scattergl\"}], \"scattermapbox\": [{\"marker\": {\"colorbar\": {\"outlinewidth\": 0, \"ticks\": \"\"}}, \"type\": \"scattermapbox\"}], \"scatterpolar\": [{\"marker\": {\"colorbar\": {\"outlinewidth\": 0, \"ticks\": \"\"}}, \"type\": \"scatterpolar\"}], \"scatterpolargl\": [{\"marker\": {\"colorbar\": {\"outlinewidth\": 0, \"ticks\": \"\"}}, \"type\": \"scatterpolargl\"}], \"scatterternary\": [{\"marker\": {\"colorbar\": {\"outlinewidth\": 0, \"ticks\": \"\"}}, \"type\": \"scatterternary\"}], \"surface\": [{\"colorbar\": {\"outlinewidth\": 0, \"ticks\": \"\"}, \"colorscale\": [[0.0, \"#0d0887\"], [0.1111111111111111, \"#46039f\"], [0.2222222222222222, \"#7201a8\"], [0.3333333333333333, \"#9c179e\"], [0.4444444444444444, \"#bd3786\"], [0.5555555555555556, \"#d8576b\"], [0.6666666666666666, \"#ed7953\"], [0.7777777777777778, \"#fb9f3a\"], [0.8888888888888888, \"#fdca26\"], [1.0, \"#f0f921\"]], \"type\": \"surface\"}], \"table\": [{\"cells\": {\"fill\": {\"color\": \"#EBF0F8\"}, \"line\": {\"color\": \"white\"}}, \"header\": {\"fill\": {\"color\": \"#C8D4E3\"}, \"line\": {\"color\": \"white\"}}, \"type\": \"table\"}]}, \"layout\": {\"annotationdefaults\": {\"arrowcolor\": \"#2a3f5f\", \"arrowhead\": 0, \"arrowwidth\": 1}, \"autotypenumbers\": \"strict\", \"coloraxis\": {\"colorbar\": {\"outlinewidth\": 0, \"ticks\": \"\"}}, \"colorscale\": {\"diverging\": [[0, \"#8e0152\"], [0.1, \"#c51b7d\"], [0.2, \"#de77ae\"], [0.3, \"#f1b6da\"], [0.4, \"#fde0ef\"], [0.5, \"#f7f7f7\"], [0.6, \"#e6f5d0\"], [0.7, \"#b8e186\"], [0.8, \"#7fbc41\"], [0.9, \"#4d9221\"], [1, \"#276419\"]], \"sequential\": [[0.0, \"#0d0887\"], [0.1111111111111111, \"#46039f\"], [0.2222222222222222, \"#7201a8\"], [0.3333333333333333, \"#9c179e\"], [0.4444444444444444, \"#bd3786\"], [0.5555555555555556, \"#d8576b\"], [0.6666666666666666, \"#ed7953\"], [0.7777777777777778, \"#fb9f3a\"], [0.8888888888888888, \"#fdca26\"], [1.0, \"#f0f921\"]], \"sequentialminus\": [[0.0, \"#0d0887\"], [0.1111111111111111, \"#46039f\"], [0.2222222222222222, \"#7201a8\"], [0.3333333333333333, \"#9c179e\"], [0.4444444444444444, \"#bd3786\"], [0.5555555555555556, \"#d8576b\"], [0.6666666666666666, \"#ed7953\"], [0.7777777777777778, \"#fb9f3a\"], [0.8888888888888888, \"#fdca26\"], [1.0, \"#f0f921\"]]}, \"colorway\": [\"#636efa\", \"#EF553B\", \"#00cc96\", \"#ab63fa\", \"#FFA15A\", \"#19d3f3\", \"#FF6692\", \"#B6E880\", \"#FF97FF\", \"#FECB52\"], \"font\": {\"color\": \"#2a3f5f\"}, \"geo\": {\"bgcolor\": \"white\", \"lakecolor\": \"white\", \"landcolor\": \"#E5ECF6\", \"showlakes\": true, \"showland\": true, \"subunitcolor\": \"white\"}, \"hoverlabel\": {\"align\": \"left\"}, \"hovermode\": \"closest\", \"mapbox\": {\"style\": \"light\"}, \"paper_bgcolor\": \"white\", \"plot_bgcolor\": \"#E5ECF6\", \"polar\": {\"angularaxis\": {\"gridcolor\": \"white\", \"linecolor\": \"white\", \"ticks\": \"\"}, \"bgcolor\": \"#E5ECF6\", \"radialaxis\": {\"gridcolor\": \"white\", \"linecolor\": \"white\", \"ticks\": \"\"}}, \"scene\": {\"xaxis\": {\"backgroundcolor\": \"#E5ECF6\", \"gridcolor\": \"white\", \"gridwidth\": 2, \"linecolor\": \"white\", \"showbackground\": true, \"ticks\": \"\", \"zerolinecolor\": \"white\"}, \"yaxis\": {\"backgroundcolor\": \"#E5ECF6\", \"gridcolor\": \"white\", \"gridwidth\": 2, \"linecolor\": \"white\", \"showbackground\": true, \"ticks\": \"\", \"zerolinecolor\": \"white\"}, \"zaxis\": {\"backgroundcolor\": \"#E5ECF6\", \"gridcolor\": \"white\", \"gridwidth\": 2, \"linecolor\": \"white\", \"showbackground\": true, \"ticks\": \"\", \"zerolinecolor\": \"white\"}}, \"shapedefaults\": {\"line\": {\"color\": \"#2a3f5f\"}}, \"ternary\": {\"aaxis\": {\"gridcolor\": \"white\", \"linecolor\": \"white\", \"ticks\": \"\"}, \"baxis\": {\"gridcolor\": \"white\", \"linecolor\": \"white\", \"ticks\": \"\"}, \"bgcolor\": \"#E5ECF6\", \"caxis\": {\"gridcolor\": \"white\", \"linecolor\": \"white\", \"ticks\": \"\"}}, \"title\": {\"x\": 0.05}, \"xaxis\": {\"automargin\": true, \"gridcolor\": \"white\", \"linecolor\": \"white\", \"ticks\": \"\", \"title\": {\"standoff\": 15}, \"zerolinecolor\": \"white\", \"zerolinewidth\": 2}, \"yaxis\": {\"automargin\": true, \"gridcolor\": \"white\", \"linecolor\": \"white\", \"ticks\": \"\", \"title\": {\"standoff\": 15}, \"zerolinecolor\": \"white\", \"zerolinewidth\": 2}}}, \"title\": {\"text\": \"Vaccines used by each Country\"}},                        {\"responsive\": true}                    ).then(function(){\n",
       "                            \n",
       "var gd = document.getElementById('d2a1a6e5-14a9-44d8-9242-f27c88dcb54d');\n",
       "var x = new MutationObserver(function (mutations, observer) {{\n",
       "        var display = window.getComputedStyle(gd).display;\n",
       "        if (!display || display === 'none') {{\n",
       "            console.log([gd, 'removed!']);\n",
       "            Plotly.purge(gd);\n",
       "            observer.disconnect();\n",
       "        }}\n",
       "}});\n",
       "\n",
       "// Listen for the removal of the full notebook cells\n",
       "var notebookContainer = gd.closest('#notebook-container');\n",
       "if (notebookContainer) {{\n",
       "    x.observe(notebookContainer, {childList: true});\n",
       "}}\n",
       "\n",
       "// Listen for the clearing of the current output cell\n",
       "var outputEl = gd.closest('.output');\n",
       "if (outputEl) {{\n",
       "    x.observe(outputEl, {childList: true});\n",
       "}}\n",
       "\n",
       "                        })                };                });            </script>        </div>"
      ]
     },
     "metadata": {},
     "output_type": "display_data"
    }
   ],
   "source": [
    "fig = px.choropleth(vaccinesbycountry_grd, locations='iso_code', projection='natural earth',\n",
    "                   color=vaccinesbycountry_grd.index, hover_name='vaccines')\n",
    "\n",
    "fig.update_layout(title=\"Vaccines used by each Country\")\n",
    "iplot(fig)\n",
    "\n",
    "#Hover and Zoom on the country to view the details of vaccines being used"
   ]
  },
  {
   "cell_type": "markdown",
   "metadata": {},
   "source": [
    "Let's explore what the most commonly used vaccination scheme. Here are top-5 that are the most used."
   ]
  },
  {
   "cell_type": "code",
   "execution_count": 15,
   "metadata": {},
   "outputs": [
    {
     "data": {
      "text/html": [
       "<div>\n",
       "<style scoped>\n",
       "    .dataframe tbody tr th:only-of-type {\n",
       "        vertical-align: middle;\n",
       "    }\n",
       "\n",
       "    .dataframe tbody tr th {\n",
       "        vertical-align: top;\n",
       "    }\n",
       "\n",
       "    .dataframe thead th {\n",
       "        text-align: right;\n",
       "    }\n",
       "</style>\n",
       "<table border=\"1\" class=\"dataframe\">\n",
       "  <thead>\n",
       "    <tr style=\"text-align: right;\">\n",
       "      <th></th>\n",
       "      <th>vaccines</th>\n",
       "      <th>total_vaccinations</th>\n",
       "    </tr>\n",
       "  </thead>\n",
       "  <tbody>\n",
       "    <tr>\n",
       "      <th>3</th>\n",
       "      <td>Johnson&amp;Johnson, Moderna, Pfizer/BioNTech</td>\n",
       "      <td>95721290.0</td>\n",
       "    </tr>\n",
       "    <tr>\n",
       "      <th>20</th>\n",
       "      <td>Sinopharm/Beijing, Sinopharm/Wuhan, Sinovac</td>\n",
       "      <td>52520000.0</td>\n",
       "    </tr>\n",
       "    <tr>\n",
       "      <th>9</th>\n",
       "      <td>Oxford/AstraZeneca, Pfizer/BioNTech</td>\n",
       "      <td>51632319.0</td>\n",
       "    </tr>\n",
       "    <tr>\n",
       "      <th>5</th>\n",
       "      <td>Moderna, Oxford/AstraZeneca, Pfizer/BioNTech</td>\n",
       "      <td>38001976.0</td>\n",
       "    </tr>\n",
       "    <tr>\n",
       "      <th>0</th>\n",
       "      <td>Covaxin, Oxford/AstraZeneca</td>\n",
       "      <td>25685011.0</td>\n",
       "    </tr>\n",
       "  </tbody>\n",
       "</table>\n",
       "</div>"
      ],
      "text/plain": [
       "                                        vaccines  total_vaccinations\n",
       "3      Johnson&Johnson, Moderna, Pfizer/BioNTech          95721290.0\n",
       "20   Sinopharm/Beijing, Sinopharm/Wuhan, Sinovac          52520000.0\n",
       "9            Oxford/AstraZeneca, Pfizer/BioNTech          51632319.0\n",
       "5   Moderna, Oxford/AstraZeneca, Pfizer/BioNTech          38001976.0\n",
       "0                    Covaxin, Oxford/AstraZeneca          25685011.0"
      ]
     },
     "execution_count": 15,
     "metadata": {},
     "output_type": "execute_result"
    }
   ],
   "source": [
    "vaccines = covid_df.groupby(['vaccines','date']).sum().reset_index()\n",
    "vaccines_top5 = vaccines.groupby('vaccines').max()['total_vaccinations'].reset_index()\n",
    "vaccines_top5 = vaccines_top5.nlargest(5, columns=['total_vaccinations'])\n",
    "vaccines_top5"
   ]
  },
  {
   "cell_type": "code",
   "execution_count": 17,
   "metadata": {},
   "outputs": [
    {
     "data": {
      "application/vnd.plotly.v1+json": {
       "config": {
        "plotlyServerURL": "https://plot.ly"
       },
       "data": [
        {
         "alignmentgroup": "True",
         "hovertemplate": "color=Johnson&Johnson, Moderna, Pfizer/BioNTech<br>x=%{x}<br>y=%{y}<extra></extra>",
         "legendgroup": "Johnson&Johnson, Moderna, Pfizer/BioNTech",
         "marker": {
          "color": "#482878"
         },
         "name": "Johnson&Johnson, Moderna, Pfizer/BioNTech",
         "offsetgroup": "Johnson&Johnson, Moderna, Pfizer/BioNTech",
         "orientation": "v",
         "showlegend": true,
         "textposition": "auto",
         "type": "bar",
         "x": [
          "Johnson&Johnson, Moderna, Pfizer/BioNTech"
         ],
         "xaxis": "x",
         "y": [
          95721290
         ],
         "yaxis": "y"
        },
        {
         "alignmentgroup": "True",
         "hovertemplate": "color=Sinopharm/Beijing, Sinopharm/Wuhan, Sinovac<br>x=%{x}<br>y=%{y}<extra></extra>",
         "legendgroup": "Sinopharm/Beijing, Sinopharm/Wuhan, Sinovac",
         "marker": {
          "color": "#31688e"
         },
         "name": "Sinopharm/Beijing, Sinopharm/Wuhan, Sinovac",
         "offsetgroup": "Sinopharm/Beijing, Sinopharm/Wuhan, Sinovac",
         "orientation": "v",
         "showlegend": true,
         "textposition": "auto",
         "type": "bar",
         "x": [
          "Sinopharm/Beijing, Sinopharm/Wuhan, Sinovac"
         ],
         "xaxis": "x",
         "y": [
          52520000
         ],
         "yaxis": "y"
        },
        {
         "alignmentgroup": "True",
         "hovertemplate": "color=Oxford/AstraZeneca, Pfizer/BioNTech<br>x=%{x}<br>y=%{y}<extra></extra>",
         "legendgroup": "Oxford/AstraZeneca, Pfizer/BioNTech",
         "marker": {
          "color": "#1f9e89"
         },
         "name": "Oxford/AstraZeneca, Pfizer/BioNTech",
         "offsetgroup": "Oxford/AstraZeneca, Pfizer/BioNTech",
         "orientation": "v",
         "showlegend": true,
         "textposition": "auto",
         "type": "bar",
         "x": [
          "Oxford/AstraZeneca, Pfizer/BioNTech"
         ],
         "xaxis": "x",
         "y": [
          51632319
         ],
         "yaxis": "y"
        },
        {
         "alignmentgroup": "True",
         "hovertemplate": "color=Moderna, Oxford/AstraZeneca, Pfizer/BioNTech<br>x=%{x}<br>y=%{y}<extra></extra>",
         "legendgroup": "Moderna, Oxford/AstraZeneca, Pfizer/BioNTech",
         "marker": {
          "color": "#6ece58"
         },
         "name": "Moderna, Oxford/AstraZeneca, Pfizer/BioNTech",
         "offsetgroup": "Moderna, Oxford/AstraZeneca, Pfizer/BioNTech",
         "orientation": "v",
         "showlegend": true,
         "textposition": "auto",
         "type": "bar",
         "x": [
          "Moderna, Oxford/AstraZeneca, Pfizer/BioNTech"
         ],
         "xaxis": "x",
         "y": [
          38001976
         ],
         "yaxis": "y"
        },
        {
         "alignmentgroup": "True",
         "hovertemplate": "color=Covaxin, Oxford/AstraZeneca<br>x=%{x}<br>y=%{y}<extra></extra>",
         "legendgroup": "Covaxin, Oxford/AstraZeneca",
         "marker": {
          "color": "#fde725"
         },
         "name": "Covaxin, Oxford/AstraZeneca",
         "offsetgroup": "Covaxin, Oxford/AstraZeneca",
         "orientation": "v",
         "showlegend": true,
         "textposition": "auto",
         "type": "bar",
         "x": [
          "Covaxin, Oxford/AstraZeneca"
         ],
         "xaxis": "x",
         "y": [
          25685011
         ],
         "yaxis": "y"
        }
       ],
       "layout": {
        "barmode": "relative",
        "legend": {
         "title": {
          "text": "color"
         },
         "tracegroupgap": 0
        },
        "margin": {
         "t": 60
        },
        "template": {
         "data": {
          "bar": [
           {
            "error_x": {
             "color": "#2a3f5f"
            },
            "error_y": {
             "color": "#2a3f5f"
            },
            "marker": {
             "line": {
              "color": "#E5ECF6",
              "width": 0.5
             }
            },
            "type": "bar"
           }
          ],
          "barpolar": [
           {
            "marker": {
             "line": {
              "color": "#E5ECF6",
              "width": 0.5
             }
            },
            "type": "barpolar"
           }
          ],
          "carpet": [
           {
            "aaxis": {
             "endlinecolor": "#2a3f5f",
             "gridcolor": "white",
             "linecolor": "white",
             "minorgridcolor": "white",
             "startlinecolor": "#2a3f5f"
            },
            "baxis": {
             "endlinecolor": "#2a3f5f",
             "gridcolor": "white",
             "linecolor": "white",
             "minorgridcolor": "white",
             "startlinecolor": "#2a3f5f"
            },
            "type": "carpet"
           }
          ],
          "choropleth": [
           {
            "colorbar": {
             "outlinewidth": 0,
             "ticks": ""
            },
            "type": "choropleth"
           }
          ],
          "contour": [
           {
            "colorbar": {
             "outlinewidth": 0,
             "ticks": ""
            },
            "colorscale": [
             [
              0,
              "#0d0887"
             ],
             [
              0.1111111111111111,
              "#46039f"
             ],
             [
              0.2222222222222222,
              "#7201a8"
             ],
             [
              0.3333333333333333,
              "#9c179e"
             ],
             [
              0.4444444444444444,
              "#bd3786"
             ],
             [
              0.5555555555555556,
              "#d8576b"
             ],
             [
              0.6666666666666666,
              "#ed7953"
             ],
             [
              0.7777777777777778,
              "#fb9f3a"
             ],
             [
              0.8888888888888888,
              "#fdca26"
             ],
             [
              1,
              "#f0f921"
             ]
            ],
            "type": "contour"
           }
          ],
          "contourcarpet": [
           {
            "colorbar": {
             "outlinewidth": 0,
             "ticks": ""
            },
            "type": "contourcarpet"
           }
          ],
          "heatmap": [
           {
            "colorbar": {
             "outlinewidth": 0,
             "ticks": ""
            },
            "colorscale": [
             [
              0,
              "#0d0887"
             ],
             [
              0.1111111111111111,
              "#46039f"
             ],
             [
              0.2222222222222222,
              "#7201a8"
             ],
             [
              0.3333333333333333,
              "#9c179e"
             ],
             [
              0.4444444444444444,
              "#bd3786"
             ],
             [
              0.5555555555555556,
              "#d8576b"
             ],
             [
              0.6666666666666666,
              "#ed7953"
             ],
             [
              0.7777777777777778,
              "#fb9f3a"
             ],
             [
              0.8888888888888888,
              "#fdca26"
             ],
             [
              1,
              "#f0f921"
             ]
            ],
            "type": "heatmap"
           }
          ],
          "heatmapgl": [
           {
            "colorbar": {
             "outlinewidth": 0,
             "ticks": ""
            },
            "colorscale": [
             [
              0,
              "#0d0887"
             ],
             [
              0.1111111111111111,
              "#46039f"
             ],
             [
              0.2222222222222222,
              "#7201a8"
             ],
             [
              0.3333333333333333,
              "#9c179e"
             ],
             [
              0.4444444444444444,
              "#bd3786"
             ],
             [
              0.5555555555555556,
              "#d8576b"
             ],
             [
              0.6666666666666666,
              "#ed7953"
             ],
             [
              0.7777777777777778,
              "#fb9f3a"
             ],
             [
              0.8888888888888888,
              "#fdca26"
             ],
             [
              1,
              "#f0f921"
             ]
            ],
            "type": "heatmapgl"
           }
          ],
          "histogram": [
           {
            "marker": {
             "colorbar": {
              "outlinewidth": 0,
              "ticks": ""
             }
            },
            "type": "histogram"
           }
          ],
          "histogram2d": [
           {
            "colorbar": {
             "outlinewidth": 0,
             "ticks": ""
            },
            "colorscale": [
             [
              0,
              "#0d0887"
             ],
             [
              0.1111111111111111,
              "#46039f"
             ],
             [
              0.2222222222222222,
              "#7201a8"
             ],
             [
              0.3333333333333333,
              "#9c179e"
             ],
             [
              0.4444444444444444,
              "#bd3786"
             ],
             [
              0.5555555555555556,
              "#d8576b"
             ],
             [
              0.6666666666666666,
              "#ed7953"
             ],
             [
              0.7777777777777778,
              "#fb9f3a"
             ],
             [
              0.8888888888888888,
              "#fdca26"
             ],
             [
              1,
              "#f0f921"
             ]
            ],
            "type": "histogram2d"
           }
          ],
          "histogram2dcontour": [
           {
            "colorbar": {
             "outlinewidth": 0,
             "ticks": ""
            },
            "colorscale": [
             [
              0,
              "#0d0887"
             ],
             [
              0.1111111111111111,
              "#46039f"
             ],
             [
              0.2222222222222222,
              "#7201a8"
             ],
             [
              0.3333333333333333,
              "#9c179e"
             ],
             [
              0.4444444444444444,
              "#bd3786"
             ],
             [
              0.5555555555555556,
              "#d8576b"
             ],
             [
              0.6666666666666666,
              "#ed7953"
             ],
             [
              0.7777777777777778,
              "#fb9f3a"
             ],
             [
              0.8888888888888888,
              "#fdca26"
             ],
             [
              1,
              "#f0f921"
             ]
            ],
            "type": "histogram2dcontour"
           }
          ],
          "mesh3d": [
           {
            "colorbar": {
             "outlinewidth": 0,
             "ticks": ""
            },
            "type": "mesh3d"
           }
          ],
          "parcoords": [
           {
            "line": {
             "colorbar": {
              "outlinewidth": 0,
              "ticks": ""
             }
            },
            "type": "parcoords"
           }
          ],
          "pie": [
           {
            "automargin": true,
            "type": "pie"
           }
          ],
          "scatter": [
           {
            "marker": {
             "colorbar": {
              "outlinewidth": 0,
              "ticks": ""
             }
            },
            "type": "scatter"
           }
          ],
          "scatter3d": [
           {
            "line": {
             "colorbar": {
              "outlinewidth": 0,
              "ticks": ""
             }
            },
            "marker": {
             "colorbar": {
              "outlinewidth": 0,
              "ticks": ""
             }
            },
            "type": "scatter3d"
           }
          ],
          "scattercarpet": [
           {
            "marker": {
             "colorbar": {
              "outlinewidth": 0,
              "ticks": ""
             }
            },
            "type": "scattercarpet"
           }
          ],
          "scattergeo": [
           {
            "marker": {
             "colorbar": {
              "outlinewidth": 0,
              "ticks": ""
             }
            },
            "type": "scattergeo"
           }
          ],
          "scattergl": [
           {
            "marker": {
             "colorbar": {
              "outlinewidth": 0,
              "ticks": ""
             }
            },
            "type": "scattergl"
           }
          ],
          "scattermapbox": [
           {
            "marker": {
             "colorbar": {
              "outlinewidth": 0,
              "ticks": ""
             }
            },
            "type": "scattermapbox"
           }
          ],
          "scatterpolar": [
           {
            "marker": {
             "colorbar": {
              "outlinewidth": 0,
              "ticks": ""
             }
            },
            "type": "scatterpolar"
           }
          ],
          "scatterpolargl": [
           {
            "marker": {
             "colorbar": {
              "outlinewidth": 0,
              "ticks": ""
             }
            },
            "type": "scatterpolargl"
           }
          ],
          "scatterternary": [
           {
            "marker": {
             "colorbar": {
              "outlinewidth": 0,
              "ticks": ""
             }
            },
            "type": "scatterternary"
           }
          ],
          "surface": [
           {
            "colorbar": {
             "outlinewidth": 0,
             "ticks": ""
            },
            "colorscale": [
             [
              0,
              "#0d0887"
             ],
             [
              0.1111111111111111,
              "#46039f"
             ],
             [
              0.2222222222222222,
              "#7201a8"
             ],
             [
              0.3333333333333333,
              "#9c179e"
             ],
             [
              0.4444444444444444,
              "#bd3786"
             ],
             [
              0.5555555555555556,
              "#d8576b"
             ],
             [
              0.6666666666666666,
              "#ed7953"
             ],
             [
              0.7777777777777778,
              "#fb9f3a"
             ],
             [
              0.8888888888888888,
              "#fdca26"
             ],
             [
              1,
              "#f0f921"
             ]
            ],
            "type": "surface"
           }
          ],
          "table": [
           {
            "cells": {
             "fill": {
              "color": "#EBF0F8"
             },
             "line": {
              "color": "white"
             }
            },
            "header": {
             "fill": {
              "color": "#C8D4E3"
             },
             "line": {
              "color": "white"
             }
            },
            "type": "table"
           }
          ]
         },
         "layout": {
          "annotationdefaults": {
           "arrowcolor": "#2a3f5f",
           "arrowhead": 0,
           "arrowwidth": 1
          },
          "autotypenumbers": "strict",
          "coloraxis": {
           "colorbar": {
            "outlinewidth": 0,
            "ticks": ""
           }
          },
          "colorscale": {
           "diverging": [
            [
             0,
             "#8e0152"
            ],
            [
             0.1,
             "#c51b7d"
            ],
            [
             0.2,
             "#de77ae"
            ],
            [
             0.3,
             "#f1b6da"
            ],
            [
             0.4,
             "#fde0ef"
            ],
            [
             0.5,
             "#f7f7f7"
            ],
            [
             0.6,
             "#e6f5d0"
            ],
            [
             0.7,
             "#b8e186"
            ],
            [
             0.8,
             "#7fbc41"
            ],
            [
             0.9,
             "#4d9221"
            ],
            [
             1,
             "#276419"
            ]
           ],
           "sequential": [
            [
             0,
             "#0d0887"
            ],
            [
             0.1111111111111111,
             "#46039f"
            ],
            [
             0.2222222222222222,
             "#7201a8"
            ],
            [
             0.3333333333333333,
             "#9c179e"
            ],
            [
             0.4444444444444444,
             "#bd3786"
            ],
            [
             0.5555555555555556,
             "#d8576b"
            ],
            [
             0.6666666666666666,
             "#ed7953"
            ],
            [
             0.7777777777777778,
             "#fb9f3a"
            ],
            [
             0.8888888888888888,
             "#fdca26"
            ],
            [
             1,
             "#f0f921"
            ]
           ],
           "sequentialminus": [
            [
             0,
             "#0d0887"
            ],
            [
             0.1111111111111111,
             "#46039f"
            ],
            [
             0.2222222222222222,
             "#7201a8"
            ],
            [
             0.3333333333333333,
             "#9c179e"
            ],
            [
             0.4444444444444444,
             "#bd3786"
            ],
            [
             0.5555555555555556,
             "#d8576b"
            ],
            [
             0.6666666666666666,
             "#ed7953"
            ],
            [
             0.7777777777777778,
             "#fb9f3a"
            ],
            [
             0.8888888888888888,
             "#fdca26"
            ],
            [
             1,
             "#f0f921"
            ]
           ]
          },
          "colorway": [
           "#636efa",
           "#EF553B",
           "#00cc96",
           "#ab63fa",
           "#FFA15A",
           "#19d3f3",
           "#FF6692",
           "#B6E880",
           "#FF97FF",
           "#FECB52"
          ],
          "font": {
           "color": "#2a3f5f"
          },
          "geo": {
           "bgcolor": "white",
           "lakecolor": "white",
           "landcolor": "#E5ECF6",
           "showlakes": true,
           "showland": true,
           "subunitcolor": "white"
          },
          "hoverlabel": {
           "align": "left"
          },
          "hovermode": "closest",
          "mapbox": {
           "style": "light"
          },
          "paper_bgcolor": "white",
          "plot_bgcolor": "#E5ECF6",
          "polar": {
           "angularaxis": {
            "gridcolor": "white",
            "linecolor": "white",
            "ticks": ""
           },
           "bgcolor": "#E5ECF6",
           "radialaxis": {
            "gridcolor": "white",
            "linecolor": "white",
            "ticks": ""
           }
          },
          "scene": {
           "xaxis": {
            "backgroundcolor": "#E5ECF6",
            "gridcolor": "white",
            "gridwidth": 2,
            "linecolor": "white",
            "showbackground": true,
            "ticks": "",
            "zerolinecolor": "white"
           },
           "yaxis": {
            "backgroundcolor": "#E5ECF6",
            "gridcolor": "white",
            "gridwidth": 2,
            "linecolor": "white",
            "showbackground": true,
            "ticks": "",
            "zerolinecolor": "white"
           },
           "zaxis": {
            "backgroundcolor": "#E5ECF6",
            "gridcolor": "white",
            "gridwidth": 2,
            "linecolor": "white",
            "showbackground": true,
            "ticks": "",
            "zerolinecolor": "white"
           }
          },
          "shapedefaults": {
           "line": {
            "color": "#2a3f5f"
           }
          },
          "ternary": {
           "aaxis": {
            "gridcolor": "white",
            "linecolor": "white",
            "ticks": ""
           },
           "baxis": {
            "gridcolor": "white",
            "linecolor": "white",
            "ticks": ""
           },
           "bgcolor": "#E5ECF6",
           "caxis": {
            "gridcolor": "white",
            "linecolor": "white",
            "ticks": ""
           }
          },
          "title": {
           "x": 0.05
          },
          "xaxis": {
           "automargin": true,
           "gridcolor": "white",
           "linecolor": "white",
           "ticks": "",
           "title": {
            "standoff": 15
           },
           "zerolinecolor": "white",
           "zerolinewidth": 2
          },
          "yaxis": {
           "automargin": true,
           "gridcolor": "white",
           "linecolor": "white",
           "ticks": "",
           "title": {
            "standoff": 15
           },
           "zerolinecolor": "white",
           "zerolinewidth": 2
          }
         }
        },
        "xaxis": {
         "anchor": "y",
         "domain": [
          0,
          1
         ],
         "title": {
          "text": "x"
         }
        },
        "yaxis": {
         "anchor": "x",
         "domain": [
          0,
          1
         ],
         "title": {
          "text": "y"
         }
        }
       }
      },
      "text/html": [
       "<div>                            <div id=\"515a252a-a710-4907-b3c5-7d69577368c8\" class=\"plotly-graph-div\" style=\"height:525px; width:100%;\"></div>            <script type=\"text/javascript\">                require([\"plotly\"], function(Plotly) {                    window.PLOTLYENV=window.PLOTLYENV || {};                                    if (document.getElementById(\"515a252a-a710-4907-b3c5-7d69577368c8\")) {                    Plotly.newPlot(                        \"515a252a-a710-4907-b3c5-7d69577368c8\",                        [{\"alignmentgroup\": \"True\", \"hovertemplate\": \"color=Johnson&Johnson, Moderna, Pfizer/BioNTech<br>x=%{x}<br>y=%{y}<extra></extra>\", \"legendgroup\": \"Johnson&Johnson, Moderna, Pfizer/BioNTech\", \"marker\": {\"color\": \"#482878\"}, \"name\": \"Johnson&Johnson, Moderna, Pfizer/BioNTech\", \"offsetgroup\": \"Johnson&Johnson, Moderna, Pfizer/BioNTech\", \"orientation\": \"v\", \"showlegend\": true, \"textposition\": \"auto\", \"type\": \"bar\", \"x\": [\"Johnson&Johnson, Moderna, Pfizer/BioNTech\"], \"xaxis\": \"x\", \"y\": [95721290.0], \"yaxis\": \"y\"}, {\"alignmentgroup\": \"True\", \"hovertemplate\": \"color=Sinopharm/Beijing, Sinopharm/Wuhan, Sinovac<br>x=%{x}<br>y=%{y}<extra></extra>\", \"legendgroup\": \"Sinopharm/Beijing, Sinopharm/Wuhan, Sinovac\", \"marker\": {\"color\": \"#31688e\"}, \"name\": \"Sinopharm/Beijing, Sinopharm/Wuhan, Sinovac\", \"offsetgroup\": \"Sinopharm/Beijing, Sinopharm/Wuhan, Sinovac\", \"orientation\": \"v\", \"showlegend\": true, \"textposition\": \"auto\", \"type\": \"bar\", \"x\": [\"Sinopharm/Beijing, Sinopharm/Wuhan, Sinovac\"], \"xaxis\": \"x\", \"y\": [52520000.0], \"yaxis\": \"y\"}, {\"alignmentgroup\": \"True\", \"hovertemplate\": \"color=Oxford/AstraZeneca, Pfizer/BioNTech<br>x=%{x}<br>y=%{y}<extra></extra>\", \"legendgroup\": \"Oxford/AstraZeneca, Pfizer/BioNTech\", \"marker\": {\"color\": \"#1f9e89\"}, \"name\": \"Oxford/AstraZeneca, Pfizer/BioNTech\", \"offsetgroup\": \"Oxford/AstraZeneca, Pfizer/BioNTech\", \"orientation\": \"v\", \"showlegend\": true, \"textposition\": \"auto\", \"type\": \"bar\", \"x\": [\"Oxford/AstraZeneca, Pfizer/BioNTech\"], \"xaxis\": \"x\", \"y\": [51632319.0], \"yaxis\": \"y\"}, {\"alignmentgroup\": \"True\", \"hovertemplate\": \"color=Moderna, Oxford/AstraZeneca, Pfizer/BioNTech<br>x=%{x}<br>y=%{y}<extra></extra>\", \"legendgroup\": \"Moderna, Oxford/AstraZeneca, Pfizer/BioNTech\", \"marker\": {\"color\": \"#6ece58\"}, \"name\": \"Moderna, Oxford/AstraZeneca, Pfizer/BioNTech\", \"offsetgroup\": \"Moderna, Oxford/AstraZeneca, Pfizer/BioNTech\", \"orientation\": \"v\", \"showlegend\": true, \"textposition\": \"auto\", \"type\": \"bar\", \"x\": [\"Moderna, Oxford/AstraZeneca, Pfizer/BioNTech\"], \"xaxis\": \"x\", \"y\": [38001976.0], \"yaxis\": \"y\"}, {\"alignmentgroup\": \"True\", \"hovertemplate\": \"color=Covaxin, Oxford/AstraZeneca<br>x=%{x}<br>y=%{y}<extra></extra>\", \"legendgroup\": \"Covaxin, Oxford/AstraZeneca\", \"marker\": {\"color\": \"#fde725\"}, \"name\": \"Covaxin, Oxford/AstraZeneca\", \"offsetgroup\": \"Covaxin, Oxford/AstraZeneca\", \"orientation\": \"v\", \"showlegend\": true, \"textposition\": \"auto\", \"type\": \"bar\", \"x\": [\"Covaxin, Oxford/AstraZeneca\"], \"xaxis\": \"x\", \"y\": [25685011.0], \"yaxis\": \"y\"}],                        {\"barmode\": \"relative\", \"legend\": {\"title\": {\"text\": \"color\"}, \"tracegroupgap\": 0}, \"margin\": {\"t\": 60}, \"template\": {\"data\": {\"bar\": [{\"error_x\": {\"color\": \"#2a3f5f\"}, \"error_y\": {\"color\": \"#2a3f5f\"}, \"marker\": {\"line\": {\"color\": \"#E5ECF6\", \"width\": 0.5}}, \"type\": \"bar\"}], \"barpolar\": [{\"marker\": {\"line\": {\"color\": \"#E5ECF6\", \"width\": 0.5}}, \"type\": \"barpolar\"}], \"carpet\": [{\"aaxis\": {\"endlinecolor\": \"#2a3f5f\", \"gridcolor\": \"white\", \"linecolor\": \"white\", \"minorgridcolor\": \"white\", \"startlinecolor\": \"#2a3f5f\"}, \"baxis\": {\"endlinecolor\": \"#2a3f5f\", \"gridcolor\": \"white\", \"linecolor\": \"white\", \"minorgridcolor\": \"white\", \"startlinecolor\": \"#2a3f5f\"}, \"type\": \"carpet\"}], \"choropleth\": [{\"colorbar\": {\"outlinewidth\": 0, \"ticks\": \"\"}, \"type\": \"choropleth\"}], \"contour\": [{\"colorbar\": {\"outlinewidth\": 0, \"ticks\": \"\"}, \"colorscale\": [[0.0, \"#0d0887\"], [0.1111111111111111, \"#46039f\"], [0.2222222222222222, \"#7201a8\"], [0.3333333333333333, \"#9c179e\"], [0.4444444444444444, \"#bd3786\"], [0.5555555555555556, \"#d8576b\"], [0.6666666666666666, \"#ed7953\"], [0.7777777777777778, \"#fb9f3a\"], [0.8888888888888888, \"#fdca26\"], [1.0, \"#f0f921\"]], \"type\": \"contour\"}], \"contourcarpet\": [{\"colorbar\": {\"outlinewidth\": 0, \"ticks\": \"\"}, \"type\": \"contourcarpet\"}], \"heatmap\": [{\"colorbar\": {\"outlinewidth\": 0, \"ticks\": \"\"}, \"colorscale\": [[0.0, \"#0d0887\"], [0.1111111111111111, \"#46039f\"], [0.2222222222222222, \"#7201a8\"], [0.3333333333333333, \"#9c179e\"], [0.4444444444444444, \"#bd3786\"], [0.5555555555555556, \"#d8576b\"], [0.6666666666666666, \"#ed7953\"], [0.7777777777777778, \"#fb9f3a\"], [0.8888888888888888, \"#fdca26\"], [1.0, \"#f0f921\"]], \"type\": \"heatmap\"}], \"heatmapgl\": [{\"colorbar\": {\"outlinewidth\": 0, \"ticks\": \"\"}, \"colorscale\": [[0.0, \"#0d0887\"], [0.1111111111111111, \"#46039f\"], [0.2222222222222222, \"#7201a8\"], [0.3333333333333333, \"#9c179e\"], [0.4444444444444444, \"#bd3786\"], [0.5555555555555556, \"#d8576b\"], [0.6666666666666666, \"#ed7953\"], [0.7777777777777778, \"#fb9f3a\"], [0.8888888888888888, \"#fdca26\"], [1.0, \"#f0f921\"]], \"type\": \"heatmapgl\"}], \"histogram\": [{\"marker\": {\"colorbar\": {\"outlinewidth\": 0, \"ticks\": \"\"}}, \"type\": \"histogram\"}], \"histogram2d\": [{\"colorbar\": {\"outlinewidth\": 0, \"ticks\": \"\"}, \"colorscale\": [[0.0, \"#0d0887\"], [0.1111111111111111, \"#46039f\"], [0.2222222222222222, \"#7201a8\"], [0.3333333333333333, \"#9c179e\"], [0.4444444444444444, \"#bd3786\"], [0.5555555555555556, \"#d8576b\"], [0.6666666666666666, \"#ed7953\"], [0.7777777777777778, \"#fb9f3a\"], [0.8888888888888888, \"#fdca26\"], [1.0, \"#f0f921\"]], \"type\": \"histogram2d\"}], \"histogram2dcontour\": [{\"colorbar\": {\"outlinewidth\": 0, \"ticks\": \"\"}, \"colorscale\": [[0.0, \"#0d0887\"], [0.1111111111111111, \"#46039f\"], [0.2222222222222222, \"#7201a8\"], [0.3333333333333333, \"#9c179e\"], [0.4444444444444444, \"#bd3786\"], [0.5555555555555556, \"#d8576b\"], [0.6666666666666666, \"#ed7953\"], [0.7777777777777778, \"#fb9f3a\"], [0.8888888888888888, \"#fdca26\"], [1.0, \"#f0f921\"]], \"type\": \"histogram2dcontour\"}], \"mesh3d\": [{\"colorbar\": {\"outlinewidth\": 0, \"ticks\": \"\"}, \"type\": \"mesh3d\"}], \"parcoords\": [{\"line\": {\"colorbar\": {\"outlinewidth\": 0, \"ticks\": \"\"}}, \"type\": \"parcoords\"}], \"pie\": [{\"automargin\": true, \"type\": \"pie\"}], \"scatter\": [{\"marker\": {\"colorbar\": {\"outlinewidth\": 0, \"ticks\": \"\"}}, \"type\": \"scatter\"}], \"scatter3d\": [{\"line\": {\"colorbar\": {\"outlinewidth\": 0, \"ticks\": \"\"}}, \"marker\": {\"colorbar\": {\"outlinewidth\": 0, \"ticks\": \"\"}}, \"type\": \"scatter3d\"}], \"scattercarpet\": [{\"marker\": {\"colorbar\": {\"outlinewidth\": 0, \"ticks\": \"\"}}, \"type\": \"scattercarpet\"}], \"scattergeo\": [{\"marker\": {\"colorbar\": {\"outlinewidth\": 0, \"ticks\": \"\"}}, \"type\": \"scattergeo\"}], \"scattergl\": [{\"marker\": {\"colorbar\": {\"outlinewidth\": 0, \"ticks\": \"\"}}, \"type\": \"scattergl\"}], \"scattermapbox\": [{\"marker\": {\"colorbar\": {\"outlinewidth\": 0, \"ticks\": \"\"}}, \"type\": \"scattermapbox\"}], \"scatterpolar\": [{\"marker\": {\"colorbar\": {\"outlinewidth\": 0, \"ticks\": \"\"}}, \"type\": \"scatterpolar\"}], \"scatterpolargl\": [{\"marker\": {\"colorbar\": {\"outlinewidth\": 0, \"ticks\": \"\"}}, \"type\": \"scatterpolargl\"}], \"scatterternary\": [{\"marker\": {\"colorbar\": {\"outlinewidth\": 0, \"ticks\": \"\"}}, \"type\": \"scatterternary\"}], \"surface\": [{\"colorbar\": {\"outlinewidth\": 0, \"ticks\": \"\"}, \"colorscale\": [[0.0, \"#0d0887\"], [0.1111111111111111, \"#46039f\"], [0.2222222222222222, \"#7201a8\"], [0.3333333333333333, \"#9c179e\"], [0.4444444444444444, \"#bd3786\"], [0.5555555555555556, \"#d8576b\"], [0.6666666666666666, \"#ed7953\"], [0.7777777777777778, \"#fb9f3a\"], [0.8888888888888888, \"#fdca26\"], [1.0, \"#f0f921\"]], \"type\": \"surface\"}], \"table\": [{\"cells\": {\"fill\": {\"color\": \"#EBF0F8\"}, \"line\": {\"color\": \"white\"}}, \"header\": {\"fill\": {\"color\": \"#C8D4E3\"}, \"line\": {\"color\": \"white\"}}, \"type\": \"table\"}]}, \"layout\": {\"annotationdefaults\": {\"arrowcolor\": \"#2a3f5f\", \"arrowhead\": 0, \"arrowwidth\": 1}, \"autotypenumbers\": \"strict\", \"coloraxis\": {\"colorbar\": {\"outlinewidth\": 0, \"ticks\": \"\"}}, \"colorscale\": {\"diverging\": [[0, \"#8e0152\"], [0.1, \"#c51b7d\"], [0.2, \"#de77ae\"], [0.3, \"#f1b6da\"], [0.4, \"#fde0ef\"], [0.5, \"#f7f7f7\"], [0.6, \"#e6f5d0\"], [0.7, \"#b8e186\"], [0.8, \"#7fbc41\"], [0.9, \"#4d9221\"], [1, \"#276419\"]], \"sequential\": [[0.0, \"#0d0887\"], [0.1111111111111111, \"#46039f\"], [0.2222222222222222, \"#7201a8\"], [0.3333333333333333, \"#9c179e\"], [0.4444444444444444, \"#bd3786\"], [0.5555555555555556, \"#d8576b\"], [0.6666666666666666, \"#ed7953\"], [0.7777777777777778, \"#fb9f3a\"], [0.8888888888888888, \"#fdca26\"], [1.0, \"#f0f921\"]], \"sequentialminus\": [[0.0, \"#0d0887\"], [0.1111111111111111, \"#46039f\"], [0.2222222222222222, \"#7201a8\"], [0.3333333333333333, \"#9c179e\"], [0.4444444444444444, \"#bd3786\"], [0.5555555555555556, \"#d8576b\"], [0.6666666666666666, \"#ed7953\"], [0.7777777777777778, \"#fb9f3a\"], [0.8888888888888888, \"#fdca26\"], [1.0, \"#f0f921\"]]}, \"colorway\": [\"#636efa\", \"#EF553B\", \"#00cc96\", \"#ab63fa\", \"#FFA15A\", \"#19d3f3\", \"#FF6692\", \"#B6E880\", \"#FF97FF\", \"#FECB52\"], \"font\": {\"color\": \"#2a3f5f\"}, \"geo\": {\"bgcolor\": \"white\", \"lakecolor\": \"white\", \"landcolor\": \"#E5ECF6\", \"showlakes\": true, \"showland\": true, \"subunitcolor\": \"white\"}, \"hoverlabel\": {\"align\": \"left\"}, \"hovermode\": \"closest\", \"mapbox\": {\"style\": \"light\"}, \"paper_bgcolor\": \"white\", \"plot_bgcolor\": \"#E5ECF6\", \"polar\": {\"angularaxis\": {\"gridcolor\": \"white\", \"linecolor\": \"white\", \"ticks\": \"\"}, \"bgcolor\": \"#E5ECF6\", \"radialaxis\": {\"gridcolor\": \"white\", \"linecolor\": \"white\", \"ticks\": \"\"}}, \"scene\": {\"xaxis\": {\"backgroundcolor\": \"#E5ECF6\", \"gridcolor\": \"white\", \"gridwidth\": 2, \"linecolor\": \"white\", \"showbackground\": true, \"ticks\": \"\", \"zerolinecolor\": \"white\"}, \"yaxis\": {\"backgroundcolor\": \"#E5ECF6\", \"gridcolor\": \"white\", \"gridwidth\": 2, \"linecolor\": \"white\", \"showbackground\": true, \"ticks\": \"\", \"zerolinecolor\": \"white\"}, \"zaxis\": {\"backgroundcolor\": \"#E5ECF6\", \"gridcolor\": \"white\", \"gridwidth\": 2, \"linecolor\": \"white\", \"showbackground\": true, \"ticks\": \"\", \"zerolinecolor\": \"white\"}}, \"shapedefaults\": {\"line\": {\"color\": \"#2a3f5f\"}}, \"ternary\": {\"aaxis\": {\"gridcolor\": \"white\", \"linecolor\": \"white\", \"ticks\": \"\"}, \"baxis\": {\"gridcolor\": \"white\", \"linecolor\": \"white\", \"ticks\": \"\"}, \"bgcolor\": \"#E5ECF6\", \"caxis\": {\"gridcolor\": \"white\", \"linecolor\": \"white\", \"ticks\": \"\"}}, \"title\": {\"x\": 0.05}, \"xaxis\": {\"automargin\": true, \"gridcolor\": \"white\", \"linecolor\": \"white\", \"ticks\": \"\", \"title\": {\"standoff\": 15}, \"zerolinecolor\": \"white\", \"zerolinewidth\": 2}, \"yaxis\": {\"automargin\": true, \"gridcolor\": \"white\", \"linecolor\": \"white\", \"ticks\": \"\", \"title\": {\"standoff\": 15}, \"zerolinecolor\": \"white\", \"zerolinewidth\": 2}}}, \"xaxis\": {\"anchor\": \"y\", \"domain\": [0.0, 1.0], \"title\": {\"text\": \"x\"}}, \"yaxis\": {\"anchor\": \"x\", \"domain\": [0.0, 1.0], \"title\": {\"text\": \"y\"}}},                        {\"responsive\": true}                    ).then(function(){\n",
       "                            \n",
       "var gd = document.getElementById('515a252a-a710-4907-b3c5-7d69577368c8');\n",
       "var x = new MutationObserver(function (mutations, observer) {{\n",
       "        var display = window.getComputedStyle(gd).display;\n",
       "        if (!display || display === 'none') {{\n",
       "            console.log([gd, 'removed!']);\n",
       "            Plotly.purge(gd);\n",
       "            observer.disconnect();\n",
       "        }}\n",
       "}});\n",
       "\n",
       "// Listen for the removal of the full notebook cells\n",
       "var notebookContainer = gd.closest('#notebook-container');\n",
       "if (notebookContainer) {{\n",
       "    x.observe(notebookContainer, {childList: true});\n",
       "}}\n",
       "\n",
       "// Listen for the clearing of the current output cell\n",
       "var outputEl = gd.closest('.output');\n",
       "if (outputEl) {{\n",
       "    x.observe(outputEl, {childList: true});\n",
       "}}\n",
       "\n",
       "                        })                };                });            </script>        </div>"
      ]
     },
     "metadata": {},
     "output_type": "display_data"
    }
   ],
   "source": [
    "fig = px.bar(x=vaccines_top5['vaccines'], y=vaccines_top5['total_vaccinations'],\n",
    "            color=vaccines_top5['vaccines'],\n",
    "            color_discrete_sequence = px.colors.sequential.Viridis[1:][::2])\n",
    "fig.show()"
   ]
  },
  {
   "cell_type": "markdown",
   "metadata": {},
   "source": [
    "**So, the most commonly used vaccination scheme is \"Moderna, Pfizer/BioNTech\". And, as we can see, Pfizer/BioNTech vaccine presents in 3/5 the most used vaccination schemes.**\n",
    "\n"
   ]
  },
  {
   "cell_type": "code",
   "execution_count": 20,
   "metadata": {},
   "outputs": [
    {
     "data": {
      "text/html": [
       "<div>\n",
       "<style scoped>\n",
       "    .dataframe tbody tr th:only-of-type {\n",
       "        vertical-align: middle;\n",
       "    }\n",
       "\n",
       "    .dataframe tbody tr th {\n",
       "        vertical-align: top;\n",
       "    }\n",
       "\n",
       "    .dataframe thead th {\n",
       "        text-align: right;\n",
       "    }\n",
       "</style>\n",
       "<table border=\"1\" class=\"dataframe\">\n",
       "  <thead>\n",
       "    <tr style=\"text-align: right;\">\n",
       "      <th></th>\n",
       "      <th>country</th>\n",
       "      <th>iso_code</th>\n",
       "      <th>vaccines</th>\n",
       "      <th>total_vaccinations</th>\n",
       "    </tr>\n",
       "  </thead>\n",
       "  <tbody>\n",
       "    <tr>\n",
       "      <th>0</th>\n",
       "      <td>Albania</td>\n",
       "      <td>ALB</td>\n",
       "      <td>Pfizer/BioNTech</td>\n",
       "      <td>0.0</td>\n",
       "    </tr>\n",
       "    <tr>\n",
       "      <th>1</th>\n",
       "      <td>Albania</td>\n",
       "      <td>ALB</td>\n",
       "      <td>Pfizer/BioNTech</td>\n",
       "      <td>NaN</td>\n",
       "    </tr>\n",
       "    <tr>\n",
       "      <th>2</th>\n",
       "      <td>Albania</td>\n",
       "      <td>ALB</td>\n",
       "      <td>Pfizer/BioNTech</td>\n",
       "      <td>128.0</td>\n",
       "    </tr>\n",
       "    <tr>\n",
       "      <th>3</th>\n",
       "      <td>Albania</td>\n",
       "      <td>ALB</td>\n",
       "      <td>Pfizer/BioNTech</td>\n",
       "      <td>188.0</td>\n",
       "    </tr>\n",
       "    <tr>\n",
       "      <th>4</th>\n",
       "      <td>Albania</td>\n",
       "      <td>ALB</td>\n",
       "      <td>Pfizer/BioNTech</td>\n",
       "      <td>266.0</td>\n",
       "    </tr>\n",
       "    <tr>\n",
       "      <th>...</th>\n",
       "      <td>...</td>\n",
       "      <td>...</td>\n",
       "      <td>...</td>\n",
       "      <td>...</td>\n",
       "    </tr>\n",
       "    <tr>\n",
       "      <th>5819</th>\n",
       "      <td>Zimbabwe</td>\n",
       "      <td>ZWE</td>\n",
       "      <td>Sinopharm/Beijing</td>\n",
       "      <td>32014.0</td>\n",
       "    </tr>\n",
       "    <tr>\n",
       "      <th>5820</th>\n",
       "      <td>Zimbabwe</td>\n",
       "      <td>ZWE</td>\n",
       "      <td>Sinopharm/Beijing</td>\n",
       "      <td>32240.0</td>\n",
       "    </tr>\n",
       "    <tr>\n",
       "      <th>5821</th>\n",
       "      <td>Zimbabwe</td>\n",
       "      <td>ZWE</td>\n",
       "      <td>Sinopharm/Beijing</td>\n",
       "      <td>35518.0</td>\n",
       "    </tr>\n",
       "    <tr>\n",
       "      <th>5822</th>\n",
       "      <td>Zimbabwe</td>\n",
       "      <td>ZWE</td>\n",
       "      <td>Sinopharm/Beijing</td>\n",
       "      <td>35761.0</td>\n",
       "    </tr>\n",
       "    <tr>\n",
       "      <th>5823</th>\n",
       "      <td>Zimbabwe</td>\n",
       "      <td>ZWE</td>\n",
       "      <td>Sinopharm/Beijing</td>\n",
       "      <td>35901.0</td>\n",
       "    </tr>\n",
       "  </tbody>\n",
       "</table>\n",
       "<p>5824 rows × 4 columns</p>\n",
       "</div>"
      ],
      "text/plain": [
       "       country iso_code           vaccines  total_vaccinations\n",
       "0      Albania      ALB    Pfizer/BioNTech                 0.0\n",
       "1      Albania      ALB    Pfizer/BioNTech                 NaN\n",
       "2      Albania      ALB    Pfizer/BioNTech               128.0\n",
       "3      Albania      ALB    Pfizer/BioNTech               188.0\n",
       "4      Albania      ALB    Pfizer/BioNTech               266.0\n",
       "...        ...      ...                ...                 ...\n",
       "5819  Zimbabwe      ZWE  Sinopharm/Beijing             32014.0\n",
       "5820  Zimbabwe      ZWE  Sinopharm/Beijing             32240.0\n",
       "5821  Zimbabwe      ZWE  Sinopharm/Beijing             35518.0\n",
       "5822  Zimbabwe      ZWE  Sinopharm/Beijing             35761.0\n",
       "5823  Zimbabwe      ZWE  Sinopharm/Beijing             35901.0\n",
       "\n",
       "[5824 rows x 4 columns]"
      ]
     },
     "execution_count": 20,
     "metadata": {},
     "output_type": "execute_result"
    }
   ],
   "source": [
    "vaccinebycountry_df = covid_df[['country','iso_code','vaccines', 'total_vaccinations']]\n",
    "vaccinebycountry_df\n",
    "\n"
   ]
  },
  {
   "cell_type": "code",
   "execution_count": 69,
   "metadata": {
    "scrolled": true
   },
   "outputs": [
    {
     "data": {
      "text/html": [
       "<div>\n",
       "<style scoped>\n",
       "    .dataframe tbody tr th:only-of-type {\n",
       "        vertical-align: middle;\n",
       "    }\n",
       "\n",
       "    .dataframe tbody tr th {\n",
       "        vertical-align: top;\n",
       "    }\n",
       "\n",
       "    .dataframe thead th {\n",
       "        text-align: right;\n",
       "    }\n",
       "</style>\n",
       "<table border=\"1\" class=\"dataframe\">\n",
       "  <thead>\n",
       "    <tr style=\"text-align: right;\">\n",
       "      <th></th>\n",
       "      <th>country</th>\n",
       "      <th>total_vaccinations</th>\n",
       "      <th>vaccines</th>\n",
       "      <th>iso_code</th>\n",
       "    </tr>\n",
       "  </thead>\n",
       "  <tbody>\n",
       "    <tr>\n",
       "      <th>0</th>\n",
       "      <td>Albania</td>\n",
       "      <td>15793.0</td>\n",
       "      <td>Pfizer/BioNTech</td>\n",
       "      <td>ALB</td>\n",
       "    </tr>\n",
       "    <tr>\n",
       "      <th>1</th>\n",
       "      <td>Algeria</td>\n",
       "      <td>75000.0</td>\n",
       "      <td>Sputnik V</td>\n",
       "      <td>DZA</td>\n",
       "    </tr>\n",
       "    <tr>\n",
       "      <th>2</th>\n",
       "      <td>Andorra</td>\n",
       "      <td>2526.0</td>\n",
       "      <td>Pfizer/BioNTech</td>\n",
       "      <td>AND</td>\n",
       "    </tr>\n",
       "    <tr>\n",
       "      <th>3</th>\n",
       "      <td>Anguilla</td>\n",
       "      <td>3929.0</td>\n",
       "      <td>Oxford/AstraZeneca</td>\n",
       "      <td>AIA</td>\n",
       "    </tr>\n",
       "    <tr>\n",
       "      <th>4</th>\n",
       "      <td>Argentina</td>\n",
       "      <td>1774438.0</td>\n",
       "      <td>Oxford/AstraZeneca, Sinopharm/Beijing, Sputnik V</td>\n",
       "      <td>ARG</td>\n",
       "    </tr>\n",
       "    <tr>\n",
       "      <th>...</th>\n",
       "      <td>...</td>\n",
       "      <td>...</td>\n",
       "      <td>...</td>\n",
       "      <td>...</td>\n",
       "    </tr>\n",
       "    <tr>\n",
       "      <th>125</th>\n",
       "      <td>United States</td>\n",
       "      <td>95721290.0</td>\n",
       "      <td>Johnson&amp;Johnson, Moderna, Pfizer/BioNTech</td>\n",
       "      <td>USA</td>\n",
       "    </tr>\n",
       "    <tr>\n",
       "      <th>126</th>\n",
       "      <td>Uruguay</td>\n",
       "      <td>147749.0</td>\n",
       "      <td>Sinovac</td>\n",
       "      <td>URY</td>\n",
       "    </tr>\n",
       "    <tr>\n",
       "      <th>127</th>\n",
       "      <td>Venezuela</td>\n",
       "      <td>12194.0</td>\n",
       "      <td>Sputnik V</td>\n",
       "      <td>VEN</td>\n",
       "    </tr>\n",
       "    <tr>\n",
       "      <th>128</th>\n",
       "      <td>Wales</td>\n",
       "      <td>1225604.0</td>\n",
       "      <td>Oxford/AstraZeneca, Pfizer/BioNTech</td>\n",
       "      <td>NaN</td>\n",
       "    </tr>\n",
       "    <tr>\n",
       "      <th>129</th>\n",
       "      <td>Zimbabwe</td>\n",
       "      <td>35901.0</td>\n",
       "      <td>Sinopharm/Beijing</td>\n",
       "      <td>ZWE</td>\n",
       "    </tr>\n",
       "  </tbody>\n",
       "</table>\n",
       "<p>130 rows × 4 columns</p>\n",
       "</div>"
      ],
      "text/plain": [
       "           country  total_vaccinations  \\\n",
       "0          Albania             15793.0   \n",
       "1          Algeria             75000.0   \n",
       "2          Andorra              2526.0   \n",
       "3         Anguilla              3929.0   \n",
       "4        Argentina           1774438.0   \n",
       "..             ...                 ...   \n",
       "125  United States          95721290.0   \n",
       "126        Uruguay            147749.0   \n",
       "127      Venezuela             12194.0   \n",
       "128          Wales           1225604.0   \n",
       "129       Zimbabwe             35901.0   \n",
       "\n",
       "                                             vaccines iso_code  \n",
       "0                                     Pfizer/BioNTech      ALB  \n",
       "1                                           Sputnik V      DZA  \n",
       "2                                     Pfizer/BioNTech      AND  \n",
       "3                                  Oxford/AstraZeneca      AIA  \n",
       "4    Oxford/AstraZeneca, Sinopharm/Beijing, Sputnik V      ARG  \n",
       "..                                                ...      ...  \n",
       "125         Johnson&Johnson, Moderna, Pfizer/BioNTech      USA  \n",
       "126                                           Sinovac      URY  \n",
       "127                                         Sputnik V      VEN  \n",
       "128               Oxford/AstraZeneca, Pfizer/BioNTech      NaN  \n",
       "129                                 Sinopharm/Beijing      ZWE  \n",
       "\n",
       "[130 rows x 4 columns]"
      ]
     },
     "execution_count": 69,
     "metadata": {},
     "output_type": "execute_result"
    }
   ],
   "source": [
    "total_vaccinations= vaccinebycountry_df.groupby(['country']).max()[['total_vaccinations'\n",
    "                     ,'vaccines','iso_code']].reset_index()\n",
    "total_vaccinations"
   ]
  },
  {
   "cell_type": "code",
   "execution_count": 74,
   "metadata": {},
   "outputs": [
    {
     "data": {
      "application/vnd.plotly.v1+json": {
       "config": {
        "plotlyServerURL": "https://plot.ly"
       },
       "data": [
        {
         "colorscale": [
          [
           0,
           "#3e4989"
          ],
          [
           1,
           "#3e4989"
          ]
         ],
         "customdata": [
          [
           15793
          ],
          [
           2526
          ],
          [
           23939
          ],
          [
           26580
          ],
          [
           204586
          ],
          [
           265223
          ],
          [
           100000
          ],
          [
           75258
          ],
          [
           44894
          ],
          [
           5130
          ],
          [
           22040
          ],
          [
           148950
          ],
          [
           360000
          ],
          [
           65956
          ],
          [
           195923
          ],
          [
           105416
          ],
          [
           2400
          ],
          [
           18000
          ],
          [
           214492
          ],
          [
           327000
          ],
          [
           611314
          ],
          [
           578983
          ],
          [
           6433
          ]
         ],
         "geo": "geo",
         "hovertemplate": "Name of vaccine=Pfizer/BioNTech<br>Country=%{location}<br>Number of vaccinations=%{customdata[0]}<extra></extra>",
         "locationmode": "country names",
         "locations": [
          "Albania",
          "Andorra",
          "Bermuda",
          "Cayman Islands",
          "Costa Rica",
          "Croatia",
          "Cyprus",
          "Ecuador",
          "Gibraltar",
          "Greenland",
          "Guernsey",
          "Japan",
          "Kuwait",
          "Lebanon",
          "Malaysia",
          "Malta",
          "Monaco",
          "New Zealand",
          "Panama",
          "Qatar",
          "Singapore",
          "Slovakia",
          "Turks and Caicos Islands"
         ],
         "name": "Pfizer/BioNTech",
         "showlegend": true,
         "showscale": false,
         "type": "choropleth",
         "z": [
          1,
          1,
          1,
          1,
          1,
          1,
          1,
          1,
          1,
          1,
          1,
          1,
          1,
          1,
          1,
          1,
          1,
          1,
          1,
          1,
          1,
          1,
          1
         ]
        },
        {
         "colorscale": [
          [
           0,
           "#482878"
          ],
          [
           1,
           "#482878"
          ]
         ],
         "customdata": [
          [
           75000
          ],
          [
           20944
          ],
          [
           126889
          ],
          [
           10000
          ],
          [
           22294
          ],
          [
           2861
          ],
          [
           3065
          ],
          [
           12194
          ]
         ],
         "geo": "geo",
         "hovertemplate": "Name of vaccine=Sputnik V<br>Country=%{location}<br>Number of vaccinations=%{customdata[0]}<extra></extra>",
         "locationmode": "country names",
         "locations": [
          "Algeria",
          "Belarus",
          "Bolivia",
          "Iran",
          "Kazakhstan",
          "Paraguay",
          "San Marino",
          "Venezuela"
         ],
         "name": "Sputnik V",
         "showlegend": true,
         "showscale": false,
         "type": "choropleth",
         "z": [
          1,
          1,
          1,
          1,
          1,
          1,
          1,
          1
         ]
        },
        {
         "colorscale": [
          [
           0,
           "#fde725"
          ],
          [
           1,
           "#fde725"
          ]
         ],
         "customdata": [
          [
           3929
          ],
          [
           4013963
          ],
          [
           49393
          ],
          [
           2489
          ],
          [
           7202
          ],
          [
           547091
          ],
          [
           16000
          ],
          [
           1732
          ],
          [
           300000
          ],
          [
           146
          ],
          [
           1852
          ],
          [
           175456
          ],
          [
           3843
          ],
          [
           6447
          ],
          [
           4926
          ],
          [
           652
          ],
          [
           103142
          ],
          [
           402264
          ],
          [
           107
          ],
          [
           2094
          ],
          [
           752098
          ],
          [
           440
          ],
          [
           29378
          ]
         ],
         "geo": "geo",
         "hovertemplate": "Name of vaccine=Oxford/AstraZeneca<br>Country=%{location}<br>Number of vaccinations=%{customdata[0]}<extra></extra>",
         "locationmode": "country names",
         "locations": [
          "Anguilla",
          "Bangladesh",
          "Barbados",
          "Belize",
          "Dominica",
          "Dominican Republic",
          "El Salvador",
          "Falkland Islands",
          "Ghana",
          "Grenada",
          "Guyana",
          "Maldives",
          "Mauritius",
          "Moldova",
          "Mongolia",
          "Montserrat",
          "Myanmar",
          "Nepal",
          "Saint Helena",
          "Saint Lucia",
          "Sri Lanka",
          "Trinidad and Tobago",
          "Ukraine"
         ],
         "name": "Oxford/AstraZeneca",
         "showlegend": true,
         "showscale": false,
         "type": "choropleth",
         "z": [
          1,
          1,
          1,
          1,
          1,
          1,
          1,
          1,
          1,
          1,
          1,
          1,
          1,
          1,
          1,
          1,
          1,
          1,
          1,
          1,
          1,
          1,
          1
         ]
        },
        {
         "colorscale": [
          [
           0,
           "#26828e"
          ],
          [
           1,
           "#26828e"
          ]
         ],
         "customdata": [
          [
           1774438
          ],
          [
           72882
          ]
         ],
         "geo": "geo",
         "hovertemplate": "Name of vaccine=Oxford/AstraZeneca, Sinopharm/Beijing, Sputnik V<br>Country=%{location}<br>Number of vaccinations=%{customdata[0]}<extra></extra>",
         "locationmode": "country names",
         "locations": [
          "Argentina",
          "Pakistan"
         ],
         "name": "Oxford/AstraZeneca, Sinopharm/Beijing, Sputnik V",
         "showlegend": true,
         "showscale": false,
         "type": "choropleth",
         "z": [
          1,
          1
         ]
        },
        {
         "colorscale": [
          [
           0,
           "#1f9e89"
          ],
          [
           1,
           "#1f9e89"
          ]
         ],
         "customdata": [
          [
           106200
          ],
          [
           20248632
          ],
          [
           27326
          ],
          [
           33511
          ],
          [
           648028
          ],
          [
           98168
          ],
          [
           1712891
          ],
          [
           1941918
          ],
          [
           214052
          ],
          [
           500635
          ],
          [
           1010832
          ],
          [
           24064182
          ],
          [
           1225604
          ]
         ],
         "geo": "geo",
         "hovertemplate": "Name of vaccine=Oxford/AstraZeneca, Pfizer/BioNTech<br>Country=%{location}<br>Number of vaccinations=%{customdata[0]}<extra></extra>",
         "locationmode": "country names",
         "locations": [
          "Australia",
          "England",
          "Isle of Man",
          "Jersey",
          "Northern Ireland",
          "Oman",
          "Saudi Arabia",
          "Scotland",
          "Slovenia",
          "South Korea",
          "Sweden",
          "United Kingdom",
          "Wales"
         ],
         "name": "Oxford/AstraZeneca, Pfizer/BioNTech",
         "showlegend": true,
         "showscale": false,
         "type": "choropleth",
         "z": [
          1,
          1,
          1,
          1,
          1,
          1,
          1,
          1,
          1,
          1,
          1,
          1,
          1
         ]
        },
        {
         "colorscale": [
          [
           0,
           "#35b779"
          ],
          [
           1,
           "#35b779"
          ]
         ],
         "customdata": [
          [
           860142
          ],
          [
           1016646
          ],
          [
           309145
          ],
          [
           948144
          ],
          [
           778126
          ],
          [
           155175
          ],
          [
           600476
          ],
          [
           6197209
          ],
          [
           8431264
          ],
          [
           1190723
          ],
          [
           42027
          ],
          [
           525768
          ],
          [
           6005183
          ],
          [
           88466
          ],
          [
           331865
          ],
          [
           48961
          ],
          [
           1619839
          ],
          [
           622708
          ],
          [
           4086863
          ],
          [
           1918443
          ],
          [
           230000
          ],
          [
           4989505
          ]
         ],
         "geo": "geo",
         "hovertemplate": "Name of vaccine=Moderna, Oxford/AstraZeneca, Pfizer/BioNTech<br>Country=%{location}<br>Number of vaccinations=%{customdata[0]}<extra></extra>",
         "locationmode": "country names",
         "locations": [
          "Austria",
          "Belgium",
          "Bulgaria",
          "Czechia",
          "Denmark",
          "Estonia",
          "Finland",
          "France",
          "Germany",
          "Greece",
          "Iceland",
          "Ireland",
          "Italy",
          "Latvia",
          "Lithuania",
          "Luxembourg",
          "Netherlands",
          "Norway",
          "Poland",
          "Romania",
          "Rwanda",
          "Spain"
         ],
         "name": "Moderna, Oxford/AstraZeneca, Pfizer/BioNTech",
         "showlegend": true,
         "showscale": false,
         "type": "choropleth",
         "z": [
          1,
          1,
          1,
          1,
          1,
          1,
          1,
          1,
          1,
          1,
          1,
          1,
          1,
          1,
          1,
          1,
          1,
          1,
          1,
          1,
          1,
          1
         ]
        },
        {
         "colorscale": [
          [
           0,
           "#6ece58"
          ],
          [
           1,
           "#6ece58"
          ]
         ],
         "customdata": [
          [
           428635
          ],
          [
           4837576
          ],
          [
           44000
          ],
          [
           7262
          ],
          [
           10360283
          ],
          [
           147749
          ]
         ],
         "geo": "geo",
         "hovertemplate": "Name of vaccine=Sinovac<br>Country=%{location}<br>Number of vaccinations=%{customdata[0]}<extra></extra>",
         "locationmode": "country names",
         "locations": [
          "Azerbaijan",
          "Indonesia",
          "Philippines",
          "Thailand",
          "Turkey",
          "Uruguay"
         ],
         "name": "Sinovac",
         "showlegend": true,
         "showscale": false,
         "type": "choropleth",
         "z": [
          1,
          1,
          1,
          1,
          1,
          1
         ]
        },
        {
         "colorscale": [
          [
           0,
           "#b5de2b"
          ],
          [
           1,
           "#b5de2b"
          ]
         ],
         "customdata": [
          [
           517901
          ],
          [
           1792912
          ]
         ],
         "geo": "geo",
         "hovertemplate": "Name of vaccine=Oxford/AstraZeneca, Pfizer/BioNTech, Sinopharm/Beijing, Sputnik V<br>Country=%{location}<br>Number of vaccinations=%{customdata[0]}<extra></extra>",
         "locationmode": "country names",
         "locations": [
          "Bahrain",
          "Serbia"
         ],
         "name": "Oxford/AstraZeneca, Pfizer/BioNTech, Sinopharm/Beijing, Sputnik V",
         "showlegend": true,
         "showscale": false,
         "type": "choropleth",
         "z": [
          1,
          1
         ]
        },
        {
         "colorscale": [
          [
           0,
           "#FF97FF"
          ],
          [
           1,
           "#FF97FF"
          ]
         ],
         "customdata": [
          [
           11756131
          ]
         ],
         "geo": "geo",
         "hovertemplate": "Name of vaccine=Oxford/AstraZeneca, Sinovac<br>Country=%{location}<br>Number of vaccinations=%{customdata[0]}<extra></extra>",
         "locationmode": "country names",
         "locations": [
          "Brazil"
         ],
         "name": "Oxford/AstraZeneca, Sinovac",
         "showlegend": true,
         "showscale": false,
         "type": "choropleth",
         "z": [
          1
         ]
        },
        {
         "colorscale": [
          [
           0,
           "#FECB52"
          ],
          [
           1,
           "#FECB52"
          ]
         ],
         "customdata": [
          [
           109854
          ],
          [
           1315
          ],
          [
           2000
          ],
          [
           423934
          ],
          [
           68017
          ],
          [
           35901
          ]
         ],
         "geo": "geo",
         "hovertemplate": "Name of vaccine=Sinopharm/Beijing<br>Country=%{location}<br>Number of vaccinations=%{customdata[0]}<extra></extra>",
         "locationmode": "country names",
         "locations": [
          "Cambodia",
          "Egypt",
          "Macao",
          "Peru",
          "Senegal",
          "Zimbabwe"
         ],
         "name": "Sinopharm/Beijing",
         "showlegend": true,
         "showscale": false,
         "type": "choropleth",
         "z": [
          1,
          1,
          1,
          1,
          1,
          1
         ]
        },
        {
         "colorscale": [
          [
           0,
           "#636efa"
          ],
          [
           1,
           "#636efa"
          ]
         ],
         "customdata": [
          [
           2621289
          ],
          [
           8068
          ],
          [
           9072077
          ],
          [
           3126
          ],
          [
           1055085
          ],
          [
           948678
          ]
         ],
         "geo": "geo",
         "hovertemplate": "Name of vaccine=Moderna, Pfizer/BioNTech<br>Country=%{location}<br>Number of vaccinations=%{customdata[0]}<extra></extra>",
         "locationmode": "country names",
         "locations": [
          "Canada",
          "Faeroe Islands",
          "Israel",
          "Liechtenstein",
          "Portugal",
          "Switzerland"
         ],
         "name": "Moderna, Pfizer/BioNTech",
         "showlegend": true,
         "showscale": false,
         "type": "choropleth",
         "z": [
          1,
          1,
          1,
          1,
          1,
          1
         ]
        },
        {
         "colorscale": [
          [
           0,
           "#EF553B"
          ],
          [
           1,
           "#EF553B"
          ]
         ],
         "customdata": [
          [
           5722212
          ],
          [
           360635
          ],
          [
           130500
          ],
          [
           11000
          ]
         ],
         "geo": "geo",
         "hovertemplate": "Name of vaccine=Pfizer/BioNTech, Sinovac<br>Country=%{location}<br>Number of vaccinations=%{customdata[0]}<extra></extra>",
         "locationmode": "country names",
         "locations": [
          "Chile",
          "Colombia",
          "Hong Kong",
          "Northern Cyprus"
         ],
         "name": "Pfizer/BioNTech, Sinovac",
         "showlegend": true,
         "showscale": false,
         "type": "choropleth",
         "z": [
          1,
          1,
          1,
          1
         ]
        },
        {
         "colorscale": [
          [
           0,
           "#00cc96"
          ],
          [
           1,
           "#00cc96"
          ]
         ],
         "customdata": [
          [
           52520000
          ]
         ],
         "geo": "geo",
         "hovertemplate": "Name of vaccine=Sinopharm/Beijing, Sinopharm/Wuhan, Sinovac<br>Country=%{location}<br>Number of vaccinations=%{customdata[0]}<extra></extra>",
         "locationmode": "country names",
         "locations": [
          "China"
         ],
         "name": "Sinopharm/Beijing, Sinopharm/Wuhan, Sinovac",
         "showlegend": true,
         "showscale": false,
         "type": "choropleth",
         "z": [
          1
         ]
        },
        {
         "colorscale": [
          [
           0,
           "#ab63fa"
          ],
          [
           1,
           "#ab63fa"
          ]
         ],
         "customdata": [
          [
           2427
          ],
          [
           2684
          ]
         ],
         "geo": "geo",
         "hovertemplate": "Name of vaccine=Moderna<br>Country=%{location}<br>Number of vaccinations=%{customdata[0]}<extra></extra>",
         "locationmode": "country names",
         "locations": [
          "Guatemala",
          "Honduras"
         ],
         "name": "Moderna",
         "showlegend": true,
         "showscale": false,
         "type": "choropleth",
         "z": [
          1,
          1
         ]
        },
        {
         "colorscale": [
          [
           0,
           "#FFA15A"
          ],
          [
           1,
           "#FFA15A"
          ]
         ],
         "customdata": [
          [
           1476985
          ]
         ],
         "geo": "geo",
         "hovertemplate": "Name of vaccine=Moderna, Oxford/AstraZeneca, Pfizer/BioNTech, Sinopharm/Beijing, Sputnik V<br>Country=%{location}<br>Number of vaccinations=%{customdata[0]}<extra></extra>",
         "locationmode": "country names",
         "locations": [
          "Hungary"
         ],
         "name": "Moderna, Oxford/AstraZeneca, Pfizer/BioNTech, Sinopharm/Beijing, Sputnik V",
         "showlegend": true,
         "showscale": false,
         "type": "choropleth",
         "z": [
          1
         ]
        },
        {
         "colorscale": [
          [
           0,
           "#19d3f3"
          ],
          [
           1,
           "#19d3f3"
          ]
         ],
         "customdata": [
          [
           25685011
          ]
         ],
         "geo": "geo",
         "hovertemplate": "Name of vaccine=Covaxin, Oxford/AstraZeneca<br>Country=%{location}<br>Number of vaccinations=%{customdata[0]}<extra></extra>",
         "locationmode": "country names",
         "locations": [
          "India"
         ],
         "name": "Covaxin, Oxford/AstraZeneca",
         "showlegend": true,
         "showscale": false,
         "type": "choropleth",
         "z": [
          1
         ]
        },
        {
         "colorscale": [
          [
           0,
           "#FF6692"
          ],
          [
           1,
           "#FF6692"
          ]
         ],
         "customdata": [
          [
           150000
          ]
         ],
         "geo": "geo",
         "hovertemplate": "Name of vaccine=Pfizer/BioNTech, Sinopharm/Beijing<br>Country=%{location}<br>Number of vaccinations=%{customdata[0]}<extra></extra>",
         "locationmode": "country names",
         "locations": [
          "Jordan"
         ],
         "name": "Pfizer/BioNTech, Sinopharm/Beijing",
         "showlegend": true,
         "showscale": false,
         "type": "choropleth",
         "z": [
          1
         ]
        },
        {
         "colorscale": [
          [
           0,
           "#B6E880"
          ],
          [
           1,
           "#B6E880"
          ]
         ],
         "customdata": [
          [
           3488118
          ]
         ],
         "geo": "geo",
         "hovertemplate": "Name of vaccine=Oxford/AstraZeneca, Pfizer/BioNTech, Sputnik V<br>Country=%{location}<br>Number of vaccinations=%{customdata[0]}<extra></extra>",
         "locationmode": "country names",
         "locations": [
          "Mexico"
         ],
         "name": "Oxford/AstraZeneca, Pfizer/BioNTech, Sputnik V",
         "showlegend": true,
         "showscale": false,
         "type": "choropleth",
         "z": [
          1
         ]
        },
        {
         "colorscale": [
          [
           0,
           "#FF97FF"
          ],
          [
           1,
           "#FF97FF"
          ]
         ],
         "customdata": [
          [
           3062
          ]
         ],
         "geo": "geo",
         "hovertemplate": "Name of vaccine=Sinopharm/Beijing, Sputnik V<br>Country=%{location}<br>Number of vaccinations=%{customdata[0]}<extra></extra>",
         "locationmode": "country names",
         "locations": [
          "Montenegro"
         ],
         "name": "Sinopharm/Beijing, Sputnik V",
         "showlegend": true,
         "showscale": false,
         "type": "choropleth",
         "z": [
          1
         ]
        },
        {
         "colorscale": [
          [
           0,
           "#FECB52"
          ],
          [
           1,
           "#FECB52"
          ]
         ],
         "customdata": [
          [
           4934283
          ],
          [
           84468
          ]
         ],
         "geo": "geo",
         "hovertemplate": "Name of vaccine=Oxford/AstraZeneca, Sinopharm/Beijing<br>Country=%{location}<br>Number of vaccinations=%{customdata[0]}<extra></extra>",
         "locationmode": "country names",
         "locations": [
          "Morocco",
          "Seychelles"
         ],
         "name": "Oxford/AstraZeneca, Sinopharm/Beijing",
         "showlegend": true,
         "showscale": false,
         "type": "choropleth",
         "z": [
          1,
          1
         ]
        },
        {
         "colorscale": [
          [
           0,
           "#636efa"
          ],
          [
           1,
           "#636efa"
          ]
         ],
         "customdata": [
          [
           7048129
          ]
         ],
         "geo": "geo",
         "hovertemplate": "Name of vaccine=EpiVacCorona, Sputnik V<br>Country=%{location}<br>Number of vaccinations=%{customdata[0]}<extra></extra>",
         "locationmode": "country names",
         "locations": [
          "Russia"
         ],
         "name": "EpiVacCorona, Sputnik V",
         "showlegend": true,
         "showscale": false,
         "type": "choropleth",
         "z": [
          1
         ]
        },
        {
         "colorscale": [
          [
           0,
           "#EF553B"
          ],
          [
           1,
           "#EF553B"
          ]
         ],
         "customdata": [
          [
           128887
          ]
         ],
         "geo": "geo",
         "hovertemplate": "Name of vaccine=Johnson&Johnson<br>Country=%{location}<br>Number of vaccinations=%{customdata[0]}<extra></extra>",
         "locationmode": "country names",
         "locations": [
          "South Africa"
         ],
         "name": "Johnson&Johnson",
         "showlegend": true,
         "showscale": false,
         "type": "choropleth",
         "z": [
          1
         ]
        },
        {
         "colorscale": [
          [
           0,
           "#00cc96"
          ],
          [
           1,
           "#00cc96"
          ]
         ],
         "customdata": [
          [
           6325211
          ]
         ],
         "geo": "geo",
         "hovertemplate": "Name of vaccine=Oxford/AstraZeneca, Pfizer/BioNTech, Sinopharm/Beijing, Sinopharm/Wuhan, Sputnik V<br>Country=%{location}<br>Number of vaccinations=%{customdata[0]}<extra></extra>",
         "locationmode": "country names",
         "locations": [
          "United Arab Emirates"
         ],
         "name": "Oxford/AstraZeneca, Pfizer/BioNTech, Sinopharm/Beijing, Sinopharm/Wuhan, Sputnik V",
         "showlegend": true,
         "showscale": false,
         "type": "choropleth",
         "z": [
          1
         ]
        },
        {
         "colorscale": [
          [
           0,
           "#ab63fa"
          ],
          [
           1,
           "#ab63fa"
          ]
         ],
         "customdata": [
          [
           95721290
          ]
         ],
         "geo": "geo",
         "hovertemplate": "Name of vaccine=Johnson&Johnson, Moderna, Pfizer/BioNTech<br>Country=%{location}<br>Number of vaccinations=%{customdata[0]}<extra></extra>",
         "locationmode": "country names",
         "locations": [
          "United States"
         ],
         "name": "Johnson&Johnson, Moderna, Pfizer/BioNTech",
         "showlegend": true,
         "showscale": false,
         "type": "choropleth",
         "z": [
          1
         ]
        }
       ],
       "layout": {
        "geo": {
         "center": {},
         "countrycolor": "darkgrey",
         "domain": {
          "x": [
           0,
           1
          ],
          "y": [
           0,
           1
          ]
         },
         "projection": {
          "type": "equirectangular"
         },
         "resolution": 50,
         "showcoastlines": false,
         "showcountries": true,
         "showframe": false,
         "visible": true
        },
        "legend": {
         "title": {
          "text": "Name of vaccine"
         },
         "tracegroupgap": 0
        },
        "template": {
         "data": {
          "bar": [
           {
            "error_x": {
             "color": "#2a3f5f"
            },
            "error_y": {
             "color": "#2a3f5f"
            },
            "marker": {
             "line": {
              "color": "#E5ECF6",
              "width": 0.5
             }
            },
            "type": "bar"
           }
          ],
          "barpolar": [
           {
            "marker": {
             "line": {
              "color": "#E5ECF6",
              "width": 0.5
             }
            },
            "type": "barpolar"
           }
          ],
          "carpet": [
           {
            "aaxis": {
             "endlinecolor": "#2a3f5f",
             "gridcolor": "white",
             "linecolor": "white",
             "minorgridcolor": "white",
             "startlinecolor": "#2a3f5f"
            },
            "baxis": {
             "endlinecolor": "#2a3f5f",
             "gridcolor": "white",
             "linecolor": "white",
             "minorgridcolor": "white",
             "startlinecolor": "#2a3f5f"
            },
            "type": "carpet"
           }
          ],
          "choropleth": [
           {
            "colorbar": {
             "outlinewidth": 0,
             "ticks": ""
            },
            "type": "choropleth"
           }
          ],
          "contour": [
           {
            "colorbar": {
             "outlinewidth": 0,
             "ticks": ""
            },
            "colorscale": [
             [
              0,
              "#0d0887"
             ],
             [
              0.1111111111111111,
              "#46039f"
             ],
             [
              0.2222222222222222,
              "#7201a8"
             ],
             [
              0.3333333333333333,
              "#9c179e"
             ],
             [
              0.4444444444444444,
              "#bd3786"
             ],
             [
              0.5555555555555556,
              "#d8576b"
             ],
             [
              0.6666666666666666,
              "#ed7953"
             ],
             [
              0.7777777777777778,
              "#fb9f3a"
             ],
             [
              0.8888888888888888,
              "#fdca26"
             ],
             [
              1,
              "#f0f921"
             ]
            ],
            "type": "contour"
           }
          ],
          "contourcarpet": [
           {
            "colorbar": {
             "outlinewidth": 0,
             "ticks": ""
            },
            "type": "contourcarpet"
           }
          ],
          "heatmap": [
           {
            "colorbar": {
             "outlinewidth": 0,
             "ticks": ""
            },
            "colorscale": [
             [
              0,
              "#0d0887"
             ],
             [
              0.1111111111111111,
              "#46039f"
             ],
             [
              0.2222222222222222,
              "#7201a8"
             ],
             [
              0.3333333333333333,
              "#9c179e"
             ],
             [
              0.4444444444444444,
              "#bd3786"
             ],
             [
              0.5555555555555556,
              "#d8576b"
             ],
             [
              0.6666666666666666,
              "#ed7953"
             ],
             [
              0.7777777777777778,
              "#fb9f3a"
             ],
             [
              0.8888888888888888,
              "#fdca26"
             ],
             [
              1,
              "#f0f921"
             ]
            ],
            "type": "heatmap"
           }
          ],
          "heatmapgl": [
           {
            "colorbar": {
             "outlinewidth": 0,
             "ticks": ""
            },
            "colorscale": [
             [
              0,
              "#0d0887"
             ],
             [
              0.1111111111111111,
              "#46039f"
             ],
             [
              0.2222222222222222,
              "#7201a8"
             ],
             [
              0.3333333333333333,
              "#9c179e"
             ],
             [
              0.4444444444444444,
              "#bd3786"
             ],
             [
              0.5555555555555556,
              "#d8576b"
             ],
             [
              0.6666666666666666,
              "#ed7953"
             ],
             [
              0.7777777777777778,
              "#fb9f3a"
             ],
             [
              0.8888888888888888,
              "#fdca26"
             ],
             [
              1,
              "#f0f921"
             ]
            ],
            "type": "heatmapgl"
           }
          ],
          "histogram": [
           {
            "marker": {
             "colorbar": {
              "outlinewidth": 0,
              "ticks": ""
             }
            },
            "type": "histogram"
           }
          ],
          "histogram2d": [
           {
            "colorbar": {
             "outlinewidth": 0,
             "ticks": ""
            },
            "colorscale": [
             [
              0,
              "#0d0887"
             ],
             [
              0.1111111111111111,
              "#46039f"
             ],
             [
              0.2222222222222222,
              "#7201a8"
             ],
             [
              0.3333333333333333,
              "#9c179e"
             ],
             [
              0.4444444444444444,
              "#bd3786"
             ],
             [
              0.5555555555555556,
              "#d8576b"
             ],
             [
              0.6666666666666666,
              "#ed7953"
             ],
             [
              0.7777777777777778,
              "#fb9f3a"
             ],
             [
              0.8888888888888888,
              "#fdca26"
             ],
             [
              1,
              "#f0f921"
             ]
            ],
            "type": "histogram2d"
           }
          ],
          "histogram2dcontour": [
           {
            "colorbar": {
             "outlinewidth": 0,
             "ticks": ""
            },
            "colorscale": [
             [
              0,
              "#0d0887"
             ],
             [
              0.1111111111111111,
              "#46039f"
             ],
             [
              0.2222222222222222,
              "#7201a8"
             ],
             [
              0.3333333333333333,
              "#9c179e"
             ],
             [
              0.4444444444444444,
              "#bd3786"
             ],
             [
              0.5555555555555556,
              "#d8576b"
             ],
             [
              0.6666666666666666,
              "#ed7953"
             ],
             [
              0.7777777777777778,
              "#fb9f3a"
             ],
             [
              0.8888888888888888,
              "#fdca26"
             ],
             [
              1,
              "#f0f921"
             ]
            ],
            "type": "histogram2dcontour"
           }
          ],
          "mesh3d": [
           {
            "colorbar": {
             "outlinewidth": 0,
             "ticks": ""
            },
            "type": "mesh3d"
           }
          ],
          "parcoords": [
           {
            "line": {
             "colorbar": {
              "outlinewidth": 0,
              "ticks": ""
             }
            },
            "type": "parcoords"
           }
          ],
          "pie": [
           {
            "automargin": true,
            "type": "pie"
           }
          ],
          "scatter": [
           {
            "marker": {
             "colorbar": {
              "outlinewidth": 0,
              "ticks": ""
             }
            },
            "type": "scatter"
           }
          ],
          "scatter3d": [
           {
            "line": {
             "colorbar": {
              "outlinewidth": 0,
              "ticks": ""
             }
            },
            "marker": {
             "colorbar": {
              "outlinewidth": 0,
              "ticks": ""
             }
            },
            "type": "scatter3d"
           }
          ],
          "scattercarpet": [
           {
            "marker": {
             "colorbar": {
              "outlinewidth": 0,
              "ticks": ""
             }
            },
            "type": "scattercarpet"
           }
          ],
          "scattergeo": [
           {
            "marker": {
             "colorbar": {
              "outlinewidth": 0,
              "ticks": ""
             }
            },
            "type": "scattergeo"
           }
          ],
          "scattergl": [
           {
            "marker": {
             "colorbar": {
              "outlinewidth": 0,
              "ticks": ""
             }
            },
            "type": "scattergl"
           }
          ],
          "scattermapbox": [
           {
            "marker": {
             "colorbar": {
              "outlinewidth": 0,
              "ticks": ""
             }
            },
            "type": "scattermapbox"
           }
          ],
          "scatterpolar": [
           {
            "marker": {
             "colorbar": {
              "outlinewidth": 0,
              "ticks": ""
             }
            },
            "type": "scatterpolar"
           }
          ],
          "scatterpolargl": [
           {
            "marker": {
             "colorbar": {
              "outlinewidth": 0,
              "ticks": ""
             }
            },
            "type": "scatterpolargl"
           }
          ],
          "scatterternary": [
           {
            "marker": {
             "colorbar": {
              "outlinewidth": 0,
              "ticks": ""
             }
            },
            "type": "scatterternary"
           }
          ],
          "surface": [
           {
            "colorbar": {
             "outlinewidth": 0,
             "ticks": ""
            },
            "colorscale": [
             [
              0,
              "#0d0887"
             ],
             [
              0.1111111111111111,
              "#46039f"
             ],
             [
              0.2222222222222222,
              "#7201a8"
             ],
             [
              0.3333333333333333,
              "#9c179e"
             ],
             [
              0.4444444444444444,
              "#bd3786"
             ],
             [
              0.5555555555555556,
              "#d8576b"
             ],
             [
              0.6666666666666666,
              "#ed7953"
             ],
             [
              0.7777777777777778,
              "#fb9f3a"
             ],
             [
              0.8888888888888888,
              "#fdca26"
             ],
             [
              1,
              "#f0f921"
             ]
            ],
            "type": "surface"
           }
          ],
          "table": [
           {
            "cells": {
             "fill": {
              "color": "#EBF0F8"
             },
             "line": {
              "color": "white"
             }
            },
            "header": {
             "fill": {
              "color": "#C8D4E3"
             },
             "line": {
              "color": "white"
             }
            },
            "type": "table"
           }
          ]
         },
         "layout": {
          "annotationdefaults": {
           "arrowcolor": "#2a3f5f",
           "arrowhead": 0,
           "arrowwidth": 1
          },
          "autotypenumbers": "strict",
          "coloraxis": {
           "colorbar": {
            "outlinewidth": 0,
            "ticks": ""
           }
          },
          "colorscale": {
           "diverging": [
            [
             0,
             "#8e0152"
            ],
            [
             0.1,
             "#c51b7d"
            ],
            [
             0.2,
             "#de77ae"
            ],
            [
             0.3,
             "#f1b6da"
            ],
            [
             0.4,
             "#fde0ef"
            ],
            [
             0.5,
             "#f7f7f7"
            ],
            [
             0.6,
             "#e6f5d0"
            ],
            [
             0.7,
             "#b8e186"
            ],
            [
             0.8,
             "#7fbc41"
            ],
            [
             0.9,
             "#4d9221"
            ],
            [
             1,
             "#276419"
            ]
           ],
           "sequential": [
            [
             0,
             "#0d0887"
            ],
            [
             0.1111111111111111,
             "#46039f"
            ],
            [
             0.2222222222222222,
             "#7201a8"
            ],
            [
             0.3333333333333333,
             "#9c179e"
            ],
            [
             0.4444444444444444,
             "#bd3786"
            ],
            [
             0.5555555555555556,
             "#d8576b"
            ],
            [
             0.6666666666666666,
             "#ed7953"
            ],
            [
             0.7777777777777778,
             "#fb9f3a"
            ],
            [
             0.8888888888888888,
             "#fdca26"
            ],
            [
             1,
             "#f0f921"
            ]
           ],
           "sequentialminus": [
            [
             0,
             "#0d0887"
            ],
            [
             0.1111111111111111,
             "#46039f"
            ],
            [
             0.2222222222222222,
             "#7201a8"
            ],
            [
             0.3333333333333333,
             "#9c179e"
            ],
            [
             0.4444444444444444,
             "#bd3786"
            ],
            [
             0.5555555555555556,
             "#d8576b"
            ],
            [
             0.6666666666666666,
             "#ed7953"
            ],
            [
             0.7777777777777778,
             "#fb9f3a"
            ],
            [
             0.8888888888888888,
             "#fdca26"
            ],
            [
             1,
             "#f0f921"
            ]
           ]
          },
          "colorway": [
           "#636efa",
           "#EF553B",
           "#00cc96",
           "#ab63fa",
           "#FFA15A",
           "#19d3f3",
           "#FF6692",
           "#B6E880",
           "#FF97FF",
           "#FECB52"
          ],
          "font": {
           "color": "#2a3f5f"
          },
          "geo": {
           "bgcolor": "white",
           "lakecolor": "white",
           "landcolor": "#E5ECF6",
           "showlakes": true,
           "showland": true,
           "subunitcolor": "white"
          },
          "hoverlabel": {
           "align": "left"
          },
          "hovermode": "closest",
          "mapbox": {
           "style": "light"
          },
          "paper_bgcolor": "white",
          "plot_bgcolor": "#E5ECF6",
          "polar": {
           "angularaxis": {
            "gridcolor": "white",
            "linecolor": "white",
            "ticks": ""
           },
           "bgcolor": "#E5ECF6",
           "radialaxis": {
            "gridcolor": "white",
            "linecolor": "white",
            "ticks": ""
           }
          },
          "scene": {
           "xaxis": {
            "backgroundcolor": "#E5ECF6",
            "gridcolor": "white",
            "gridwidth": 2,
            "linecolor": "white",
            "showbackground": true,
            "ticks": "",
            "zerolinecolor": "white"
           },
           "yaxis": {
            "backgroundcolor": "#E5ECF6",
            "gridcolor": "white",
            "gridwidth": 2,
            "linecolor": "white",
            "showbackground": true,
            "ticks": "",
            "zerolinecolor": "white"
           },
           "zaxis": {
            "backgroundcolor": "#E5ECF6",
            "gridcolor": "white",
            "gridwidth": 2,
            "linecolor": "white",
            "showbackground": true,
            "ticks": "",
            "zerolinecolor": "white"
           }
          },
          "shapedefaults": {
           "line": {
            "color": "#2a3f5f"
           }
          },
          "ternary": {
           "aaxis": {
            "gridcolor": "white",
            "linecolor": "white",
            "ticks": ""
           },
           "baxis": {
            "gridcolor": "white",
            "linecolor": "white",
            "ticks": ""
           },
           "bgcolor": "#E5ECF6",
           "caxis": {
            "gridcolor": "white",
            "linecolor": "white",
            "ticks": ""
           }
          },
          "title": {
           "x": 0.05
          },
          "xaxis": {
           "automargin": true,
           "gridcolor": "white",
           "linecolor": "white",
           "ticks": "",
           "title": {
            "standoff": 15
           },
           "zerolinecolor": "white",
           "zerolinewidth": 2
          },
          "yaxis": {
           "automargin": true,
           "gridcolor": "white",
           "linecolor": "white",
           "ticks": "",
           "title": {
            "standoff": 15
           },
           "zerolinecolor": "white",
           "zerolinewidth": 2
          }
         }
        },
        "title": {
         "text": "total Vaccines used for each country"
        }
       }
      },
      "text/html": [
       "<div>                            <div id=\"0251f599-bb1d-467a-9533-f78de8b0665a\" class=\"plotly-graph-div\" style=\"height:525px; width:100%;\"></div>            <script type=\"text/javascript\">                require([\"plotly\"], function(Plotly) {                    window.PLOTLYENV=window.PLOTLYENV || {};                                    if (document.getElementById(\"0251f599-bb1d-467a-9533-f78de8b0665a\")) {                    Plotly.newPlot(                        \"0251f599-bb1d-467a-9533-f78de8b0665a\",                        [{\"colorscale\": [[0.0, \"#3e4989\"], [1.0, \"#3e4989\"]], \"customdata\": [[15793.0], [2526.0], [23939.0], [26580.0], [204586.0], [265223.0], [100000.0], [75258.0], [44894.0], [5130.0], [22040.0], [148950.0], [360000.0], [65956.0], [195923.0], [105416.0], [2400.0], [18000.0], [214492.0], [327000.0], [611314.0], [578983.0], [6433.0]], \"geo\": \"geo\", \"hovertemplate\": \"Name of vaccine=Pfizer/BioNTech<br>Country=%{location}<br>Number of vaccinations=%{customdata[0]}<extra></extra>\", \"locationmode\": \"country names\", \"locations\": [\"Albania\", \"Andorra\", \"Bermuda\", \"Cayman Islands\", \"Costa Rica\", \"Croatia\", \"Cyprus\", \"Ecuador\", \"Gibraltar\", \"Greenland\", \"Guernsey\", \"Japan\", \"Kuwait\", \"Lebanon\", \"Malaysia\", \"Malta\", \"Monaco\", \"New Zealand\", \"Panama\", \"Qatar\", \"Singapore\", \"Slovakia\", \"Turks and Caicos Islands\"], \"name\": \"Pfizer/BioNTech\", \"showlegend\": true, \"showscale\": false, \"type\": \"choropleth\", \"z\": [1, 1, 1, 1, 1, 1, 1, 1, 1, 1, 1, 1, 1, 1, 1, 1, 1, 1, 1, 1, 1, 1, 1]}, {\"colorscale\": [[0.0, \"#482878\"], [1.0, \"#482878\"]], \"customdata\": [[75000.0], [20944.0], [126889.0], [10000.0], [22294.0], [2861.0], [3065.0], [12194.0]], \"geo\": \"geo\", \"hovertemplate\": \"Name of vaccine=Sputnik V<br>Country=%{location}<br>Number of vaccinations=%{customdata[0]}<extra></extra>\", \"locationmode\": \"country names\", \"locations\": [\"Algeria\", \"Belarus\", \"Bolivia\", \"Iran\", \"Kazakhstan\", \"Paraguay\", \"San Marino\", \"Venezuela\"], \"name\": \"Sputnik V\", \"showlegend\": true, \"showscale\": false, \"type\": \"choropleth\", \"z\": [1, 1, 1, 1, 1, 1, 1, 1]}, {\"colorscale\": [[0.0, \"#fde725\"], [1.0, \"#fde725\"]], \"customdata\": [[3929.0], [4013963.0], [49393.0], [2489.0], [7202.0], [547091.0], [16000.0], [1732.0], [300000.0], [146.0], [1852.0], [175456.0], [3843.0], [6447.0], [4926.0], [652.0], [103142.0], [402264.0], [107.0], [2094.0], [752098.0], [440.0], [29378.0]], \"geo\": \"geo\", \"hovertemplate\": \"Name of vaccine=Oxford/AstraZeneca<br>Country=%{location}<br>Number of vaccinations=%{customdata[0]}<extra></extra>\", \"locationmode\": \"country names\", \"locations\": [\"Anguilla\", \"Bangladesh\", \"Barbados\", \"Belize\", \"Dominica\", \"Dominican Republic\", \"El Salvador\", \"Falkland Islands\", \"Ghana\", \"Grenada\", \"Guyana\", \"Maldives\", \"Mauritius\", \"Moldova\", \"Mongolia\", \"Montserrat\", \"Myanmar\", \"Nepal\", \"Saint Helena\", \"Saint Lucia\", \"Sri Lanka\", \"Trinidad and Tobago\", \"Ukraine\"], \"name\": \"Oxford/AstraZeneca\", \"showlegend\": true, \"showscale\": false, \"type\": \"choropleth\", \"z\": [1, 1, 1, 1, 1, 1, 1, 1, 1, 1, 1, 1, 1, 1, 1, 1, 1, 1, 1, 1, 1, 1, 1]}, {\"colorscale\": [[0.0, \"#26828e\"], [1.0, \"#26828e\"]], \"customdata\": [[1774438.0], [72882.0]], \"geo\": \"geo\", \"hovertemplate\": \"Name of vaccine=Oxford/AstraZeneca, Sinopharm/Beijing, Sputnik V<br>Country=%{location}<br>Number of vaccinations=%{customdata[0]}<extra></extra>\", \"locationmode\": \"country names\", \"locations\": [\"Argentina\", \"Pakistan\"], \"name\": \"Oxford/AstraZeneca, Sinopharm/Beijing, Sputnik V\", \"showlegend\": true, \"showscale\": false, \"type\": \"choropleth\", \"z\": [1, 1]}, {\"colorscale\": [[0.0, \"#1f9e89\"], [1.0, \"#1f9e89\"]], \"customdata\": [[106200.0], [20248632.0], [27326.0], [33511.0], [648028.0], [98168.0], [1712891.0], [1941918.0], [214052.0], [500635.0], [1010832.0], [24064182.0], [1225604.0]], \"geo\": \"geo\", \"hovertemplate\": \"Name of vaccine=Oxford/AstraZeneca, Pfizer/BioNTech<br>Country=%{location}<br>Number of vaccinations=%{customdata[0]}<extra></extra>\", \"locationmode\": \"country names\", \"locations\": [\"Australia\", \"England\", \"Isle of Man\", \"Jersey\", \"Northern Ireland\", \"Oman\", \"Saudi Arabia\", \"Scotland\", \"Slovenia\", \"South Korea\", \"Sweden\", \"United Kingdom\", \"Wales\"], \"name\": \"Oxford/AstraZeneca, Pfizer/BioNTech\", \"showlegend\": true, \"showscale\": false, \"type\": \"choropleth\", \"z\": [1, 1, 1, 1, 1, 1, 1, 1, 1, 1, 1, 1, 1]}, {\"colorscale\": [[0.0, \"#35b779\"], [1.0, \"#35b779\"]], \"customdata\": [[860142.0], [1016646.0], [309145.0], [948144.0], [778126.0], [155175.0], [600476.0], [6197209.0], [8431264.0], [1190723.0], [42027.0], [525768.0], [6005183.0], [88466.0], [331865.0], [48961.0], [1619839.0], [622708.0], [4086863.0], [1918443.0], [230000.0], [4989505.0]], \"geo\": \"geo\", \"hovertemplate\": \"Name of vaccine=Moderna, Oxford/AstraZeneca, Pfizer/BioNTech<br>Country=%{location}<br>Number of vaccinations=%{customdata[0]}<extra></extra>\", \"locationmode\": \"country names\", \"locations\": [\"Austria\", \"Belgium\", \"Bulgaria\", \"Czechia\", \"Denmark\", \"Estonia\", \"Finland\", \"France\", \"Germany\", \"Greece\", \"Iceland\", \"Ireland\", \"Italy\", \"Latvia\", \"Lithuania\", \"Luxembourg\", \"Netherlands\", \"Norway\", \"Poland\", \"Romania\", \"Rwanda\", \"Spain\"], \"name\": \"Moderna, Oxford/AstraZeneca, Pfizer/BioNTech\", \"showlegend\": true, \"showscale\": false, \"type\": \"choropleth\", \"z\": [1, 1, 1, 1, 1, 1, 1, 1, 1, 1, 1, 1, 1, 1, 1, 1, 1, 1, 1, 1, 1, 1]}, {\"colorscale\": [[0.0, \"#6ece58\"], [1.0, \"#6ece58\"]], \"customdata\": [[428635.0], [4837576.0], [44000.0], [7262.0], [10360283.0], [147749.0]], \"geo\": \"geo\", \"hovertemplate\": \"Name of vaccine=Sinovac<br>Country=%{location}<br>Number of vaccinations=%{customdata[0]}<extra></extra>\", \"locationmode\": \"country names\", \"locations\": [\"Azerbaijan\", \"Indonesia\", \"Philippines\", \"Thailand\", \"Turkey\", \"Uruguay\"], \"name\": \"Sinovac\", \"showlegend\": true, \"showscale\": false, \"type\": \"choropleth\", \"z\": [1, 1, 1, 1, 1, 1]}, {\"colorscale\": [[0.0, \"#b5de2b\"], [1.0, \"#b5de2b\"]], \"customdata\": [[517901.0], [1792912.0]], \"geo\": \"geo\", \"hovertemplate\": \"Name of vaccine=Oxford/AstraZeneca, Pfizer/BioNTech, Sinopharm/Beijing, Sputnik V<br>Country=%{location}<br>Number of vaccinations=%{customdata[0]}<extra></extra>\", \"locationmode\": \"country names\", \"locations\": [\"Bahrain\", \"Serbia\"], \"name\": \"Oxford/AstraZeneca, Pfizer/BioNTech, Sinopharm/Beijing, Sputnik V\", \"showlegend\": true, \"showscale\": false, \"type\": \"choropleth\", \"z\": [1, 1]}, {\"colorscale\": [[0.0, \"#FF97FF\"], [1.0, \"#FF97FF\"]], \"customdata\": [[11756131.0]], \"geo\": \"geo\", \"hovertemplate\": \"Name of vaccine=Oxford/AstraZeneca, Sinovac<br>Country=%{location}<br>Number of vaccinations=%{customdata[0]}<extra></extra>\", \"locationmode\": \"country names\", \"locations\": [\"Brazil\"], \"name\": \"Oxford/AstraZeneca, Sinovac\", \"showlegend\": true, \"showscale\": false, \"type\": \"choropleth\", \"z\": [1]}, {\"colorscale\": [[0.0, \"#FECB52\"], [1.0, \"#FECB52\"]], \"customdata\": [[109854.0], [1315.0], [2000.0], [423934.0], [68017.0], [35901.0]], \"geo\": \"geo\", \"hovertemplate\": \"Name of vaccine=Sinopharm/Beijing<br>Country=%{location}<br>Number of vaccinations=%{customdata[0]}<extra></extra>\", \"locationmode\": \"country names\", \"locations\": [\"Cambodia\", \"Egypt\", \"Macao\", \"Peru\", \"Senegal\", \"Zimbabwe\"], \"name\": \"Sinopharm/Beijing\", \"showlegend\": true, \"showscale\": false, \"type\": \"choropleth\", \"z\": [1, 1, 1, 1, 1, 1]}, {\"colorscale\": [[0.0, \"#636efa\"], [1.0, \"#636efa\"]], \"customdata\": [[2621289.0], [8068.0], [9072077.0], [3126.0], [1055085.0], [948678.0]], \"geo\": \"geo\", \"hovertemplate\": \"Name of vaccine=Moderna, Pfizer/BioNTech<br>Country=%{location}<br>Number of vaccinations=%{customdata[0]}<extra></extra>\", \"locationmode\": \"country names\", \"locations\": [\"Canada\", \"Faeroe Islands\", \"Israel\", \"Liechtenstein\", \"Portugal\", \"Switzerland\"], \"name\": \"Moderna, Pfizer/BioNTech\", \"showlegend\": true, \"showscale\": false, \"type\": \"choropleth\", \"z\": [1, 1, 1, 1, 1, 1]}, {\"colorscale\": [[0.0, \"#EF553B\"], [1.0, \"#EF553B\"]], \"customdata\": [[5722212.0], [360635.0], [130500.0], [11000.0]], \"geo\": \"geo\", \"hovertemplate\": \"Name of vaccine=Pfizer/BioNTech, Sinovac<br>Country=%{location}<br>Number of vaccinations=%{customdata[0]}<extra></extra>\", \"locationmode\": \"country names\", \"locations\": [\"Chile\", \"Colombia\", \"Hong Kong\", \"Northern Cyprus\"], \"name\": \"Pfizer/BioNTech, Sinovac\", \"showlegend\": true, \"showscale\": false, \"type\": \"choropleth\", \"z\": [1, 1, 1, 1]}, {\"colorscale\": [[0.0, \"#00cc96\"], [1.0, \"#00cc96\"]], \"customdata\": [[52520000.0]], \"geo\": \"geo\", \"hovertemplate\": \"Name of vaccine=Sinopharm/Beijing, Sinopharm/Wuhan, Sinovac<br>Country=%{location}<br>Number of vaccinations=%{customdata[0]}<extra></extra>\", \"locationmode\": \"country names\", \"locations\": [\"China\"], \"name\": \"Sinopharm/Beijing, Sinopharm/Wuhan, Sinovac\", \"showlegend\": true, \"showscale\": false, \"type\": \"choropleth\", \"z\": [1]}, {\"colorscale\": [[0.0, \"#ab63fa\"], [1.0, \"#ab63fa\"]], \"customdata\": [[2427.0], [2684.0]], \"geo\": \"geo\", \"hovertemplate\": \"Name of vaccine=Moderna<br>Country=%{location}<br>Number of vaccinations=%{customdata[0]}<extra></extra>\", \"locationmode\": \"country names\", \"locations\": [\"Guatemala\", \"Honduras\"], \"name\": \"Moderna\", \"showlegend\": true, \"showscale\": false, \"type\": \"choropleth\", \"z\": [1, 1]}, {\"colorscale\": [[0.0, \"#FFA15A\"], [1.0, \"#FFA15A\"]], \"customdata\": [[1476985.0]], \"geo\": \"geo\", \"hovertemplate\": \"Name of vaccine=Moderna, Oxford/AstraZeneca, Pfizer/BioNTech, Sinopharm/Beijing, Sputnik V<br>Country=%{location}<br>Number of vaccinations=%{customdata[0]}<extra></extra>\", \"locationmode\": \"country names\", \"locations\": [\"Hungary\"], \"name\": \"Moderna, Oxford/AstraZeneca, Pfizer/BioNTech, Sinopharm/Beijing, Sputnik V\", \"showlegend\": true, \"showscale\": false, \"type\": \"choropleth\", \"z\": [1]}, {\"colorscale\": [[0.0, \"#19d3f3\"], [1.0, \"#19d3f3\"]], \"customdata\": [[25685011.0]], \"geo\": \"geo\", \"hovertemplate\": \"Name of vaccine=Covaxin, Oxford/AstraZeneca<br>Country=%{location}<br>Number of vaccinations=%{customdata[0]}<extra></extra>\", \"locationmode\": \"country names\", \"locations\": [\"India\"], \"name\": \"Covaxin, Oxford/AstraZeneca\", \"showlegend\": true, \"showscale\": false, \"type\": \"choropleth\", \"z\": [1]}, {\"colorscale\": [[0.0, \"#FF6692\"], [1.0, \"#FF6692\"]], \"customdata\": [[150000.0]], \"geo\": \"geo\", \"hovertemplate\": \"Name of vaccine=Pfizer/BioNTech, Sinopharm/Beijing<br>Country=%{location}<br>Number of vaccinations=%{customdata[0]}<extra></extra>\", \"locationmode\": \"country names\", \"locations\": [\"Jordan\"], \"name\": \"Pfizer/BioNTech, Sinopharm/Beijing\", \"showlegend\": true, \"showscale\": false, \"type\": \"choropleth\", \"z\": [1]}, {\"colorscale\": [[0.0, \"#B6E880\"], [1.0, \"#B6E880\"]], \"customdata\": [[3488118.0]], \"geo\": \"geo\", \"hovertemplate\": \"Name of vaccine=Oxford/AstraZeneca, Pfizer/BioNTech, Sputnik V<br>Country=%{location}<br>Number of vaccinations=%{customdata[0]}<extra></extra>\", \"locationmode\": \"country names\", \"locations\": [\"Mexico\"], \"name\": \"Oxford/AstraZeneca, Pfizer/BioNTech, Sputnik V\", \"showlegend\": true, \"showscale\": false, \"type\": \"choropleth\", \"z\": [1]}, {\"colorscale\": [[0.0, \"#FF97FF\"], [1.0, \"#FF97FF\"]], \"customdata\": [[3062.0]], \"geo\": \"geo\", \"hovertemplate\": \"Name of vaccine=Sinopharm/Beijing, Sputnik V<br>Country=%{location}<br>Number of vaccinations=%{customdata[0]}<extra></extra>\", \"locationmode\": \"country names\", \"locations\": [\"Montenegro\"], \"name\": \"Sinopharm/Beijing, Sputnik V\", \"showlegend\": true, \"showscale\": false, \"type\": \"choropleth\", \"z\": [1]}, {\"colorscale\": [[0.0, \"#FECB52\"], [1.0, \"#FECB52\"]], \"customdata\": [[4934283.0], [84468.0]], \"geo\": \"geo\", \"hovertemplate\": \"Name of vaccine=Oxford/AstraZeneca, Sinopharm/Beijing<br>Country=%{location}<br>Number of vaccinations=%{customdata[0]}<extra></extra>\", \"locationmode\": \"country names\", \"locations\": [\"Morocco\", \"Seychelles\"], \"name\": \"Oxford/AstraZeneca, Sinopharm/Beijing\", \"showlegend\": true, \"showscale\": false, \"type\": \"choropleth\", \"z\": [1, 1]}, {\"colorscale\": [[0.0, \"#636efa\"], [1.0, \"#636efa\"]], \"customdata\": [[7048129.0]], \"geo\": \"geo\", \"hovertemplate\": \"Name of vaccine=EpiVacCorona, Sputnik V<br>Country=%{location}<br>Number of vaccinations=%{customdata[0]}<extra></extra>\", \"locationmode\": \"country names\", \"locations\": [\"Russia\"], \"name\": \"EpiVacCorona, Sputnik V\", \"showlegend\": true, \"showscale\": false, \"type\": \"choropleth\", \"z\": [1]}, {\"colorscale\": [[0.0, \"#EF553B\"], [1.0, \"#EF553B\"]], \"customdata\": [[128887.0]], \"geo\": \"geo\", \"hovertemplate\": \"Name of vaccine=Johnson&Johnson<br>Country=%{location}<br>Number of vaccinations=%{customdata[0]}<extra></extra>\", \"locationmode\": \"country names\", \"locations\": [\"South Africa\"], \"name\": \"Johnson&Johnson\", \"showlegend\": true, \"showscale\": false, \"type\": \"choropleth\", \"z\": [1]}, {\"colorscale\": [[0.0, \"#00cc96\"], [1.0, \"#00cc96\"]], \"customdata\": [[6325211.0]], \"geo\": \"geo\", \"hovertemplate\": \"Name of vaccine=Oxford/AstraZeneca, Pfizer/BioNTech, Sinopharm/Beijing, Sinopharm/Wuhan, Sputnik V<br>Country=%{location}<br>Number of vaccinations=%{customdata[0]}<extra></extra>\", \"locationmode\": \"country names\", \"locations\": [\"United Arab Emirates\"], \"name\": \"Oxford/AstraZeneca, Pfizer/BioNTech, Sinopharm/Beijing, Sinopharm/Wuhan, Sputnik V\", \"showlegend\": true, \"showscale\": false, \"type\": \"choropleth\", \"z\": [1]}, {\"colorscale\": [[0.0, \"#ab63fa\"], [1.0, \"#ab63fa\"]], \"customdata\": [[95721290.0]], \"geo\": \"geo\", \"hovertemplate\": \"Name of vaccine=Johnson&Johnson, Moderna, Pfizer/BioNTech<br>Country=%{location}<br>Number of vaccinations=%{customdata[0]}<extra></extra>\", \"locationmode\": \"country names\", \"locations\": [\"United States\"], \"name\": \"Johnson&Johnson, Moderna, Pfizer/BioNTech\", \"showlegend\": true, \"showscale\": false, \"type\": \"choropleth\", \"z\": [1]}],                        {\"geo\": {\"center\": {}, \"countrycolor\": \"darkgrey\", \"domain\": {\"x\": [0.0, 1.0], \"y\": [0.0, 1.0]}, \"projection\": {\"type\": \"equirectangular\"}, \"resolution\": 50, \"showcoastlines\": false, \"showcountries\": true, \"showframe\": false, \"visible\": true}, \"legend\": {\"title\": {\"text\": \"Name of vaccine\"}, \"tracegroupgap\": 0}, \"template\": {\"data\": {\"bar\": [{\"error_x\": {\"color\": \"#2a3f5f\"}, \"error_y\": {\"color\": \"#2a3f5f\"}, \"marker\": {\"line\": {\"color\": \"#E5ECF6\", \"width\": 0.5}}, \"type\": \"bar\"}], \"barpolar\": [{\"marker\": {\"line\": {\"color\": \"#E5ECF6\", \"width\": 0.5}}, \"type\": \"barpolar\"}], \"carpet\": [{\"aaxis\": {\"endlinecolor\": \"#2a3f5f\", \"gridcolor\": \"white\", \"linecolor\": \"white\", \"minorgridcolor\": \"white\", \"startlinecolor\": \"#2a3f5f\"}, \"baxis\": {\"endlinecolor\": \"#2a3f5f\", \"gridcolor\": \"white\", \"linecolor\": \"white\", \"minorgridcolor\": \"white\", \"startlinecolor\": \"#2a3f5f\"}, \"type\": \"carpet\"}], \"choropleth\": [{\"colorbar\": {\"outlinewidth\": 0, \"ticks\": \"\"}, \"type\": \"choropleth\"}], \"contour\": [{\"colorbar\": {\"outlinewidth\": 0, \"ticks\": \"\"}, \"colorscale\": [[0.0, \"#0d0887\"], [0.1111111111111111, \"#46039f\"], [0.2222222222222222, \"#7201a8\"], [0.3333333333333333, \"#9c179e\"], [0.4444444444444444, \"#bd3786\"], [0.5555555555555556, \"#d8576b\"], [0.6666666666666666, \"#ed7953\"], [0.7777777777777778, \"#fb9f3a\"], [0.8888888888888888, \"#fdca26\"], [1.0, \"#f0f921\"]], \"type\": \"contour\"}], \"contourcarpet\": [{\"colorbar\": {\"outlinewidth\": 0, \"ticks\": \"\"}, \"type\": \"contourcarpet\"}], \"heatmap\": [{\"colorbar\": {\"outlinewidth\": 0, \"ticks\": \"\"}, \"colorscale\": [[0.0, \"#0d0887\"], [0.1111111111111111, \"#46039f\"], [0.2222222222222222, \"#7201a8\"], [0.3333333333333333, \"#9c179e\"], [0.4444444444444444, \"#bd3786\"], [0.5555555555555556, \"#d8576b\"], [0.6666666666666666, \"#ed7953\"], [0.7777777777777778, \"#fb9f3a\"], [0.8888888888888888, \"#fdca26\"], [1.0, \"#f0f921\"]], \"type\": \"heatmap\"}], \"heatmapgl\": [{\"colorbar\": {\"outlinewidth\": 0, \"ticks\": \"\"}, \"colorscale\": [[0.0, \"#0d0887\"], [0.1111111111111111, \"#46039f\"], [0.2222222222222222, \"#7201a8\"], [0.3333333333333333, \"#9c179e\"], [0.4444444444444444, \"#bd3786\"], [0.5555555555555556, \"#d8576b\"], [0.6666666666666666, \"#ed7953\"], [0.7777777777777778, \"#fb9f3a\"], [0.8888888888888888, \"#fdca26\"], [1.0, \"#f0f921\"]], \"type\": \"heatmapgl\"}], \"histogram\": [{\"marker\": {\"colorbar\": {\"outlinewidth\": 0, \"ticks\": \"\"}}, \"type\": \"histogram\"}], \"histogram2d\": [{\"colorbar\": {\"outlinewidth\": 0, \"ticks\": \"\"}, \"colorscale\": [[0.0, \"#0d0887\"], [0.1111111111111111, \"#46039f\"], [0.2222222222222222, \"#7201a8\"], [0.3333333333333333, \"#9c179e\"], [0.4444444444444444, \"#bd3786\"], [0.5555555555555556, \"#d8576b\"], [0.6666666666666666, \"#ed7953\"], [0.7777777777777778, \"#fb9f3a\"], [0.8888888888888888, \"#fdca26\"], [1.0, \"#f0f921\"]], \"type\": \"histogram2d\"}], \"histogram2dcontour\": [{\"colorbar\": {\"outlinewidth\": 0, \"ticks\": \"\"}, \"colorscale\": [[0.0, \"#0d0887\"], [0.1111111111111111, \"#46039f\"], [0.2222222222222222, \"#7201a8\"], [0.3333333333333333, \"#9c179e\"], [0.4444444444444444, \"#bd3786\"], [0.5555555555555556, \"#d8576b\"], [0.6666666666666666, \"#ed7953\"], [0.7777777777777778, \"#fb9f3a\"], [0.8888888888888888, \"#fdca26\"], [1.0, \"#f0f921\"]], \"type\": \"histogram2dcontour\"}], \"mesh3d\": [{\"colorbar\": {\"outlinewidth\": 0, \"ticks\": \"\"}, \"type\": \"mesh3d\"}], \"parcoords\": [{\"line\": {\"colorbar\": {\"outlinewidth\": 0, \"ticks\": \"\"}}, \"type\": \"parcoords\"}], \"pie\": [{\"automargin\": true, \"type\": \"pie\"}], \"scatter\": [{\"marker\": {\"colorbar\": {\"outlinewidth\": 0, \"ticks\": \"\"}}, \"type\": \"scatter\"}], \"scatter3d\": [{\"line\": {\"colorbar\": {\"outlinewidth\": 0, \"ticks\": \"\"}}, \"marker\": {\"colorbar\": {\"outlinewidth\": 0, \"ticks\": \"\"}}, \"type\": \"scatter3d\"}], \"scattercarpet\": [{\"marker\": {\"colorbar\": {\"outlinewidth\": 0, \"ticks\": \"\"}}, \"type\": \"scattercarpet\"}], \"scattergeo\": [{\"marker\": {\"colorbar\": {\"outlinewidth\": 0, \"ticks\": \"\"}}, \"type\": \"scattergeo\"}], \"scattergl\": [{\"marker\": {\"colorbar\": {\"outlinewidth\": 0, \"ticks\": \"\"}}, \"type\": \"scattergl\"}], \"scattermapbox\": [{\"marker\": {\"colorbar\": {\"outlinewidth\": 0, \"ticks\": \"\"}}, \"type\": \"scattermapbox\"}], \"scatterpolar\": [{\"marker\": {\"colorbar\": {\"outlinewidth\": 0, \"ticks\": \"\"}}, \"type\": \"scatterpolar\"}], \"scatterpolargl\": [{\"marker\": {\"colorbar\": {\"outlinewidth\": 0, \"ticks\": \"\"}}, \"type\": \"scatterpolargl\"}], \"scatterternary\": [{\"marker\": {\"colorbar\": {\"outlinewidth\": 0, \"ticks\": \"\"}}, \"type\": \"scatterternary\"}], \"surface\": [{\"colorbar\": {\"outlinewidth\": 0, \"ticks\": \"\"}, \"colorscale\": [[0.0, \"#0d0887\"], [0.1111111111111111, \"#46039f\"], [0.2222222222222222, \"#7201a8\"], [0.3333333333333333, \"#9c179e\"], [0.4444444444444444, \"#bd3786\"], [0.5555555555555556, \"#d8576b\"], [0.6666666666666666, \"#ed7953\"], [0.7777777777777778, \"#fb9f3a\"], [0.8888888888888888, \"#fdca26\"], [1.0, \"#f0f921\"]], \"type\": \"surface\"}], \"table\": [{\"cells\": {\"fill\": {\"color\": \"#EBF0F8\"}, \"line\": {\"color\": \"white\"}}, \"header\": {\"fill\": {\"color\": \"#C8D4E3\"}, \"line\": {\"color\": \"white\"}}, \"type\": \"table\"}]}, \"layout\": {\"annotationdefaults\": {\"arrowcolor\": \"#2a3f5f\", \"arrowhead\": 0, \"arrowwidth\": 1}, \"autotypenumbers\": \"strict\", \"coloraxis\": {\"colorbar\": {\"outlinewidth\": 0, \"ticks\": \"\"}}, \"colorscale\": {\"diverging\": [[0, \"#8e0152\"], [0.1, \"#c51b7d\"], [0.2, \"#de77ae\"], [0.3, \"#f1b6da\"], [0.4, \"#fde0ef\"], [0.5, \"#f7f7f7\"], [0.6, \"#e6f5d0\"], [0.7, \"#b8e186\"], [0.8, \"#7fbc41\"], [0.9, \"#4d9221\"], [1, \"#276419\"]], \"sequential\": [[0.0, \"#0d0887\"], [0.1111111111111111, \"#46039f\"], [0.2222222222222222, \"#7201a8\"], [0.3333333333333333, \"#9c179e\"], [0.4444444444444444, \"#bd3786\"], [0.5555555555555556, \"#d8576b\"], [0.6666666666666666, \"#ed7953\"], [0.7777777777777778, \"#fb9f3a\"], [0.8888888888888888, \"#fdca26\"], [1.0, \"#f0f921\"]], \"sequentialminus\": [[0.0, \"#0d0887\"], [0.1111111111111111, \"#46039f\"], [0.2222222222222222, \"#7201a8\"], [0.3333333333333333, \"#9c179e\"], [0.4444444444444444, \"#bd3786\"], [0.5555555555555556, \"#d8576b\"], [0.6666666666666666, \"#ed7953\"], [0.7777777777777778, \"#fb9f3a\"], [0.8888888888888888, \"#fdca26\"], [1.0, \"#f0f921\"]]}, \"colorway\": [\"#636efa\", \"#EF553B\", \"#00cc96\", \"#ab63fa\", \"#FFA15A\", \"#19d3f3\", \"#FF6692\", \"#B6E880\", \"#FF97FF\", \"#FECB52\"], \"font\": {\"color\": \"#2a3f5f\"}, \"geo\": {\"bgcolor\": \"white\", \"lakecolor\": \"white\", \"landcolor\": \"#E5ECF6\", \"showlakes\": true, \"showland\": true, \"subunitcolor\": \"white\"}, \"hoverlabel\": {\"align\": \"left\"}, \"hovermode\": \"closest\", \"mapbox\": {\"style\": \"light\"}, \"paper_bgcolor\": \"white\", \"plot_bgcolor\": \"#E5ECF6\", \"polar\": {\"angularaxis\": {\"gridcolor\": \"white\", \"linecolor\": \"white\", \"ticks\": \"\"}, \"bgcolor\": \"#E5ECF6\", \"radialaxis\": {\"gridcolor\": \"white\", \"linecolor\": \"white\", \"ticks\": \"\"}}, \"scene\": {\"xaxis\": {\"backgroundcolor\": \"#E5ECF6\", \"gridcolor\": \"white\", \"gridwidth\": 2, \"linecolor\": \"white\", \"showbackground\": true, \"ticks\": \"\", \"zerolinecolor\": \"white\"}, \"yaxis\": {\"backgroundcolor\": \"#E5ECF6\", \"gridcolor\": \"white\", \"gridwidth\": 2, \"linecolor\": \"white\", \"showbackground\": true, \"ticks\": \"\", \"zerolinecolor\": \"white\"}, \"zaxis\": {\"backgroundcolor\": \"#E5ECF6\", \"gridcolor\": \"white\", \"gridwidth\": 2, \"linecolor\": \"white\", \"showbackground\": true, \"ticks\": \"\", \"zerolinecolor\": \"white\"}}, \"shapedefaults\": {\"line\": {\"color\": \"#2a3f5f\"}}, \"ternary\": {\"aaxis\": {\"gridcolor\": \"white\", \"linecolor\": \"white\", \"ticks\": \"\"}, \"baxis\": {\"gridcolor\": \"white\", \"linecolor\": \"white\", \"ticks\": \"\"}, \"bgcolor\": \"#E5ECF6\", \"caxis\": {\"gridcolor\": \"white\", \"linecolor\": \"white\", \"ticks\": \"\"}}, \"title\": {\"x\": 0.05}, \"xaxis\": {\"automargin\": true, \"gridcolor\": \"white\", \"linecolor\": \"white\", \"ticks\": \"\", \"title\": {\"standoff\": 15}, \"zerolinecolor\": \"white\", \"zerolinewidth\": 2}, \"yaxis\": {\"automargin\": true, \"gridcolor\": \"white\", \"linecolor\": \"white\", \"ticks\": \"\", \"title\": {\"standoff\": 15}, \"zerolinecolor\": \"white\", \"zerolinewidth\": 2}}}, \"title\": {\"text\": \"total Vaccines used for each country\"}},                        {\"responsive\": true}                    ).then(function(){\n",
       "                            \n",
       "var gd = document.getElementById('0251f599-bb1d-467a-9533-f78de8b0665a');\n",
       "var x = new MutationObserver(function (mutations, observer) {{\n",
       "        var display = window.getComputedStyle(gd).display;\n",
       "        if (!display || display === 'none') {{\n",
       "            console.log([gd, 'removed!']);\n",
       "            Plotly.purge(gd);\n",
       "            observer.disconnect();\n",
       "        }}\n",
       "}});\n",
       "\n",
       "// Listen for the removal of the full notebook cells\n",
       "var notebookContainer = gd.closest('#notebook-container');\n",
       "if (notebookContainer) {{\n",
       "    x.observe(notebookContainer, {childList: true});\n",
       "}}\n",
       "\n",
       "// Listen for the clearing of the current output cell\n",
       "var outputEl = gd.closest('.output');\n",
       "if (outputEl) {{\n",
       "    x.observe(outputEl, {childList: true});\n",
       "}}\n",
       "\n",
       "                        })                };                });            </script>        </div>"
      ]
     },
     "metadata": {},
     "output_type": "display_data"
    }
   ],
   "source": [
    "fig = px.choropleth(total_vaccinations, locations = 'country', locationmode = 'country names',color = 'vaccines',\n",
    "                   title = 'total Vaccines used for each country',hover_data= ['total_vaccinations'],\n",
    "                    color_discrete_map=dict(zip(total_vaccinations['vaccines'], px.colors.sequential.Viridis)),\n",
    "                   labels={'vaccines': 'Name of vaccine', 'country': 'Country',\n",
    "                           'total_vaccinations': 'Number of vaccinations'})\n",
    "fig.update_geos(\n",
    "    visible=True, \n",
    "    resolution=50,\n",
    "    showcountries=True, \n",
    "    countrycolor=\"darkgrey\"\n",
    "    )\n",
    "fig.update_layout(\n",
    "    geo=dict(\n",
    "        showframe=False,\n",
    "        showcoastlines=False,\n",
    "        projection_type='equirectangular'\n",
    "    ),\n",
    ")\n",
    "fig.show()"
   ]
  },
  {
   "cell_type": "markdown",
   "metadata": {},
   "source": [
    "We can see the large violet area of Sputnik V vaccine, but it is used only in Russia and in Argentina. The most European Middle Eastern and North American countries use Pfizer/BioNTech. CNBG, Sinovac is second most used vaccination scheme, but it is used only in China. The Oxford/AstraZeneca vaccine is distributed in United Kingdom, Brazil, Myanmar and India."
   ]
  },
  {
   "cell_type": "code",
   "execution_count": 76,
   "metadata": {},
   "outputs": [
    {
     "name": "stdout",
     "output_type": "stream",
     "text": [
      "['Albania' 'Algeria' 'Andorra' 'Anguilla' 'Argentina' 'Australia'\n",
      " 'Austria' 'Azerbaijan' 'Bahrain' 'Bangladesh' 'Barbados' 'Belarus'\n",
      " 'Belgium' 'Belize' 'Bermuda' 'Bolivia' 'Brazil' 'Bulgaria' 'Cambodia'\n",
      " 'Canada' 'Cayman Islands' 'Chile' 'China' 'Colombia' 'Costa Rica'\n",
      " 'Croatia' 'Cyprus' 'Czechia' 'Denmark' 'Dominica' 'Dominican Republic'\n",
      " 'Ecuador' 'Egypt' 'El Salvador' 'England' 'Estonia' 'Faeroe Islands'\n",
      " 'Falkland Islands' 'Finland' 'France' 'Germany' 'Ghana' 'Gibraltar'\n",
      " 'Greece' 'Greenland' 'Grenada' 'Guatemala' 'Guernsey' 'Guyana' 'Honduras'\n",
      " 'Hong Kong' 'Hungary' 'Iceland' 'India' 'Indonesia' 'Iran' 'Ireland'\n",
      " 'Isle of Man' 'Israel' 'Italy' 'Japan' 'Jersey' 'Jordan' 'Kazakhstan'\n",
      " 'Kuwait' 'Latvia' 'Lebanon' 'Liechtenstein' 'Lithuania' 'Luxembourg'\n",
      " 'Macao' 'Malaysia' 'Maldives' 'Malta' 'Mauritius' 'Mexico' 'Moldova'\n",
      " 'Monaco' 'Mongolia' 'Montenegro' 'Montserrat' 'Morocco' 'Myanmar' 'Nepal'\n",
      " 'Netherlands' 'New Zealand' 'Northern Cyprus' 'Northern Ireland' 'Norway'\n",
      " 'Oman' 'Pakistan' 'Panama' 'Paraguay' 'Peru' 'Philippines' 'Poland'\n",
      " 'Portugal' 'Qatar' 'Romania' 'Russia' 'Rwanda' 'Saint Helena'\n",
      " 'Saint Lucia' 'San Marino' 'Saudi Arabia' 'Scotland' 'Senegal' 'Serbia'\n",
      " 'Seychelles' 'Singapore' 'Slovakia' 'Slovenia' 'South Africa'\n",
      " 'South Korea' 'Spain' 'Sri Lanka' 'Sweden' 'Switzerland' 'Thailand'\n",
      " 'Trinidad and Tobago' 'Turkey' 'Turks and Caicos Islands' 'Ukraine'\n",
      " 'United Arab Emirates' 'United Kingdom' 'United States' 'Uruguay'\n",
      " 'Venezuela' 'Wales' 'Zimbabwe']\n",
      "130\n"
     ]
    }
   ],
   "source": [
    "countries = covid_df.country.unique()\n",
    "print(countries)\n",
    "print(len(countries))"
   ]
  },
  {
   "cell_type": "markdown",
   "metadata": {},
   "source": [
    "#### What country is vaccinated more people?"
   ]
  },
  {
   "cell_type": "markdown",
   "metadata": {},
   "source": [
    "Now, let's see what countries vaccinate the most people. Here is the top-10 countries by number of vaccinations."
   ]
  },
  {
   "cell_type": "code",
   "execution_count": 83,
   "metadata": {},
   "outputs": [
    {
     "data": {
      "text/plain": [
       "country\n",
       "United States     95721290.0\n",
       "China             52520000.0\n",
       "India             25685011.0\n",
       "United Kingdom    24064182.0\n",
       "England           20248632.0\n",
       "Brazil            11756131.0\n",
       "Turkey            10360283.0\n",
       "Israel             9072077.0\n",
       "Germany            8431264.0\n",
       "Russia             7048129.0\n",
       "Name: total_vaccinations, dtype: float64"
      ]
     },
     "execution_count": 83,
     "metadata": {},
     "output_type": "execute_result"
    }
   ],
   "source": [
    "total_vaccinations_top10 = covid_df.groupby(['country']).max()[\"total_vaccinations\"]\n",
    "total_vaccinations_top10 = total_vaccinations_top10.sort_values(ascending=False)[:10]\n",
    "total_vaccinations_top10"
   ]
  },
  {
   "cell_type": "code",
   "execution_count": 82,
   "metadata": {},
   "outputs": [
    {
     "data": {
      "application/vnd.plotly.v1+json": {
       "config": {
        "plotlyServerURL": "https://plot.ly"
       },
       "data": [
        {
         "alignmentgroup": "True",
         "hovertemplate": "color=United States<br>country=%{x}<br>total vaccinations=%{y}<extra></extra>",
         "legendgroup": "United States",
         "marker": {
          "color": "#440154"
         },
         "name": "United States",
         "offsetgroup": "United States",
         "orientation": "v",
         "showlegend": true,
         "textposition": "auto",
         "type": "bar",
         "x": [
          "United States"
         ],
         "xaxis": "x",
         "y": [
          95721290
         ],
         "yaxis": "y"
        },
        {
         "alignmentgroup": "True",
         "hovertemplate": "color=China<br>country=%{x}<br>total vaccinations=%{y}<extra></extra>",
         "legendgroup": "China",
         "marker": {
          "color": "#482878"
         },
         "name": "China",
         "offsetgroup": "China",
         "orientation": "v",
         "showlegend": true,
         "textposition": "auto",
         "type": "bar",
         "x": [
          "China"
         ],
         "xaxis": "x",
         "y": [
          52520000
         ],
         "yaxis": "y"
        },
        {
         "alignmentgroup": "True",
         "hovertemplate": "color=India<br>country=%{x}<br>total vaccinations=%{y}<extra></extra>",
         "legendgroup": "India",
         "marker": {
          "color": "#3e4989"
         },
         "name": "India",
         "offsetgroup": "India",
         "orientation": "v",
         "showlegend": true,
         "textposition": "auto",
         "type": "bar",
         "x": [
          "India"
         ],
         "xaxis": "x",
         "y": [
          25685011
         ],
         "yaxis": "y"
        },
        {
         "alignmentgroup": "True",
         "hovertemplate": "color=United Kingdom<br>country=%{x}<br>total vaccinations=%{y}<extra></extra>",
         "legendgroup": "United Kingdom",
         "marker": {
          "color": "#31688e"
         },
         "name": "United Kingdom",
         "offsetgroup": "United Kingdom",
         "orientation": "v",
         "showlegend": true,
         "textposition": "auto",
         "type": "bar",
         "x": [
          "United Kingdom"
         ],
         "xaxis": "x",
         "y": [
          24064182
         ],
         "yaxis": "y"
        },
        {
         "alignmentgroup": "True",
         "hovertemplate": "color=England<br>country=%{x}<br>total vaccinations=%{y}<extra></extra>",
         "legendgroup": "England",
         "marker": {
          "color": "#26828e"
         },
         "name": "England",
         "offsetgroup": "England",
         "orientation": "v",
         "showlegend": true,
         "textposition": "auto",
         "type": "bar",
         "x": [
          "England"
         ],
         "xaxis": "x",
         "y": [
          20248632
         ],
         "yaxis": "y"
        },
        {
         "alignmentgroup": "True",
         "hovertemplate": "color=Brazil<br>country=%{x}<br>total vaccinations=%{y}<extra></extra>",
         "legendgroup": "Brazil",
         "marker": {
          "color": "#1f9e89"
         },
         "name": "Brazil",
         "offsetgroup": "Brazil",
         "orientation": "v",
         "showlegend": true,
         "textposition": "auto",
         "type": "bar",
         "x": [
          "Brazil"
         ],
         "xaxis": "x",
         "y": [
          11756131
         ],
         "yaxis": "y"
        },
        {
         "alignmentgroup": "True",
         "hovertemplate": "color=Turkey<br>country=%{x}<br>total vaccinations=%{y}<extra></extra>",
         "legendgroup": "Turkey",
         "marker": {
          "color": "#35b779"
         },
         "name": "Turkey",
         "offsetgroup": "Turkey",
         "orientation": "v",
         "showlegend": true,
         "textposition": "auto",
         "type": "bar",
         "x": [
          "Turkey"
         ],
         "xaxis": "x",
         "y": [
          10360283
         ],
         "yaxis": "y"
        },
        {
         "alignmentgroup": "True",
         "hovertemplate": "color=Israel<br>country=%{x}<br>total vaccinations=%{y}<extra></extra>",
         "legendgroup": "Israel",
         "marker": {
          "color": "#6ece58"
         },
         "name": "Israel",
         "offsetgroup": "Israel",
         "orientation": "v",
         "showlegend": true,
         "textposition": "auto",
         "type": "bar",
         "x": [
          "Israel"
         ],
         "xaxis": "x",
         "y": [
          9072077
         ],
         "yaxis": "y"
        },
        {
         "alignmentgroup": "True",
         "hovertemplate": "color=Germany<br>country=%{x}<br>total vaccinations=%{y}<extra></extra>",
         "legendgroup": "Germany",
         "marker": {
          "color": "#b5de2b"
         },
         "name": "Germany",
         "offsetgroup": "Germany",
         "orientation": "v",
         "showlegend": true,
         "textposition": "auto",
         "type": "bar",
         "x": [
          "Germany"
         ],
         "xaxis": "x",
         "y": [
          8431264
         ],
         "yaxis": "y"
        },
        {
         "alignmentgroup": "True",
         "hovertemplate": "color=Russia<br>country=%{x}<br>total vaccinations=%{y}<extra></extra>",
         "legendgroup": "Russia",
         "marker": {
          "color": "#fde725"
         },
         "name": "Russia",
         "offsetgroup": "Russia",
         "orientation": "v",
         "showlegend": true,
         "textposition": "auto",
         "type": "bar",
         "x": [
          "Russia"
         ],
         "xaxis": "x",
         "y": [
          7048129
         ],
         "yaxis": "y"
        }
       ],
       "layout": {
        "barmode": "relative",
        "legend": {
         "title": {
          "text": "color"
         },
         "tracegroupgap": 0
        },
        "margin": {
         "t": 60
        },
        "template": {
         "data": {
          "bar": [
           {
            "error_x": {
             "color": "#2a3f5f"
            },
            "error_y": {
             "color": "#2a3f5f"
            },
            "marker": {
             "line": {
              "color": "#E5ECF6",
              "width": 0.5
             }
            },
            "type": "bar"
           }
          ],
          "barpolar": [
           {
            "marker": {
             "line": {
              "color": "#E5ECF6",
              "width": 0.5
             }
            },
            "type": "barpolar"
           }
          ],
          "carpet": [
           {
            "aaxis": {
             "endlinecolor": "#2a3f5f",
             "gridcolor": "white",
             "linecolor": "white",
             "minorgridcolor": "white",
             "startlinecolor": "#2a3f5f"
            },
            "baxis": {
             "endlinecolor": "#2a3f5f",
             "gridcolor": "white",
             "linecolor": "white",
             "minorgridcolor": "white",
             "startlinecolor": "#2a3f5f"
            },
            "type": "carpet"
           }
          ],
          "choropleth": [
           {
            "colorbar": {
             "outlinewidth": 0,
             "ticks": ""
            },
            "type": "choropleth"
           }
          ],
          "contour": [
           {
            "colorbar": {
             "outlinewidth": 0,
             "ticks": ""
            },
            "colorscale": [
             [
              0,
              "#0d0887"
             ],
             [
              0.1111111111111111,
              "#46039f"
             ],
             [
              0.2222222222222222,
              "#7201a8"
             ],
             [
              0.3333333333333333,
              "#9c179e"
             ],
             [
              0.4444444444444444,
              "#bd3786"
             ],
             [
              0.5555555555555556,
              "#d8576b"
             ],
             [
              0.6666666666666666,
              "#ed7953"
             ],
             [
              0.7777777777777778,
              "#fb9f3a"
             ],
             [
              0.8888888888888888,
              "#fdca26"
             ],
             [
              1,
              "#f0f921"
             ]
            ],
            "type": "contour"
           }
          ],
          "contourcarpet": [
           {
            "colorbar": {
             "outlinewidth": 0,
             "ticks": ""
            },
            "type": "contourcarpet"
           }
          ],
          "heatmap": [
           {
            "colorbar": {
             "outlinewidth": 0,
             "ticks": ""
            },
            "colorscale": [
             [
              0,
              "#0d0887"
             ],
             [
              0.1111111111111111,
              "#46039f"
             ],
             [
              0.2222222222222222,
              "#7201a8"
             ],
             [
              0.3333333333333333,
              "#9c179e"
             ],
             [
              0.4444444444444444,
              "#bd3786"
             ],
             [
              0.5555555555555556,
              "#d8576b"
             ],
             [
              0.6666666666666666,
              "#ed7953"
             ],
             [
              0.7777777777777778,
              "#fb9f3a"
             ],
             [
              0.8888888888888888,
              "#fdca26"
             ],
             [
              1,
              "#f0f921"
             ]
            ],
            "type": "heatmap"
           }
          ],
          "heatmapgl": [
           {
            "colorbar": {
             "outlinewidth": 0,
             "ticks": ""
            },
            "colorscale": [
             [
              0,
              "#0d0887"
             ],
             [
              0.1111111111111111,
              "#46039f"
             ],
             [
              0.2222222222222222,
              "#7201a8"
             ],
             [
              0.3333333333333333,
              "#9c179e"
             ],
             [
              0.4444444444444444,
              "#bd3786"
             ],
             [
              0.5555555555555556,
              "#d8576b"
             ],
             [
              0.6666666666666666,
              "#ed7953"
             ],
             [
              0.7777777777777778,
              "#fb9f3a"
             ],
             [
              0.8888888888888888,
              "#fdca26"
             ],
             [
              1,
              "#f0f921"
             ]
            ],
            "type": "heatmapgl"
           }
          ],
          "histogram": [
           {
            "marker": {
             "colorbar": {
              "outlinewidth": 0,
              "ticks": ""
             }
            },
            "type": "histogram"
           }
          ],
          "histogram2d": [
           {
            "colorbar": {
             "outlinewidth": 0,
             "ticks": ""
            },
            "colorscale": [
             [
              0,
              "#0d0887"
             ],
             [
              0.1111111111111111,
              "#46039f"
             ],
             [
              0.2222222222222222,
              "#7201a8"
             ],
             [
              0.3333333333333333,
              "#9c179e"
             ],
             [
              0.4444444444444444,
              "#bd3786"
             ],
             [
              0.5555555555555556,
              "#d8576b"
             ],
             [
              0.6666666666666666,
              "#ed7953"
             ],
             [
              0.7777777777777778,
              "#fb9f3a"
             ],
             [
              0.8888888888888888,
              "#fdca26"
             ],
             [
              1,
              "#f0f921"
             ]
            ],
            "type": "histogram2d"
           }
          ],
          "histogram2dcontour": [
           {
            "colorbar": {
             "outlinewidth": 0,
             "ticks": ""
            },
            "colorscale": [
             [
              0,
              "#0d0887"
             ],
             [
              0.1111111111111111,
              "#46039f"
             ],
             [
              0.2222222222222222,
              "#7201a8"
             ],
             [
              0.3333333333333333,
              "#9c179e"
             ],
             [
              0.4444444444444444,
              "#bd3786"
             ],
             [
              0.5555555555555556,
              "#d8576b"
             ],
             [
              0.6666666666666666,
              "#ed7953"
             ],
             [
              0.7777777777777778,
              "#fb9f3a"
             ],
             [
              0.8888888888888888,
              "#fdca26"
             ],
             [
              1,
              "#f0f921"
             ]
            ],
            "type": "histogram2dcontour"
           }
          ],
          "mesh3d": [
           {
            "colorbar": {
             "outlinewidth": 0,
             "ticks": ""
            },
            "type": "mesh3d"
           }
          ],
          "parcoords": [
           {
            "line": {
             "colorbar": {
              "outlinewidth": 0,
              "ticks": ""
             }
            },
            "type": "parcoords"
           }
          ],
          "pie": [
           {
            "automargin": true,
            "type": "pie"
           }
          ],
          "scatter": [
           {
            "marker": {
             "colorbar": {
              "outlinewidth": 0,
              "ticks": ""
             }
            },
            "type": "scatter"
           }
          ],
          "scatter3d": [
           {
            "line": {
             "colorbar": {
              "outlinewidth": 0,
              "ticks": ""
             }
            },
            "marker": {
             "colorbar": {
              "outlinewidth": 0,
              "ticks": ""
             }
            },
            "type": "scatter3d"
           }
          ],
          "scattercarpet": [
           {
            "marker": {
             "colorbar": {
              "outlinewidth": 0,
              "ticks": ""
             }
            },
            "type": "scattercarpet"
           }
          ],
          "scattergeo": [
           {
            "marker": {
             "colorbar": {
              "outlinewidth": 0,
              "ticks": ""
             }
            },
            "type": "scattergeo"
           }
          ],
          "scattergl": [
           {
            "marker": {
             "colorbar": {
              "outlinewidth": 0,
              "ticks": ""
             }
            },
            "type": "scattergl"
           }
          ],
          "scattermapbox": [
           {
            "marker": {
             "colorbar": {
              "outlinewidth": 0,
              "ticks": ""
             }
            },
            "type": "scattermapbox"
           }
          ],
          "scatterpolar": [
           {
            "marker": {
             "colorbar": {
              "outlinewidth": 0,
              "ticks": ""
             }
            },
            "type": "scatterpolar"
           }
          ],
          "scatterpolargl": [
           {
            "marker": {
             "colorbar": {
              "outlinewidth": 0,
              "ticks": ""
             }
            },
            "type": "scatterpolargl"
           }
          ],
          "scatterternary": [
           {
            "marker": {
             "colorbar": {
              "outlinewidth": 0,
              "ticks": ""
             }
            },
            "type": "scatterternary"
           }
          ],
          "surface": [
           {
            "colorbar": {
             "outlinewidth": 0,
             "ticks": ""
            },
            "colorscale": [
             [
              0,
              "#0d0887"
             ],
             [
              0.1111111111111111,
              "#46039f"
             ],
             [
              0.2222222222222222,
              "#7201a8"
             ],
             [
              0.3333333333333333,
              "#9c179e"
             ],
             [
              0.4444444444444444,
              "#bd3786"
             ],
             [
              0.5555555555555556,
              "#d8576b"
             ],
             [
              0.6666666666666666,
              "#ed7953"
             ],
             [
              0.7777777777777778,
              "#fb9f3a"
             ],
             [
              0.8888888888888888,
              "#fdca26"
             ],
             [
              1,
              "#f0f921"
             ]
            ],
            "type": "surface"
           }
          ],
          "table": [
           {
            "cells": {
             "fill": {
              "color": "#EBF0F8"
             },
             "line": {
              "color": "white"
             }
            },
            "header": {
             "fill": {
              "color": "#C8D4E3"
             },
             "line": {
              "color": "white"
             }
            },
            "type": "table"
           }
          ]
         },
         "layout": {
          "annotationdefaults": {
           "arrowcolor": "#2a3f5f",
           "arrowhead": 0,
           "arrowwidth": 1
          },
          "autotypenumbers": "strict",
          "coloraxis": {
           "colorbar": {
            "outlinewidth": 0,
            "ticks": ""
           }
          },
          "colorscale": {
           "diverging": [
            [
             0,
             "#8e0152"
            ],
            [
             0.1,
             "#c51b7d"
            ],
            [
             0.2,
             "#de77ae"
            ],
            [
             0.3,
             "#f1b6da"
            ],
            [
             0.4,
             "#fde0ef"
            ],
            [
             0.5,
             "#f7f7f7"
            ],
            [
             0.6,
             "#e6f5d0"
            ],
            [
             0.7,
             "#b8e186"
            ],
            [
             0.8,
             "#7fbc41"
            ],
            [
             0.9,
             "#4d9221"
            ],
            [
             1,
             "#276419"
            ]
           ],
           "sequential": [
            [
             0,
             "#0d0887"
            ],
            [
             0.1111111111111111,
             "#46039f"
            ],
            [
             0.2222222222222222,
             "#7201a8"
            ],
            [
             0.3333333333333333,
             "#9c179e"
            ],
            [
             0.4444444444444444,
             "#bd3786"
            ],
            [
             0.5555555555555556,
             "#d8576b"
            ],
            [
             0.6666666666666666,
             "#ed7953"
            ],
            [
             0.7777777777777778,
             "#fb9f3a"
            ],
            [
             0.8888888888888888,
             "#fdca26"
            ],
            [
             1,
             "#f0f921"
            ]
           ],
           "sequentialminus": [
            [
             0,
             "#0d0887"
            ],
            [
             0.1111111111111111,
             "#46039f"
            ],
            [
             0.2222222222222222,
             "#7201a8"
            ],
            [
             0.3333333333333333,
             "#9c179e"
            ],
            [
             0.4444444444444444,
             "#bd3786"
            ],
            [
             0.5555555555555556,
             "#d8576b"
            ],
            [
             0.6666666666666666,
             "#ed7953"
            ],
            [
             0.7777777777777778,
             "#fb9f3a"
            ],
            [
             0.8888888888888888,
             "#fdca26"
            ],
            [
             1,
             "#f0f921"
            ]
           ]
          },
          "colorway": [
           "#636efa",
           "#EF553B",
           "#00cc96",
           "#ab63fa",
           "#FFA15A",
           "#19d3f3",
           "#FF6692",
           "#B6E880",
           "#FF97FF",
           "#FECB52"
          ],
          "font": {
           "color": "#2a3f5f"
          },
          "geo": {
           "bgcolor": "white",
           "lakecolor": "white",
           "landcolor": "#E5ECF6",
           "showlakes": true,
           "showland": true,
           "subunitcolor": "white"
          },
          "hoverlabel": {
           "align": "left"
          },
          "hovermode": "closest",
          "mapbox": {
           "style": "light"
          },
          "paper_bgcolor": "white",
          "plot_bgcolor": "#E5ECF6",
          "polar": {
           "angularaxis": {
            "gridcolor": "white",
            "linecolor": "white",
            "ticks": ""
           },
           "bgcolor": "#E5ECF6",
           "radialaxis": {
            "gridcolor": "white",
            "linecolor": "white",
            "ticks": ""
           }
          },
          "scene": {
           "xaxis": {
            "backgroundcolor": "#E5ECF6",
            "gridcolor": "white",
            "gridwidth": 2,
            "linecolor": "white",
            "showbackground": true,
            "ticks": "",
            "zerolinecolor": "white"
           },
           "yaxis": {
            "backgroundcolor": "#E5ECF6",
            "gridcolor": "white",
            "gridwidth": 2,
            "linecolor": "white",
            "showbackground": true,
            "ticks": "",
            "zerolinecolor": "white"
           },
           "zaxis": {
            "backgroundcolor": "#E5ECF6",
            "gridcolor": "white",
            "gridwidth": 2,
            "linecolor": "white",
            "showbackground": true,
            "ticks": "",
            "zerolinecolor": "white"
           }
          },
          "shapedefaults": {
           "line": {
            "color": "#2a3f5f"
           }
          },
          "ternary": {
           "aaxis": {
            "gridcolor": "white",
            "linecolor": "white",
            "ticks": ""
           },
           "baxis": {
            "gridcolor": "white",
            "linecolor": "white",
            "ticks": ""
           },
           "bgcolor": "#E5ECF6",
           "caxis": {
            "gridcolor": "white",
            "linecolor": "white",
            "ticks": ""
           }
          },
          "title": {
           "x": 0.05
          },
          "xaxis": {
           "automargin": true,
           "gridcolor": "white",
           "linecolor": "white",
           "ticks": "",
           "title": {
            "standoff": 15
           },
           "zerolinecolor": "white",
           "zerolinewidth": 2
          },
          "yaxis": {
           "automargin": true,
           "gridcolor": "white",
           "linecolor": "white",
           "ticks": "",
           "title": {
            "standoff": 15
           },
           "zerolinecolor": "white",
           "zerolinewidth": 2
          }
         }
        },
        "xaxis": {
         "anchor": "y",
         "domain": [
          0,
          1
         ],
         "title": {
          "text": "country"
         }
        },
        "yaxis": {
         "anchor": "x",
         "domain": [
          0,
          1
         ],
         "title": {
          "text": "total vaccinations"
         }
        }
       }
      },
      "text/html": [
       "<div>                            <div id=\"ad33b1fa-8849-42b1-88c8-5bd27503abca\" class=\"plotly-graph-div\" style=\"height:525px; width:100%;\"></div>            <script type=\"text/javascript\">                require([\"plotly\"], function(Plotly) {                    window.PLOTLYENV=window.PLOTLYENV || {};                                    if (document.getElementById(\"ad33b1fa-8849-42b1-88c8-5bd27503abca\")) {                    Plotly.newPlot(                        \"ad33b1fa-8849-42b1-88c8-5bd27503abca\",                        [{\"alignmentgroup\": \"True\", \"hovertemplate\": \"color=United States<br>country=%{x}<br>total vaccinations=%{y}<extra></extra>\", \"legendgroup\": \"United States\", \"marker\": {\"color\": \"#440154\"}, \"name\": \"United States\", \"offsetgroup\": \"United States\", \"orientation\": \"v\", \"showlegend\": true, \"textposition\": \"auto\", \"type\": \"bar\", \"x\": [\"United States\"], \"xaxis\": \"x\", \"y\": [95721290.0], \"yaxis\": \"y\"}, {\"alignmentgroup\": \"True\", \"hovertemplate\": \"color=China<br>country=%{x}<br>total vaccinations=%{y}<extra></extra>\", \"legendgroup\": \"China\", \"marker\": {\"color\": \"#482878\"}, \"name\": \"China\", \"offsetgroup\": \"China\", \"orientation\": \"v\", \"showlegend\": true, \"textposition\": \"auto\", \"type\": \"bar\", \"x\": [\"China\"], \"xaxis\": \"x\", \"y\": [52520000.0], \"yaxis\": \"y\"}, {\"alignmentgroup\": \"True\", \"hovertemplate\": \"color=India<br>country=%{x}<br>total vaccinations=%{y}<extra></extra>\", \"legendgroup\": \"India\", \"marker\": {\"color\": \"#3e4989\"}, \"name\": \"India\", \"offsetgroup\": \"India\", \"orientation\": \"v\", \"showlegend\": true, \"textposition\": \"auto\", \"type\": \"bar\", \"x\": [\"India\"], \"xaxis\": \"x\", \"y\": [25685011.0], \"yaxis\": \"y\"}, {\"alignmentgroup\": \"True\", \"hovertemplate\": \"color=United Kingdom<br>country=%{x}<br>total vaccinations=%{y}<extra></extra>\", \"legendgroup\": \"United Kingdom\", \"marker\": {\"color\": \"#31688e\"}, \"name\": \"United Kingdom\", \"offsetgroup\": \"United Kingdom\", \"orientation\": \"v\", \"showlegend\": true, \"textposition\": \"auto\", \"type\": \"bar\", \"x\": [\"United Kingdom\"], \"xaxis\": \"x\", \"y\": [24064182.0], \"yaxis\": \"y\"}, {\"alignmentgroup\": \"True\", \"hovertemplate\": \"color=England<br>country=%{x}<br>total vaccinations=%{y}<extra></extra>\", \"legendgroup\": \"England\", \"marker\": {\"color\": \"#26828e\"}, \"name\": \"England\", \"offsetgroup\": \"England\", \"orientation\": \"v\", \"showlegend\": true, \"textposition\": \"auto\", \"type\": \"bar\", \"x\": [\"England\"], \"xaxis\": \"x\", \"y\": [20248632.0], \"yaxis\": \"y\"}, {\"alignmentgroup\": \"True\", \"hovertemplate\": \"color=Brazil<br>country=%{x}<br>total vaccinations=%{y}<extra></extra>\", \"legendgroup\": \"Brazil\", \"marker\": {\"color\": \"#1f9e89\"}, \"name\": \"Brazil\", \"offsetgroup\": \"Brazil\", \"orientation\": \"v\", \"showlegend\": true, \"textposition\": \"auto\", \"type\": \"bar\", \"x\": [\"Brazil\"], \"xaxis\": \"x\", \"y\": [11756131.0], \"yaxis\": \"y\"}, {\"alignmentgroup\": \"True\", \"hovertemplate\": \"color=Turkey<br>country=%{x}<br>total vaccinations=%{y}<extra></extra>\", \"legendgroup\": \"Turkey\", \"marker\": {\"color\": \"#35b779\"}, \"name\": \"Turkey\", \"offsetgroup\": \"Turkey\", \"orientation\": \"v\", \"showlegend\": true, \"textposition\": \"auto\", \"type\": \"bar\", \"x\": [\"Turkey\"], \"xaxis\": \"x\", \"y\": [10360283.0], \"yaxis\": \"y\"}, {\"alignmentgroup\": \"True\", \"hovertemplate\": \"color=Israel<br>country=%{x}<br>total vaccinations=%{y}<extra></extra>\", \"legendgroup\": \"Israel\", \"marker\": {\"color\": \"#6ece58\"}, \"name\": \"Israel\", \"offsetgroup\": \"Israel\", \"orientation\": \"v\", \"showlegend\": true, \"textposition\": \"auto\", \"type\": \"bar\", \"x\": [\"Israel\"], \"xaxis\": \"x\", \"y\": [9072077.0], \"yaxis\": \"y\"}, {\"alignmentgroup\": \"True\", \"hovertemplate\": \"color=Germany<br>country=%{x}<br>total vaccinations=%{y}<extra></extra>\", \"legendgroup\": \"Germany\", \"marker\": {\"color\": \"#b5de2b\"}, \"name\": \"Germany\", \"offsetgroup\": \"Germany\", \"orientation\": \"v\", \"showlegend\": true, \"textposition\": \"auto\", \"type\": \"bar\", \"x\": [\"Germany\"], \"xaxis\": \"x\", \"y\": [8431264.0], \"yaxis\": \"y\"}, {\"alignmentgroup\": \"True\", \"hovertemplate\": \"color=Russia<br>country=%{x}<br>total vaccinations=%{y}<extra></extra>\", \"legendgroup\": \"Russia\", \"marker\": {\"color\": \"#fde725\"}, \"name\": \"Russia\", \"offsetgroup\": \"Russia\", \"orientation\": \"v\", \"showlegend\": true, \"textposition\": \"auto\", \"type\": \"bar\", \"x\": [\"Russia\"], \"xaxis\": \"x\", \"y\": [7048129.0], \"yaxis\": \"y\"}],                        {\"barmode\": \"relative\", \"legend\": {\"title\": {\"text\": \"color\"}, \"tracegroupgap\": 0}, \"margin\": {\"t\": 60}, \"template\": {\"data\": {\"bar\": [{\"error_x\": {\"color\": \"#2a3f5f\"}, \"error_y\": {\"color\": \"#2a3f5f\"}, \"marker\": {\"line\": {\"color\": \"#E5ECF6\", \"width\": 0.5}}, \"type\": \"bar\"}], \"barpolar\": [{\"marker\": {\"line\": {\"color\": \"#E5ECF6\", \"width\": 0.5}}, \"type\": \"barpolar\"}], \"carpet\": [{\"aaxis\": {\"endlinecolor\": \"#2a3f5f\", \"gridcolor\": \"white\", \"linecolor\": \"white\", \"minorgridcolor\": \"white\", \"startlinecolor\": \"#2a3f5f\"}, \"baxis\": {\"endlinecolor\": \"#2a3f5f\", \"gridcolor\": \"white\", \"linecolor\": \"white\", \"minorgridcolor\": \"white\", \"startlinecolor\": \"#2a3f5f\"}, \"type\": \"carpet\"}], \"choropleth\": [{\"colorbar\": {\"outlinewidth\": 0, \"ticks\": \"\"}, \"type\": \"choropleth\"}], \"contour\": [{\"colorbar\": {\"outlinewidth\": 0, \"ticks\": \"\"}, \"colorscale\": [[0.0, \"#0d0887\"], [0.1111111111111111, \"#46039f\"], [0.2222222222222222, \"#7201a8\"], [0.3333333333333333, \"#9c179e\"], [0.4444444444444444, \"#bd3786\"], [0.5555555555555556, \"#d8576b\"], [0.6666666666666666, \"#ed7953\"], [0.7777777777777778, \"#fb9f3a\"], [0.8888888888888888, \"#fdca26\"], [1.0, \"#f0f921\"]], \"type\": \"contour\"}], \"contourcarpet\": [{\"colorbar\": {\"outlinewidth\": 0, \"ticks\": \"\"}, \"type\": \"contourcarpet\"}], \"heatmap\": [{\"colorbar\": {\"outlinewidth\": 0, \"ticks\": \"\"}, \"colorscale\": [[0.0, \"#0d0887\"], [0.1111111111111111, \"#46039f\"], [0.2222222222222222, \"#7201a8\"], [0.3333333333333333, \"#9c179e\"], [0.4444444444444444, \"#bd3786\"], [0.5555555555555556, \"#d8576b\"], [0.6666666666666666, \"#ed7953\"], [0.7777777777777778, \"#fb9f3a\"], [0.8888888888888888, \"#fdca26\"], [1.0, \"#f0f921\"]], \"type\": \"heatmap\"}], \"heatmapgl\": [{\"colorbar\": {\"outlinewidth\": 0, \"ticks\": \"\"}, \"colorscale\": [[0.0, \"#0d0887\"], [0.1111111111111111, \"#46039f\"], [0.2222222222222222, \"#7201a8\"], [0.3333333333333333, \"#9c179e\"], [0.4444444444444444, \"#bd3786\"], [0.5555555555555556, \"#d8576b\"], [0.6666666666666666, \"#ed7953\"], [0.7777777777777778, \"#fb9f3a\"], [0.8888888888888888, \"#fdca26\"], [1.0, \"#f0f921\"]], \"type\": \"heatmapgl\"}], \"histogram\": [{\"marker\": {\"colorbar\": {\"outlinewidth\": 0, \"ticks\": \"\"}}, \"type\": \"histogram\"}], \"histogram2d\": [{\"colorbar\": {\"outlinewidth\": 0, \"ticks\": \"\"}, \"colorscale\": [[0.0, \"#0d0887\"], [0.1111111111111111, \"#46039f\"], [0.2222222222222222, \"#7201a8\"], [0.3333333333333333, \"#9c179e\"], [0.4444444444444444, \"#bd3786\"], [0.5555555555555556, \"#d8576b\"], [0.6666666666666666, \"#ed7953\"], [0.7777777777777778, \"#fb9f3a\"], [0.8888888888888888, \"#fdca26\"], [1.0, \"#f0f921\"]], \"type\": \"histogram2d\"}], \"histogram2dcontour\": [{\"colorbar\": {\"outlinewidth\": 0, \"ticks\": \"\"}, \"colorscale\": [[0.0, \"#0d0887\"], [0.1111111111111111, \"#46039f\"], [0.2222222222222222, \"#7201a8\"], [0.3333333333333333, \"#9c179e\"], [0.4444444444444444, \"#bd3786\"], [0.5555555555555556, \"#d8576b\"], [0.6666666666666666, \"#ed7953\"], [0.7777777777777778, \"#fb9f3a\"], [0.8888888888888888, \"#fdca26\"], [1.0, \"#f0f921\"]], \"type\": \"histogram2dcontour\"}], \"mesh3d\": [{\"colorbar\": {\"outlinewidth\": 0, \"ticks\": \"\"}, \"type\": \"mesh3d\"}], \"parcoords\": [{\"line\": {\"colorbar\": {\"outlinewidth\": 0, \"ticks\": \"\"}}, \"type\": \"parcoords\"}], \"pie\": [{\"automargin\": true, \"type\": \"pie\"}], \"scatter\": [{\"marker\": {\"colorbar\": {\"outlinewidth\": 0, \"ticks\": \"\"}}, \"type\": \"scatter\"}], \"scatter3d\": [{\"line\": {\"colorbar\": {\"outlinewidth\": 0, \"ticks\": \"\"}}, \"marker\": {\"colorbar\": {\"outlinewidth\": 0, \"ticks\": \"\"}}, \"type\": \"scatter3d\"}], \"scattercarpet\": [{\"marker\": {\"colorbar\": {\"outlinewidth\": 0, \"ticks\": \"\"}}, \"type\": \"scattercarpet\"}], \"scattergeo\": [{\"marker\": {\"colorbar\": {\"outlinewidth\": 0, \"ticks\": \"\"}}, \"type\": \"scattergeo\"}], \"scattergl\": [{\"marker\": {\"colorbar\": {\"outlinewidth\": 0, \"ticks\": \"\"}}, \"type\": \"scattergl\"}], \"scattermapbox\": [{\"marker\": {\"colorbar\": {\"outlinewidth\": 0, \"ticks\": \"\"}}, \"type\": \"scattermapbox\"}], \"scatterpolar\": [{\"marker\": {\"colorbar\": {\"outlinewidth\": 0, \"ticks\": \"\"}}, \"type\": \"scatterpolar\"}], \"scatterpolargl\": [{\"marker\": {\"colorbar\": {\"outlinewidth\": 0, \"ticks\": \"\"}}, \"type\": \"scatterpolargl\"}], \"scatterternary\": [{\"marker\": {\"colorbar\": {\"outlinewidth\": 0, \"ticks\": \"\"}}, \"type\": \"scatterternary\"}], \"surface\": [{\"colorbar\": {\"outlinewidth\": 0, \"ticks\": \"\"}, \"colorscale\": [[0.0, \"#0d0887\"], [0.1111111111111111, \"#46039f\"], [0.2222222222222222, \"#7201a8\"], [0.3333333333333333, \"#9c179e\"], [0.4444444444444444, \"#bd3786\"], [0.5555555555555556, \"#d8576b\"], [0.6666666666666666, \"#ed7953\"], [0.7777777777777778, \"#fb9f3a\"], [0.8888888888888888, \"#fdca26\"], [1.0, \"#f0f921\"]], \"type\": \"surface\"}], \"table\": [{\"cells\": {\"fill\": {\"color\": \"#EBF0F8\"}, \"line\": {\"color\": \"white\"}}, \"header\": {\"fill\": {\"color\": \"#C8D4E3\"}, \"line\": {\"color\": \"white\"}}, \"type\": \"table\"}]}, \"layout\": {\"annotationdefaults\": {\"arrowcolor\": \"#2a3f5f\", \"arrowhead\": 0, \"arrowwidth\": 1}, \"autotypenumbers\": \"strict\", \"coloraxis\": {\"colorbar\": {\"outlinewidth\": 0, \"ticks\": \"\"}}, \"colorscale\": {\"diverging\": [[0, \"#8e0152\"], [0.1, \"#c51b7d\"], [0.2, \"#de77ae\"], [0.3, \"#f1b6da\"], [0.4, \"#fde0ef\"], [0.5, \"#f7f7f7\"], [0.6, \"#e6f5d0\"], [0.7, \"#b8e186\"], [0.8, \"#7fbc41\"], [0.9, \"#4d9221\"], [1, \"#276419\"]], \"sequential\": [[0.0, \"#0d0887\"], [0.1111111111111111, \"#46039f\"], [0.2222222222222222, \"#7201a8\"], [0.3333333333333333, \"#9c179e\"], [0.4444444444444444, \"#bd3786\"], [0.5555555555555556, \"#d8576b\"], [0.6666666666666666, \"#ed7953\"], [0.7777777777777778, \"#fb9f3a\"], [0.8888888888888888, \"#fdca26\"], [1.0, \"#f0f921\"]], \"sequentialminus\": [[0.0, \"#0d0887\"], [0.1111111111111111, \"#46039f\"], [0.2222222222222222, \"#7201a8\"], [0.3333333333333333, \"#9c179e\"], [0.4444444444444444, \"#bd3786\"], [0.5555555555555556, \"#d8576b\"], [0.6666666666666666, \"#ed7953\"], [0.7777777777777778, \"#fb9f3a\"], [0.8888888888888888, \"#fdca26\"], [1.0, \"#f0f921\"]]}, \"colorway\": [\"#636efa\", \"#EF553B\", \"#00cc96\", \"#ab63fa\", \"#FFA15A\", \"#19d3f3\", \"#FF6692\", \"#B6E880\", \"#FF97FF\", \"#FECB52\"], \"font\": {\"color\": \"#2a3f5f\"}, \"geo\": {\"bgcolor\": \"white\", \"lakecolor\": \"white\", \"landcolor\": \"#E5ECF6\", \"showlakes\": true, \"showland\": true, \"subunitcolor\": \"white\"}, \"hoverlabel\": {\"align\": \"left\"}, \"hovermode\": \"closest\", \"mapbox\": {\"style\": \"light\"}, \"paper_bgcolor\": \"white\", \"plot_bgcolor\": \"#E5ECF6\", \"polar\": {\"angularaxis\": {\"gridcolor\": \"white\", \"linecolor\": \"white\", \"ticks\": \"\"}, \"bgcolor\": \"#E5ECF6\", \"radialaxis\": {\"gridcolor\": \"white\", \"linecolor\": \"white\", \"ticks\": \"\"}}, \"scene\": {\"xaxis\": {\"backgroundcolor\": \"#E5ECF6\", \"gridcolor\": \"white\", \"gridwidth\": 2, \"linecolor\": \"white\", \"showbackground\": true, \"ticks\": \"\", \"zerolinecolor\": \"white\"}, \"yaxis\": {\"backgroundcolor\": \"#E5ECF6\", \"gridcolor\": \"white\", \"gridwidth\": 2, \"linecolor\": \"white\", \"showbackground\": true, \"ticks\": \"\", \"zerolinecolor\": \"white\"}, \"zaxis\": {\"backgroundcolor\": \"#E5ECF6\", \"gridcolor\": \"white\", \"gridwidth\": 2, \"linecolor\": \"white\", \"showbackground\": true, \"ticks\": \"\", \"zerolinecolor\": \"white\"}}, \"shapedefaults\": {\"line\": {\"color\": \"#2a3f5f\"}}, \"ternary\": {\"aaxis\": {\"gridcolor\": \"white\", \"linecolor\": \"white\", \"ticks\": \"\"}, \"baxis\": {\"gridcolor\": \"white\", \"linecolor\": \"white\", \"ticks\": \"\"}, \"bgcolor\": \"#E5ECF6\", \"caxis\": {\"gridcolor\": \"white\", \"linecolor\": \"white\", \"ticks\": \"\"}}, \"title\": {\"x\": 0.05}, \"xaxis\": {\"automargin\": true, \"gridcolor\": \"white\", \"linecolor\": \"white\", \"ticks\": \"\", \"title\": {\"standoff\": 15}, \"zerolinecolor\": \"white\", \"zerolinewidth\": 2}, \"yaxis\": {\"automargin\": true, \"gridcolor\": \"white\", \"linecolor\": \"white\", \"ticks\": \"\", \"title\": {\"standoff\": 15}, \"zerolinecolor\": \"white\", \"zerolinewidth\": 2}}}, \"xaxis\": {\"anchor\": \"y\", \"domain\": [0.0, 1.0], \"title\": {\"text\": \"country\"}}, \"yaxis\": {\"anchor\": \"x\", \"domain\": [0.0, 1.0], \"title\": {\"text\": \"total vaccinations\"}}},                        {\"responsive\": true}                    ).then(function(){\n",
       "                            \n",
       "var gd = document.getElementById('ad33b1fa-8849-42b1-88c8-5bd27503abca');\n",
       "var x = new MutationObserver(function (mutations, observer) {{\n",
       "        var display = window.getComputedStyle(gd).display;\n",
       "        if (!display || display === 'none') {{\n",
       "            console.log([gd, 'removed!']);\n",
       "            Plotly.purge(gd);\n",
       "            observer.disconnect();\n",
       "        }}\n",
       "}});\n",
       "\n",
       "// Listen for the removal of the full notebook cells\n",
       "var notebookContainer = gd.closest('#notebook-container');\n",
       "if (notebookContainer) {{\n",
       "    x.observe(notebookContainer, {childList: true});\n",
       "}}\n",
       "\n",
       "// Listen for the clearing of the current output cell\n",
       "var outputEl = gd.closest('.output');\n",
       "if (outputEl) {{\n",
       "    x.observe(outputEl, {childList: true});\n",
       "}}\n",
       "\n",
       "                        })                };                });            </script>        </div>"
      ]
     },
     "metadata": {},
     "output_type": "display_data"
    }
   ],
   "source": [
    "fig = px.bar(x=total_vaccinations_top10.index ,y=total_vaccinations_top10.values,\n",
    "            color=total_vaccinations_top10.index,\n",
    "            labels={\"x\": \"country\", \"y\": \"total vaccinations\"},\n",
    "            color_discrete_sequence =px.colors.sequential.Viridis)\n",
    "\n",
    "fig.show()"
   ]
  },
  {
   "cell_type": "markdown",
   "metadata": {},
   "source": [
    "As we can see, USA vaccinate the most people (95.3 millions). China has slightly less vaccinations than the United States, but many times more than other countries. In Europe leaders in number of vaccinations are Germany, Italy and United Kingdom, which includes England.\n",
    "\n",
    "\n"
   ]
  },
  {
   "cell_type": "markdown",
   "metadata": {},
   "source": [
    "#### What country is vaccinated a larger percent from its population?"
   ]
  },
  {
   "cell_type": "markdown",
   "metadata": {},
   "source": [
    "As we can see before, USA and China vaccinate the most people, but what about how many people are vaccinate per hundred of population?"
   ]
  },
  {
   "cell_type": "code",
   "execution_count": 84,
   "metadata": {},
   "outputs": [
    {
     "data": {
      "text/html": [
       "<div>\n",
       "<style scoped>\n",
       "    .dataframe tbody tr th:only-of-type {\n",
       "        vertical-align: middle;\n",
       "    }\n",
       "\n",
       "    .dataframe tbody tr th {\n",
       "        vertical-align: top;\n",
       "    }\n",
       "\n",
       "    .dataframe thead th {\n",
       "        text-align: right;\n",
       "    }\n",
       "</style>\n",
       "<table border=\"1\" class=\"dataframe\">\n",
       "  <thead>\n",
       "    <tr style=\"text-align: right;\">\n",
       "      <th></th>\n",
       "      <th>country</th>\n",
       "      <th>iso_code</th>\n",
       "      <th>date</th>\n",
       "      <th>total_vaccinations</th>\n",
       "      <th>people_vaccinated</th>\n",
       "      <th>people_fully_vaccinated</th>\n",
       "      <th>daily_vaccinations_raw</th>\n",
       "      <th>daily_vaccinations</th>\n",
       "      <th>total_vaccinations_per_hundred</th>\n",
       "      <th>people_vaccinated_per_hundred</th>\n",
       "      <th>people_fully_vaccinated_per_hundred</th>\n",
       "      <th>daily_vaccinations_per_million</th>\n",
       "      <th>vaccines</th>\n",
       "    </tr>\n",
       "  </thead>\n",
       "  <tbody>\n",
       "    <tr>\n",
       "      <th>0</th>\n",
       "      <td>Albania</td>\n",
       "      <td>ALB</td>\n",
       "      <td>2021-01-10</td>\n",
       "      <td>0.0</td>\n",
       "      <td>0.0</td>\n",
       "      <td>NaN</td>\n",
       "      <td>NaN</td>\n",
       "      <td>NaN</td>\n",
       "      <td>0.00</td>\n",
       "      <td>0.00</td>\n",
       "      <td>NaN</td>\n",
       "      <td>NaN</td>\n",
       "      <td>Pfizer/BioNTech</td>\n",
       "    </tr>\n",
       "    <tr>\n",
       "      <th>1</th>\n",
       "      <td>Albania</td>\n",
       "      <td>ALB</td>\n",
       "      <td>2021-01-11</td>\n",
       "      <td>NaN</td>\n",
       "      <td>NaN</td>\n",
       "      <td>NaN</td>\n",
       "      <td>NaN</td>\n",
       "      <td>64.0</td>\n",
       "      <td>NaN</td>\n",
       "      <td>NaN</td>\n",
       "      <td>NaN</td>\n",
       "      <td>22.0</td>\n",
       "      <td>Pfizer/BioNTech</td>\n",
       "    </tr>\n",
       "    <tr>\n",
       "      <th>2</th>\n",
       "      <td>Albania</td>\n",
       "      <td>ALB</td>\n",
       "      <td>2021-01-12</td>\n",
       "      <td>128.0</td>\n",
       "      <td>128.0</td>\n",
       "      <td>NaN</td>\n",
       "      <td>NaN</td>\n",
       "      <td>64.0</td>\n",
       "      <td>0.00</td>\n",
       "      <td>0.00</td>\n",
       "      <td>NaN</td>\n",
       "      <td>22.0</td>\n",
       "      <td>Pfizer/BioNTech</td>\n",
       "    </tr>\n",
       "    <tr>\n",
       "      <th>3</th>\n",
       "      <td>Albania</td>\n",
       "      <td>ALB</td>\n",
       "      <td>2021-01-13</td>\n",
       "      <td>188.0</td>\n",
       "      <td>188.0</td>\n",
       "      <td>NaN</td>\n",
       "      <td>60.0</td>\n",
       "      <td>63.0</td>\n",
       "      <td>0.01</td>\n",
       "      <td>0.01</td>\n",
       "      <td>NaN</td>\n",
       "      <td>22.0</td>\n",
       "      <td>Pfizer/BioNTech</td>\n",
       "    </tr>\n",
       "    <tr>\n",
       "      <th>4</th>\n",
       "      <td>Albania</td>\n",
       "      <td>ALB</td>\n",
       "      <td>2021-01-14</td>\n",
       "      <td>266.0</td>\n",
       "      <td>266.0</td>\n",
       "      <td>NaN</td>\n",
       "      <td>78.0</td>\n",
       "      <td>66.0</td>\n",
       "      <td>0.01</td>\n",
       "      <td>0.01</td>\n",
       "      <td>NaN</td>\n",
       "      <td>23.0</td>\n",
       "      <td>Pfizer/BioNTech</td>\n",
       "    </tr>\n",
       "    <tr>\n",
       "      <th>...</th>\n",
       "      <td>...</td>\n",
       "      <td>...</td>\n",
       "      <td>...</td>\n",
       "      <td>...</td>\n",
       "      <td>...</td>\n",
       "      <td>...</td>\n",
       "      <td>...</td>\n",
       "      <td>...</td>\n",
       "      <td>...</td>\n",
       "      <td>...</td>\n",
       "      <td>...</td>\n",
       "      <td>...</td>\n",
       "      <td>...</td>\n",
       "    </tr>\n",
       "    <tr>\n",
       "      <th>5819</th>\n",
       "      <td>Zimbabwe</td>\n",
       "      <td>ZWE</td>\n",
       "      <td>2021-03-06</td>\n",
       "      <td>32014.0</td>\n",
       "      <td>32014.0</td>\n",
       "      <td>NaN</td>\n",
       "      <td>689.0</td>\n",
       "      <td>2330.0</td>\n",
       "      <td>0.22</td>\n",
       "      <td>0.22</td>\n",
       "      <td>NaN</td>\n",
       "      <td>157.0</td>\n",
       "      <td>Sinopharm/Beijing</td>\n",
       "    </tr>\n",
       "    <tr>\n",
       "      <th>5820</th>\n",
       "      <td>Zimbabwe</td>\n",
       "      <td>ZWE</td>\n",
       "      <td>2021-03-07</td>\n",
       "      <td>32240.0</td>\n",
       "      <td>32240.0</td>\n",
       "      <td>NaN</td>\n",
       "      <td>226.0</td>\n",
       "      <td>1914.0</td>\n",
       "      <td>0.22</td>\n",
       "      <td>0.22</td>\n",
       "      <td>NaN</td>\n",
       "      <td>129.0</td>\n",
       "      <td>Sinopharm/Beijing</td>\n",
       "    </tr>\n",
       "    <tr>\n",
       "      <th>5821</th>\n",
       "      <td>Zimbabwe</td>\n",
       "      <td>ZWE</td>\n",
       "      <td>2021-03-08</td>\n",
       "      <td>35518.0</td>\n",
       "      <td>35518.0</td>\n",
       "      <td>NaN</td>\n",
       "      <td>3278.0</td>\n",
       "      <td>2009.0</td>\n",
       "      <td>0.24</td>\n",
       "      <td>0.24</td>\n",
       "      <td>NaN</td>\n",
       "      <td>135.0</td>\n",
       "      <td>Sinopharm/Beijing</td>\n",
       "    </tr>\n",
       "    <tr>\n",
       "      <th>5822</th>\n",
       "      <td>Zimbabwe</td>\n",
       "      <td>ZWE</td>\n",
       "      <td>2021-03-09</td>\n",
       "      <td>35761.0</td>\n",
       "      <td>35761.0</td>\n",
       "      <td>NaN</td>\n",
       "      <td>243.0</td>\n",
       "      <td>1526.0</td>\n",
       "      <td>0.24</td>\n",
       "      <td>0.24</td>\n",
       "      <td>NaN</td>\n",
       "      <td>103.0</td>\n",
       "      <td>Sinopharm/Beijing</td>\n",
       "    </tr>\n",
       "    <tr>\n",
       "      <th>5823</th>\n",
       "      <td>Zimbabwe</td>\n",
       "      <td>ZWE</td>\n",
       "      <td>2021-03-10</td>\n",
       "      <td>35901.0</td>\n",
       "      <td>35901.0</td>\n",
       "      <td>NaN</td>\n",
       "      <td>140.0</td>\n",
       "      <td>1133.0</td>\n",
       "      <td>0.24</td>\n",
       "      <td>0.24</td>\n",
       "      <td>NaN</td>\n",
       "      <td>76.0</td>\n",
       "      <td>Sinopharm/Beijing</td>\n",
       "    </tr>\n",
       "  </tbody>\n",
       "</table>\n",
       "<p>5824 rows × 13 columns</p>\n",
       "</div>"
      ],
      "text/plain": [
       "       country iso_code        date  total_vaccinations  people_vaccinated  \\\n",
       "0      Albania      ALB  2021-01-10                 0.0                0.0   \n",
       "1      Albania      ALB  2021-01-11                 NaN                NaN   \n",
       "2      Albania      ALB  2021-01-12               128.0              128.0   \n",
       "3      Albania      ALB  2021-01-13               188.0              188.0   \n",
       "4      Albania      ALB  2021-01-14               266.0              266.0   \n",
       "...        ...      ...         ...                 ...                ...   \n",
       "5819  Zimbabwe      ZWE  2021-03-06             32014.0            32014.0   \n",
       "5820  Zimbabwe      ZWE  2021-03-07             32240.0            32240.0   \n",
       "5821  Zimbabwe      ZWE  2021-03-08             35518.0            35518.0   \n",
       "5822  Zimbabwe      ZWE  2021-03-09             35761.0            35761.0   \n",
       "5823  Zimbabwe      ZWE  2021-03-10             35901.0            35901.0   \n",
       "\n",
       "      people_fully_vaccinated  daily_vaccinations_raw  daily_vaccinations  \\\n",
       "0                         NaN                     NaN                 NaN   \n",
       "1                         NaN                     NaN                64.0   \n",
       "2                         NaN                     NaN                64.0   \n",
       "3                         NaN                    60.0                63.0   \n",
       "4                         NaN                    78.0                66.0   \n",
       "...                       ...                     ...                 ...   \n",
       "5819                      NaN                   689.0              2330.0   \n",
       "5820                      NaN                   226.0              1914.0   \n",
       "5821                      NaN                  3278.0              2009.0   \n",
       "5822                      NaN                   243.0              1526.0   \n",
       "5823                      NaN                   140.0              1133.0   \n",
       "\n",
       "      total_vaccinations_per_hundred  people_vaccinated_per_hundred  \\\n",
       "0                               0.00                           0.00   \n",
       "1                                NaN                            NaN   \n",
       "2                               0.00                           0.00   \n",
       "3                               0.01                           0.01   \n",
       "4                               0.01                           0.01   \n",
       "...                              ...                            ...   \n",
       "5819                            0.22                           0.22   \n",
       "5820                            0.22                           0.22   \n",
       "5821                            0.24                           0.24   \n",
       "5822                            0.24                           0.24   \n",
       "5823                            0.24                           0.24   \n",
       "\n",
       "      people_fully_vaccinated_per_hundred  daily_vaccinations_per_million  \\\n",
       "0                                     NaN                             NaN   \n",
       "1                                     NaN                            22.0   \n",
       "2                                     NaN                            22.0   \n",
       "3                                     NaN                            22.0   \n",
       "4                                     NaN                            23.0   \n",
       "...                                   ...                             ...   \n",
       "5819                                  NaN                           157.0   \n",
       "5820                                  NaN                           129.0   \n",
       "5821                                  NaN                           135.0   \n",
       "5822                                  NaN                           103.0   \n",
       "5823                                  NaN                            76.0   \n",
       "\n",
       "               vaccines  \n",
       "0       Pfizer/BioNTech  \n",
       "1       Pfizer/BioNTech  \n",
       "2       Pfizer/BioNTech  \n",
       "3       Pfizer/BioNTech  \n",
       "4       Pfizer/BioNTech  \n",
       "...                 ...  \n",
       "5819  Sinopharm/Beijing  \n",
       "5820  Sinopharm/Beijing  \n",
       "5821  Sinopharm/Beijing  \n",
       "5822  Sinopharm/Beijing  \n",
       "5823  Sinopharm/Beijing  \n",
       "\n",
       "[5824 rows x 13 columns]"
      ]
     },
     "execution_count": 84,
     "metadata": {},
     "output_type": "execute_result"
    }
   ],
   "source": [
    "covid_df"
   ]
  },
  {
   "cell_type": "code",
   "execution_count": 186,
   "metadata": {},
   "outputs": [],
   "source": [
    "total_vac_hundrd = covid_df[['country','iso_code', 'total_vaccinations_per_hundred']]\n",
    "total_vac_hundrd['total_vaccinations_per_hundred'] = total_vac_hundrd['total_vaccinations_per_hundred'].fillna(0)\n",
    "total_vac_hundrd = total_vac_hundrd.groupby(['country', 'iso_code']).max().reset_index()"
   ]
  },
  {
   "cell_type": "code",
   "execution_count": 192,
   "metadata": {},
   "outputs": [],
   "source": [
    "def create_choropleth(loc,z,text, title):\n",
    "    fig = go.Figure(data=go.Choropleth(\n",
    "          locations = loc,\n",
    "           z=z,\n",
    "           text=text,\n",
    "           colorscale = 'viridis',\n",
    "           autocolorscale=False,\n",
    "           reversescale=True,\n",
    "           marker_line_color='white',\n",
    "           marker_line_width=0.5\n",
    "           \n",
    "     ))\n",
    "    \n",
    "    fig.update_geos(\n",
    "         visible=True,\n",
    "         resolution=50,\n",
    "         showcountries=True,\n",
    "         countrycolor = 'darkgrey'\n",
    "         )\n",
    "    \n",
    "    fig.update_layout(\n",
    "         title_text = title,\n",
    "         geo=dict(\n",
    "             showframe=False,\n",
    "             showcoastlines=False,\n",
    "             projection_type='natural earth'\n",
    "     )) \n",
    "    \n",
    "    fig.show()\n",
    "    "
   ]
  },
  {
   "cell_type": "code",
   "execution_count": 193,
   "metadata": {},
   "outputs": [
    {
     "data": {
      "application/vnd.plotly.v1+json": {
       "config": {
        "plotlyServerURL": "https://plot.ly"
       },
       "data": [
        {
         "autocolorscale": false,
         "colorscale": [
          [
           0,
           "#440154"
          ],
          [
           0.1111111111111111,
           "#482878"
          ],
          [
           0.2222222222222222,
           "#3e4989"
          ],
          [
           0.3333333333333333,
           "#31688e"
          ],
          [
           0.4444444444444444,
           "#26828e"
          ],
          [
           0.5555555555555556,
           "#1f9e89"
          ],
          [
           0.6666666666666666,
           "#35b779"
          ],
          [
           0.7777777777777778,
           "#6ece58"
          ],
          [
           0.8888888888888888,
           "#b5de2b"
          ],
          [
           1,
           "#fde725"
          ]
         ],
         "locations": [
          "ALB",
          "DZA",
          "AND",
          "AIA",
          "ARG",
          "AUS",
          "AUT",
          "AZE",
          "BHR",
          "BGD",
          "BRB",
          "BLR",
          "BEL",
          "BLZ",
          "BMU",
          "BOL",
          "BRA",
          "BGR",
          "KHM",
          "CAN",
          "CYM",
          "CHL",
          "CHN",
          "COL",
          "CRI",
          "HRV",
          "CYP",
          "CZE",
          "DNK",
          "DMA",
          "DOM",
          "ECU",
          "EGY",
          "SLV",
          "EST",
          "FRO",
          "FLK",
          "FIN",
          "FRA",
          "DEU",
          "GHA",
          "GIB",
          "GRC",
          "GRL",
          "GRD",
          "GTM",
          "GGY",
          "GUY",
          "HND",
          "HKG",
          "HUN",
          "ISL",
          "IND",
          "IDN",
          "IRN",
          "IRL",
          "IMN",
          "ISR",
          "ITA",
          "JPN",
          "JEY",
          "JOR",
          "KAZ",
          "KWT",
          "LVA",
          "LBN",
          "LIE",
          "LTU",
          "LUX",
          "MAC",
          "MYS",
          "MDV",
          "MLT",
          "MUS",
          "MEX",
          "MDA",
          "MCO",
          "MNG",
          "MNE",
          "MSR",
          "MAR",
          "MMR",
          "NPL",
          "NLD",
          "NZL",
          "OWID_NCY",
          "NOR",
          "OMN",
          "PAK",
          "PAN",
          "PRY",
          "PER",
          "PHL",
          "POL",
          "PRT",
          "QAT",
          "ROU",
          "RUS",
          "RWA",
          "SHN",
          "LCA",
          "SMR",
          "SAU",
          "SEN",
          "SRB",
          "SYC",
          "SGP",
          "SVK",
          "SVN",
          "ZAF",
          "KOR",
          "ESP",
          "LKA",
          "SWE",
          "CHE",
          "THA",
          "TTO",
          "TUR",
          "TCA",
          "UKR",
          "ARE",
          "GBR",
          "USA",
          "URY",
          "VEN",
          "ZWE"
         ],
         "marker": {
          "line": {
           "color": "white",
           "width": 0.5
          }
         },
         "reversescale": true,
         "text": [
          "Albania",
          "Algeria",
          "Andorra",
          "Anguilla",
          "Argentina",
          "Australia",
          "Austria",
          "Azerbaijan",
          "Bahrain",
          "Bangladesh",
          "Barbados",
          "Belarus",
          "Belgium",
          "Belize",
          "Bermuda",
          "Bolivia",
          "Brazil",
          "Bulgaria",
          "Cambodia",
          "Canada",
          "Cayman Islands",
          "Chile",
          "China",
          "Colombia",
          "Costa Rica",
          "Croatia",
          "Cyprus",
          "Czechia",
          "Denmark",
          "Dominica",
          "Dominican Republic",
          "Ecuador",
          "Egypt",
          "El Salvador",
          "Estonia",
          "Faeroe Islands",
          "Falkland Islands",
          "Finland",
          "France",
          "Germany",
          "Ghana",
          "Gibraltar",
          "Greece",
          "Greenland",
          "Grenada",
          "Guatemala",
          "Guernsey",
          "Guyana",
          "Honduras",
          "Hong Kong",
          "Hungary",
          "Iceland",
          "India",
          "Indonesia",
          "Iran",
          "Ireland",
          "Isle of Man",
          "Israel",
          "Italy",
          "Japan",
          "Jersey",
          "Jordan",
          "Kazakhstan",
          "Kuwait",
          "Latvia",
          "Lebanon",
          "Liechtenstein",
          "Lithuania",
          "Luxembourg",
          "Macao",
          "Malaysia",
          "Maldives",
          "Malta",
          "Mauritius",
          "Mexico",
          "Moldova",
          "Monaco",
          "Mongolia",
          "Montenegro",
          "Montserrat",
          "Morocco",
          "Myanmar",
          "Nepal",
          "Netherlands",
          "New Zealand",
          "Northern Cyprus",
          "Norway",
          "Oman",
          "Pakistan",
          "Panama",
          "Paraguay",
          "Peru",
          "Philippines",
          "Poland",
          "Portugal",
          "Qatar",
          "Romania",
          "Russia",
          "Rwanda",
          "Saint Helena",
          "Saint Lucia",
          "San Marino",
          "Saudi Arabia",
          "Senegal",
          "Serbia",
          "Seychelles",
          "Singapore",
          "Slovakia",
          "Slovenia",
          "South Africa",
          "South Korea",
          "Spain",
          "Sri Lanka",
          "Sweden",
          "Switzerland",
          "Thailand",
          "Trinidad and Tobago",
          "Turkey",
          "Turks and Caicos Islands",
          "Ukraine",
          "United Arab Emirates",
          "United Kingdom",
          "United States",
          "Uruguay",
          "Venezuela",
          "Zimbabwe"
         ],
         "type": "choropleth",
         "z": [
          0.55,
          0.17,
          3.27,
          26.19,
          3.93,
          0.42,
          9.55,
          4.23,
          30.44,
          2.44,
          17.19,
          0.22,
          8.77,
          0.63,
          38.44,
          1.09,
          5.53,
          4.45,
          0.66,
          6.95,
          40.44,
          29.93,
          3.65,
          0.71,
          4.02,
          6.46,
          11.42,
          8.85,
          13.43,
          10,
          5.04,
          0.43,
          0,
          0.25,
          11.7,
          16.51,
          49.73,
          10.84,
          9.14,
          10.06,
          0.97,
          133.25,
          11.42,
          9.04,
          0.13,
          0.01,
          32.87,
          0.24,
          0.03,
          1.74,
          15.29,
          12.32,
          1.86,
          1.77,
          0.01,
          10.65,
          32.14,
          104.81,
          9.93,
          0.12,
          33.16,
          1.47,
          0.12,
          8.43,
          4.69,
          0.97,
          8.2,
          12.19,
          7.82,
          0.31,
          0.61,
          32.46,
          23.87,
          0.3,
          2.71,
          0.16,
          6.12,
          0.15,
          0.49,
          13.04,
          13.37,
          0.19,
          1.38,
          9.45,
          0.37,
          2.88,
          11.49,
          1.92,
          0.03,
          4.97,
          0.04,
          1.29,
          0.04,
          10.8,
          10.35,
          11.35,
          9.97,
          4.83,
          1.78,
          1.76,
          1.14,
          9.03,
          4.92,
          0.41,
          26.35,
          85.89,
          10.45,
          10.6,
          10.3,
          0.22,
          0.98,
          10.67,
          3.51,
          10.01,
          10.96,
          0.01,
          0.03,
          12.28,
          16.62,
          0.07,
          63.95,
          35.45,
          28.62,
          4.25,
          0.04,
          0.24
         ]
        }
       ],
       "layout": {
        "geo": {
         "countrycolor": "darkgrey",
         "projection": {
          "type": "natural earth"
         },
         "resolution": 50,
         "showcoastlines": false,
         "showcountries": true,
         "showframe": false,
         "visible": true
        },
        "template": {
         "data": {
          "bar": [
           {
            "error_x": {
             "color": "#2a3f5f"
            },
            "error_y": {
             "color": "#2a3f5f"
            },
            "marker": {
             "line": {
              "color": "#E5ECF6",
              "width": 0.5
             }
            },
            "type": "bar"
           }
          ],
          "barpolar": [
           {
            "marker": {
             "line": {
              "color": "#E5ECF6",
              "width": 0.5
             }
            },
            "type": "barpolar"
           }
          ],
          "carpet": [
           {
            "aaxis": {
             "endlinecolor": "#2a3f5f",
             "gridcolor": "white",
             "linecolor": "white",
             "minorgridcolor": "white",
             "startlinecolor": "#2a3f5f"
            },
            "baxis": {
             "endlinecolor": "#2a3f5f",
             "gridcolor": "white",
             "linecolor": "white",
             "minorgridcolor": "white",
             "startlinecolor": "#2a3f5f"
            },
            "type": "carpet"
           }
          ],
          "choropleth": [
           {
            "colorbar": {
             "outlinewidth": 0,
             "ticks": ""
            },
            "type": "choropleth"
           }
          ],
          "contour": [
           {
            "colorbar": {
             "outlinewidth": 0,
             "ticks": ""
            },
            "colorscale": [
             [
              0,
              "#0d0887"
             ],
             [
              0.1111111111111111,
              "#46039f"
             ],
             [
              0.2222222222222222,
              "#7201a8"
             ],
             [
              0.3333333333333333,
              "#9c179e"
             ],
             [
              0.4444444444444444,
              "#bd3786"
             ],
             [
              0.5555555555555556,
              "#d8576b"
             ],
             [
              0.6666666666666666,
              "#ed7953"
             ],
             [
              0.7777777777777778,
              "#fb9f3a"
             ],
             [
              0.8888888888888888,
              "#fdca26"
             ],
             [
              1,
              "#f0f921"
             ]
            ],
            "type": "contour"
           }
          ],
          "contourcarpet": [
           {
            "colorbar": {
             "outlinewidth": 0,
             "ticks": ""
            },
            "type": "contourcarpet"
           }
          ],
          "heatmap": [
           {
            "colorbar": {
             "outlinewidth": 0,
             "ticks": ""
            },
            "colorscale": [
             [
              0,
              "#0d0887"
             ],
             [
              0.1111111111111111,
              "#46039f"
             ],
             [
              0.2222222222222222,
              "#7201a8"
             ],
             [
              0.3333333333333333,
              "#9c179e"
             ],
             [
              0.4444444444444444,
              "#bd3786"
             ],
             [
              0.5555555555555556,
              "#d8576b"
             ],
             [
              0.6666666666666666,
              "#ed7953"
             ],
             [
              0.7777777777777778,
              "#fb9f3a"
             ],
             [
              0.8888888888888888,
              "#fdca26"
             ],
             [
              1,
              "#f0f921"
             ]
            ],
            "type": "heatmap"
           }
          ],
          "heatmapgl": [
           {
            "colorbar": {
             "outlinewidth": 0,
             "ticks": ""
            },
            "colorscale": [
             [
              0,
              "#0d0887"
             ],
             [
              0.1111111111111111,
              "#46039f"
             ],
             [
              0.2222222222222222,
              "#7201a8"
             ],
             [
              0.3333333333333333,
              "#9c179e"
             ],
             [
              0.4444444444444444,
              "#bd3786"
             ],
             [
              0.5555555555555556,
              "#d8576b"
             ],
             [
              0.6666666666666666,
              "#ed7953"
             ],
             [
              0.7777777777777778,
              "#fb9f3a"
             ],
             [
              0.8888888888888888,
              "#fdca26"
             ],
             [
              1,
              "#f0f921"
             ]
            ],
            "type": "heatmapgl"
           }
          ],
          "histogram": [
           {
            "marker": {
             "colorbar": {
              "outlinewidth": 0,
              "ticks": ""
             }
            },
            "type": "histogram"
           }
          ],
          "histogram2d": [
           {
            "colorbar": {
             "outlinewidth": 0,
             "ticks": ""
            },
            "colorscale": [
             [
              0,
              "#0d0887"
             ],
             [
              0.1111111111111111,
              "#46039f"
             ],
             [
              0.2222222222222222,
              "#7201a8"
             ],
             [
              0.3333333333333333,
              "#9c179e"
             ],
             [
              0.4444444444444444,
              "#bd3786"
             ],
             [
              0.5555555555555556,
              "#d8576b"
             ],
             [
              0.6666666666666666,
              "#ed7953"
             ],
             [
              0.7777777777777778,
              "#fb9f3a"
             ],
             [
              0.8888888888888888,
              "#fdca26"
             ],
             [
              1,
              "#f0f921"
             ]
            ],
            "type": "histogram2d"
           }
          ],
          "histogram2dcontour": [
           {
            "colorbar": {
             "outlinewidth": 0,
             "ticks": ""
            },
            "colorscale": [
             [
              0,
              "#0d0887"
             ],
             [
              0.1111111111111111,
              "#46039f"
             ],
             [
              0.2222222222222222,
              "#7201a8"
             ],
             [
              0.3333333333333333,
              "#9c179e"
             ],
             [
              0.4444444444444444,
              "#bd3786"
             ],
             [
              0.5555555555555556,
              "#d8576b"
             ],
             [
              0.6666666666666666,
              "#ed7953"
             ],
             [
              0.7777777777777778,
              "#fb9f3a"
             ],
             [
              0.8888888888888888,
              "#fdca26"
             ],
             [
              1,
              "#f0f921"
             ]
            ],
            "type": "histogram2dcontour"
           }
          ],
          "mesh3d": [
           {
            "colorbar": {
             "outlinewidth": 0,
             "ticks": ""
            },
            "type": "mesh3d"
           }
          ],
          "parcoords": [
           {
            "line": {
             "colorbar": {
              "outlinewidth": 0,
              "ticks": ""
             }
            },
            "type": "parcoords"
           }
          ],
          "pie": [
           {
            "automargin": true,
            "type": "pie"
           }
          ],
          "scatter": [
           {
            "marker": {
             "colorbar": {
              "outlinewidth": 0,
              "ticks": ""
             }
            },
            "type": "scatter"
           }
          ],
          "scatter3d": [
           {
            "line": {
             "colorbar": {
              "outlinewidth": 0,
              "ticks": ""
             }
            },
            "marker": {
             "colorbar": {
              "outlinewidth": 0,
              "ticks": ""
             }
            },
            "type": "scatter3d"
           }
          ],
          "scattercarpet": [
           {
            "marker": {
             "colorbar": {
              "outlinewidth": 0,
              "ticks": ""
             }
            },
            "type": "scattercarpet"
           }
          ],
          "scattergeo": [
           {
            "marker": {
             "colorbar": {
              "outlinewidth": 0,
              "ticks": ""
             }
            },
            "type": "scattergeo"
           }
          ],
          "scattergl": [
           {
            "marker": {
             "colorbar": {
              "outlinewidth": 0,
              "ticks": ""
             }
            },
            "type": "scattergl"
           }
          ],
          "scattermapbox": [
           {
            "marker": {
             "colorbar": {
              "outlinewidth": 0,
              "ticks": ""
             }
            },
            "type": "scattermapbox"
           }
          ],
          "scatterpolar": [
           {
            "marker": {
             "colorbar": {
              "outlinewidth": 0,
              "ticks": ""
             }
            },
            "type": "scatterpolar"
           }
          ],
          "scatterpolargl": [
           {
            "marker": {
             "colorbar": {
              "outlinewidth": 0,
              "ticks": ""
             }
            },
            "type": "scatterpolargl"
           }
          ],
          "scatterternary": [
           {
            "marker": {
             "colorbar": {
              "outlinewidth": 0,
              "ticks": ""
             }
            },
            "type": "scatterternary"
           }
          ],
          "surface": [
           {
            "colorbar": {
             "outlinewidth": 0,
             "ticks": ""
            },
            "colorscale": [
             [
              0,
              "#0d0887"
             ],
             [
              0.1111111111111111,
              "#46039f"
             ],
             [
              0.2222222222222222,
              "#7201a8"
             ],
             [
              0.3333333333333333,
              "#9c179e"
             ],
             [
              0.4444444444444444,
              "#bd3786"
             ],
             [
              0.5555555555555556,
              "#d8576b"
             ],
             [
              0.6666666666666666,
              "#ed7953"
             ],
             [
              0.7777777777777778,
              "#fb9f3a"
             ],
             [
              0.8888888888888888,
              "#fdca26"
             ],
             [
              1,
              "#f0f921"
             ]
            ],
            "type": "surface"
           }
          ],
          "table": [
           {
            "cells": {
             "fill": {
              "color": "#EBF0F8"
             },
             "line": {
              "color": "white"
             }
            },
            "header": {
             "fill": {
              "color": "#C8D4E3"
             },
             "line": {
              "color": "white"
             }
            },
            "type": "table"
           }
          ]
         },
         "layout": {
          "annotationdefaults": {
           "arrowcolor": "#2a3f5f",
           "arrowhead": 0,
           "arrowwidth": 1
          },
          "autotypenumbers": "strict",
          "coloraxis": {
           "colorbar": {
            "outlinewidth": 0,
            "ticks": ""
           }
          },
          "colorscale": {
           "diverging": [
            [
             0,
             "#8e0152"
            ],
            [
             0.1,
             "#c51b7d"
            ],
            [
             0.2,
             "#de77ae"
            ],
            [
             0.3,
             "#f1b6da"
            ],
            [
             0.4,
             "#fde0ef"
            ],
            [
             0.5,
             "#f7f7f7"
            ],
            [
             0.6,
             "#e6f5d0"
            ],
            [
             0.7,
             "#b8e186"
            ],
            [
             0.8,
             "#7fbc41"
            ],
            [
             0.9,
             "#4d9221"
            ],
            [
             1,
             "#276419"
            ]
           ],
           "sequential": [
            [
             0,
             "#0d0887"
            ],
            [
             0.1111111111111111,
             "#46039f"
            ],
            [
             0.2222222222222222,
             "#7201a8"
            ],
            [
             0.3333333333333333,
             "#9c179e"
            ],
            [
             0.4444444444444444,
             "#bd3786"
            ],
            [
             0.5555555555555556,
             "#d8576b"
            ],
            [
             0.6666666666666666,
             "#ed7953"
            ],
            [
             0.7777777777777778,
             "#fb9f3a"
            ],
            [
             0.8888888888888888,
             "#fdca26"
            ],
            [
             1,
             "#f0f921"
            ]
           ],
           "sequentialminus": [
            [
             0,
             "#0d0887"
            ],
            [
             0.1111111111111111,
             "#46039f"
            ],
            [
             0.2222222222222222,
             "#7201a8"
            ],
            [
             0.3333333333333333,
             "#9c179e"
            ],
            [
             0.4444444444444444,
             "#bd3786"
            ],
            [
             0.5555555555555556,
             "#d8576b"
            ],
            [
             0.6666666666666666,
             "#ed7953"
            ],
            [
             0.7777777777777778,
             "#fb9f3a"
            ],
            [
             0.8888888888888888,
             "#fdca26"
            ],
            [
             1,
             "#f0f921"
            ]
           ]
          },
          "colorway": [
           "#636efa",
           "#EF553B",
           "#00cc96",
           "#ab63fa",
           "#FFA15A",
           "#19d3f3",
           "#FF6692",
           "#B6E880",
           "#FF97FF",
           "#FECB52"
          ],
          "font": {
           "color": "#2a3f5f"
          },
          "geo": {
           "bgcolor": "white",
           "lakecolor": "white",
           "landcolor": "#E5ECF6",
           "showlakes": true,
           "showland": true,
           "subunitcolor": "white"
          },
          "hoverlabel": {
           "align": "left"
          },
          "hovermode": "closest",
          "mapbox": {
           "style": "light"
          },
          "paper_bgcolor": "white",
          "plot_bgcolor": "#E5ECF6",
          "polar": {
           "angularaxis": {
            "gridcolor": "white",
            "linecolor": "white",
            "ticks": ""
           },
           "bgcolor": "#E5ECF6",
           "radialaxis": {
            "gridcolor": "white",
            "linecolor": "white",
            "ticks": ""
           }
          },
          "scene": {
           "xaxis": {
            "backgroundcolor": "#E5ECF6",
            "gridcolor": "white",
            "gridwidth": 2,
            "linecolor": "white",
            "showbackground": true,
            "ticks": "",
            "zerolinecolor": "white"
           },
           "yaxis": {
            "backgroundcolor": "#E5ECF6",
            "gridcolor": "white",
            "gridwidth": 2,
            "linecolor": "white",
            "showbackground": true,
            "ticks": "",
            "zerolinecolor": "white"
           },
           "zaxis": {
            "backgroundcolor": "#E5ECF6",
            "gridcolor": "white",
            "gridwidth": 2,
            "linecolor": "white",
            "showbackground": true,
            "ticks": "",
            "zerolinecolor": "white"
           }
          },
          "shapedefaults": {
           "line": {
            "color": "#2a3f5f"
           }
          },
          "ternary": {
           "aaxis": {
            "gridcolor": "white",
            "linecolor": "white",
            "ticks": ""
           },
           "baxis": {
            "gridcolor": "white",
            "linecolor": "white",
            "ticks": ""
           },
           "bgcolor": "#E5ECF6",
           "caxis": {
            "gridcolor": "white",
            "linecolor": "white",
            "ticks": ""
           }
          },
          "title": {
           "x": 0.05
          },
          "xaxis": {
           "automargin": true,
           "gridcolor": "white",
           "linecolor": "white",
           "ticks": "",
           "title": {
            "standoff": 15
           },
           "zerolinecolor": "white",
           "zerolinewidth": 2
          },
          "yaxis": {
           "automargin": true,
           "gridcolor": "white",
           "linecolor": "white",
           "ticks": "",
           "title": {
            "standoff": 15
           },
           "zerolinecolor": "white",
           "zerolinewidth": 2
          }
         }
        },
        "title": {
         "text": "Total vaccinations per hundred"
        }
       }
      },
      "text/html": [
       "<div>                            <div id=\"25cb9016-cce0-4f08-9d3c-161fd7d28ef1\" class=\"plotly-graph-div\" style=\"height:525px; width:100%;\"></div>            <script type=\"text/javascript\">                require([\"plotly\"], function(Plotly) {                    window.PLOTLYENV=window.PLOTLYENV || {};                                    if (document.getElementById(\"25cb9016-cce0-4f08-9d3c-161fd7d28ef1\")) {                    Plotly.newPlot(                        \"25cb9016-cce0-4f08-9d3c-161fd7d28ef1\",                        [{\"autocolorscale\": false, \"colorscale\": [[0.0, \"#440154\"], [0.1111111111111111, \"#482878\"], [0.2222222222222222, \"#3e4989\"], [0.3333333333333333, \"#31688e\"], [0.4444444444444444, \"#26828e\"], [0.5555555555555556, \"#1f9e89\"], [0.6666666666666666, \"#35b779\"], [0.7777777777777778, \"#6ece58\"], [0.8888888888888888, \"#b5de2b\"], [1.0, \"#fde725\"]], \"locations\": [\"ALB\", \"DZA\", \"AND\", \"AIA\", \"ARG\", \"AUS\", \"AUT\", \"AZE\", \"BHR\", \"BGD\", \"BRB\", \"BLR\", \"BEL\", \"BLZ\", \"BMU\", \"BOL\", \"BRA\", \"BGR\", \"KHM\", \"CAN\", \"CYM\", \"CHL\", \"CHN\", \"COL\", \"CRI\", \"HRV\", \"CYP\", \"CZE\", \"DNK\", \"DMA\", \"DOM\", \"ECU\", \"EGY\", \"SLV\", \"EST\", \"FRO\", \"FLK\", \"FIN\", \"FRA\", \"DEU\", \"GHA\", \"GIB\", \"GRC\", \"GRL\", \"GRD\", \"GTM\", \"GGY\", \"GUY\", \"HND\", \"HKG\", \"HUN\", \"ISL\", \"IND\", \"IDN\", \"IRN\", \"IRL\", \"IMN\", \"ISR\", \"ITA\", \"JPN\", \"JEY\", \"JOR\", \"KAZ\", \"KWT\", \"LVA\", \"LBN\", \"LIE\", \"LTU\", \"LUX\", \"MAC\", \"MYS\", \"MDV\", \"MLT\", \"MUS\", \"MEX\", \"MDA\", \"MCO\", \"MNG\", \"MNE\", \"MSR\", \"MAR\", \"MMR\", \"NPL\", \"NLD\", \"NZL\", \"OWID_NCY\", \"NOR\", \"OMN\", \"PAK\", \"PAN\", \"PRY\", \"PER\", \"PHL\", \"POL\", \"PRT\", \"QAT\", \"ROU\", \"RUS\", \"RWA\", \"SHN\", \"LCA\", \"SMR\", \"SAU\", \"SEN\", \"SRB\", \"SYC\", \"SGP\", \"SVK\", \"SVN\", \"ZAF\", \"KOR\", \"ESP\", \"LKA\", \"SWE\", \"CHE\", \"THA\", \"TTO\", \"TUR\", \"TCA\", \"UKR\", \"ARE\", \"GBR\", \"USA\", \"URY\", \"VEN\", \"ZWE\"], \"marker\": {\"line\": {\"color\": \"white\", \"width\": 0.5}}, \"reversescale\": true, \"text\": [\"Albania\", \"Algeria\", \"Andorra\", \"Anguilla\", \"Argentina\", \"Australia\", \"Austria\", \"Azerbaijan\", \"Bahrain\", \"Bangladesh\", \"Barbados\", \"Belarus\", \"Belgium\", \"Belize\", \"Bermuda\", \"Bolivia\", \"Brazil\", \"Bulgaria\", \"Cambodia\", \"Canada\", \"Cayman Islands\", \"Chile\", \"China\", \"Colombia\", \"Costa Rica\", \"Croatia\", \"Cyprus\", \"Czechia\", \"Denmark\", \"Dominica\", \"Dominican Republic\", \"Ecuador\", \"Egypt\", \"El Salvador\", \"Estonia\", \"Faeroe Islands\", \"Falkland Islands\", \"Finland\", \"France\", \"Germany\", \"Ghana\", \"Gibraltar\", \"Greece\", \"Greenland\", \"Grenada\", \"Guatemala\", \"Guernsey\", \"Guyana\", \"Honduras\", \"Hong Kong\", \"Hungary\", \"Iceland\", \"India\", \"Indonesia\", \"Iran\", \"Ireland\", \"Isle of Man\", \"Israel\", \"Italy\", \"Japan\", \"Jersey\", \"Jordan\", \"Kazakhstan\", \"Kuwait\", \"Latvia\", \"Lebanon\", \"Liechtenstein\", \"Lithuania\", \"Luxembourg\", \"Macao\", \"Malaysia\", \"Maldives\", \"Malta\", \"Mauritius\", \"Mexico\", \"Moldova\", \"Monaco\", \"Mongolia\", \"Montenegro\", \"Montserrat\", \"Morocco\", \"Myanmar\", \"Nepal\", \"Netherlands\", \"New Zealand\", \"Northern Cyprus\", \"Norway\", \"Oman\", \"Pakistan\", \"Panama\", \"Paraguay\", \"Peru\", \"Philippines\", \"Poland\", \"Portugal\", \"Qatar\", \"Romania\", \"Russia\", \"Rwanda\", \"Saint Helena\", \"Saint Lucia\", \"San Marino\", \"Saudi Arabia\", \"Senegal\", \"Serbia\", \"Seychelles\", \"Singapore\", \"Slovakia\", \"Slovenia\", \"South Africa\", \"South Korea\", \"Spain\", \"Sri Lanka\", \"Sweden\", \"Switzerland\", \"Thailand\", \"Trinidad and Tobago\", \"Turkey\", \"Turks and Caicos Islands\", \"Ukraine\", \"United Arab Emirates\", \"United Kingdom\", \"United States\", \"Uruguay\", \"Venezuela\", \"Zimbabwe\"], \"type\": \"choropleth\", \"z\": [0.55, 0.17, 3.27, 26.19, 3.93, 0.42, 9.55, 4.23, 30.44, 2.44, 17.19, 0.22, 8.77, 0.63, 38.44, 1.09, 5.53, 4.45, 0.66, 6.95, 40.44, 29.93, 3.65, 0.71, 4.02, 6.46, 11.42, 8.85, 13.43, 10.0, 5.04, 0.43, 0.0, 0.25, 11.7, 16.51, 49.73, 10.84, 9.14, 10.06, 0.97, 133.25, 11.42, 9.04, 0.13, 0.01, 32.87, 0.24, 0.03, 1.74, 15.29, 12.32, 1.86, 1.77, 0.01, 10.65, 32.14, 104.81, 9.93, 0.12, 33.16, 1.47, 0.12, 8.43, 4.69, 0.97, 8.2, 12.19, 7.82, 0.31, 0.61, 32.46, 23.87, 0.3, 2.71, 0.16, 6.12, 0.15, 0.49, 13.04, 13.37, 0.19, 1.38, 9.45, 0.37, 2.88, 11.49, 1.92, 0.03, 4.97, 0.04, 1.29, 0.04, 10.8, 10.35, 11.35, 9.97, 4.83, 1.78, 1.76, 1.14, 9.03, 4.92, 0.41, 26.35, 85.89, 10.45, 10.6, 10.3, 0.22, 0.98, 10.67, 3.51, 10.01, 10.96, 0.01, 0.03, 12.28, 16.62, 0.07, 63.95, 35.45, 28.62, 4.25, 0.04, 0.24]}],                        {\"geo\": {\"countrycolor\": \"darkgrey\", \"projection\": {\"type\": \"natural earth\"}, \"resolution\": 50, \"showcoastlines\": false, \"showcountries\": true, \"showframe\": false, \"visible\": true}, \"template\": {\"data\": {\"bar\": [{\"error_x\": {\"color\": \"#2a3f5f\"}, \"error_y\": {\"color\": \"#2a3f5f\"}, \"marker\": {\"line\": {\"color\": \"#E5ECF6\", \"width\": 0.5}}, \"type\": \"bar\"}], \"barpolar\": [{\"marker\": {\"line\": {\"color\": \"#E5ECF6\", \"width\": 0.5}}, \"type\": \"barpolar\"}], \"carpet\": [{\"aaxis\": {\"endlinecolor\": \"#2a3f5f\", \"gridcolor\": \"white\", \"linecolor\": \"white\", \"minorgridcolor\": \"white\", \"startlinecolor\": \"#2a3f5f\"}, \"baxis\": {\"endlinecolor\": \"#2a3f5f\", \"gridcolor\": \"white\", \"linecolor\": \"white\", \"minorgridcolor\": \"white\", \"startlinecolor\": \"#2a3f5f\"}, \"type\": \"carpet\"}], \"choropleth\": [{\"colorbar\": {\"outlinewidth\": 0, \"ticks\": \"\"}, \"type\": \"choropleth\"}], \"contour\": [{\"colorbar\": {\"outlinewidth\": 0, \"ticks\": \"\"}, \"colorscale\": [[0.0, \"#0d0887\"], [0.1111111111111111, \"#46039f\"], [0.2222222222222222, \"#7201a8\"], [0.3333333333333333, \"#9c179e\"], [0.4444444444444444, \"#bd3786\"], [0.5555555555555556, \"#d8576b\"], [0.6666666666666666, \"#ed7953\"], [0.7777777777777778, \"#fb9f3a\"], [0.8888888888888888, \"#fdca26\"], [1.0, \"#f0f921\"]], \"type\": \"contour\"}], \"contourcarpet\": [{\"colorbar\": {\"outlinewidth\": 0, \"ticks\": \"\"}, \"type\": \"contourcarpet\"}], \"heatmap\": [{\"colorbar\": {\"outlinewidth\": 0, \"ticks\": \"\"}, \"colorscale\": [[0.0, \"#0d0887\"], [0.1111111111111111, \"#46039f\"], [0.2222222222222222, \"#7201a8\"], [0.3333333333333333, \"#9c179e\"], [0.4444444444444444, \"#bd3786\"], [0.5555555555555556, \"#d8576b\"], [0.6666666666666666, \"#ed7953\"], [0.7777777777777778, \"#fb9f3a\"], [0.8888888888888888, \"#fdca26\"], [1.0, \"#f0f921\"]], \"type\": \"heatmap\"}], \"heatmapgl\": [{\"colorbar\": {\"outlinewidth\": 0, \"ticks\": \"\"}, \"colorscale\": [[0.0, \"#0d0887\"], [0.1111111111111111, \"#46039f\"], [0.2222222222222222, \"#7201a8\"], [0.3333333333333333, \"#9c179e\"], [0.4444444444444444, \"#bd3786\"], [0.5555555555555556, \"#d8576b\"], [0.6666666666666666, \"#ed7953\"], [0.7777777777777778, \"#fb9f3a\"], [0.8888888888888888, \"#fdca26\"], [1.0, \"#f0f921\"]], \"type\": \"heatmapgl\"}], \"histogram\": [{\"marker\": {\"colorbar\": {\"outlinewidth\": 0, \"ticks\": \"\"}}, \"type\": \"histogram\"}], \"histogram2d\": [{\"colorbar\": {\"outlinewidth\": 0, \"ticks\": \"\"}, \"colorscale\": [[0.0, \"#0d0887\"], [0.1111111111111111, \"#46039f\"], [0.2222222222222222, \"#7201a8\"], [0.3333333333333333, \"#9c179e\"], [0.4444444444444444, \"#bd3786\"], [0.5555555555555556, \"#d8576b\"], [0.6666666666666666, \"#ed7953\"], [0.7777777777777778, \"#fb9f3a\"], [0.8888888888888888, \"#fdca26\"], [1.0, \"#f0f921\"]], \"type\": \"histogram2d\"}], \"histogram2dcontour\": [{\"colorbar\": {\"outlinewidth\": 0, \"ticks\": \"\"}, \"colorscale\": [[0.0, \"#0d0887\"], [0.1111111111111111, \"#46039f\"], [0.2222222222222222, \"#7201a8\"], [0.3333333333333333, \"#9c179e\"], [0.4444444444444444, \"#bd3786\"], [0.5555555555555556, \"#d8576b\"], [0.6666666666666666, \"#ed7953\"], [0.7777777777777778, \"#fb9f3a\"], [0.8888888888888888, \"#fdca26\"], [1.0, \"#f0f921\"]], \"type\": \"histogram2dcontour\"}], \"mesh3d\": [{\"colorbar\": {\"outlinewidth\": 0, \"ticks\": \"\"}, \"type\": \"mesh3d\"}], \"parcoords\": [{\"line\": {\"colorbar\": {\"outlinewidth\": 0, \"ticks\": \"\"}}, \"type\": \"parcoords\"}], \"pie\": [{\"automargin\": true, \"type\": \"pie\"}], \"scatter\": [{\"marker\": {\"colorbar\": {\"outlinewidth\": 0, \"ticks\": \"\"}}, \"type\": \"scatter\"}], \"scatter3d\": [{\"line\": {\"colorbar\": {\"outlinewidth\": 0, \"ticks\": \"\"}}, \"marker\": {\"colorbar\": {\"outlinewidth\": 0, \"ticks\": \"\"}}, \"type\": \"scatter3d\"}], \"scattercarpet\": [{\"marker\": {\"colorbar\": {\"outlinewidth\": 0, \"ticks\": \"\"}}, \"type\": \"scattercarpet\"}], \"scattergeo\": [{\"marker\": {\"colorbar\": {\"outlinewidth\": 0, \"ticks\": \"\"}}, \"type\": \"scattergeo\"}], \"scattergl\": [{\"marker\": {\"colorbar\": {\"outlinewidth\": 0, \"ticks\": \"\"}}, \"type\": \"scattergl\"}], \"scattermapbox\": [{\"marker\": {\"colorbar\": {\"outlinewidth\": 0, \"ticks\": \"\"}}, \"type\": \"scattermapbox\"}], \"scatterpolar\": [{\"marker\": {\"colorbar\": {\"outlinewidth\": 0, \"ticks\": \"\"}}, \"type\": \"scatterpolar\"}], \"scatterpolargl\": [{\"marker\": {\"colorbar\": {\"outlinewidth\": 0, \"ticks\": \"\"}}, \"type\": \"scatterpolargl\"}], \"scatterternary\": [{\"marker\": {\"colorbar\": {\"outlinewidth\": 0, \"ticks\": \"\"}}, \"type\": \"scatterternary\"}], \"surface\": [{\"colorbar\": {\"outlinewidth\": 0, \"ticks\": \"\"}, \"colorscale\": [[0.0, \"#0d0887\"], [0.1111111111111111, \"#46039f\"], [0.2222222222222222, \"#7201a8\"], [0.3333333333333333, \"#9c179e\"], [0.4444444444444444, \"#bd3786\"], [0.5555555555555556, \"#d8576b\"], [0.6666666666666666, \"#ed7953\"], [0.7777777777777778, \"#fb9f3a\"], [0.8888888888888888, \"#fdca26\"], [1.0, \"#f0f921\"]], \"type\": \"surface\"}], \"table\": [{\"cells\": {\"fill\": {\"color\": \"#EBF0F8\"}, \"line\": {\"color\": \"white\"}}, \"header\": {\"fill\": {\"color\": \"#C8D4E3\"}, \"line\": {\"color\": \"white\"}}, \"type\": \"table\"}]}, \"layout\": {\"annotationdefaults\": {\"arrowcolor\": \"#2a3f5f\", \"arrowhead\": 0, \"arrowwidth\": 1}, \"autotypenumbers\": \"strict\", \"coloraxis\": {\"colorbar\": {\"outlinewidth\": 0, \"ticks\": \"\"}}, \"colorscale\": {\"diverging\": [[0, \"#8e0152\"], [0.1, \"#c51b7d\"], [0.2, \"#de77ae\"], [0.3, \"#f1b6da\"], [0.4, \"#fde0ef\"], [0.5, \"#f7f7f7\"], [0.6, \"#e6f5d0\"], [0.7, \"#b8e186\"], [0.8, \"#7fbc41\"], [0.9, \"#4d9221\"], [1, \"#276419\"]], \"sequential\": [[0.0, \"#0d0887\"], [0.1111111111111111, \"#46039f\"], [0.2222222222222222, \"#7201a8\"], [0.3333333333333333, \"#9c179e\"], [0.4444444444444444, \"#bd3786\"], [0.5555555555555556, \"#d8576b\"], [0.6666666666666666, \"#ed7953\"], [0.7777777777777778, \"#fb9f3a\"], [0.8888888888888888, \"#fdca26\"], [1.0, \"#f0f921\"]], \"sequentialminus\": [[0.0, \"#0d0887\"], [0.1111111111111111, \"#46039f\"], [0.2222222222222222, \"#7201a8\"], [0.3333333333333333, \"#9c179e\"], [0.4444444444444444, \"#bd3786\"], [0.5555555555555556, \"#d8576b\"], [0.6666666666666666, \"#ed7953\"], [0.7777777777777778, \"#fb9f3a\"], [0.8888888888888888, \"#fdca26\"], [1.0, \"#f0f921\"]]}, \"colorway\": [\"#636efa\", \"#EF553B\", \"#00cc96\", \"#ab63fa\", \"#FFA15A\", \"#19d3f3\", \"#FF6692\", \"#B6E880\", \"#FF97FF\", \"#FECB52\"], \"font\": {\"color\": \"#2a3f5f\"}, \"geo\": {\"bgcolor\": \"white\", \"lakecolor\": \"white\", \"landcolor\": \"#E5ECF6\", \"showlakes\": true, \"showland\": true, \"subunitcolor\": \"white\"}, \"hoverlabel\": {\"align\": \"left\"}, \"hovermode\": \"closest\", \"mapbox\": {\"style\": \"light\"}, \"paper_bgcolor\": \"white\", \"plot_bgcolor\": \"#E5ECF6\", \"polar\": {\"angularaxis\": {\"gridcolor\": \"white\", \"linecolor\": \"white\", \"ticks\": \"\"}, \"bgcolor\": \"#E5ECF6\", \"radialaxis\": {\"gridcolor\": \"white\", \"linecolor\": \"white\", \"ticks\": \"\"}}, \"scene\": {\"xaxis\": {\"backgroundcolor\": \"#E5ECF6\", \"gridcolor\": \"white\", \"gridwidth\": 2, \"linecolor\": \"white\", \"showbackground\": true, \"ticks\": \"\", \"zerolinecolor\": \"white\"}, \"yaxis\": {\"backgroundcolor\": \"#E5ECF6\", \"gridcolor\": \"white\", \"gridwidth\": 2, \"linecolor\": \"white\", \"showbackground\": true, \"ticks\": \"\", \"zerolinecolor\": \"white\"}, \"zaxis\": {\"backgroundcolor\": \"#E5ECF6\", \"gridcolor\": \"white\", \"gridwidth\": 2, \"linecolor\": \"white\", \"showbackground\": true, \"ticks\": \"\", \"zerolinecolor\": \"white\"}}, \"shapedefaults\": {\"line\": {\"color\": \"#2a3f5f\"}}, \"ternary\": {\"aaxis\": {\"gridcolor\": \"white\", \"linecolor\": \"white\", \"ticks\": \"\"}, \"baxis\": {\"gridcolor\": \"white\", \"linecolor\": \"white\", \"ticks\": \"\"}, \"bgcolor\": \"#E5ECF6\", \"caxis\": {\"gridcolor\": \"white\", \"linecolor\": \"white\", \"ticks\": \"\"}}, \"title\": {\"x\": 0.05}, \"xaxis\": {\"automargin\": true, \"gridcolor\": \"white\", \"linecolor\": \"white\", \"ticks\": \"\", \"title\": {\"standoff\": 15}, \"zerolinecolor\": \"white\", \"zerolinewidth\": 2}, \"yaxis\": {\"automargin\": true, \"gridcolor\": \"white\", \"linecolor\": \"white\", \"ticks\": \"\", \"title\": {\"standoff\": 15}, \"zerolinecolor\": \"white\", \"zerolinewidth\": 2}}}, \"title\": {\"text\": \"Total vaccinations per hundred\"}},                        {\"responsive\": true}                    ).then(function(){\n",
       "                            \n",
       "var gd = document.getElementById('25cb9016-cce0-4f08-9d3c-161fd7d28ef1');\n",
       "var x = new MutationObserver(function (mutations, observer) {{\n",
       "        var display = window.getComputedStyle(gd).display;\n",
       "        if (!display || display === 'none') {{\n",
       "            console.log([gd, 'removed!']);\n",
       "            Plotly.purge(gd);\n",
       "            observer.disconnect();\n",
       "        }}\n",
       "}});\n",
       "\n",
       "// Listen for the removal of the full notebook cells\n",
       "var notebookContainer = gd.closest('#notebook-container');\n",
       "if (notebookContainer) {{\n",
       "    x.observe(notebookContainer, {childList: true});\n",
       "}}\n",
       "\n",
       "// Listen for the clearing of the current output cell\n",
       "var outputEl = gd.closest('.output');\n",
       "if (outputEl) {{\n",
       "    x.observe(outputEl, {childList: true});\n",
       "}}\n",
       "\n",
       "                        })                };                });            </script>        </div>"
      ]
     },
     "metadata": {},
     "output_type": "display_data"
    }
   ],
   "source": [
    "create_choropleth(total_vac_hundrd['iso_code'],\n",
    "                  total_vac_hundrd['total_vaccinations_per_hundred'], \n",
    "                  total_vac_hundrd['country'], \n",
    "                  'Total vaccinations per hundred')"
   ]
  },
  {
   "cell_type": "markdown",
   "metadata": {},
   "source": [
    "The most dark colors have Israel and UAE. It means that this countries have the largest percent of vaccinated people. In USA there are only 28 people per hundred are vaccinated, for China it is 3."
   ]
  },
  {
   "cell_type": "code",
   "execution_count": 139,
   "metadata": {},
   "outputs": [],
   "source": [
    "fully_vac_hundrd = covid_df[['country', 'iso_code', 'people_fully_vaccinated_per_hundred']]\n",
    "fully_vac_hundrd['people_fully_vaccinated_per_hundred'] = fully_vac_hundred['people_fully_vaccinated_per_hundred'].fillna(0)\n",
    "fully_vac_hundrd = fully_vac_hundred.groupby(['country', 'iso_code']).max().reset_index()"
   ]
  },
  {
   "cell_type": "code",
   "execution_count": 140,
   "metadata": {},
   "outputs": [
    {
     "data": {
      "application/vnd.plotly.v1+json": {
       "config": {
        "plotlyServerURL": "https://plot.ly"
       },
       "data": [
        {
         "autocolorscale": false,
         "colorscale": [
          [
           0,
           "#440154"
          ],
          [
           0.1111111111111111,
           "#482878"
          ],
          [
           0.2222222222222222,
           "#3e4989"
          ],
          [
           0.3333333333333333,
           "#31688e"
          ],
          [
           0.4444444444444444,
           "#26828e"
          ],
          [
           0.5555555555555556,
           "#1f9e89"
          ],
          [
           0.6666666666666666,
           "#35b779"
          ],
          [
           0.7777777777777778,
           "#6ece58"
          ],
          [
           0.8888888888888888,
           "#b5de2b"
          ],
          [
           1,
           "#fde725"
          ]
         ],
         "locations": [
          "ALB",
          "DZA",
          "AND",
          "AIA",
          "ARG",
          "AUS",
          "AUT",
          "AZE",
          "BHR",
          "BGD",
          "BRB",
          "BLR",
          "BEL",
          "BLZ",
          "BMU",
          "BOL",
          "BRA",
          "BGR",
          "KHM",
          "CAN",
          "CYM",
          "CHL",
          "CHN",
          "COL",
          "CRI",
          "HRV",
          "CYP",
          "CZE",
          "DNK",
          "DMA",
          "DOM",
          "ECU",
          "EGY",
          "SLV",
          "EST",
          "FRO",
          "FLK",
          "FIN",
          "FRA",
          "DEU",
          "GHA",
          "GIB",
          "GRC",
          "GRL",
          "GRD",
          "GTM",
          "GGY",
          "GUY",
          "HND",
          "HKG",
          "HUN",
          "ISL",
          "IND",
          "IDN",
          "IRN",
          "IRL",
          "IMN",
          "ISR",
          "ITA",
          "JPN",
          "JEY",
          "JOR",
          "KAZ",
          "KWT",
          "LVA",
          "LBN",
          "LIE",
          "LTU",
          "LUX",
          "MAC",
          "MYS",
          "MDV",
          "MLT",
          "MUS",
          "MEX",
          "MDA",
          "MCO",
          "MNG",
          "MNE",
          "MSR",
          "MAR",
          "MMR",
          "NPL",
          "NLD",
          "NZL",
          "OWID_NCY",
          "NOR",
          "OMN",
          "PAK",
          "PAN",
          "PRY",
          "PER",
          "PHL",
          "POL",
          "PRT",
          "QAT",
          "ROU",
          "RUS",
          "RWA",
          "SHN",
          "LCA",
          "SMR",
          "SAU",
          "SEN",
          "SRB",
          "SYC",
          "SGP",
          "SVK",
          "SVN",
          "ZAF",
          "KOR",
          "ESP",
          "LKA",
          "SWE",
          "CHE",
          "THA",
          "TTO",
          "TUR",
          "TCA",
          "UKR",
          "ARE",
          "GBR",
          "USA",
          "URY",
          "VEN",
          "ZWE"
         ],
         "marker": {
          "line": {
           "color": "white",
           "width": 0.5
          }
         },
         "reversescale": true,
         "text": [
          "Albania",
          "Algeria",
          "Andorra",
          "Anguilla",
          "Argentina",
          "Australia",
          "Austria",
          "Azerbaijan",
          "Bahrain",
          "Bangladesh",
          "Barbados",
          "Belarus",
          "Belgium",
          "Belize",
          "Bermuda",
          "Bolivia",
          "Brazil",
          "Bulgaria",
          "Cambodia",
          "Canada",
          "Cayman Islands",
          "Chile",
          "China",
          "Colombia",
          "Costa Rica",
          "Croatia",
          "Cyprus",
          "Czechia",
          "Denmark",
          "Dominica",
          "Dominican Republic",
          "Ecuador",
          "Egypt",
          "El Salvador",
          "Estonia",
          "Faeroe Islands",
          "Falkland Islands",
          "Finland",
          "France",
          "Germany",
          "Ghana",
          "Gibraltar",
          "Greece",
          "Greenland",
          "Grenada",
          "Guatemala",
          "Guernsey",
          "Guyana",
          "Honduras",
          "Hong Kong",
          "Hungary",
          "Iceland",
          "India",
          "Indonesia",
          "Iran",
          "Ireland",
          "Isle of Man",
          "Israel",
          "Italy",
          "Japan",
          "Jersey",
          "Jordan",
          "Kazakhstan",
          "Kuwait",
          "Latvia",
          "Lebanon",
          "Liechtenstein",
          "Lithuania",
          "Luxembourg",
          "Macao",
          "Malaysia",
          "Maldives",
          "Malta",
          "Mauritius",
          "Mexico",
          "Moldova",
          "Monaco",
          "Mongolia",
          "Montenegro",
          "Montserrat",
          "Morocco",
          "Myanmar",
          "Nepal",
          "Netherlands",
          "New Zealand",
          "Northern Cyprus",
          "Norway",
          "Oman",
          "Pakistan",
          "Panama",
          "Paraguay",
          "Peru",
          "Philippines",
          "Poland",
          "Portugal",
          "Qatar",
          "Romania",
          "Russia",
          "Rwanda",
          "Saint Helena",
          "Saint Lucia",
          "San Marino",
          "Saudi Arabia",
          "Senegal",
          "Serbia",
          "Seychelles",
          "Singapore",
          "Slovakia",
          "Slovenia",
          "South Africa",
          "South Korea",
          "Spain",
          "Sri Lanka",
          "Sweden",
          "Switzerland",
          "Thailand",
          "Trinidad and Tobago",
          "Turkey",
          "Turks and Caicos Islands",
          "Ukraine",
          "United Arab Emirates",
          "United Kingdom",
          "United States",
          "Uruguay",
          "Venezuela",
          "Zimbabwe"
         ],
         "type": "choropleth",
         "z": [
          0.02,
          0,
          0,
          0,
          0.77,
          0,
          2.8,
          0,
          12.11,
          0,
          0,
          0,
          3.04,
          0,
          13.88,
          0.08,
          1.41,
          0.76,
          0,
          1.55,
          13.51,
          6.64,
          0,
          0,
          1.04,
          1.54,
          2.58,
          2.61,
          3.75,
          0,
          0,
          0.04,
          0,
          0,
          3.42,
          7.79,
          0,
          1.54,
          3,
          3.19,
          0,
          47.38,
          3.68,
          2.12,
          0,
          0,
          7.96,
          0,
          0,
          0,
          3.39,
          3.72,
          0.34,
          0.46,
          0,
          3.04,
          10.92,
          46.21,
          2.98,
          0,
          3.28,
          0.29,
          0.01,
          0.89,
          0.96,
          0,
          0,
          3.33,
          2.31,
          0,
          0,
          0,
          7.95,
          0,
          0.47,
          0,
          0,
          0,
          0,
          0,
          2.31,
          0,
          0,
          2.4,
          0,
          0,
          3.95,
          0.37,
          0,
          0,
          0,
          0.23,
          0,
          3.82,
          2.92,
          0,
          3.45,
          1.22,
          0,
          0,
          0,
          0,
          0,
          0,
          9.51,
          27.02,
          3.74,
          3.69,
          3.07,
          0.22,
          0,
          3.1,
          0,
          3.17,
          3.83,
          0,
          0,
          3.1,
          0,
          0,
          22.12,
          1.85,
          9.84,
          0,
          0,
          0
         ]
        }
       ],
       "layout": {
        "geo": {
         "countrycolor": "darkgrey",
         "projection": {
          "type": "natural earth"
         },
         "resolution": 50,
         "showcoastlines": false,
         "showcountries": true,
         "showframe": false,
         "visible": true
        },
        "template": {
         "data": {
          "bar": [
           {
            "error_x": {
             "color": "#2a3f5f"
            },
            "error_y": {
             "color": "#2a3f5f"
            },
            "marker": {
             "line": {
              "color": "#E5ECF6",
              "width": 0.5
             }
            },
            "type": "bar"
           }
          ],
          "barpolar": [
           {
            "marker": {
             "line": {
              "color": "#E5ECF6",
              "width": 0.5
             }
            },
            "type": "barpolar"
           }
          ],
          "carpet": [
           {
            "aaxis": {
             "endlinecolor": "#2a3f5f",
             "gridcolor": "white",
             "linecolor": "white",
             "minorgridcolor": "white",
             "startlinecolor": "#2a3f5f"
            },
            "baxis": {
             "endlinecolor": "#2a3f5f",
             "gridcolor": "white",
             "linecolor": "white",
             "minorgridcolor": "white",
             "startlinecolor": "#2a3f5f"
            },
            "type": "carpet"
           }
          ],
          "choropleth": [
           {
            "colorbar": {
             "outlinewidth": 0,
             "ticks": ""
            },
            "type": "choropleth"
           }
          ],
          "contour": [
           {
            "colorbar": {
             "outlinewidth": 0,
             "ticks": ""
            },
            "colorscale": [
             [
              0,
              "#0d0887"
             ],
             [
              0.1111111111111111,
              "#46039f"
             ],
             [
              0.2222222222222222,
              "#7201a8"
             ],
             [
              0.3333333333333333,
              "#9c179e"
             ],
             [
              0.4444444444444444,
              "#bd3786"
             ],
             [
              0.5555555555555556,
              "#d8576b"
             ],
             [
              0.6666666666666666,
              "#ed7953"
             ],
             [
              0.7777777777777778,
              "#fb9f3a"
             ],
             [
              0.8888888888888888,
              "#fdca26"
             ],
             [
              1,
              "#f0f921"
             ]
            ],
            "type": "contour"
           }
          ],
          "contourcarpet": [
           {
            "colorbar": {
             "outlinewidth": 0,
             "ticks": ""
            },
            "type": "contourcarpet"
           }
          ],
          "heatmap": [
           {
            "colorbar": {
             "outlinewidth": 0,
             "ticks": ""
            },
            "colorscale": [
             [
              0,
              "#0d0887"
             ],
             [
              0.1111111111111111,
              "#46039f"
             ],
             [
              0.2222222222222222,
              "#7201a8"
             ],
             [
              0.3333333333333333,
              "#9c179e"
             ],
             [
              0.4444444444444444,
              "#bd3786"
             ],
             [
              0.5555555555555556,
              "#d8576b"
             ],
             [
              0.6666666666666666,
              "#ed7953"
             ],
             [
              0.7777777777777778,
              "#fb9f3a"
             ],
             [
              0.8888888888888888,
              "#fdca26"
             ],
             [
              1,
              "#f0f921"
             ]
            ],
            "type": "heatmap"
           }
          ],
          "heatmapgl": [
           {
            "colorbar": {
             "outlinewidth": 0,
             "ticks": ""
            },
            "colorscale": [
             [
              0,
              "#0d0887"
             ],
             [
              0.1111111111111111,
              "#46039f"
             ],
             [
              0.2222222222222222,
              "#7201a8"
             ],
             [
              0.3333333333333333,
              "#9c179e"
             ],
             [
              0.4444444444444444,
              "#bd3786"
             ],
             [
              0.5555555555555556,
              "#d8576b"
             ],
             [
              0.6666666666666666,
              "#ed7953"
             ],
             [
              0.7777777777777778,
              "#fb9f3a"
             ],
             [
              0.8888888888888888,
              "#fdca26"
             ],
             [
              1,
              "#f0f921"
             ]
            ],
            "type": "heatmapgl"
           }
          ],
          "histogram": [
           {
            "marker": {
             "colorbar": {
              "outlinewidth": 0,
              "ticks": ""
             }
            },
            "type": "histogram"
           }
          ],
          "histogram2d": [
           {
            "colorbar": {
             "outlinewidth": 0,
             "ticks": ""
            },
            "colorscale": [
             [
              0,
              "#0d0887"
             ],
             [
              0.1111111111111111,
              "#46039f"
             ],
             [
              0.2222222222222222,
              "#7201a8"
             ],
             [
              0.3333333333333333,
              "#9c179e"
             ],
             [
              0.4444444444444444,
              "#bd3786"
             ],
             [
              0.5555555555555556,
              "#d8576b"
             ],
             [
              0.6666666666666666,
              "#ed7953"
             ],
             [
              0.7777777777777778,
              "#fb9f3a"
             ],
             [
              0.8888888888888888,
              "#fdca26"
             ],
             [
              1,
              "#f0f921"
             ]
            ],
            "type": "histogram2d"
           }
          ],
          "histogram2dcontour": [
           {
            "colorbar": {
             "outlinewidth": 0,
             "ticks": ""
            },
            "colorscale": [
             [
              0,
              "#0d0887"
             ],
             [
              0.1111111111111111,
              "#46039f"
             ],
             [
              0.2222222222222222,
              "#7201a8"
             ],
             [
              0.3333333333333333,
              "#9c179e"
             ],
             [
              0.4444444444444444,
              "#bd3786"
             ],
             [
              0.5555555555555556,
              "#d8576b"
             ],
             [
              0.6666666666666666,
              "#ed7953"
             ],
             [
              0.7777777777777778,
              "#fb9f3a"
             ],
             [
              0.8888888888888888,
              "#fdca26"
             ],
             [
              1,
              "#f0f921"
             ]
            ],
            "type": "histogram2dcontour"
           }
          ],
          "mesh3d": [
           {
            "colorbar": {
             "outlinewidth": 0,
             "ticks": ""
            },
            "type": "mesh3d"
           }
          ],
          "parcoords": [
           {
            "line": {
             "colorbar": {
              "outlinewidth": 0,
              "ticks": ""
             }
            },
            "type": "parcoords"
           }
          ],
          "pie": [
           {
            "automargin": true,
            "type": "pie"
           }
          ],
          "scatter": [
           {
            "marker": {
             "colorbar": {
              "outlinewidth": 0,
              "ticks": ""
             }
            },
            "type": "scatter"
           }
          ],
          "scatter3d": [
           {
            "line": {
             "colorbar": {
              "outlinewidth": 0,
              "ticks": ""
             }
            },
            "marker": {
             "colorbar": {
              "outlinewidth": 0,
              "ticks": ""
             }
            },
            "type": "scatter3d"
           }
          ],
          "scattercarpet": [
           {
            "marker": {
             "colorbar": {
              "outlinewidth": 0,
              "ticks": ""
             }
            },
            "type": "scattercarpet"
           }
          ],
          "scattergeo": [
           {
            "marker": {
             "colorbar": {
              "outlinewidth": 0,
              "ticks": ""
             }
            },
            "type": "scattergeo"
           }
          ],
          "scattergl": [
           {
            "marker": {
             "colorbar": {
              "outlinewidth": 0,
              "ticks": ""
             }
            },
            "type": "scattergl"
           }
          ],
          "scattermapbox": [
           {
            "marker": {
             "colorbar": {
              "outlinewidth": 0,
              "ticks": ""
             }
            },
            "type": "scattermapbox"
           }
          ],
          "scatterpolar": [
           {
            "marker": {
             "colorbar": {
              "outlinewidth": 0,
              "ticks": ""
             }
            },
            "type": "scatterpolar"
           }
          ],
          "scatterpolargl": [
           {
            "marker": {
             "colorbar": {
              "outlinewidth": 0,
              "ticks": ""
             }
            },
            "type": "scatterpolargl"
           }
          ],
          "scatterternary": [
           {
            "marker": {
             "colorbar": {
              "outlinewidth": 0,
              "ticks": ""
             }
            },
            "type": "scatterternary"
           }
          ],
          "surface": [
           {
            "colorbar": {
             "outlinewidth": 0,
             "ticks": ""
            },
            "colorscale": [
             [
              0,
              "#0d0887"
             ],
             [
              0.1111111111111111,
              "#46039f"
             ],
             [
              0.2222222222222222,
              "#7201a8"
             ],
             [
              0.3333333333333333,
              "#9c179e"
             ],
             [
              0.4444444444444444,
              "#bd3786"
             ],
             [
              0.5555555555555556,
              "#d8576b"
             ],
             [
              0.6666666666666666,
              "#ed7953"
             ],
             [
              0.7777777777777778,
              "#fb9f3a"
             ],
             [
              0.8888888888888888,
              "#fdca26"
             ],
             [
              1,
              "#f0f921"
             ]
            ],
            "type": "surface"
           }
          ],
          "table": [
           {
            "cells": {
             "fill": {
              "color": "#EBF0F8"
             },
             "line": {
              "color": "white"
             }
            },
            "header": {
             "fill": {
              "color": "#C8D4E3"
             },
             "line": {
              "color": "white"
             }
            },
            "type": "table"
           }
          ]
         },
         "layout": {
          "annotationdefaults": {
           "arrowcolor": "#2a3f5f",
           "arrowhead": 0,
           "arrowwidth": 1
          },
          "autotypenumbers": "strict",
          "coloraxis": {
           "colorbar": {
            "outlinewidth": 0,
            "ticks": ""
           }
          },
          "colorscale": {
           "diverging": [
            [
             0,
             "#8e0152"
            ],
            [
             0.1,
             "#c51b7d"
            ],
            [
             0.2,
             "#de77ae"
            ],
            [
             0.3,
             "#f1b6da"
            ],
            [
             0.4,
             "#fde0ef"
            ],
            [
             0.5,
             "#f7f7f7"
            ],
            [
             0.6,
             "#e6f5d0"
            ],
            [
             0.7,
             "#b8e186"
            ],
            [
             0.8,
             "#7fbc41"
            ],
            [
             0.9,
             "#4d9221"
            ],
            [
             1,
             "#276419"
            ]
           ],
           "sequential": [
            [
             0,
             "#0d0887"
            ],
            [
             0.1111111111111111,
             "#46039f"
            ],
            [
             0.2222222222222222,
             "#7201a8"
            ],
            [
             0.3333333333333333,
             "#9c179e"
            ],
            [
             0.4444444444444444,
             "#bd3786"
            ],
            [
             0.5555555555555556,
             "#d8576b"
            ],
            [
             0.6666666666666666,
             "#ed7953"
            ],
            [
             0.7777777777777778,
             "#fb9f3a"
            ],
            [
             0.8888888888888888,
             "#fdca26"
            ],
            [
             1,
             "#f0f921"
            ]
           ],
           "sequentialminus": [
            [
             0,
             "#0d0887"
            ],
            [
             0.1111111111111111,
             "#46039f"
            ],
            [
             0.2222222222222222,
             "#7201a8"
            ],
            [
             0.3333333333333333,
             "#9c179e"
            ],
            [
             0.4444444444444444,
             "#bd3786"
            ],
            [
             0.5555555555555556,
             "#d8576b"
            ],
            [
             0.6666666666666666,
             "#ed7953"
            ],
            [
             0.7777777777777778,
             "#fb9f3a"
            ],
            [
             0.8888888888888888,
             "#fdca26"
            ],
            [
             1,
             "#f0f921"
            ]
           ]
          },
          "colorway": [
           "#636efa",
           "#EF553B",
           "#00cc96",
           "#ab63fa",
           "#FFA15A",
           "#19d3f3",
           "#FF6692",
           "#B6E880",
           "#FF97FF",
           "#FECB52"
          ],
          "font": {
           "color": "#2a3f5f"
          },
          "geo": {
           "bgcolor": "white",
           "lakecolor": "white",
           "landcolor": "#E5ECF6",
           "showlakes": true,
           "showland": true,
           "subunitcolor": "white"
          },
          "hoverlabel": {
           "align": "left"
          },
          "hovermode": "closest",
          "mapbox": {
           "style": "light"
          },
          "paper_bgcolor": "white",
          "plot_bgcolor": "#E5ECF6",
          "polar": {
           "angularaxis": {
            "gridcolor": "white",
            "linecolor": "white",
            "ticks": ""
           },
           "bgcolor": "#E5ECF6",
           "radialaxis": {
            "gridcolor": "white",
            "linecolor": "white",
            "ticks": ""
           }
          },
          "scene": {
           "xaxis": {
            "backgroundcolor": "#E5ECF6",
            "gridcolor": "white",
            "gridwidth": 2,
            "linecolor": "white",
            "showbackground": true,
            "ticks": "",
            "zerolinecolor": "white"
           },
           "yaxis": {
            "backgroundcolor": "#E5ECF6",
            "gridcolor": "white",
            "gridwidth": 2,
            "linecolor": "white",
            "showbackground": true,
            "ticks": "",
            "zerolinecolor": "white"
           },
           "zaxis": {
            "backgroundcolor": "#E5ECF6",
            "gridcolor": "white",
            "gridwidth": 2,
            "linecolor": "white",
            "showbackground": true,
            "ticks": "",
            "zerolinecolor": "white"
           }
          },
          "shapedefaults": {
           "line": {
            "color": "#2a3f5f"
           }
          },
          "ternary": {
           "aaxis": {
            "gridcolor": "white",
            "linecolor": "white",
            "ticks": ""
           },
           "baxis": {
            "gridcolor": "white",
            "linecolor": "white",
            "ticks": ""
           },
           "bgcolor": "#E5ECF6",
           "caxis": {
            "gridcolor": "white",
            "linecolor": "white",
            "ticks": ""
           }
          },
          "title": {
           "x": 0.05
          },
          "xaxis": {
           "automargin": true,
           "gridcolor": "white",
           "linecolor": "white",
           "ticks": "",
           "title": {
            "standoff": 15
           },
           "zerolinecolor": "white",
           "zerolinewidth": 2
          },
          "yaxis": {
           "automargin": true,
           "gridcolor": "white",
           "linecolor": "white",
           "ticks": "",
           "title": {
            "standoff": 15
           },
           "zerolinecolor": "white",
           "zerolinewidth": 2
          }
         }
        },
        "title": {
         "text": "People fully vaccinated per hundred"
        }
       }
      },
      "text/html": [
       "<div>                            <div id=\"13c0a909-9df9-4634-9c7b-d4c7700213a5\" class=\"plotly-graph-div\" style=\"height:525px; width:100%;\"></div>            <script type=\"text/javascript\">                require([\"plotly\"], function(Plotly) {                    window.PLOTLYENV=window.PLOTLYENV || {};                                    if (document.getElementById(\"13c0a909-9df9-4634-9c7b-d4c7700213a5\")) {                    Plotly.newPlot(                        \"13c0a909-9df9-4634-9c7b-d4c7700213a5\",                        [{\"autocolorscale\": false, \"colorscale\": [[0.0, \"#440154\"], [0.1111111111111111, \"#482878\"], [0.2222222222222222, \"#3e4989\"], [0.3333333333333333, \"#31688e\"], [0.4444444444444444, \"#26828e\"], [0.5555555555555556, \"#1f9e89\"], [0.6666666666666666, \"#35b779\"], [0.7777777777777778, \"#6ece58\"], [0.8888888888888888, \"#b5de2b\"], [1.0, \"#fde725\"]], \"locations\": [\"ALB\", \"DZA\", \"AND\", \"AIA\", \"ARG\", \"AUS\", \"AUT\", \"AZE\", \"BHR\", \"BGD\", \"BRB\", \"BLR\", \"BEL\", \"BLZ\", \"BMU\", \"BOL\", \"BRA\", \"BGR\", \"KHM\", \"CAN\", \"CYM\", \"CHL\", \"CHN\", \"COL\", \"CRI\", \"HRV\", \"CYP\", \"CZE\", \"DNK\", \"DMA\", \"DOM\", \"ECU\", \"EGY\", \"SLV\", \"EST\", \"FRO\", \"FLK\", \"FIN\", \"FRA\", \"DEU\", \"GHA\", \"GIB\", \"GRC\", \"GRL\", \"GRD\", \"GTM\", \"GGY\", \"GUY\", \"HND\", \"HKG\", \"HUN\", \"ISL\", \"IND\", \"IDN\", \"IRN\", \"IRL\", \"IMN\", \"ISR\", \"ITA\", \"JPN\", \"JEY\", \"JOR\", \"KAZ\", \"KWT\", \"LVA\", \"LBN\", \"LIE\", \"LTU\", \"LUX\", \"MAC\", \"MYS\", \"MDV\", \"MLT\", \"MUS\", \"MEX\", \"MDA\", \"MCO\", \"MNG\", \"MNE\", \"MSR\", \"MAR\", \"MMR\", \"NPL\", \"NLD\", \"NZL\", \"OWID_NCY\", \"NOR\", \"OMN\", \"PAK\", \"PAN\", \"PRY\", \"PER\", \"PHL\", \"POL\", \"PRT\", \"QAT\", \"ROU\", \"RUS\", \"RWA\", \"SHN\", \"LCA\", \"SMR\", \"SAU\", \"SEN\", \"SRB\", \"SYC\", \"SGP\", \"SVK\", \"SVN\", \"ZAF\", \"KOR\", \"ESP\", \"LKA\", \"SWE\", \"CHE\", \"THA\", \"TTO\", \"TUR\", \"TCA\", \"UKR\", \"ARE\", \"GBR\", \"USA\", \"URY\", \"VEN\", \"ZWE\"], \"marker\": {\"line\": {\"color\": \"white\", \"width\": 0.5}}, \"reversescale\": true, \"text\": [\"Albania\", \"Algeria\", \"Andorra\", \"Anguilla\", \"Argentina\", \"Australia\", \"Austria\", \"Azerbaijan\", \"Bahrain\", \"Bangladesh\", \"Barbados\", \"Belarus\", \"Belgium\", \"Belize\", \"Bermuda\", \"Bolivia\", \"Brazil\", \"Bulgaria\", \"Cambodia\", \"Canada\", \"Cayman Islands\", \"Chile\", \"China\", \"Colombia\", \"Costa Rica\", \"Croatia\", \"Cyprus\", \"Czechia\", \"Denmark\", \"Dominica\", \"Dominican Republic\", \"Ecuador\", \"Egypt\", \"El Salvador\", \"Estonia\", \"Faeroe Islands\", \"Falkland Islands\", \"Finland\", \"France\", \"Germany\", \"Ghana\", \"Gibraltar\", \"Greece\", \"Greenland\", \"Grenada\", \"Guatemala\", \"Guernsey\", \"Guyana\", \"Honduras\", \"Hong Kong\", \"Hungary\", \"Iceland\", \"India\", \"Indonesia\", \"Iran\", \"Ireland\", \"Isle of Man\", \"Israel\", \"Italy\", \"Japan\", \"Jersey\", \"Jordan\", \"Kazakhstan\", \"Kuwait\", \"Latvia\", \"Lebanon\", \"Liechtenstein\", \"Lithuania\", \"Luxembourg\", \"Macao\", \"Malaysia\", \"Maldives\", \"Malta\", \"Mauritius\", \"Mexico\", \"Moldova\", \"Monaco\", \"Mongolia\", \"Montenegro\", \"Montserrat\", \"Morocco\", \"Myanmar\", \"Nepal\", \"Netherlands\", \"New Zealand\", \"Northern Cyprus\", \"Norway\", \"Oman\", \"Pakistan\", \"Panama\", \"Paraguay\", \"Peru\", \"Philippines\", \"Poland\", \"Portugal\", \"Qatar\", \"Romania\", \"Russia\", \"Rwanda\", \"Saint Helena\", \"Saint Lucia\", \"San Marino\", \"Saudi Arabia\", \"Senegal\", \"Serbia\", \"Seychelles\", \"Singapore\", \"Slovakia\", \"Slovenia\", \"South Africa\", \"South Korea\", \"Spain\", \"Sri Lanka\", \"Sweden\", \"Switzerland\", \"Thailand\", \"Trinidad and Tobago\", \"Turkey\", \"Turks and Caicos Islands\", \"Ukraine\", \"United Arab Emirates\", \"United Kingdom\", \"United States\", \"Uruguay\", \"Venezuela\", \"Zimbabwe\"], \"type\": \"choropleth\", \"z\": [0.02, 0.0, 0.0, 0.0, 0.77, 0.0, 2.8, 0.0, 12.11, 0.0, 0.0, 0.0, 3.04, 0.0, 13.88, 0.08, 1.41, 0.76, 0.0, 1.55, 13.51, 6.64, 0.0, 0.0, 1.04, 1.54, 2.58, 2.61, 3.75, 0.0, 0.0, 0.04, 0.0, 0.0, 3.42, 7.79, 0.0, 1.54, 3.0, 3.19, 0.0, 47.38, 3.68, 2.12, 0.0, 0.0, 7.96, 0.0, 0.0, 0.0, 3.39, 3.72, 0.34, 0.46, 0.0, 3.04, 10.92, 46.21, 2.98, 0.0, 3.28, 0.29, 0.01, 0.89, 0.96, 0.0, 0.0, 3.33, 2.31, 0.0, 0.0, 0.0, 7.95, 0.0, 0.47, 0.0, 0.0, 0.0, 0.0, 0.0, 2.31, 0.0, 0.0, 2.4, 0.0, 0.0, 3.95, 0.37, 0.0, 0.0, 0.0, 0.23, 0.0, 3.82, 2.92, 0.0, 3.45, 1.22, 0.0, 0.0, 0.0, 0.0, 0.0, 0.0, 9.51, 27.02, 3.74, 3.69, 3.07, 0.22, 0.0, 3.1, 0.0, 3.17, 3.83, 0.0, 0.0, 3.1, 0.0, 0.0, 22.12, 1.85, 9.84, 0.0, 0.0, 0.0]}],                        {\"geo\": {\"countrycolor\": \"darkgrey\", \"projection\": {\"type\": \"natural earth\"}, \"resolution\": 50, \"showcoastlines\": false, \"showcountries\": true, \"showframe\": false, \"visible\": true}, \"template\": {\"data\": {\"bar\": [{\"error_x\": {\"color\": \"#2a3f5f\"}, \"error_y\": {\"color\": \"#2a3f5f\"}, \"marker\": {\"line\": {\"color\": \"#E5ECF6\", \"width\": 0.5}}, \"type\": \"bar\"}], \"barpolar\": [{\"marker\": {\"line\": {\"color\": \"#E5ECF6\", \"width\": 0.5}}, \"type\": \"barpolar\"}], \"carpet\": [{\"aaxis\": {\"endlinecolor\": \"#2a3f5f\", \"gridcolor\": \"white\", \"linecolor\": \"white\", \"minorgridcolor\": \"white\", \"startlinecolor\": \"#2a3f5f\"}, \"baxis\": {\"endlinecolor\": \"#2a3f5f\", \"gridcolor\": \"white\", \"linecolor\": \"white\", \"minorgridcolor\": \"white\", \"startlinecolor\": \"#2a3f5f\"}, \"type\": \"carpet\"}], \"choropleth\": [{\"colorbar\": {\"outlinewidth\": 0, \"ticks\": \"\"}, \"type\": \"choropleth\"}], \"contour\": [{\"colorbar\": {\"outlinewidth\": 0, \"ticks\": \"\"}, \"colorscale\": [[0.0, \"#0d0887\"], [0.1111111111111111, \"#46039f\"], [0.2222222222222222, \"#7201a8\"], [0.3333333333333333, \"#9c179e\"], [0.4444444444444444, \"#bd3786\"], [0.5555555555555556, \"#d8576b\"], [0.6666666666666666, \"#ed7953\"], [0.7777777777777778, \"#fb9f3a\"], [0.8888888888888888, \"#fdca26\"], [1.0, \"#f0f921\"]], \"type\": \"contour\"}], \"contourcarpet\": [{\"colorbar\": {\"outlinewidth\": 0, \"ticks\": \"\"}, \"type\": \"contourcarpet\"}], \"heatmap\": [{\"colorbar\": {\"outlinewidth\": 0, \"ticks\": \"\"}, \"colorscale\": [[0.0, \"#0d0887\"], [0.1111111111111111, \"#46039f\"], [0.2222222222222222, \"#7201a8\"], [0.3333333333333333, \"#9c179e\"], [0.4444444444444444, \"#bd3786\"], [0.5555555555555556, \"#d8576b\"], [0.6666666666666666, \"#ed7953\"], [0.7777777777777778, \"#fb9f3a\"], [0.8888888888888888, \"#fdca26\"], [1.0, \"#f0f921\"]], \"type\": \"heatmap\"}], \"heatmapgl\": [{\"colorbar\": {\"outlinewidth\": 0, \"ticks\": \"\"}, \"colorscale\": [[0.0, \"#0d0887\"], [0.1111111111111111, \"#46039f\"], [0.2222222222222222, \"#7201a8\"], [0.3333333333333333, \"#9c179e\"], [0.4444444444444444, \"#bd3786\"], [0.5555555555555556, \"#d8576b\"], [0.6666666666666666, \"#ed7953\"], [0.7777777777777778, \"#fb9f3a\"], [0.8888888888888888, \"#fdca26\"], [1.0, \"#f0f921\"]], \"type\": \"heatmapgl\"}], \"histogram\": [{\"marker\": {\"colorbar\": {\"outlinewidth\": 0, \"ticks\": \"\"}}, \"type\": \"histogram\"}], \"histogram2d\": [{\"colorbar\": {\"outlinewidth\": 0, \"ticks\": \"\"}, \"colorscale\": [[0.0, \"#0d0887\"], [0.1111111111111111, \"#46039f\"], [0.2222222222222222, \"#7201a8\"], [0.3333333333333333, \"#9c179e\"], [0.4444444444444444, \"#bd3786\"], [0.5555555555555556, \"#d8576b\"], [0.6666666666666666, \"#ed7953\"], [0.7777777777777778, \"#fb9f3a\"], [0.8888888888888888, \"#fdca26\"], [1.0, \"#f0f921\"]], \"type\": \"histogram2d\"}], \"histogram2dcontour\": [{\"colorbar\": {\"outlinewidth\": 0, \"ticks\": \"\"}, \"colorscale\": [[0.0, \"#0d0887\"], [0.1111111111111111, \"#46039f\"], [0.2222222222222222, \"#7201a8\"], [0.3333333333333333, \"#9c179e\"], [0.4444444444444444, \"#bd3786\"], [0.5555555555555556, \"#d8576b\"], [0.6666666666666666, \"#ed7953\"], [0.7777777777777778, \"#fb9f3a\"], [0.8888888888888888, \"#fdca26\"], [1.0, \"#f0f921\"]], \"type\": \"histogram2dcontour\"}], \"mesh3d\": [{\"colorbar\": {\"outlinewidth\": 0, \"ticks\": \"\"}, \"type\": \"mesh3d\"}], \"parcoords\": [{\"line\": {\"colorbar\": {\"outlinewidth\": 0, \"ticks\": \"\"}}, \"type\": \"parcoords\"}], \"pie\": [{\"automargin\": true, \"type\": \"pie\"}], \"scatter\": [{\"marker\": {\"colorbar\": {\"outlinewidth\": 0, \"ticks\": \"\"}}, \"type\": \"scatter\"}], \"scatter3d\": [{\"line\": {\"colorbar\": {\"outlinewidth\": 0, \"ticks\": \"\"}}, \"marker\": {\"colorbar\": {\"outlinewidth\": 0, \"ticks\": \"\"}}, \"type\": \"scatter3d\"}], \"scattercarpet\": [{\"marker\": {\"colorbar\": {\"outlinewidth\": 0, \"ticks\": \"\"}}, \"type\": \"scattercarpet\"}], \"scattergeo\": [{\"marker\": {\"colorbar\": {\"outlinewidth\": 0, \"ticks\": \"\"}}, \"type\": \"scattergeo\"}], \"scattergl\": [{\"marker\": {\"colorbar\": {\"outlinewidth\": 0, \"ticks\": \"\"}}, \"type\": \"scattergl\"}], \"scattermapbox\": [{\"marker\": {\"colorbar\": {\"outlinewidth\": 0, \"ticks\": \"\"}}, \"type\": \"scattermapbox\"}], \"scatterpolar\": [{\"marker\": {\"colorbar\": {\"outlinewidth\": 0, \"ticks\": \"\"}}, \"type\": \"scatterpolar\"}], \"scatterpolargl\": [{\"marker\": {\"colorbar\": {\"outlinewidth\": 0, \"ticks\": \"\"}}, \"type\": \"scatterpolargl\"}], \"scatterternary\": [{\"marker\": {\"colorbar\": {\"outlinewidth\": 0, \"ticks\": \"\"}}, \"type\": \"scatterternary\"}], \"surface\": [{\"colorbar\": {\"outlinewidth\": 0, \"ticks\": \"\"}, \"colorscale\": [[0.0, \"#0d0887\"], [0.1111111111111111, \"#46039f\"], [0.2222222222222222, \"#7201a8\"], [0.3333333333333333, \"#9c179e\"], [0.4444444444444444, \"#bd3786\"], [0.5555555555555556, \"#d8576b\"], [0.6666666666666666, \"#ed7953\"], [0.7777777777777778, \"#fb9f3a\"], [0.8888888888888888, \"#fdca26\"], [1.0, \"#f0f921\"]], \"type\": \"surface\"}], \"table\": [{\"cells\": {\"fill\": {\"color\": \"#EBF0F8\"}, \"line\": {\"color\": \"white\"}}, \"header\": {\"fill\": {\"color\": \"#C8D4E3\"}, \"line\": {\"color\": \"white\"}}, \"type\": \"table\"}]}, \"layout\": {\"annotationdefaults\": {\"arrowcolor\": \"#2a3f5f\", \"arrowhead\": 0, \"arrowwidth\": 1}, \"autotypenumbers\": \"strict\", \"coloraxis\": {\"colorbar\": {\"outlinewidth\": 0, \"ticks\": \"\"}}, \"colorscale\": {\"diverging\": [[0, \"#8e0152\"], [0.1, \"#c51b7d\"], [0.2, \"#de77ae\"], [0.3, \"#f1b6da\"], [0.4, \"#fde0ef\"], [0.5, \"#f7f7f7\"], [0.6, \"#e6f5d0\"], [0.7, \"#b8e186\"], [0.8, \"#7fbc41\"], [0.9, \"#4d9221\"], [1, \"#276419\"]], \"sequential\": [[0.0, \"#0d0887\"], [0.1111111111111111, \"#46039f\"], [0.2222222222222222, \"#7201a8\"], [0.3333333333333333, \"#9c179e\"], [0.4444444444444444, \"#bd3786\"], [0.5555555555555556, \"#d8576b\"], [0.6666666666666666, \"#ed7953\"], [0.7777777777777778, \"#fb9f3a\"], [0.8888888888888888, \"#fdca26\"], [1.0, \"#f0f921\"]], \"sequentialminus\": [[0.0, \"#0d0887\"], [0.1111111111111111, \"#46039f\"], [0.2222222222222222, \"#7201a8\"], [0.3333333333333333, \"#9c179e\"], [0.4444444444444444, \"#bd3786\"], [0.5555555555555556, \"#d8576b\"], [0.6666666666666666, \"#ed7953\"], [0.7777777777777778, \"#fb9f3a\"], [0.8888888888888888, \"#fdca26\"], [1.0, \"#f0f921\"]]}, \"colorway\": [\"#636efa\", \"#EF553B\", \"#00cc96\", \"#ab63fa\", \"#FFA15A\", \"#19d3f3\", \"#FF6692\", \"#B6E880\", \"#FF97FF\", \"#FECB52\"], \"font\": {\"color\": \"#2a3f5f\"}, \"geo\": {\"bgcolor\": \"white\", \"lakecolor\": \"white\", \"landcolor\": \"#E5ECF6\", \"showlakes\": true, \"showland\": true, \"subunitcolor\": \"white\"}, \"hoverlabel\": {\"align\": \"left\"}, \"hovermode\": \"closest\", \"mapbox\": {\"style\": \"light\"}, \"paper_bgcolor\": \"white\", \"plot_bgcolor\": \"#E5ECF6\", \"polar\": {\"angularaxis\": {\"gridcolor\": \"white\", \"linecolor\": \"white\", \"ticks\": \"\"}, \"bgcolor\": \"#E5ECF6\", \"radialaxis\": {\"gridcolor\": \"white\", \"linecolor\": \"white\", \"ticks\": \"\"}}, \"scene\": {\"xaxis\": {\"backgroundcolor\": \"#E5ECF6\", \"gridcolor\": \"white\", \"gridwidth\": 2, \"linecolor\": \"white\", \"showbackground\": true, \"ticks\": \"\", \"zerolinecolor\": \"white\"}, \"yaxis\": {\"backgroundcolor\": \"#E5ECF6\", \"gridcolor\": \"white\", \"gridwidth\": 2, \"linecolor\": \"white\", \"showbackground\": true, \"ticks\": \"\", \"zerolinecolor\": \"white\"}, \"zaxis\": {\"backgroundcolor\": \"#E5ECF6\", \"gridcolor\": \"white\", \"gridwidth\": 2, \"linecolor\": \"white\", \"showbackground\": true, \"ticks\": \"\", \"zerolinecolor\": \"white\"}}, \"shapedefaults\": {\"line\": {\"color\": \"#2a3f5f\"}}, \"ternary\": {\"aaxis\": {\"gridcolor\": \"white\", \"linecolor\": \"white\", \"ticks\": \"\"}, \"baxis\": {\"gridcolor\": \"white\", \"linecolor\": \"white\", \"ticks\": \"\"}, \"bgcolor\": \"#E5ECF6\", \"caxis\": {\"gridcolor\": \"white\", \"linecolor\": \"white\", \"ticks\": \"\"}}, \"title\": {\"x\": 0.05}, \"xaxis\": {\"automargin\": true, \"gridcolor\": \"white\", \"linecolor\": \"white\", \"ticks\": \"\", \"title\": {\"standoff\": 15}, \"zerolinecolor\": \"white\", \"zerolinewidth\": 2}, \"yaxis\": {\"automargin\": true, \"gridcolor\": \"white\", \"linecolor\": \"white\", \"ticks\": \"\", \"title\": {\"standoff\": 15}, \"zerolinecolor\": \"white\", \"zerolinewidth\": 2}}}, \"title\": {\"text\": \"People fully vaccinated per hundred\"}},                        {\"responsive\": true}                    ).then(function(){\n",
       "                            \n",
       "var gd = document.getElementById('13c0a909-9df9-4634-9c7b-d4c7700213a5');\n",
       "var x = new MutationObserver(function (mutations, observer) {{\n",
       "        var display = window.getComputedStyle(gd).display;\n",
       "        if (!display || display === 'none') {{\n",
       "            console.log([gd, 'removed!']);\n",
       "            Plotly.purge(gd);\n",
       "            observer.disconnect();\n",
       "        }}\n",
       "}});\n",
       "\n",
       "// Listen for the removal of the full notebook cells\n",
       "var notebookContainer = gd.closest('#notebook-container');\n",
       "if (notebookContainer) {{\n",
       "    x.observe(notebookContainer, {childList: true});\n",
       "}}\n",
       "\n",
       "// Listen for the clearing of the current output cell\n",
       "var outputEl = gd.closest('.output');\n",
       "if (outputEl) {{\n",
       "    x.observe(outputEl, {childList: true});\n",
       "}}\n",
       "\n",
       "                        })                };                });            </script>        </div>"
      ]
     },
     "metadata": {},
     "output_type": "display_data"
    }
   ],
   "source": [
    "create_choropleth(fully_vac_hundrd['iso_code'], \n",
    "                  fully_vac_hundrd['people_fully_vaccinated_per_hundred'], \n",
    "                  fully_vac_hundrd['country'], \n",
    "                  'People fully vaccinated per hundred')"
   ]
  },
  {
   "cell_type": "markdown",
   "metadata": {},
   "source": [
    "Fully vaccinated is the number of people that received the entire set of immunization according to the immunization scheme . Now, the largest percent of fully vaccinated people in Israel and UAE. But we have no data about fully vaccinated for other countries."
   ]
  },
  {
   "cell_type": "markdown",
   "metadata": {},
   "source": [
    "On the next choropleth you can see how many people per million are vaccinated every day in different countries."
   ]
  },
  {
   "cell_type": "code",
   "execution_count": 141,
   "metadata": {},
   "outputs": [],
   "source": [
    "dayly_vac_million = covid_df[['country', 'iso_code', 'daily_vaccinations_per_million']]\n",
    "dayly_vac_million['daily_vaccinations_per_million'] = dayly_vac_million['daily_vaccinations_per_million'].fillna(0)\n",
    "dayly_vac_million = dayly_vac_million.groupby(['country', 'iso_code']).max().reset_index()"
   ]
  },
  {
   "cell_type": "code",
   "execution_count": 142,
   "metadata": {},
   "outputs": [
    {
     "data": {
      "application/vnd.plotly.v1+json": {
       "config": {
        "plotlyServerURL": "https://plot.ly"
       },
       "data": [
        {
         "autocolorscale": false,
         "colorscale": [
          [
           0,
           "#440154"
          ],
          [
           0.1111111111111111,
           "#482878"
          ],
          [
           0.2222222222222222,
           "#3e4989"
          ],
          [
           0.3333333333333333,
           "#31688e"
          ],
          [
           0.4444444444444444,
           "#26828e"
          ],
          [
           0.5555555555555556,
           "#1f9e89"
          ],
          [
           0.6666666666666666,
           "#35b779"
          ],
          [
           0.7777777777777778,
           "#6ece58"
          ],
          [
           0.8888888888888888,
           "#b5de2b"
          ],
          [
           1,
           "#fde725"
          ]
         ],
         "locations": [
          "ALB",
          "DZA",
          "AND",
          "AIA",
          "ARG",
          "AUS",
          "AUT",
          "AZE",
          "BHR",
          "BGD",
          "BRB",
          "BLR",
          "BEL",
          "BLZ",
          "BMU",
          "BOL",
          "BRA",
          "BGR",
          "KHM",
          "CAN",
          "CYM",
          "CHL",
          "CHN",
          "COL",
          "CRI",
          "HRV",
          "CYP",
          "CZE",
          "DNK",
          "DMA",
          "DOM",
          "ECU",
          "EGY",
          "SLV",
          "EST",
          "FRO",
          "FLK",
          "FIN",
          "FRA",
          "DEU",
          "GHA",
          "GIB",
          "GRC",
          "GRL",
          "GRD",
          "GTM",
          "GGY",
          "GUY",
          "HND",
          "HKG",
          "HUN",
          "ISL",
          "IND",
          "IDN",
          "IRN",
          "IRL",
          "IMN",
          "ISR",
          "ITA",
          "JPN",
          "JEY",
          "JOR",
          "KAZ",
          "KWT",
          "LVA",
          "LBN",
          "LIE",
          "LTU",
          "LUX",
          "MAC",
          "MYS",
          "MDV",
          "MLT",
          "MUS",
          "MEX",
          "MDA",
          "MCO",
          "MNG",
          "MNE",
          "MSR",
          "MAR",
          "MMR",
          "NPL",
          "NLD",
          "NZL",
          "OWID_NCY",
          "NOR",
          "OMN",
          "PAK",
          "PAN",
          "PRY",
          "PER",
          "PHL",
          "POL",
          "PRT",
          "QAT",
          "ROU",
          "RUS",
          "RWA",
          "SHN",
          "LCA",
          "SMR",
          "SAU",
          "SEN",
          "SRB",
          "SYC",
          "SGP",
          "SVK",
          "SVN",
          "ZAF",
          "KOR",
          "ESP",
          "LKA",
          "SWE",
          "CHE",
          "THA",
          "TTO",
          "TUR",
          "TCA",
          "UKR",
          "ARE",
          "GBR",
          "USA",
          "URY",
          "VEN",
          "ZWE"
         ],
         "marker": {
          "line": {
           "color": "white",
           "width": 0.5
          }
         },
         "reversescale": true,
         "text": [
          "Albania",
          "Algeria",
          "Andorra",
          "Anguilla",
          "Argentina",
          "Australia",
          "Austria",
          "Azerbaijan",
          "Bahrain",
          "Bangladesh",
          "Barbados",
          "Belarus",
          "Belgium",
          "Belize",
          "Bermuda",
          "Bolivia",
          "Brazil",
          "Bulgaria",
          "Cambodia",
          "Canada",
          "Cayman Islands",
          "Chile",
          "China",
          "Colombia",
          "Costa Rica",
          "Croatia",
          "Cyprus",
          "Czechia",
          "Denmark",
          "Dominica",
          "Dominican Republic",
          "Ecuador",
          "Egypt",
          "El Salvador",
          "Estonia",
          "Faeroe Islands",
          "Falkland Islands",
          "Finland",
          "France",
          "Germany",
          "Ghana",
          "Gibraltar",
          "Greece",
          "Greenland",
          "Grenada",
          "Guatemala",
          "Guernsey",
          "Guyana",
          "Honduras",
          "Hong Kong",
          "Hungary",
          "Iceland",
          "India",
          "Indonesia",
          "Iran",
          "Ireland",
          "Isle of Man",
          "Israel",
          "Italy",
          "Japan",
          "Jersey",
          "Jordan",
          "Kazakhstan",
          "Kuwait",
          "Latvia",
          "Lebanon",
          "Liechtenstein",
          "Lithuania",
          "Luxembourg",
          "Macao",
          "Malaysia",
          "Maldives",
          "Malta",
          "Mauritius",
          "Mexico",
          "Moldova",
          "Monaco",
          "Mongolia",
          "Montenegro",
          "Montserrat",
          "Morocco",
          "Myanmar",
          "Nepal",
          "Netherlands",
          "New Zealand",
          "Northern Cyprus",
          "Norway",
          "Oman",
          "Pakistan",
          "Panama",
          "Paraguay",
          "Peru",
          "Philippines",
          "Poland",
          "Portugal",
          "Qatar",
          "Romania",
          "Russia",
          "Rwanda",
          "Saint Helena",
          "Saint Lucia",
          "San Marino",
          "Saudi Arabia",
          "Senegal",
          "Serbia",
          "Seychelles",
          "Singapore",
          "Slovakia",
          "Slovenia",
          "South Africa",
          "South Korea",
          "Spain",
          "Sri Lanka",
          "Sweden",
          "Switzerland",
          "Thailand",
          "Trinidad and Tobago",
          "Turkey",
          "Turks and Caicos Islands",
          "Ukraine",
          "United Arab Emirates",
          "United Kingdom",
          "United States",
          "Uruguay",
          "Venezuela",
          "Zimbabwe"
         ],
         "type": "choropleth",
         "z": [
          376,
          85,
          1294,
          22064,
          1875,
          310,
          2527,
          1490,
          6527,
          1195,
          10972,
          43,
          1899,
          651,
          12413,
          1310,
          1691,
          2085,
          589,
          2005,
          10849,
          12966,
          1331,
          536,
          2120,
          1815,
          4115,
          2697,
          3189,
          5556,
          5074,
          321,
          2,
          326,
          3762,
          3561,
          54264,
          3166,
          2859,
          2639,
          1114,
          31700,
          2827,
          1356,
          258,
          62,
          9008,
          215,
          0,
          1500,
          6601,
          3900,
          939,
          806,
          36,
          2527,
          8573,
          21350,
          2827,
          126,
          8716,
          1082,
          68,
          2063,
          1484,
          611,
          2937,
          3384,
          2035,
          916,
          630,
          12166,
          6887,
          178,
          1090,
          129,
          3211,
          376,
          355,
          8602,
          5333,
          271,
          647,
          2688,
          380,
          3739,
          2879,
          448,
          20,
          3005,
          35,
          453,
          56,
          2496,
          2673,
          3818,
          2341,
          1526,
          1801,
          0,
          713,
          10460,
          3100,
          355,
          9471,
          24415,
          2565,
          2511,
          2462,
          138,
          1002,
          2872,
          1954,
          2732,
          2387,
          35,
          45,
          5165,
          5734,
          65,
          16179,
          6558,
          6488,
          3894,
          42,
          202
         ]
        }
       ],
       "layout": {
        "geo": {
         "countrycolor": "darkgrey",
         "projection": {
          "type": "natural earth"
         },
         "resolution": 50,
         "showcoastlines": false,
         "showcountries": true,
         "showframe": false,
         "visible": true
        },
        "template": {
         "data": {
          "bar": [
           {
            "error_x": {
             "color": "#2a3f5f"
            },
            "error_y": {
             "color": "#2a3f5f"
            },
            "marker": {
             "line": {
              "color": "#E5ECF6",
              "width": 0.5
             }
            },
            "type": "bar"
           }
          ],
          "barpolar": [
           {
            "marker": {
             "line": {
              "color": "#E5ECF6",
              "width": 0.5
             }
            },
            "type": "barpolar"
           }
          ],
          "carpet": [
           {
            "aaxis": {
             "endlinecolor": "#2a3f5f",
             "gridcolor": "white",
             "linecolor": "white",
             "minorgridcolor": "white",
             "startlinecolor": "#2a3f5f"
            },
            "baxis": {
             "endlinecolor": "#2a3f5f",
             "gridcolor": "white",
             "linecolor": "white",
             "minorgridcolor": "white",
             "startlinecolor": "#2a3f5f"
            },
            "type": "carpet"
           }
          ],
          "choropleth": [
           {
            "colorbar": {
             "outlinewidth": 0,
             "ticks": ""
            },
            "type": "choropleth"
           }
          ],
          "contour": [
           {
            "colorbar": {
             "outlinewidth": 0,
             "ticks": ""
            },
            "colorscale": [
             [
              0,
              "#0d0887"
             ],
             [
              0.1111111111111111,
              "#46039f"
             ],
             [
              0.2222222222222222,
              "#7201a8"
             ],
             [
              0.3333333333333333,
              "#9c179e"
             ],
             [
              0.4444444444444444,
              "#bd3786"
             ],
             [
              0.5555555555555556,
              "#d8576b"
             ],
             [
              0.6666666666666666,
              "#ed7953"
             ],
             [
              0.7777777777777778,
              "#fb9f3a"
             ],
             [
              0.8888888888888888,
              "#fdca26"
             ],
             [
              1,
              "#f0f921"
             ]
            ],
            "type": "contour"
           }
          ],
          "contourcarpet": [
           {
            "colorbar": {
             "outlinewidth": 0,
             "ticks": ""
            },
            "type": "contourcarpet"
           }
          ],
          "heatmap": [
           {
            "colorbar": {
             "outlinewidth": 0,
             "ticks": ""
            },
            "colorscale": [
             [
              0,
              "#0d0887"
             ],
             [
              0.1111111111111111,
              "#46039f"
             ],
             [
              0.2222222222222222,
              "#7201a8"
             ],
             [
              0.3333333333333333,
              "#9c179e"
             ],
             [
              0.4444444444444444,
              "#bd3786"
             ],
             [
              0.5555555555555556,
              "#d8576b"
             ],
             [
              0.6666666666666666,
              "#ed7953"
             ],
             [
              0.7777777777777778,
              "#fb9f3a"
             ],
             [
              0.8888888888888888,
              "#fdca26"
             ],
             [
              1,
              "#f0f921"
             ]
            ],
            "type": "heatmap"
           }
          ],
          "heatmapgl": [
           {
            "colorbar": {
             "outlinewidth": 0,
             "ticks": ""
            },
            "colorscale": [
             [
              0,
              "#0d0887"
             ],
             [
              0.1111111111111111,
              "#46039f"
             ],
             [
              0.2222222222222222,
              "#7201a8"
             ],
             [
              0.3333333333333333,
              "#9c179e"
             ],
             [
              0.4444444444444444,
              "#bd3786"
             ],
             [
              0.5555555555555556,
              "#d8576b"
             ],
             [
              0.6666666666666666,
              "#ed7953"
             ],
             [
              0.7777777777777778,
              "#fb9f3a"
             ],
             [
              0.8888888888888888,
              "#fdca26"
             ],
             [
              1,
              "#f0f921"
             ]
            ],
            "type": "heatmapgl"
           }
          ],
          "histogram": [
           {
            "marker": {
             "colorbar": {
              "outlinewidth": 0,
              "ticks": ""
             }
            },
            "type": "histogram"
           }
          ],
          "histogram2d": [
           {
            "colorbar": {
             "outlinewidth": 0,
             "ticks": ""
            },
            "colorscale": [
             [
              0,
              "#0d0887"
             ],
             [
              0.1111111111111111,
              "#46039f"
             ],
             [
              0.2222222222222222,
              "#7201a8"
             ],
             [
              0.3333333333333333,
              "#9c179e"
             ],
             [
              0.4444444444444444,
              "#bd3786"
             ],
             [
              0.5555555555555556,
              "#d8576b"
             ],
             [
              0.6666666666666666,
              "#ed7953"
             ],
             [
              0.7777777777777778,
              "#fb9f3a"
             ],
             [
              0.8888888888888888,
              "#fdca26"
             ],
             [
              1,
              "#f0f921"
             ]
            ],
            "type": "histogram2d"
           }
          ],
          "histogram2dcontour": [
           {
            "colorbar": {
             "outlinewidth": 0,
             "ticks": ""
            },
            "colorscale": [
             [
              0,
              "#0d0887"
             ],
             [
              0.1111111111111111,
              "#46039f"
             ],
             [
              0.2222222222222222,
              "#7201a8"
             ],
             [
              0.3333333333333333,
              "#9c179e"
             ],
             [
              0.4444444444444444,
              "#bd3786"
             ],
             [
              0.5555555555555556,
              "#d8576b"
             ],
             [
              0.6666666666666666,
              "#ed7953"
             ],
             [
              0.7777777777777778,
              "#fb9f3a"
             ],
             [
              0.8888888888888888,
              "#fdca26"
             ],
             [
              1,
              "#f0f921"
             ]
            ],
            "type": "histogram2dcontour"
           }
          ],
          "mesh3d": [
           {
            "colorbar": {
             "outlinewidth": 0,
             "ticks": ""
            },
            "type": "mesh3d"
           }
          ],
          "parcoords": [
           {
            "line": {
             "colorbar": {
              "outlinewidth": 0,
              "ticks": ""
             }
            },
            "type": "parcoords"
           }
          ],
          "pie": [
           {
            "automargin": true,
            "type": "pie"
           }
          ],
          "scatter": [
           {
            "marker": {
             "colorbar": {
              "outlinewidth": 0,
              "ticks": ""
             }
            },
            "type": "scatter"
           }
          ],
          "scatter3d": [
           {
            "line": {
             "colorbar": {
              "outlinewidth": 0,
              "ticks": ""
             }
            },
            "marker": {
             "colorbar": {
              "outlinewidth": 0,
              "ticks": ""
             }
            },
            "type": "scatter3d"
           }
          ],
          "scattercarpet": [
           {
            "marker": {
             "colorbar": {
              "outlinewidth": 0,
              "ticks": ""
             }
            },
            "type": "scattercarpet"
           }
          ],
          "scattergeo": [
           {
            "marker": {
             "colorbar": {
              "outlinewidth": 0,
              "ticks": ""
             }
            },
            "type": "scattergeo"
           }
          ],
          "scattergl": [
           {
            "marker": {
             "colorbar": {
              "outlinewidth": 0,
              "ticks": ""
             }
            },
            "type": "scattergl"
           }
          ],
          "scattermapbox": [
           {
            "marker": {
             "colorbar": {
              "outlinewidth": 0,
              "ticks": ""
             }
            },
            "type": "scattermapbox"
           }
          ],
          "scatterpolar": [
           {
            "marker": {
             "colorbar": {
              "outlinewidth": 0,
              "ticks": ""
             }
            },
            "type": "scatterpolar"
           }
          ],
          "scatterpolargl": [
           {
            "marker": {
             "colorbar": {
              "outlinewidth": 0,
              "ticks": ""
             }
            },
            "type": "scatterpolargl"
           }
          ],
          "scatterternary": [
           {
            "marker": {
             "colorbar": {
              "outlinewidth": 0,
              "ticks": ""
             }
            },
            "type": "scatterternary"
           }
          ],
          "surface": [
           {
            "colorbar": {
             "outlinewidth": 0,
             "ticks": ""
            },
            "colorscale": [
             [
              0,
              "#0d0887"
             ],
             [
              0.1111111111111111,
              "#46039f"
             ],
             [
              0.2222222222222222,
              "#7201a8"
             ],
             [
              0.3333333333333333,
              "#9c179e"
             ],
             [
              0.4444444444444444,
              "#bd3786"
             ],
             [
              0.5555555555555556,
              "#d8576b"
             ],
             [
              0.6666666666666666,
              "#ed7953"
             ],
             [
              0.7777777777777778,
              "#fb9f3a"
             ],
             [
              0.8888888888888888,
              "#fdca26"
             ],
             [
              1,
              "#f0f921"
             ]
            ],
            "type": "surface"
           }
          ],
          "table": [
           {
            "cells": {
             "fill": {
              "color": "#EBF0F8"
             },
             "line": {
              "color": "white"
             }
            },
            "header": {
             "fill": {
              "color": "#C8D4E3"
             },
             "line": {
              "color": "white"
             }
            },
            "type": "table"
           }
          ]
         },
         "layout": {
          "annotationdefaults": {
           "arrowcolor": "#2a3f5f",
           "arrowhead": 0,
           "arrowwidth": 1
          },
          "autotypenumbers": "strict",
          "coloraxis": {
           "colorbar": {
            "outlinewidth": 0,
            "ticks": ""
           }
          },
          "colorscale": {
           "diverging": [
            [
             0,
             "#8e0152"
            ],
            [
             0.1,
             "#c51b7d"
            ],
            [
             0.2,
             "#de77ae"
            ],
            [
             0.3,
             "#f1b6da"
            ],
            [
             0.4,
             "#fde0ef"
            ],
            [
             0.5,
             "#f7f7f7"
            ],
            [
             0.6,
             "#e6f5d0"
            ],
            [
             0.7,
             "#b8e186"
            ],
            [
             0.8,
             "#7fbc41"
            ],
            [
             0.9,
             "#4d9221"
            ],
            [
             1,
             "#276419"
            ]
           ],
           "sequential": [
            [
             0,
             "#0d0887"
            ],
            [
             0.1111111111111111,
             "#46039f"
            ],
            [
             0.2222222222222222,
             "#7201a8"
            ],
            [
             0.3333333333333333,
             "#9c179e"
            ],
            [
             0.4444444444444444,
             "#bd3786"
            ],
            [
             0.5555555555555556,
             "#d8576b"
            ],
            [
             0.6666666666666666,
             "#ed7953"
            ],
            [
             0.7777777777777778,
             "#fb9f3a"
            ],
            [
             0.8888888888888888,
             "#fdca26"
            ],
            [
             1,
             "#f0f921"
            ]
           ],
           "sequentialminus": [
            [
             0,
             "#0d0887"
            ],
            [
             0.1111111111111111,
             "#46039f"
            ],
            [
             0.2222222222222222,
             "#7201a8"
            ],
            [
             0.3333333333333333,
             "#9c179e"
            ],
            [
             0.4444444444444444,
             "#bd3786"
            ],
            [
             0.5555555555555556,
             "#d8576b"
            ],
            [
             0.6666666666666666,
             "#ed7953"
            ],
            [
             0.7777777777777778,
             "#fb9f3a"
            ],
            [
             0.8888888888888888,
             "#fdca26"
            ],
            [
             1,
             "#f0f921"
            ]
           ]
          },
          "colorway": [
           "#636efa",
           "#EF553B",
           "#00cc96",
           "#ab63fa",
           "#FFA15A",
           "#19d3f3",
           "#FF6692",
           "#B6E880",
           "#FF97FF",
           "#FECB52"
          ],
          "font": {
           "color": "#2a3f5f"
          },
          "geo": {
           "bgcolor": "white",
           "lakecolor": "white",
           "landcolor": "#E5ECF6",
           "showlakes": true,
           "showland": true,
           "subunitcolor": "white"
          },
          "hoverlabel": {
           "align": "left"
          },
          "hovermode": "closest",
          "mapbox": {
           "style": "light"
          },
          "paper_bgcolor": "white",
          "plot_bgcolor": "#E5ECF6",
          "polar": {
           "angularaxis": {
            "gridcolor": "white",
            "linecolor": "white",
            "ticks": ""
           },
           "bgcolor": "#E5ECF6",
           "radialaxis": {
            "gridcolor": "white",
            "linecolor": "white",
            "ticks": ""
           }
          },
          "scene": {
           "xaxis": {
            "backgroundcolor": "#E5ECF6",
            "gridcolor": "white",
            "gridwidth": 2,
            "linecolor": "white",
            "showbackground": true,
            "ticks": "",
            "zerolinecolor": "white"
           },
           "yaxis": {
            "backgroundcolor": "#E5ECF6",
            "gridcolor": "white",
            "gridwidth": 2,
            "linecolor": "white",
            "showbackground": true,
            "ticks": "",
            "zerolinecolor": "white"
           },
           "zaxis": {
            "backgroundcolor": "#E5ECF6",
            "gridcolor": "white",
            "gridwidth": 2,
            "linecolor": "white",
            "showbackground": true,
            "ticks": "",
            "zerolinecolor": "white"
           }
          },
          "shapedefaults": {
           "line": {
            "color": "#2a3f5f"
           }
          },
          "ternary": {
           "aaxis": {
            "gridcolor": "white",
            "linecolor": "white",
            "ticks": ""
           },
           "baxis": {
            "gridcolor": "white",
            "linecolor": "white",
            "ticks": ""
           },
           "bgcolor": "#E5ECF6",
           "caxis": {
            "gridcolor": "white",
            "linecolor": "white",
            "ticks": ""
           }
          },
          "title": {
           "x": 0.05
          },
          "xaxis": {
           "automargin": true,
           "gridcolor": "white",
           "linecolor": "white",
           "ticks": "",
           "title": {
            "standoff": 15
           },
           "zerolinecolor": "white",
           "zerolinewidth": 2
          },
          "yaxis": {
           "automargin": true,
           "gridcolor": "white",
           "linecolor": "white",
           "ticks": "",
           "title": {
            "standoff": 15
           },
           "zerolinecolor": "white",
           "zerolinewidth": 2
          }
         }
        },
        "title": {
         "text": "Daily vaccinations per million"
        }
       }
      },
      "text/html": [
       "<div>                            <div id=\"be083d8f-5218-4016-bdea-b706767cbea9\" class=\"plotly-graph-div\" style=\"height:525px; width:100%;\"></div>            <script type=\"text/javascript\">                require([\"plotly\"], function(Plotly) {                    window.PLOTLYENV=window.PLOTLYENV || {};                                    if (document.getElementById(\"be083d8f-5218-4016-bdea-b706767cbea9\")) {                    Plotly.newPlot(                        \"be083d8f-5218-4016-bdea-b706767cbea9\",                        [{\"autocolorscale\": false, \"colorscale\": [[0.0, \"#440154\"], [0.1111111111111111, \"#482878\"], [0.2222222222222222, \"#3e4989\"], [0.3333333333333333, \"#31688e\"], [0.4444444444444444, \"#26828e\"], [0.5555555555555556, \"#1f9e89\"], [0.6666666666666666, \"#35b779\"], [0.7777777777777778, \"#6ece58\"], [0.8888888888888888, \"#b5de2b\"], [1.0, \"#fde725\"]], \"locations\": [\"ALB\", \"DZA\", \"AND\", \"AIA\", \"ARG\", \"AUS\", \"AUT\", \"AZE\", \"BHR\", \"BGD\", \"BRB\", \"BLR\", \"BEL\", \"BLZ\", \"BMU\", \"BOL\", \"BRA\", \"BGR\", \"KHM\", \"CAN\", \"CYM\", \"CHL\", \"CHN\", \"COL\", \"CRI\", \"HRV\", \"CYP\", \"CZE\", \"DNK\", \"DMA\", \"DOM\", \"ECU\", \"EGY\", \"SLV\", \"EST\", \"FRO\", \"FLK\", \"FIN\", \"FRA\", \"DEU\", \"GHA\", \"GIB\", \"GRC\", \"GRL\", \"GRD\", \"GTM\", \"GGY\", \"GUY\", \"HND\", \"HKG\", \"HUN\", \"ISL\", \"IND\", \"IDN\", \"IRN\", \"IRL\", \"IMN\", \"ISR\", \"ITA\", \"JPN\", \"JEY\", \"JOR\", \"KAZ\", \"KWT\", \"LVA\", \"LBN\", \"LIE\", \"LTU\", \"LUX\", \"MAC\", \"MYS\", \"MDV\", \"MLT\", \"MUS\", \"MEX\", \"MDA\", \"MCO\", \"MNG\", \"MNE\", \"MSR\", \"MAR\", \"MMR\", \"NPL\", \"NLD\", \"NZL\", \"OWID_NCY\", \"NOR\", \"OMN\", \"PAK\", \"PAN\", \"PRY\", \"PER\", \"PHL\", \"POL\", \"PRT\", \"QAT\", \"ROU\", \"RUS\", \"RWA\", \"SHN\", \"LCA\", \"SMR\", \"SAU\", \"SEN\", \"SRB\", \"SYC\", \"SGP\", \"SVK\", \"SVN\", \"ZAF\", \"KOR\", \"ESP\", \"LKA\", \"SWE\", \"CHE\", \"THA\", \"TTO\", \"TUR\", \"TCA\", \"UKR\", \"ARE\", \"GBR\", \"USA\", \"URY\", \"VEN\", \"ZWE\"], \"marker\": {\"line\": {\"color\": \"white\", \"width\": 0.5}}, \"reversescale\": true, \"text\": [\"Albania\", \"Algeria\", \"Andorra\", \"Anguilla\", \"Argentina\", \"Australia\", \"Austria\", \"Azerbaijan\", \"Bahrain\", \"Bangladesh\", \"Barbados\", \"Belarus\", \"Belgium\", \"Belize\", \"Bermuda\", \"Bolivia\", \"Brazil\", \"Bulgaria\", \"Cambodia\", \"Canada\", \"Cayman Islands\", \"Chile\", \"China\", \"Colombia\", \"Costa Rica\", \"Croatia\", \"Cyprus\", \"Czechia\", \"Denmark\", \"Dominica\", \"Dominican Republic\", \"Ecuador\", \"Egypt\", \"El Salvador\", \"Estonia\", \"Faeroe Islands\", \"Falkland Islands\", \"Finland\", \"France\", \"Germany\", \"Ghana\", \"Gibraltar\", \"Greece\", \"Greenland\", \"Grenada\", \"Guatemala\", \"Guernsey\", \"Guyana\", \"Honduras\", \"Hong Kong\", \"Hungary\", \"Iceland\", \"India\", \"Indonesia\", \"Iran\", \"Ireland\", \"Isle of Man\", \"Israel\", \"Italy\", \"Japan\", \"Jersey\", \"Jordan\", \"Kazakhstan\", \"Kuwait\", \"Latvia\", \"Lebanon\", \"Liechtenstein\", \"Lithuania\", \"Luxembourg\", \"Macao\", \"Malaysia\", \"Maldives\", \"Malta\", \"Mauritius\", \"Mexico\", \"Moldova\", \"Monaco\", \"Mongolia\", \"Montenegro\", \"Montserrat\", \"Morocco\", \"Myanmar\", \"Nepal\", \"Netherlands\", \"New Zealand\", \"Northern Cyprus\", \"Norway\", \"Oman\", \"Pakistan\", \"Panama\", \"Paraguay\", \"Peru\", \"Philippines\", \"Poland\", \"Portugal\", \"Qatar\", \"Romania\", \"Russia\", \"Rwanda\", \"Saint Helena\", \"Saint Lucia\", \"San Marino\", \"Saudi Arabia\", \"Senegal\", \"Serbia\", \"Seychelles\", \"Singapore\", \"Slovakia\", \"Slovenia\", \"South Africa\", \"South Korea\", \"Spain\", \"Sri Lanka\", \"Sweden\", \"Switzerland\", \"Thailand\", \"Trinidad and Tobago\", \"Turkey\", \"Turks and Caicos Islands\", \"Ukraine\", \"United Arab Emirates\", \"United Kingdom\", \"United States\", \"Uruguay\", \"Venezuela\", \"Zimbabwe\"], \"type\": \"choropleth\", \"z\": [376.0, 85.0, 1294.0, 22064.0, 1875.0, 310.0, 2527.0, 1490.0, 6527.0, 1195.0, 10972.0, 43.0, 1899.0, 651.0, 12413.0, 1310.0, 1691.0, 2085.0, 589.0, 2005.0, 10849.0, 12966.0, 1331.0, 536.0, 2120.0, 1815.0, 4115.0, 2697.0, 3189.0, 5556.0, 5074.0, 321.0, 2.0, 326.0, 3762.0, 3561.0, 54264.0, 3166.0, 2859.0, 2639.0, 1114.0, 31700.0, 2827.0, 1356.0, 258.0, 62.0, 9008.0, 215.0, 0.0, 1500.0, 6601.0, 3900.0, 939.0, 806.0, 36.0, 2527.0, 8573.0, 21350.0, 2827.0, 126.0, 8716.0, 1082.0, 68.0, 2063.0, 1484.0, 611.0, 2937.0, 3384.0, 2035.0, 916.0, 630.0, 12166.0, 6887.0, 178.0, 1090.0, 129.0, 3211.0, 376.0, 355.0, 8602.0, 5333.0, 271.0, 647.0, 2688.0, 380.0, 3739.0, 2879.0, 448.0, 20.0, 3005.0, 35.0, 453.0, 56.0, 2496.0, 2673.0, 3818.0, 2341.0, 1526.0, 1801.0, 0.0, 713.0, 10460.0, 3100.0, 355.0, 9471.0, 24415.0, 2565.0, 2511.0, 2462.0, 138.0, 1002.0, 2872.0, 1954.0, 2732.0, 2387.0, 35.0, 45.0, 5165.0, 5734.0, 65.0, 16179.0, 6558.0, 6488.0, 3894.0, 42.0, 202.0]}],                        {\"geo\": {\"countrycolor\": \"darkgrey\", \"projection\": {\"type\": \"natural earth\"}, \"resolution\": 50, \"showcoastlines\": false, \"showcountries\": true, \"showframe\": false, \"visible\": true}, \"template\": {\"data\": {\"bar\": [{\"error_x\": {\"color\": \"#2a3f5f\"}, \"error_y\": {\"color\": \"#2a3f5f\"}, \"marker\": {\"line\": {\"color\": \"#E5ECF6\", \"width\": 0.5}}, \"type\": \"bar\"}], \"barpolar\": [{\"marker\": {\"line\": {\"color\": \"#E5ECF6\", \"width\": 0.5}}, \"type\": \"barpolar\"}], \"carpet\": [{\"aaxis\": {\"endlinecolor\": \"#2a3f5f\", \"gridcolor\": \"white\", \"linecolor\": \"white\", \"minorgridcolor\": \"white\", \"startlinecolor\": \"#2a3f5f\"}, \"baxis\": {\"endlinecolor\": \"#2a3f5f\", \"gridcolor\": \"white\", \"linecolor\": \"white\", \"minorgridcolor\": \"white\", \"startlinecolor\": \"#2a3f5f\"}, \"type\": \"carpet\"}], \"choropleth\": [{\"colorbar\": {\"outlinewidth\": 0, \"ticks\": \"\"}, \"type\": \"choropleth\"}], \"contour\": [{\"colorbar\": {\"outlinewidth\": 0, \"ticks\": \"\"}, \"colorscale\": [[0.0, \"#0d0887\"], [0.1111111111111111, \"#46039f\"], [0.2222222222222222, \"#7201a8\"], [0.3333333333333333, \"#9c179e\"], [0.4444444444444444, \"#bd3786\"], [0.5555555555555556, \"#d8576b\"], [0.6666666666666666, \"#ed7953\"], [0.7777777777777778, \"#fb9f3a\"], [0.8888888888888888, \"#fdca26\"], [1.0, \"#f0f921\"]], \"type\": \"contour\"}], \"contourcarpet\": [{\"colorbar\": {\"outlinewidth\": 0, \"ticks\": \"\"}, \"type\": \"contourcarpet\"}], \"heatmap\": [{\"colorbar\": {\"outlinewidth\": 0, \"ticks\": \"\"}, \"colorscale\": [[0.0, \"#0d0887\"], [0.1111111111111111, \"#46039f\"], [0.2222222222222222, \"#7201a8\"], [0.3333333333333333, \"#9c179e\"], [0.4444444444444444, \"#bd3786\"], [0.5555555555555556, \"#d8576b\"], [0.6666666666666666, \"#ed7953\"], [0.7777777777777778, \"#fb9f3a\"], [0.8888888888888888, \"#fdca26\"], [1.0, \"#f0f921\"]], \"type\": \"heatmap\"}], \"heatmapgl\": [{\"colorbar\": {\"outlinewidth\": 0, \"ticks\": \"\"}, \"colorscale\": [[0.0, \"#0d0887\"], [0.1111111111111111, \"#46039f\"], [0.2222222222222222, \"#7201a8\"], [0.3333333333333333, \"#9c179e\"], [0.4444444444444444, \"#bd3786\"], [0.5555555555555556, \"#d8576b\"], [0.6666666666666666, \"#ed7953\"], [0.7777777777777778, \"#fb9f3a\"], [0.8888888888888888, \"#fdca26\"], [1.0, \"#f0f921\"]], \"type\": \"heatmapgl\"}], \"histogram\": [{\"marker\": {\"colorbar\": {\"outlinewidth\": 0, \"ticks\": \"\"}}, \"type\": \"histogram\"}], \"histogram2d\": [{\"colorbar\": {\"outlinewidth\": 0, \"ticks\": \"\"}, \"colorscale\": [[0.0, \"#0d0887\"], [0.1111111111111111, \"#46039f\"], [0.2222222222222222, \"#7201a8\"], [0.3333333333333333, \"#9c179e\"], [0.4444444444444444, \"#bd3786\"], [0.5555555555555556, \"#d8576b\"], [0.6666666666666666, \"#ed7953\"], [0.7777777777777778, \"#fb9f3a\"], [0.8888888888888888, \"#fdca26\"], [1.0, \"#f0f921\"]], \"type\": \"histogram2d\"}], \"histogram2dcontour\": [{\"colorbar\": {\"outlinewidth\": 0, \"ticks\": \"\"}, \"colorscale\": [[0.0, \"#0d0887\"], [0.1111111111111111, \"#46039f\"], [0.2222222222222222, \"#7201a8\"], [0.3333333333333333, \"#9c179e\"], [0.4444444444444444, \"#bd3786\"], [0.5555555555555556, \"#d8576b\"], [0.6666666666666666, \"#ed7953\"], [0.7777777777777778, \"#fb9f3a\"], [0.8888888888888888, \"#fdca26\"], [1.0, \"#f0f921\"]], \"type\": \"histogram2dcontour\"}], \"mesh3d\": [{\"colorbar\": {\"outlinewidth\": 0, \"ticks\": \"\"}, \"type\": \"mesh3d\"}], \"parcoords\": [{\"line\": {\"colorbar\": {\"outlinewidth\": 0, \"ticks\": \"\"}}, \"type\": \"parcoords\"}], \"pie\": [{\"automargin\": true, \"type\": \"pie\"}], \"scatter\": [{\"marker\": {\"colorbar\": {\"outlinewidth\": 0, \"ticks\": \"\"}}, \"type\": \"scatter\"}], \"scatter3d\": [{\"line\": {\"colorbar\": {\"outlinewidth\": 0, \"ticks\": \"\"}}, \"marker\": {\"colorbar\": {\"outlinewidth\": 0, \"ticks\": \"\"}}, \"type\": \"scatter3d\"}], \"scattercarpet\": [{\"marker\": {\"colorbar\": {\"outlinewidth\": 0, \"ticks\": \"\"}}, \"type\": \"scattercarpet\"}], \"scattergeo\": [{\"marker\": {\"colorbar\": {\"outlinewidth\": 0, \"ticks\": \"\"}}, \"type\": \"scattergeo\"}], \"scattergl\": [{\"marker\": {\"colorbar\": {\"outlinewidth\": 0, \"ticks\": \"\"}}, \"type\": \"scattergl\"}], \"scattermapbox\": [{\"marker\": {\"colorbar\": {\"outlinewidth\": 0, \"ticks\": \"\"}}, \"type\": \"scattermapbox\"}], \"scatterpolar\": [{\"marker\": {\"colorbar\": {\"outlinewidth\": 0, \"ticks\": \"\"}}, \"type\": \"scatterpolar\"}], \"scatterpolargl\": [{\"marker\": {\"colorbar\": {\"outlinewidth\": 0, \"ticks\": \"\"}}, \"type\": \"scatterpolargl\"}], \"scatterternary\": [{\"marker\": {\"colorbar\": {\"outlinewidth\": 0, \"ticks\": \"\"}}, \"type\": \"scatterternary\"}], \"surface\": [{\"colorbar\": {\"outlinewidth\": 0, \"ticks\": \"\"}, \"colorscale\": [[0.0, \"#0d0887\"], [0.1111111111111111, \"#46039f\"], [0.2222222222222222, \"#7201a8\"], [0.3333333333333333, \"#9c179e\"], [0.4444444444444444, \"#bd3786\"], [0.5555555555555556, \"#d8576b\"], [0.6666666666666666, \"#ed7953\"], [0.7777777777777778, \"#fb9f3a\"], [0.8888888888888888, \"#fdca26\"], [1.0, \"#f0f921\"]], \"type\": \"surface\"}], \"table\": [{\"cells\": {\"fill\": {\"color\": \"#EBF0F8\"}, \"line\": {\"color\": \"white\"}}, \"header\": {\"fill\": {\"color\": \"#C8D4E3\"}, \"line\": {\"color\": \"white\"}}, \"type\": \"table\"}]}, \"layout\": {\"annotationdefaults\": {\"arrowcolor\": \"#2a3f5f\", \"arrowhead\": 0, \"arrowwidth\": 1}, \"autotypenumbers\": \"strict\", \"coloraxis\": {\"colorbar\": {\"outlinewidth\": 0, \"ticks\": \"\"}}, \"colorscale\": {\"diverging\": [[0, \"#8e0152\"], [0.1, \"#c51b7d\"], [0.2, \"#de77ae\"], [0.3, \"#f1b6da\"], [0.4, \"#fde0ef\"], [0.5, \"#f7f7f7\"], [0.6, \"#e6f5d0\"], [0.7, \"#b8e186\"], [0.8, \"#7fbc41\"], [0.9, \"#4d9221\"], [1, \"#276419\"]], \"sequential\": [[0.0, \"#0d0887\"], [0.1111111111111111, \"#46039f\"], [0.2222222222222222, \"#7201a8\"], [0.3333333333333333, \"#9c179e\"], [0.4444444444444444, \"#bd3786\"], [0.5555555555555556, \"#d8576b\"], [0.6666666666666666, \"#ed7953\"], [0.7777777777777778, \"#fb9f3a\"], [0.8888888888888888, \"#fdca26\"], [1.0, \"#f0f921\"]], \"sequentialminus\": [[0.0, \"#0d0887\"], [0.1111111111111111, \"#46039f\"], [0.2222222222222222, \"#7201a8\"], [0.3333333333333333, \"#9c179e\"], [0.4444444444444444, \"#bd3786\"], [0.5555555555555556, \"#d8576b\"], [0.6666666666666666, \"#ed7953\"], [0.7777777777777778, \"#fb9f3a\"], [0.8888888888888888, \"#fdca26\"], [1.0, \"#f0f921\"]]}, \"colorway\": [\"#636efa\", \"#EF553B\", \"#00cc96\", \"#ab63fa\", \"#FFA15A\", \"#19d3f3\", \"#FF6692\", \"#B6E880\", \"#FF97FF\", \"#FECB52\"], \"font\": {\"color\": \"#2a3f5f\"}, \"geo\": {\"bgcolor\": \"white\", \"lakecolor\": \"white\", \"landcolor\": \"#E5ECF6\", \"showlakes\": true, \"showland\": true, \"subunitcolor\": \"white\"}, \"hoverlabel\": {\"align\": \"left\"}, \"hovermode\": \"closest\", \"mapbox\": {\"style\": \"light\"}, \"paper_bgcolor\": \"white\", \"plot_bgcolor\": \"#E5ECF6\", \"polar\": {\"angularaxis\": {\"gridcolor\": \"white\", \"linecolor\": \"white\", \"ticks\": \"\"}, \"bgcolor\": \"#E5ECF6\", \"radialaxis\": {\"gridcolor\": \"white\", \"linecolor\": \"white\", \"ticks\": \"\"}}, \"scene\": {\"xaxis\": {\"backgroundcolor\": \"#E5ECF6\", \"gridcolor\": \"white\", \"gridwidth\": 2, \"linecolor\": \"white\", \"showbackground\": true, \"ticks\": \"\", \"zerolinecolor\": \"white\"}, \"yaxis\": {\"backgroundcolor\": \"#E5ECF6\", \"gridcolor\": \"white\", \"gridwidth\": 2, \"linecolor\": \"white\", \"showbackground\": true, \"ticks\": \"\", \"zerolinecolor\": \"white\"}, \"zaxis\": {\"backgroundcolor\": \"#E5ECF6\", \"gridcolor\": \"white\", \"gridwidth\": 2, \"linecolor\": \"white\", \"showbackground\": true, \"ticks\": \"\", \"zerolinecolor\": \"white\"}}, \"shapedefaults\": {\"line\": {\"color\": \"#2a3f5f\"}}, \"ternary\": {\"aaxis\": {\"gridcolor\": \"white\", \"linecolor\": \"white\", \"ticks\": \"\"}, \"baxis\": {\"gridcolor\": \"white\", \"linecolor\": \"white\", \"ticks\": \"\"}, \"bgcolor\": \"#E5ECF6\", \"caxis\": {\"gridcolor\": \"white\", \"linecolor\": \"white\", \"ticks\": \"\"}}, \"title\": {\"x\": 0.05}, \"xaxis\": {\"automargin\": true, \"gridcolor\": \"white\", \"linecolor\": \"white\", \"ticks\": \"\", \"title\": {\"standoff\": 15}, \"zerolinecolor\": \"white\", \"zerolinewidth\": 2}, \"yaxis\": {\"automargin\": true, \"gridcolor\": \"white\", \"linecolor\": \"white\", \"ticks\": \"\", \"title\": {\"standoff\": 15}, \"zerolinecolor\": \"white\", \"zerolinewidth\": 2}}}, \"title\": {\"text\": \"Daily vaccinations per million\"}},                        {\"responsive\": true}                    ).then(function(){\n",
       "                            \n",
       "var gd = document.getElementById('be083d8f-5218-4016-bdea-b706767cbea9');\n",
       "var x = new MutationObserver(function (mutations, observer) {{\n",
       "        var display = window.getComputedStyle(gd).display;\n",
       "        if (!display || display === 'none') {{\n",
       "            console.log([gd, 'removed!']);\n",
       "            Plotly.purge(gd);\n",
       "            observer.disconnect();\n",
       "        }}\n",
       "}});\n",
       "\n",
       "// Listen for the removal of the full notebook cells\n",
       "var notebookContainer = gd.closest('#notebook-container');\n",
       "if (notebookContainer) {{\n",
       "    x.observe(notebookContainer, {childList: true});\n",
       "}}\n",
       "\n",
       "// Listen for the clearing of the current output cell\n",
       "var outputEl = gd.closest('.output');\n",
       "if (outputEl) {{\n",
       "    x.observe(outputEl, {childList: true});\n",
       "}}\n",
       "\n",
       "                        })                };                });            </script>        </div>"
      ]
     },
     "metadata": {},
     "output_type": "display_data"
    }
   ],
   "source": [
    "create_choropleth(dayly_vac_million['iso_code'], \n",
    "                  dayly_vac_million['daily_vaccinations_per_million'], \n",
    "                  dayly_vac_million['country'], \n",
    "                  'Daily vaccinations per million')"
   ]
  },
  {
   "cell_type": "markdown",
   "metadata": {},
   "source": [
    "Daily vaccinations per million is high in UAE and israel."
   ]
  },
  {
   "cell_type": "markdown",
   "metadata": {},
   "source": [
    "Let's explore which countries have daily vaccinations the most."
   ]
  },
  {
   "cell_type": "code",
   "execution_count": 143,
   "metadata": {},
   "outputs": [],
   "source": [
    "dayly_vac = covid_df[['country', 'iso_code', 'daily_vaccinations']]\n",
    "dayly_vac['daily_vaccinations'] = dayly_vac['daily_vaccinations'].fillna(0)\n",
    "dayly_vac = dayly_vac.groupby(['country', 'iso_code']).max().reset_index()\n"
   ]
  },
  {
   "cell_type": "code",
   "execution_count": 144,
   "metadata": {},
   "outputs": [
    {
     "data": {
      "application/vnd.plotly.v1+json": {
       "config": {
        "plotlyServerURL": "https://plot.ly"
       },
       "data": [
        {
         "autocolorscale": false,
         "colorscale": [
          [
           0,
           "#440154"
          ],
          [
           0.1111111111111111,
           "#482878"
          ],
          [
           0.2222222222222222,
           "#3e4989"
          ],
          [
           0.3333333333333333,
           "#31688e"
          ],
          [
           0.4444444444444444,
           "#26828e"
          ],
          [
           0.5555555555555556,
           "#1f9e89"
          ],
          [
           0.6666666666666666,
           "#35b779"
          ],
          [
           0.7777777777777778,
           "#6ece58"
          ],
          [
           0.8888888888888888,
           "#b5de2b"
          ],
          [
           1,
           "#fde725"
          ]
         ],
         "locations": [
          "ALB",
          "DZA",
          "AND",
          "AIA",
          "ARG",
          "AUS",
          "AUT",
          "AZE",
          "BHR",
          "BGD",
          "BRB",
          "BLR",
          "BEL",
          "BLZ",
          "BMU",
          "BOL",
          "BRA",
          "BGR",
          "KHM",
          "CAN",
          "CYM",
          "CHL",
          "CHN",
          "COL",
          "CRI",
          "HRV",
          "CYP",
          "CZE",
          "DNK",
          "DMA",
          "DOM",
          "ECU",
          "EGY",
          "SLV",
          "EST",
          "FRO",
          "FLK",
          "FIN",
          "FRA",
          "DEU",
          "GHA",
          "GIB",
          "GRC",
          "GRL",
          "GRD",
          "GTM",
          "GGY",
          "GUY",
          "HND",
          "HKG",
          "HUN",
          "ISL",
          "IND",
          "IDN",
          "IRN",
          "IRL",
          "IMN",
          "ISR",
          "ITA",
          "JPN",
          "JEY",
          "JOR",
          "KAZ",
          "KWT",
          "LVA",
          "LBN",
          "LIE",
          "LTU",
          "LUX",
          "MAC",
          "MYS",
          "MDV",
          "MLT",
          "MUS",
          "MEX",
          "MDA",
          "MCO",
          "MNG",
          "MNE",
          "MSR",
          "MAR",
          "MMR",
          "NPL",
          "NLD",
          "NZL",
          "OWID_NCY",
          "NOR",
          "OMN",
          "PAK",
          "PAN",
          "PRY",
          "PER",
          "PHL",
          "POL",
          "PRT",
          "QAT",
          "ROU",
          "RUS",
          "RWA",
          "SHN",
          "LCA",
          "SMR",
          "SAU",
          "SEN",
          "SRB",
          "SYC",
          "SGP",
          "SVK",
          "SVN",
          "ZAF",
          "KOR",
          "ESP",
          "LKA",
          "SWE",
          "CHE",
          "THA",
          "TTO",
          "TUR",
          "TCA",
          "UKR",
          "ARE",
          "GBR",
          "USA",
          "URY",
          "VEN",
          "ZWE"
         ],
         "marker": {
          "line": {
           "color": "white",
           "width": 0.5
          }
         },
         "reversescale": true,
         "text": [
          "Albania",
          "Algeria",
          "Andorra",
          "Anguilla",
          "Argentina",
          "Australia",
          "Austria",
          "Azerbaijan",
          "Bahrain",
          "Bangladesh",
          "Barbados",
          "Belarus",
          "Belgium",
          "Belize",
          "Bermuda",
          "Bolivia",
          "Brazil",
          "Bulgaria",
          "Cambodia",
          "Canada",
          "Cayman Islands",
          "Chile",
          "China",
          "Colombia",
          "Costa Rica",
          "Croatia",
          "Cyprus",
          "Czechia",
          "Denmark",
          "Dominica",
          "Dominican Republic",
          "Ecuador",
          "Egypt",
          "El Salvador",
          "Estonia",
          "Faeroe Islands",
          "Falkland Islands",
          "Finland",
          "France",
          "Germany",
          "Ghana",
          "Gibraltar",
          "Greece",
          "Greenland",
          "Grenada",
          "Guatemala",
          "Guernsey",
          "Guyana",
          "Honduras",
          "Hong Kong",
          "Hungary",
          "Iceland",
          "India",
          "Indonesia",
          "Iran",
          "Ireland",
          "Isle of Man",
          "Israel",
          "Italy",
          "Japan",
          "Jersey",
          "Jordan",
          "Kazakhstan",
          "Kuwait",
          "Latvia",
          "Lebanon",
          "Liechtenstein",
          "Lithuania",
          "Luxembourg",
          "Macao",
          "Malaysia",
          "Maldives",
          "Malta",
          "Mauritius",
          "Mexico",
          "Moldova",
          "Monaco",
          "Mongolia",
          "Montenegro",
          "Montserrat",
          "Morocco",
          "Myanmar",
          "Nepal",
          "Netherlands",
          "New Zealand",
          "Northern Cyprus",
          "Norway",
          "Oman",
          "Pakistan",
          "Panama",
          "Paraguay",
          "Peru",
          "Philippines",
          "Poland",
          "Portugal",
          "Qatar",
          "Romania",
          "Russia",
          "Rwanda",
          "Saint Helena",
          "Saint Lucia",
          "San Marino",
          "Saudi Arabia",
          "Senegal",
          "Serbia",
          "Seychelles",
          "Singapore",
          "Slovakia",
          "Slovenia",
          "South Africa",
          "South Korea",
          "Spain",
          "Sri Lanka",
          "Sweden",
          "Switzerland",
          "Thailand",
          "Trinidad and Tobago",
          "Turkey",
          "Turks and Caicos Islands",
          "Ukraine",
          "United Arab Emirates",
          "United Kingdom",
          "United States",
          "Uruguay",
          "Venezuela",
          "Zimbabwe"
         ],
         "type": "choropleth",
         "z": [
          1081,
          3748,
          100,
          331,
          84735,
          7909,
          22762,
          15110,
          11106,
          196796,
          3153,
          403,
          22005,
          259,
          773,
          15289,
          359495,
          14486,
          9849,
          75656,
          713,
          247857,
          1916190,
          27288,
          10802,
          7451,
          3604,
          28879,
          18469,
          400,
          55038,
          5658,
          219,
          2114,
          4990,
          174,
          189,
          17541,
          193966,
          221093,
          34602,
          1068,
          29466,
          77,
          29,
          1112,
          604,
          169,
          0,
          11243,
          63767,
          1331,
          1295566,
          220364,
          3000,
          12480,
          729,
          184792,
          170935,
          15950,
          881,
          11039,
          1273,
          8810,
          2800,
          4170,
          112,
          9211,
          1274,
          595,
          20377,
          6576,
          3041,
          227,
          140532,
          520,
          126,
          1232,
          223,
          43,
          196829,
          14735,
          18862,
          46056,
          1833,
          1429,
          15606,
          2286,
          4437,
          12965,
          250,
          14947,
          6086,
          94476,
          27259,
          11000,
          45038,
          222684,
          23326,
          0,
          131,
          355,
          107938,
          5936,
          64449,
          2401,
          15004,
          13711,
          5118,
          8161,
          51359,
          134273,
          41841,
          27589,
          20661,
          2421,
          63,
          435596,
          222,
          2830,
          160020,
          445204,
          2169981,
          13527,
          1204,
          3005
         ]
        }
       ],
       "layout": {
        "geo": {
         "countrycolor": "darkgrey",
         "projection": {
          "type": "natural earth"
         },
         "resolution": 50,
         "showcoastlines": false,
         "showcountries": true,
         "showframe": false,
         "visible": true
        },
        "template": {
         "data": {
          "bar": [
           {
            "error_x": {
             "color": "#2a3f5f"
            },
            "error_y": {
             "color": "#2a3f5f"
            },
            "marker": {
             "line": {
              "color": "#E5ECF6",
              "width": 0.5
             }
            },
            "type": "bar"
           }
          ],
          "barpolar": [
           {
            "marker": {
             "line": {
              "color": "#E5ECF6",
              "width": 0.5
             }
            },
            "type": "barpolar"
           }
          ],
          "carpet": [
           {
            "aaxis": {
             "endlinecolor": "#2a3f5f",
             "gridcolor": "white",
             "linecolor": "white",
             "minorgridcolor": "white",
             "startlinecolor": "#2a3f5f"
            },
            "baxis": {
             "endlinecolor": "#2a3f5f",
             "gridcolor": "white",
             "linecolor": "white",
             "minorgridcolor": "white",
             "startlinecolor": "#2a3f5f"
            },
            "type": "carpet"
           }
          ],
          "choropleth": [
           {
            "colorbar": {
             "outlinewidth": 0,
             "ticks": ""
            },
            "type": "choropleth"
           }
          ],
          "contour": [
           {
            "colorbar": {
             "outlinewidth": 0,
             "ticks": ""
            },
            "colorscale": [
             [
              0,
              "#0d0887"
             ],
             [
              0.1111111111111111,
              "#46039f"
             ],
             [
              0.2222222222222222,
              "#7201a8"
             ],
             [
              0.3333333333333333,
              "#9c179e"
             ],
             [
              0.4444444444444444,
              "#bd3786"
             ],
             [
              0.5555555555555556,
              "#d8576b"
             ],
             [
              0.6666666666666666,
              "#ed7953"
             ],
             [
              0.7777777777777778,
              "#fb9f3a"
             ],
             [
              0.8888888888888888,
              "#fdca26"
             ],
             [
              1,
              "#f0f921"
             ]
            ],
            "type": "contour"
           }
          ],
          "contourcarpet": [
           {
            "colorbar": {
             "outlinewidth": 0,
             "ticks": ""
            },
            "type": "contourcarpet"
           }
          ],
          "heatmap": [
           {
            "colorbar": {
             "outlinewidth": 0,
             "ticks": ""
            },
            "colorscale": [
             [
              0,
              "#0d0887"
             ],
             [
              0.1111111111111111,
              "#46039f"
             ],
             [
              0.2222222222222222,
              "#7201a8"
             ],
             [
              0.3333333333333333,
              "#9c179e"
             ],
             [
              0.4444444444444444,
              "#bd3786"
             ],
             [
              0.5555555555555556,
              "#d8576b"
             ],
             [
              0.6666666666666666,
              "#ed7953"
             ],
             [
              0.7777777777777778,
              "#fb9f3a"
             ],
             [
              0.8888888888888888,
              "#fdca26"
             ],
             [
              1,
              "#f0f921"
             ]
            ],
            "type": "heatmap"
           }
          ],
          "heatmapgl": [
           {
            "colorbar": {
             "outlinewidth": 0,
             "ticks": ""
            },
            "colorscale": [
             [
              0,
              "#0d0887"
             ],
             [
              0.1111111111111111,
              "#46039f"
             ],
             [
              0.2222222222222222,
              "#7201a8"
             ],
             [
              0.3333333333333333,
              "#9c179e"
             ],
             [
              0.4444444444444444,
              "#bd3786"
             ],
             [
              0.5555555555555556,
              "#d8576b"
             ],
             [
              0.6666666666666666,
              "#ed7953"
             ],
             [
              0.7777777777777778,
              "#fb9f3a"
             ],
             [
              0.8888888888888888,
              "#fdca26"
             ],
             [
              1,
              "#f0f921"
             ]
            ],
            "type": "heatmapgl"
           }
          ],
          "histogram": [
           {
            "marker": {
             "colorbar": {
              "outlinewidth": 0,
              "ticks": ""
             }
            },
            "type": "histogram"
           }
          ],
          "histogram2d": [
           {
            "colorbar": {
             "outlinewidth": 0,
             "ticks": ""
            },
            "colorscale": [
             [
              0,
              "#0d0887"
             ],
             [
              0.1111111111111111,
              "#46039f"
             ],
             [
              0.2222222222222222,
              "#7201a8"
             ],
             [
              0.3333333333333333,
              "#9c179e"
             ],
             [
              0.4444444444444444,
              "#bd3786"
             ],
             [
              0.5555555555555556,
              "#d8576b"
             ],
             [
              0.6666666666666666,
              "#ed7953"
             ],
             [
              0.7777777777777778,
              "#fb9f3a"
             ],
             [
              0.8888888888888888,
              "#fdca26"
             ],
             [
              1,
              "#f0f921"
             ]
            ],
            "type": "histogram2d"
           }
          ],
          "histogram2dcontour": [
           {
            "colorbar": {
             "outlinewidth": 0,
             "ticks": ""
            },
            "colorscale": [
             [
              0,
              "#0d0887"
             ],
             [
              0.1111111111111111,
              "#46039f"
             ],
             [
              0.2222222222222222,
              "#7201a8"
             ],
             [
              0.3333333333333333,
              "#9c179e"
             ],
             [
              0.4444444444444444,
              "#bd3786"
             ],
             [
              0.5555555555555556,
              "#d8576b"
             ],
             [
              0.6666666666666666,
              "#ed7953"
             ],
             [
              0.7777777777777778,
              "#fb9f3a"
             ],
             [
              0.8888888888888888,
              "#fdca26"
             ],
             [
              1,
              "#f0f921"
             ]
            ],
            "type": "histogram2dcontour"
           }
          ],
          "mesh3d": [
           {
            "colorbar": {
             "outlinewidth": 0,
             "ticks": ""
            },
            "type": "mesh3d"
           }
          ],
          "parcoords": [
           {
            "line": {
             "colorbar": {
              "outlinewidth": 0,
              "ticks": ""
             }
            },
            "type": "parcoords"
           }
          ],
          "pie": [
           {
            "automargin": true,
            "type": "pie"
           }
          ],
          "scatter": [
           {
            "marker": {
             "colorbar": {
              "outlinewidth": 0,
              "ticks": ""
             }
            },
            "type": "scatter"
           }
          ],
          "scatter3d": [
           {
            "line": {
             "colorbar": {
              "outlinewidth": 0,
              "ticks": ""
             }
            },
            "marker": {
             "colorbar": {
              "outlinewidth": 0,
              "ticks": ""
             }
            },
            "type": "scatter3d"
           }
          ],
          "scattercarpet": [
           {
            "marker": {
             "colorbar": {
              "outlinewidth": 0,
              "ticks": ""
             }
            },
            "type": "scattercarpet"
           }
          ],
          "scattergeo": [
           {
            "marker": {
             "colorbar": {
              "outlinewidth": 0,
              "ticks": ""
             }
            },
            "type": "scattergeo"
           }
          ],
          "scattergl": [
           {
            "marker": {
             "colorbar": {
              "outlinewidth": 0,
              "ticks": ""
             }
            },
            "type": "scattergl"
           }
          ],
          "scattermapbox": [
           {
            "marker": {
             "colorbar": {
              "outlinewidth": 0,
              "ticks": ""
             }
            },
            "type": "scattermapbox"
           }
          ],
          "scatterpolar": [
           {
            "marker": {
             "colorbar": {
              "outlinewidth": 0,
              "ticks": ""
             }
            },
            "type": "scatterpolar"
           }
          ],
          "scatterpolargl": [
           {
            "marker": {
             "colorbar": {
              "outlinewidth": 0,
              "ticks": ""
             }
            },
            "type": "scatterpolargl"
           }
          ],
          "scatterternary": [
           {
            "marker": {
             "colorbar": {
              "outlinewidth": 0,
              "ticks": ""
             }
            },
            "type": "scatterternary"
           }
          ],
          "surface": [
           {
            "colorbar": {
             "outlinewidth": 0,
             "ticks": ""
            },
            "colorscale": [
             [
              0,
              "#0d0887"
             ],
             [
              0.1111111111111111,
              "#46039f"
             ],
             [
              0.2222222222222222,
              "#7201a8"
             ],
             [
              0.3333333333333333,
              "#9c179e"
             ],
             [
              0.4444444444444444,
              "#bd3786"
             ],
             [
              0.5555555555555556,
              "#d8576b"
             ],
             [
              0.6666666666666666,
              "#ed7953"
             ],
             [
              0.7777777777777778,
              "#fb9f3a"
             ],
             [
              0.8888888888888888,
              "#fdca26"
             ],
             [
              1,
              "#f0f921"
             ]
            ],
            "type": "surface"
           }
          ],
          "table": [
           {
            "cells": {
             "fill": {
              "color": "#EBF0F8"
             },
             "line": {
              "color": "white"
             }
            },
            "header": {
             "fill": {
              "color": "#C8D4E3"
             },
             "line": {
              "color": "white"
             }
            },
            "type": "table"
           }
          ]
         },
         "layout": {
          "annotationdefaults": {
           "arrowcolor": "#2a3f5f",
           "arrowhead": 0,
           "arrowwidth": 1
          },
          "autotypenumbers": "strict",
          "coloraxis": {
           "colorbar": {
            "outlinewidth": 0,
            "ticks": ""
           }
          },
          "colorscale": {
           "diverging": [
            [
             0,
             "#8e0152"
            ],
            [
             0.1,
             "#c51b7d"
            ],
            [
             0.2,
             "#de77ae"
            ],
            [
             0.3,
             "#f1b6da"
            ],
            [
             0.4,
             "#fde0ef"
            ],
            [
             0.5,
             "#f7f7f7"
            ],
            [
             0.6,
             "#e6f5d0"
            ],
            [
             0.7,
             "#b8e186"
            ],
            [
             0.8,
             "#7fbc41"
            ],
            [
             0.9,
             "#4d9221"
            ],
            [
             1,
             "#276419"
            ]
           ],
           "sequential": [
            [
             0,
             "#0d0887"
            ],
            [
             0.1111111111111111,
             "#46039f"
            ],
            [
             0.2222222222222222,
             "#7201a8"
            ],
            [
             0.3333333333333333,
             "#9c179e"
            ],
            [
             0.4444444444444444,
             "#bd3786"
            ],
            [
             0.5555555555555556,
             "#d8576b"
            ],
            [
             0.6666666666666666,
             "#ed7953"
            ],
            [
             0.7777777777777778,
             "#fb9f3a"
            ],
            [
             0.8888888888888888,
             "#fdca26"
            ],
            [
             1,
             "#f0f921"
            ]
           ],
           "sequentialminus": [
            [
             0,
             "#0d0887"
            ],
            [
             0.1111111111111111,
             "#46039f"
            ],
            [
             0.2222222222222222,
             "#7201a8"
            ],
            [
             0.3333333333333333,
             "#9c179e"
            ],
            [
             0.4444444444444444,
             "#bd3786"
            ],
            [
             0.5555555555555556,
             "#d8576b"
            ],
            [
             0.6666666666666666,
             "#ed7953"
            ],
            [
             0.7777777777777778,
             "#fb9f3a"
            ],
            [
             0.8888888888888888,
             "#fdca26"
            ],
            [
             1,
             "#f0f921"
            ]
           ]
          },
          "colorway": [
           "#636efa",
           "#EF553B",
           "#00cc96",
           "#ab63fa",
           "#FFA15A",
           "#19d3f3",
           "#FF6692",
           "#B6E880",
           "#FF97FF",
           "#FECB52"
          ],
          "font": {
           "color": "#2a3f5f"
          },
          "geo": {
           "bgcolor": "white",
           "lakecolor": "white",
           "landcolor": "#E5ECF6",
           "showlakes": true,
           "showland": true,
           "subunitcolor": "white"
          },
          "hoverlabel": {
           "align": "left"
          },
          "hovermode": "closest",
          "mapbox": {
           "style": "light"
          },
          "paper_bgcolor": "white",
          "plot_bgcolor": "#E5ECF6",
          "polar": {
           "angularaxis": {
            "gridcolor": "white",
            "linecolor": "white",
            "ticks": ""
           },
           "bgcolor": "#E5ECF6",
           "radialaxis": {
            "gridcolor": "white",
            "linecolor": "white",
            "ticks": ""
           }
          },
          "scene": {
           "xaxis": {
            "backgroundcolor": "#E5ECF6",
            "gridcolor": "white",
            "gridwidth": 2,
            "linecolor": "white",
            "showbackground": true,
            "ticks": "",
            "zerolinecolor": "white"
           },
           "yaxis": {
            "backgroundcolor": "#E5ECF6",
            "gridcolor": "white",
            "gridwidth": 2,
            "linecolor": "white",
            "showbackground": true,
            "ticks": "",
            "zerolinecolor": "white"
           },
           "zaxis": {
            "backgroundcolor": "#E5ECF6",
            "gridcolor": "white",
            "gridwidth": 2,
            "linecolor": "white",
            "showbackground": true,
            "ticks": "",
            "zerolinecolor": "white"
           }
          },
          "shapedefaults": {
           "line": {
            "color": "#2a3f5f"
           }
          },
          "ternary": {
           "aaxis": {
            "gridcolor": "white",
            "linecolor": "white",
            "ticks": ""
           },
           "baxis": {
            "gridcolor": "white",
            "linecolor": "white",
            "ticks": ""
           },
           "bgcolor": "#E5ECF6",
           "caxis": {
            "gridcolor": "white",
            "linecolor": "white",
            "ticks": ""
           }
          },
          "title": {
           "x": 0.05
          },
          "xaxis": {
           "automargin": true,
           "gridcolor": "white",
           "linecolor": "white",
           "ticks": "",
           "title": {
            "standoff": 15
           },
           "zerolinecolor": "white",
           "zerolinewidth": 2
          },
          "yaxis": {
           "automargin": true,
           "gridcolor": "white",
           "linecolor": "white",
           "ticks": "",
           "title": {
            "standoff": 15
           },
           "zerolinecolor": "white",
           "zerolinewidth": 2
          }
         }
        },
        "title": {
         "text": "Daily vaccinations"
        }
       }
      },
      "text/html": [
       "<div>                            <div id=\"ceea8fbb-5a44-4e5f-9efd-ce641d62f921\" class=\"plotly-graph-div\" style=\"height:525px; width:100%;\"></div>            <script type=\"text/javascript\">                require([\"plotly\"], function(Plotly) {                    window.PLOTLYENV=window.PLOTLYENV || {};                                    if (document.getElementById(\"ceea8fbb-5a44-4e5f-9efd-ce641d62f921\")) {                    Plotly.newPlot(                        \"ceea8fbb-5a44-4e5f-9efd-ce641d62f921\",                        [{\"autocolorscale\": false, \"colorscale\": [[0.0, \"#440154\"], [0.1111111111111111, \"#482878\"], [0.2222222222222222, \"#3e4989\"], [0.3333333333333333, \"#31688e\"], [0.4444444444444444, \"#26828e\"], [0.5555555555555556, \"#1f9e89\"], [0.6666666666666666, \"#35b779\"], [0.7777777777777778, \"#6ece58\"], [0.8888888888888888, \"#b5de2b\"], [1.0, \"#fde725\"]], \"locations\": [\"ALB\", \"DZA\", \"AND\", \"AIA\", \"ARG\", \"AUS\", \"AUT\", \"AZE\", \"BHR\", \"BGD\", \"BRB\", \"BLR\", \"BEL\", \"BLZ\", \"BMU\", \"BOL\", \"BRA\", \"BGR\", \"KHM\", \"CAN\", \"CYM\", \"CHL\", \"CHN\", \"COL\", \"CRI\", \"HRV\", \"CYP\", \"CZE\", \"DNK\", \"DMA\", \"DOM\", \"ECU\", \"EGY\", \"SLV\", \"EST\", \"FRO\", \"FLK\", \"FIN\", \"FRA\", \"DEU\", \"GHA\", \"GIB\", \"GRC\", \"GRL\", \"GRD\", \"GTM\", \"GGY\", \"GUY\", \"HND\", \"HKG\", \"HUN\", \"ISL\", \"IND\", \"IDN\", \"IRN\", \"IRL\", \"IMN\", \"ISR\", \"ITA\", \"JPN\", \"JEY\", \"JOR\", \"KAZ\", \"KWT\", \"LVA\", \"LBN\", \"LIE\", \"LTU\", \"LUX\", \"MAC\", \"MYS\", \"MDV\", \"MLT\", \"MUS\", \"MEX\", \"MDA\", \"MCO\", \"MNG\", \"MNE\", \"MSR\", \"MAR\", \"MMR\", \"NPL\", \"NLD\", \"NZL\", \"OWID_NCY\", \"NOR\", \"OMN\", \"PAK\", \"PAN\", \"PRY\", \"PER\", \"PHL\", \"POL\", \"PRT\", \"QAT\", \"ROU\", \"RUS\", \"RWA\", \"SHN\", \"LCA\", \"SMR\", \"SAU\", \"SEN\", \"SRB\", \"SYC\", \"SGP\", \"SVK\", \"SVN\", \"ZAF\", \"KOR\", \"ESP\", \"LKA\", \"SWE\", \"CHE\", \"THA\", \"TTO\", \"TUR\", \"TCA\", \"UKR\", \"ARE\", \"GBR\", \"USA\", \"URY\", \"VEN\", \"ZWE\"], \"marker\": {\"line\": {\"color\": \"white\", \"width\": 0.5}}, \"reversescale\": true, \"text\": [\"Albania\", \"Algeria\", \"Andorra\", \"Anguilla\", \"Argentina\", \"Australia\", \"Austria\", \"Azerbaijan\", \"Bahrain\", \"Bangladesh\", \"Barbados\", \"Belarus\", \"Belgium\", \"Belize\", \"Bermuda\", \"Bolivia\", \"Brazil\", \"Bulgaria\", \"Cambodia\", \"Canada\", \"Cayman Islands\", \"Chile\", \"China\", \"Colombia\", \"Costa Rica\", \"Croatia\", \"Cyprus\", \"Czechia\", \"Denmark\", \"Dominica\", \"Dominican Republic\", \"Ecuador\", \"Egypt\", \"El Salvador\", \"Estonia\", \"Faeroe Islands\", \"Falkland Islands\", \"Finland\", \"France\", \"Germany\", \"Ghana\", \"Gibraltar\", \"Greece\", \"Greenland\", \"Grenada\", \"Guatemala\", \"Guernsey\", \"Guyana\", \"Honduras\", \"Hong Kong\", \"Hungary\", \"Iceland\", \"India\", \"Indonesia\", \"Iran\", \"Ireland\", \"Isle of Man\", \"Israel\", \"Italy\", \"Japan\", \"Jersey\", \"Jordan\", \"Kazakhstan\", \"Kuwait\", \"Latvia\", \"Lebanon\", \"Liechtenstein\", \"Lithuania\", \"Luxembourg\", \"Macao\", \"Malaysia\", \"Maldives\", \"Malta\", \"Mauritius\", \"Mexico\", \"Moldova\", \"Monaco\", \"Mongolia\", \"Montenegro\", \"Montserrat\", \"Morocco\", \"Myanmar\", \"Nepal\", \"Netherlands\", \"New Zealand\", \"Northern Cyprus\", \"Norway\", \"Oman\", \"Pakistan\", \"Panama\", \"Paraguay\", \"Peru\", \"Philippines\", \"Poland\", \"Portugal\", \"Qatar\", \"Romania\", \"Russia\", \"Rwanda\", \"Saint Helena\", \"Saint Lucia\", \"San Marino\", \"Saudi Arabia\", \"Senegal\", \"Serbia\", \"Seychelles\", \"Singapore\", \"Slovakia\", \"Slovenia\", \"South Africa\", \"South Korea\", \"Spain\", \"Sri Lanka\", \"Sweden\", \"Switzerland\", \"Thailand\", \"Trinidad and Tobago\", \"Turkey\", \"Turks and Caicos Islands\", \"Ukraine\", \"United Arab Emirates\", \"United Kingdom\", \"United States\", \"Uruguay\", \"Venezuela\", \"Zimbabwe\"], \"type\": \"choropleth\", \"z\": [1081.0, 3748.0, 100.0, 331.0, 84735.0, 7909.0, 22762.0, 15110.0, 11106.0, 196796.0, 3153.0, 403.0, 22005.0, 259.0, 773.0, 15289.0, 359495.0, 14486.0, 9849.0, 75656.0, 713.0, 247857.0, 1916190.0, 27288.0, 10802.0, 7451.0, 3604.0, 28879.0, 18469.0, 400.0, 55038.0, 5658.0, 219.0, 2114.0, 4990.0, 174.0, 189.0, 17541.0, 193966.0, 221093.0, 34602.0, 1068.0, 29466.0, 77.0, 29.0, 1112.0, 604.0, 169.0, 0.0, 11243.0, 63767.0, 1331.0, 1295566.0, 220364.0, 3000.0, 12480.0, 729.0, 184792.0, 170935.0, 15950.0, 881.0, 11039.0, 1273.0, 8810.0, 2800.0, 4170.0, 112.0, 9211.0, 1274.0, 595.0, 20377.0, 6576.0, 3041.0, 227.0, 140532.0, 520.0, 126.0, 1232.0, 223.0, 43.0, 196829.0, 14735.0, 18862.0, 46056.0, 1833.0, 1429.0, 15606.0, 2286.0, 4437.0, 12965.0, 250.0, 14947.0, 6086.0, 94476.0, 27259.0, 11000.0, 45038.0, 222684.0, 23326.0, 0.0, 131.0, 355.0, 107938.0, 5936.0, 64449.0, 2401.0, 15004.0, 13711.0, 5118.0, 8161.0, 51359.0, 134273.0, 41841.0, 27589.0, 20661.0, 2421.0, 63.0, 435596.0, 222.0, 2830.0, 160020.0, 445204.0, 2169981.0, 13527.0, 1204.0, 3005.0]}],                        {\"geo\": {\"countrycolor\": \"darkgrey\", \"projection\": {\"type\": \"natural earth\"}, \"resolution\": 50, \"showcoastlines\": false, \"showcountries\": true, \"showframe\": false, \"visible\": true}, \"template\": {\"data\": {\"bar\": [{\"error_x\": {\"color\": \"#2a3f5f\"}, \"error_y\": {\"color\": \"#2a3f5f\"}, \"marker\": {\"line\": {\"color\": \"#E5ECF6\", \"width\": 0.5}}, \"type\": \"bar\"}], \"barpolar\": [{\"marker\": {\"line\": {\"color\": \"#E5ECF6\", \"width\": 0.5}}, \"type\": \"barpolar\"}], \"carpet\": [{\"aaxis\": {\"endlinecolor\": \"#2a3f5f\", \"gridcolor\": \"white\", \"linecolor\": \"white\", \"minorgridcolor\": \"white\", \"startlinecolor\": \"#2a3f5f\"}, \"baxis\": {\"endlinecolor\": \"#2a3f5f\", \"gridcolor\": \"white\", \"linecolor\": \"white\", \"minorgridcolor\": \"white\", \"startlinecolor\": \"#2a3f5f\"}, \"type\": \"carpet\"}], \"choropleth\": [{\"colorbar\": {\"outlinewidth\": 0, \"ticks\": \"\"}, \"type\": \"choropleth\"}], \"contour\": [{\"colorbar\": {\"outlinewidth\": 0, \"ticks\": \"\"}, \"colorscale\": [[0.0, \"#0d0887\"], [0.1111111111111111, \"#46039f\"], [0.2222222222222222, \"#7201a8\"], [0.3333333333333333, \"#9c179e\"], [0.4444444444444444, \"#bd3786\"], [0.5555555555555556, \"#d8576b\"], [0.6666666666666666, \"#ed7953\"], [0.7777777777777778, \"#fb9f3a\"], [0.8888888888888888, \"#fdca26\"], [1.0, \"#f0f921\"]], \"type\": \"contour\"}], \"contourcarpet\": [{\"colorbar\": {\"outlinewidth\": 0, \"ticks\": \"\"}, \"type\": \"contourcarpet\"}], \"heatmap\": [{\"colorbar\": {\"outlinewidth\": 0, \"ticks\": \"\"}, \"colorscale\": [[0.0, \"#0d0887\"], [0.1111111111111111, \"#46039f\"], [0.2222222222222222, \"#7201a8\"], [0.3333333333333333, \"#9c179e\"], [0.4444444444444444, \"#bd3786\"], [0.5555555555555556, \"#d8576b\"], [0.6666666666666666, \"#ed7953\"], [0.7777777777777778, \"#fb9f3a\"], [0.8888888888888888, \"#fdca26\"], [1.0, \"#f0f921\"]], \"type\": \"heatmap\"}], \"heatmapgl\": [{\"colorbar\": {\"outlinewidth\": 0, \"ticks\": \"\"}, \"colorscale\": [[0.0, \"#0d0887\"], [0.1111111111111111, \"#46039f\"], [0.2222222222222222, \"#7201a8\"], [0.3333333333333333, \"#9c179e\"], [0.4444444444444444, \"#bd3786\"], [0.5555555555555556, \"#d8576b\"], [0.6666666666666666, \"#ed7953\"], [0.7777777777777778, \"#fb9f3a\"], [0.8888888888888888, \"#fdca26\"], [1.0, \"#f0f921\"]], \"type\": \"heatmapgl\"}], \"histogram\": [{\"marker\": {\"colorbar\": {\"outlinewidth\": 0, \"ticks\": \"\"}}, \"type\": \"histogram\"}], \"histogram2d\": [{\"colorbar\": {\"outlinewidth\": 0, \"ticks\": \"\"}, \"colorscale\": [[0.0, \"#0d0887\"], [0.1111111111111111, \"#46039f\"], [0.2222222222222222, \"#7201a8\"], [0.3333333333333333, \"#9c179e\"], [0.4444444444444444, \"#bd3786\"], [0.5555555555555556, \"#d8576b\"], [0.6666666666666666, \"#ed7953\"], [0.7777777777777778, \"#fb9f3a\"], [0.8888888888888888, \"#fdca26\"], [1.0, \"#f0f921\"]], \"type\": \"histogram2d\"}], \"histogram2dcontour\": [{\"colorbar\": {\"outlinewidth\": 0, \"ticks\": \"\"}, \"colorscale\": [[0.0, \"#0d0887\"], [0.1111111111111111, \"#46039f\"], [0.2222222222222222, \"#7201a8\"], [0.3333333333333333, \"#9c179e\"], [0.4444444444444444, \"#bd3786\"], [0.5555555555555556, \"#d8576b\"], [0.6666666666666666, \"#ed7953\"], [0.7777777777777778, \"#fb9f3a\"], [0.8888888888888888, \"#fdca26\"], [1.0, \"#f0f921\"]], \"type\": \"histogram2dcontour\"}], \"mesh3d\": [{\"colorbar\": {\"outlinewidth\": 0, \"ticks\": \"\"}, \"type\": \"mesh3d\"}], \"parcoords\": [{\"line\": {\"colorbar\": {\"outlinewidth\": 0, \"ticks\": \"\"}}, \"type\": \"parcoords\"}], \"pie\": [{\"automargin\": true, \"type\": \"pie\"}], \"scatter\": [{\"marker\": {\"colorbar\": {\"outlinewidth\": 0, \"ticks\": \"\"}}, \"type\": \"scatter\"}], \"scatter3d\": [{\"line\": {\"colorbar\": {\"outlinewidth\": 0, \"ticks\": \"\"}}, \"marker\": {\"colorbar\": {\"outlinewidth\": 0, \"ticks\": \"\"}}, \"type\": \"scatter3d\"}], \"scattercarpet\": [{\"marker\": {\"colorbar\": {\"outlinewidth\": 0, \"ticks\": \"\"}}, \"type\": \"scattercarpet\"}], \"scattergeo\": [{\"marker\": {\"colorbar\": {\"outlinewidth\": 0, \"ticks\": \"\"}}, \"type\": \"scattergeo\"}], \"scattergl\": [{\"marker\": {\"colorbar\": {\"outlinewidth\": 0, \"ticks\": \"\"}}, \"type\": \"scattergl\"}], \"scattermapbox\": [{\"marker\": {\"colorbar\": {\"outlinewidth\": 0, \"ticks\": \"\"}}, \"type\": \"scattermapbox\"}], \"scatterpolar\": [{\"marker\": {\"colorbar\": {\"outlinewidth\": 0, \"ticks\": \"\"}}, \"type\": \"scatterpolar\"}], \"scatterpolargl\": [{\"marker\": {\"colorbar\": {\"outlinewidth\": 0, \"ticks\": \"\"}}, \"type\": \"scatterpolargl\"}], \"scatterternary\": [{\"marker\": {\"colorbar\": {\"outlinewidth\": 0, \"ticks\": \"\"}}, \"type\": \"scatterternary\"}], \"surface\": [{\"colorbar\": {\"outlinewidth\": 0, \"ticks\": \"\"}, \"colorscale\": [[0.0, \"#0d0887\"], [0.1111111111111111, \"#46039f\"], [0.2222222222222222, \"#7201a8\"], [0.3333333333333333, \"#9c179e\"], [0.4444444444444444, \"#bd3786\"], [0.5555555555555556, \"#d8576b\"], [0.6666666666666666, \"#ed7953\"], [0.7777777777777778, \"#fb9f3a\"], [0.8888888888888888, \"#fdca26\"], [1.0, \"#f0f921\"]], \"type\": \"surface\"}], \"table\": [{\"cells\": {\"fill\": {\"color\": \"#EBF0F8\"}, \"line\": {\"color\": \"white\"}}, \"header\": {\"fill\": {\"color\": \"#C8D4E3\"}, \"line\": {\"color\": \"white\"}}, \"type\": \"table\"}]}, \"layout\": {\"annotationdefaults\": {\"arrowcolor\": \"#2a3f5f\", \"arrowhead\": 0, \"arrowwidth\": 1}, \"autotypenumbers\": \"strict\", \"coloraxis\": {\"colorbar\": {\"outlinewidth\": 0, \"ticks\": \"\"}}, \"colorscale\": {\"diverging\": [[0, \"#8e0152\"], [0.1, \"#c51b7d\"], [0.2, \"#de77ae\"], [0.3, \"#f1b6da\"], [0.4, \"#fde0ef\"], [0.5, \"#f7f7f7\"], [0.6, \"#e6f5d0\"], [0.7, \"#b8e186\"], [0.8, \"#7fbc41\"], [0.9, \"#4d9221\"], [1, \"#276419\"]], \"sequential\": [[0.0, \"#0d0887\"], [0.1111111111111111, \"#46039f\"], [0.2222222222222222, \"#7201a8\"], [0.3333333333333333, \"#9c179e\"], [0.4444444444444444, \"#bd3786\"], [0.5555555555555556, \"#d8576b\"], [0.6666666666666666, \"#ed7953\"], [0.7777777777777778, \"#fb9f3a\"], [0.8888888888888888, \"#fdca26\"], [1.0, \"#f0f921\"]], \"sequentialminus\": [[0.0, \"#0d0887\"], [0.1111111111111111, \"#46039f\"], [0.2222222222222222, \"#7201a8\"], [0.3333333333333333, \"#9c179e\"], [0.4444444444444444, \"#bd3786\"], [0.5555555555555556, \"#d8576b\"], [0.6666666666666666, \"#ed7953\"], [0.7777777777777778, \"#fb9f3a\"], [0.8888888888888888, \"#fdca26\"], [1.0, \"#f0f921\"]]}, \"colorway\": [\"#636efa\", \"#EF553B\", \"#00cc96\", \"#ab63fa\", \"#FFA15A\", \"#19d3f3\", \"#FF6692\", \"#B6E880\", \"#FF97FF\", \"#FECB52\"], \"font\": {\"color\": \"#2a3f5f\"}, \"geo\": {\"bgcolor\": \"white\", \"lakecolor\": \"white\", \"landcolor\": \"#E5ECF6\", \"showlakes\": true, \"showland\": true, \"subunitcolor\": \"white\"}, \"hoverlabel\": {\"align\": \"left\"}, \"hovermode\": \"closest\", \"mapbox\": {\"style\": \"light\"}, \"paper_bgcolor\": \"white\", \"plot_bgcolor\": \"#E5ECF6\", \"polar\": {\"angularaxis\": {\"gridcolor\": \"white\", \"linecolor\": \"white\", \"ticks\": \"\"}, \"bgcolor\": \"#E5ECF6\", \"radialaxis\": {\"gridcolor\": \"white\", \"linecolor\": \"white\", \"ticks\": \"\"}}, \"scene\": {\"xaxis\": {\"backgroundcolor\": \"#E5ECF6\", \"gridcolor\": \"white\", \"gridwidth\": 2, \"linecolor\": \"white\", \"showbackground\": true, \"ticks\": \"\", \"zerolinecolor\": \"white\"}, \"yaxis\": {\"backgroundcolor\": \"#E5ECF6\", \"gridcolor\": \"white\", \"gridwidth\": 2, \"linecolor\": \"white\", \"showbackground\": true, \"ticks\": \"\", \"zerolinecolor\": \"white\"}, \"zaxis\": {\"backgroundcolor\": \"#E5ECF6\", \"gridcolor\": \"white\", \"gridwidth\": 2, \"linecolor\": \"white\", \"showbackground\": true, \"ticks\": \"\", \"zerolinecolor\": \"white\"}}, \"shapedefaults\": {\"line\": {\"color\": \"#2a3f5f\"}}, \"ternary\": {\"aaxis\": {\"gridcolor\": \"white\", \"linecolor\": \"white\", \"ticks\": \"\"}, \"baxis\": {\"gridcolor\": \"white\", \"linecolor\": \"white\", \"ticks\": \"\"}, \"bgcolor\": \"#E5ECF6\", \"caxis\": {\"gridcolor\": \"white\", \"linecolor\": \"white\", \"ticks\": \"\"}}, \"title\": {\"x\": 0.05}, \"xaxis\": {\"automargin\": true, \"gridcolor\": \"white\", \"linecolor\": \"white\", \"ticks\": \"\", \"title\": {\"standoff\": 15}, \"zerolinecolor\": \"white\", \"zerolinewidth\": 2}, \"yaxis\": {\"automargin\": true, \"gridcolor\": \"white\", \"linecolor\": \"white\", \"ticks\": \"\", \"title\": {\"standoff\": 15}, \"zerolinecolor\": \"white\", \"zerolinewidth\": 2}}}, \"title\": {\"text\": \"Daily vaccinations\"}},                        {\"responsive\": true}                    ).then(function(){\n",
       "                            \n",
       "var gd = document.getElementById('ceea8fbb-5a44-4e5f-9efd-ce641d62f921');\n",
       "var x = new MutationObserver(function (mutations, observer) {{\n",
       "        var display = window.getComputedStyle(gd).display;\n",
       "        if (!display || display === 'none') {{\n",
       "            console.log([gd, 'removed!']);\n",
       "            Plotly.purge(gd);\n",
       "            observer.disconnect();\n",
       "        }}\n",
       "}});\n",
       "\n",
       "// Listen for the removal of the full notebook cells\n",
       "var notebookContainer = gd.closest('#notebook-container');\n",
       "if (notebookContainer) {{\n",
       "    x.observe(notebookContainer, {childList: true});\n",
       "}}\n",
       "\n",
       "// Listen for the clearing of the current output cell\n",
       "var outputEl = gd.closest('.output');\n",
       "if (outputEl) {{\n",
       "    x.observe(outputEl, {childList: true});\n",
       "}}\n",
       "\n",
       "                        })                };                });            </script>        </div>"
      ]
     },
     "metadata": {},
     "output_type": "display_data"
    }
   ],
   "source": [
    "create_choropleth(dayly_vac['iso_code'], \n",
    "                  dayly_vac['daily_vaccinations'], \n",
    "                  dayly_vac['country'], \n",
    "                  'Daily vaccinations')"
   ]
  },
  {
   "cell_type": "markdown",
   "metadata": {},
   "source": [
    "More tha 1 million of people are vaccinated in USA, China And India. This is the best result among other countries, but due to large number of population this countries still have not big percent of vaccinated people."
   ]
  },
  {
   "cell_type": "code",
   "execution_count": 146,
   "metadata": {},
   "outputs": [
    {
     "data": {
      "text/html": [
       "<div>\n",
       "<style scoped>\n",
       "    .dataframe tbody tr th:only-of-type {\n",
       "        vertical-align: middle;\n",
       "    }\n",
       "\n",
       "    .dataframe tbody tr th {\n",
       "        vertical-align: top;\n",
       "    }\n",
       "\n",
       "    .dataframe thead th {\n",
       "        text-align: right;\n",
       "    }\n",
       "</style>\n",
       "<table border=\"1\" class=\"dataframe\">\n",
       "  <thead>\n",
       "    <tr style=\"text-align: right;\">\n",
       "      <th></th>\n",
       "      <th>country</th>\n",
       "      <th>total_vaccinations_per_hundred</th>\n",
       "    </tr>\n",
       "  </thead>\n",
       "  <tbody>\n",
       "    <tr>\n",
       "      <th>0</th>\n",
       "      <td>Albania</td>\n",
       "      <td>0.00</td>\n",
       "    </tr>\n",
       "    <tr>\n",
       "      <th>1</th>\n",
       "      <td>Albania</td>\n",
       "      <td>0.00</td>\n",
       "    </tr>\n",
       "    <tr>\n",
       "      <th>2</th>\n",
       "      <td>Albania</td>\n",
       "      <td>0.00</td>\n",
       "    </tr>\n",
       "    <tr>\n",
       "      <th>3</th>\n",
       "      <td>Albania</td>\n",
       "      <td>0.01</td>\n",
       "    </tr>\n",
       "    <tr>\n",
       "      <th>4</th>\n",
       "      <td>Albania</td>\n",
       "      <td>0.01</td>\n",
       "    </tr>\n",
       "  </tbody>\n",
       "</table>\n",
       "</div>"
      ],
      "text/plain": [
       "   country  total_vaccinations_per_hundred\n",
       "0  Albania                            0.00\n",
       "1  Albania                            0.00\n",
       "2  Albania                            0.00\n",
       "3  Albania                            0.01\n",
       "4  Albania                            0.01"
      ]
     },
     "execution_count": 146,
     "metadata": {},
     "output_type": "execute_result"
    }
   ],
   "source": [
    "total_vac_hundred = covid_df[['country', 'total_vaccinations_per_hundred' ]]\n",
    "total_vac_hundred['total_vaccinations_per_hundred'] = total_vac_hundred['total_vaccinations_per_hundred'].fillna(0\n",
    "                                                                                                                )\n",
    "total_vac_hundred.head()"
   ]
  },
  {
   "cell_type": "code",
   "execution_count": 149,
   "metadata": {},
   "outputs": [
    {
     "data": {
      "text/html": [
       "<div>\n",
       "<style scoped>\n",
       "    .dataframe tbody tr th:only-of-type {\n",
       "        vertical-align: middle;\n",
       "    }\n",
       "\n",
       "    .dataframe tbody tr th {\n",
       "        vertical-align: top;\n",
       "    }\n",
       "\n",
       "    .dataframe thead th {\n",
       "        text-align: right;\n",
       "    }\n",
       "</style>\n",
       "<table border=\"1\" class=\"dataframe\">\n",
       "  <thead>\n",
       "    <tr style=\"text-align: right;\">\n",
       "      <th></th>\n",
       "      <th>total_vaccinations_per_hundred</th>\n",
       "    </tr>\n",
       "    <tr>\n",
       "      <th>country</th>\n",
       "      <th></th>\n",
       "    </tr>\n",
       "  </thead>\n",
       "  <tbody>\n",
       "    <tr>\n",
       "      <th>Albania</th>\n",
       "      <td>0.040377</td>\n",
       "    </tr>\n",
       "    <tr>\n",
       "      <th>Algeria</th>\n",
       "      <td>0.007727</td>\n",
       "    </tr>\n",
       "    <tr>\n",
       "      <th>Andorra</th>\n",
       "      <td>0.454242</td>\n",
       "    </tr>\n",
       "    <tr>\n",
       "      <th>Anguilla</th>\n",
       "      <td>2.327826</td>\n",
       "    </tr>\n",
       "    <tr>\n",
       "      <th>Argentina</th>\n",
       "      <td>1.015000</td>\n",
       "    </tr>\n",
       "  </tbody>\n",
       "</table>\n",
       "</div>"
      ],
      "text/plain": [
       "           total_vaccinations_per_hundred\n",
       "country                                  \n",
       "Albania                          0.040377\n",
       "Algeria                          0.007727\n",
       "Andorra                          0.454242\n",
       "Anguilla                         2.327826\n",
       "Argentina                        1.015000"
      ]
     },
     "execution_count": 149,
     "metadata": {},
     "output_type": "execute_result"
    }
   ],
   "source": [
    "total_vac_hundred = total_vac_hundred.groupby('country').mean()\n",
    "total_vac_hundred.head()"
   ]
  },
  {
   "cell_type": "code",
   "execution_count": 151,
   "metadata": {},
   "outputs": [
    {
     "data": {
      "text/html": [
       "<div>\n",
       "<style scoped>\n",
       "    .dataframe tbody tr th:only-of-type {\n",
       "        vertical-align: middle;\n",
       "    }\n",
       "\n",
       "    .dataframe tbody tr th {\n",
       "        vertical-align: top;\n",
       "    }\n",
       "\n",
       "    .dataframe thead th {\n",
       "        text-align: right;\n",
       "    }\n",
       "</style>\n",
       "<table border=\"1\" class=\"dataframe\">\n",
       "  <thead>\n",
       "    <tr style=\"text-align: right;\">\n",
       "      <th></th>\n",
       "      <th>total_vaccinations_per_hundred</th>\n",
       "    </tr>\n",
       "    <tr>\n",
       "      <th>country</th>\n",
       "      <th></th>\n",
       "    </tr>\n",
       "  </thead>\n",
       "  <tbody>\n",
       "    <tr>\n",
       "      <th>Gibraltar</th>\n",
       "      <td>62.505000</td>\n",
       "    </tr>\n",
       "    <tr>\n",
       "      <th>Israel</th>\n",
       "      <td>51.144878</td>\n",
       "    </tr>\n",
       "    <tr>\n",
       "      <th>United Arab Emirates</th>\n",
       "      <td>37.672344</td>\n",
       "    </tr>\n",
       "    <tr>\n",
       "      <th>Seychelles</th>\n",
       "      <td>25.686167</td>\n",
       "    </tr>\n",
       "    <tr>\n",
       "      <th>Isle of Man</th>\n",
       "      <td>15.815510</td>\n",
       "    </tr>\n",
       "    <tr>\n",
       "      <th>...</th>\n",
       "      <td>...</td>\n",
       "    </tr>\n",
       "    <tr>\n",
       "      <th>Pakistan</th>\n",
       "      <td>0.003000</td>\n",
       "    </tr>\n",
       "    <tr>\n",
       "      <th>Thailand</th>\n",
       "      <td>0.002500</td>\n",
       "    </tr>\n",
       "    <tr>\n",
       "      <th>Venezuela</th>\n",
       "      <td>0.002500</td>\n",
       "    </tr>\n",
       "    <tr>\n",
       "      <th>Iran</th>\n",
       "      <td>0.001000</td>\n",
       "    </tr>\n",
       "    <tr>\n",
       "      <th>Egypt</th>\n",
       "      <td>0.000000</td>\n",
       "    </tr>\n",
       "  </tbody>\n",
       "</table>\n",
       "<p>130 rows × 1 columns</p>\n",
       "</div>"
      ],
      "text/plain": [
       "                      total_vaccinations_per_hundred\n",
       "country                                             \n",
       "Gibraltar                                  62.505000\n",
       "Israel                                     51.144878\n",
       "United Arab Emirates                       37.672344\n",
       "Seychelles                                 25.686167\n",
       "Isle of Man                                15.815510\n",
       "...                                              ...\n",
       "Pakistan                                    0.003000\n",
       "Thailand                                    0.002500\n",
       "Venezuela                                   0.002500\n",
       "Iran                                        0.001000\n",
       "Egypt                                       0.000000\n",
       "\n",
       "[130 rows x 1 columns]"
      ]
     },
     "execution_count": 151,
     "metadata": {},
     "output_type": "execute_result"
    }
   ],
   "source": [
    "#Sorting the data based on total_vaccinations_per_hundred from higher to lower\n",
    "total_vac_hundred.sort_values(by=\"total_vaccinations_per_hundred\", ascending=False, inplace=True)\n",
    "total_vac_hundred"
   ]
  },
  {
   "cell_type": "code",
   "execution_count": 152,
   "metadata": {},
   "outputs": [
    {
     "data": {
      "application/vnd.plotly.v1+json": {
       "config": {
        "linkText": "Export to plot.ly",
        "plotlyServerURL": "https://plot.ly",
        "showLink": false
       },
       "data": [
        {
         "marker": {
          "color": [
           0,
           1,
           2,
           3,
           4,
           5,
           6,
           7,
           8,
           9,
           10,
           11,
           12,
           13,
           14,
           15,
           16,
           17,
           18,
           19,
           20,
           21,
           22,
           23,
           24,
           25
          ]
         },
         "type": "bar",
         "x": [
          "Gibraltar",
          "Israel",
          "United Arab Emirates",
          "Seychelles",
          "Isle of Man",
          "Maldives",
          "England",
          "Wales",
          "United Kingdom",
          "Northern Ireland",
          "Scotland",
          "Malta",
          "Barbados",
          "United States",
          "Serbia",
          "Chile",
          "Switzerland",
          "Falkland Islands",
          "Denmark",
          "Turkey",
          "Morocco",
          "Cayman Islands",
          "Slovenia",
          "Slovakia",
          "Hungary"
         ],
         "y": [
          62.504999999999995,
          51.14487804878049,
          37.67234374999999,
          25.686166666666665,
          15.81551020408163,
          13.684054054054053,
          13.5432183908046,
          13.356321839080458,
          13.209655172413795,
          12.824597701149424,
          12.39793103448276,
          11.452692307692304,
          10.364999999999998,
          9.850617283950617,
          7.701612903225807,
          6.885974025974025,
          6.364883720930231,
          5.826874999999999,
          5.599864864864866,
          5.242982456140351,
          5.024523809523809,
          4.7498571428571426,
          4.434931506849314,
          4.40969696969697,
          4.355890410958903,
          4.252837837837839,
          4.021095890410959,
          3.976438356164384,
          3.9584615384615383,
          3.913108108108108,
          3.8578378378378373,
          3.788378378378378,
          3.7826415094339625,
          3.7377777777777776,
          3.568055555555555,
          3.5445205479452055,
          3.52,
          3.4687671232876713,
          3.3858208955223885,
          3.354857142857143,
          3.320153846153847,
          3.3128767123287672,
          3.2644736842105266,
          3.2625000000000006,
          3.221756756756757,
          3.0698630136986296,
          2.95474358974359,
          2.351609195402298,
          2.327826086956522,
          2.285,
          2.2656521739130437,
          2.0281428571428566,
          1.8208333333333335,
          1.76,
          1.620144927536232,
          1.4673809523809525,
          1.3499999999999999,
          1.2244444444444444,
          1.1938,
          1.04875,
          1.0343243243243243,
          1.0292982456140352,
          1.0150000000000003,
          0.8995652173913044,
          0.848135593220339,
          0.815,
          0.7640625,
          0.7253246753246754,
          0.6876000000000001,
          0.6136363636363638,
          0.605,
          0.5823255813953488,
          0.554,
          0.5397674418604651,
          0.5263157894736842,
          0.4788461538461538,
          0.46444444444444444,
          0.45424242424242417,
          0.42205479452054795,
          0.3997058823529412,
          0.3885714285714285,
          0.38206896551724134,
          0.3162068965517242,
          0.306,
          0.2858490566037736,
          0.25363636363636366,
          0.23618421052631577,
          0.21937500000000001,
          0.21805555555555556,
          0.20666666666666667,
          0.19289473684210526,
          0.1888732394366197,
          0.162,
          0.15727272727272726,
          0.14958333333333332,
          0.13595238095238096,
          0.13416666666666668,
          0.12764705882352942,
          0.12190476190476193,
          0.10933333333333334,
          0.09913043478260869,
          0.08884615384615385,
          0.06705882352941175,
          0.0651111111111111,
          0.043333333333333335,
          0.043333333333333335,
          0.040377358490566034,
          0.03777777777777777,
          0.03636363636363637,
          0.03,
          0.03,
          0.029523809523809525,
          0.02666666666666667,
          0.025333333333333333,
          0.025,
          0.022272727272727274,
          0.021666666666666667,
          0.013333333333333334,
          0.007777777777777778,
          0.007727272727272728,
          0.0076,
          0.005555555555555556,
          0.004150943396226415,
          0.004,
          0.00375,
          0.003,
          0.0025,
          0.0025,
          0.001,
          0
         ]
        }
       ],
       "layout": {
        "template": {
         "data": {
          "bar": [
           {
            "error_x": {
             "color": "#2a3f5f"
            },
            "error_y": {
             "color": "#2a3f5f"
            },
            "marker": {
             "line": {
              "color": "#E5ECF6",
              "width": 0.5
             }
            },
            "type": "bar"
           }
          ],
          "barpolar": [
           {
            "marker": {
             "line": {
              "color": "#E5ECF6",
              "width": 0.5
             }
            },
            "type": "barpolar"
           }
          ],
          "carpet": [
           {
            "aaxis": {
             "endlinecolor": "#2a3f5f",
             "gridcolor": "white",
             "linecolor": "white",
             "minorgridcolor": "white",
             "startlinecolor": "#2a3f5f"
            },
            "baxis": {
             "endlinecolor": "#2a3f5f",
             "gridcolor": "white",
             "linecolor": "white",
             "minorgridcolor": "white",
             "startlinecolor": "#2a3f5f"
            },
            "type": "carpet"
           }
          ],
          "choropleth": [
           {
            "colorbar": {
             "outlinewidth": 0,
             "ticks": ""
            },
            "type": "choropleth"
           }
          ],
          "contour": [
           {
            "colorbar": {
             "outlinewidth": 0,
             "ticks": ""
            },
            "colorscale": [
             [
              0,
              "#0d0887"
             ],
             [
              0.1111111111111111,
              "#46039f"
             ],
             [
              0.2222222222222222,
              "#7201a8"
             ],
             [
              0.3333333333333333,
              "#9c179e"
             ],
             [
              0.4444444444444444,
              "#bd3786"
             ],
             [
              0.5555555555555556,
              "#d8576b"
             ],
             [
              0.6666666666666666,
              "#ed7953"
             ],
             [
              0.7777777777777778,
              "#fb9f3a"
             ],
             [
              0.8888888888888888,
              "#fdca26"
             ],
             [
              1,
              "#f0f921"
             ]
            ],
            "type": "contour"
           }
          ],
          "contourcarpet": [
           {
            "colorbar": {
             "outlinewidth": 0,
             "ticks": ""
            },
            "type": "contourcarpet"
           }
          ],
          "heatmap": [
           {
            "colorbar": {
             "outlinewidth": 0,
             "ticks": ""
            },
            "colorscale": [
             [
              0,
              "#0d0887"
             ],
             [
              0.1111111111111111,
              "#46039f"
             ],
             [
              0.2222222222222222,
              "#7201a8"
             ],
             [
              0.3333333333333333,
              "#9c179e"
             ],
             [
              0.4444444444444444,
              "#bd3786"
             ],
             [
              0.5555555555555556,
              "#d8576b"
             ],
             [
              0.6666666666666666,
              "#ed7953"
             ],
             [
              0.7777777777777778,
              "#fb9f3a"
             ],
             [
              0.8888888888888888,
              "#fdca26"
             ],
             [
              1,
              "#f0f921"
             ]
            ],
            "type": "heatmap"
           }
          ],
          "heatmapgl": [
           {
            "colorbar": {
             "outlinewidth": 0,
             "ticks": ""
            },
            "colorscale": [
             [
              0,
              "#0d0887"
             ],
             [
              0.1111111111111111,
              "#46039f"
             ],
             [
              0.2222222222222222,
              "#7201a8"
             ],
             [
              0.3333333333333333,
              "#9c179e"
             ],
             [
              0.4444444444444444,
              "#bd3786"
             ],
             [
              0.5555555555555556,
              "#d8576b"
             ],
             [
              0.6666666666666666,
              "#ed7953"
             ],
             [
              0.7777777777777778,
              "#fb9f3a"
             ],
             [
              0.8888888888888888,
              "#fdca26"
             ],
             [
              1,
              "#f0f921"
             ]
            ],
            "type": "heatmapgl"
           }
          ],
          "histogram": [
           {
            "marker": {
             "colorbar": {
              "outlinewidth": 0,
              "ticks": ""
             }
            },
            "type": "histogram"
           }
          ],
          "histogram2d": [
           {
            "colorbar": {
             "outlinewidth": 0,
             "ticks": ""
            },
            "colorscale": [
             [
              0,
              "#0d0887"
             ],
             [
              0.1111111111111111,
              "#46039f"
             ],
             [
              0.2222222222222222,
              "#7201a8"
             ],
             [
              0.3333333333333333,
              "#9c179e"
             ],
             [
              0.4444444444444444,
              "#bd3786"
             ],
             [
              0.5555555555555556,
              "#d8576b"
             ],
             [
              0.6666666666666666,
              "#ed7953"
             ],
             [
              0.7777777777777778,
              "#fb9f3a"
             ],
             [
              0.8888888888888888,
              "#fdca26"
             ],
             [
              1,
              "#f0f921"
             ]
            ],
            "type": "histogram2d"
           }
          ],
          "histogram2dcontour": [
           {
            "colorbar": {
             "outlinewidth": 0,
             "ticks": ""
            },
            "colorscale": [
             [
              0,
              "#0d0887"
             ],
             [
              0.1111111111111111,
              "#46039f"
             ],
             [
              0.2222222222222222,
              "#7201a8"
             ],
             [
              0.3333333333333333,
              "#9c179e"
             ],
             [
              0.4444444444444444,
              "#bd3786"
             ],
             [
              0.5555555555555556,
              "#d8576b"
             ],
             [
              0.6666666666666666,
              "#ed7953"
             ],
             [
              0.7777777777777778,
              "#fb9f3a"
             ],
             [
              0.8888888888888888,
              "#fdca26"
             ],
             [
              1,
              "#f0f921"
             ]
            ],
            "type": "histogram2dcontour"
           }
          ],
          "mesh3d": [
           {
            "colorbar": {
             "outlinewidth": 0,
             "ticks": ""
            },
            "type": "mesh3d"
           }
          ],
          "parcoords": [
           {
            "line": {
             "colorbar": {
              "outlinewidth": 0,
              "ticks": ""
             }
            },
            "type": "parcoords"
           }
          ],
          "pie": [
           {
            "automargin": true,
            "type": "pie"
           }
          ],
          "scatter": [
           {
            "marker": {
             "colorbar": {
              "outlinewidth": 0,
              "ticks": ""
             }
            },
            "type": "scatter"
           }
          ],
          "scatter3d": [
           {
            "line": {
             "colorbar": {
              "outlinewidth": 0,
              "ticks": ""
             }
            },
            "marker": {
             "colorbar": {
              "outlinewidth": 0,
              "ticks": ""
             }
            },
            "type": "scatter3d"
           }
          ],
          "scattercarpet": [
           {
            "marker": {
             "colorbar": {
              "outlinewidth": 0,
              "ticks": ""
             }
            },
            "type": "scattercarpet"
           }
          ],
          "scattergeo": [
           {
            "marker": {
             "colorbar": {
              "outlinewidth": 0,
              "ticks": ""
             }
            },
            "type": "scattergeo"
           }
          ],
          "scattergl": [
           {
            "marker": {
             "colorbar": {
              "outlinewidth": 0,
              "ticks": ""
             }
            },
            "type": "scattergl"
           }
          ],
          "scattermapbox": [
           {
            "marker": {
             "colorbar": {
              "outlinewidth": 0,
              "ticks": ""
             }
            },
            "type": "scattermapbox"
           }
          ],
          "scatterpolar": [
           {
            "marker": {
             "colorbar": {
              "outlinewidth": 0,
              "ticks": ""
             }
            },
            "type": "scatterpolar"
           }
          ],
          "scatterpolargl": [
           {
            "marker": {
             "colorbar": {
              "outlinewidth": 0,
              "ticks": ""
             }
            },
            "type": "scatterpolargl"
           }
          ],
          "scatterternary": [
           {
            "marker": {
             "colorbar": {
              "outlinewidth": 0,
              "ticks": ""
             }
            },
            "type": "scatterternary"
           }
          ],
          "surface": [
           {
            "colorbar": {
             "outlinewidth": 0,
             "ticks": ""
            },
            "colorscale": [
             [
              0,
              "#0d0887"
             ],
             [
              0.1111111111111111,
              "#46039f"
             ],
             [
              0.2222222222222222,
              "#7201a8"
             ],
             [
              0.3333333333333333,
              "#9c179e"
             ],
             [
              0.4444444444444444,
              "#bd3786"
             ],
             [
              0.5555555555555556,
              "#d8576b"
             ],
             [
              0.6666666666666666,
              "#ed7953"
             ],
             [
              0.7777777777777778,
              "#fb9f3a"
             ],
             [
              0.8888888888888888,
              "#fdca26"
             ],
             [
              1,
              "#f0f921"
             ]
            ],
            "type": "surface"
           }
          ],
          "table": [
           {
            "cells": {
             "fill": {
              "color": "#EBF0F8"
             },
             "line": {
              "color": "white"
             }
            },
            "header": {
             "fill": {
              "color": "#C8D4E3"
             },
             "line": {
              "color": "white"
             }
            },
            "type": "table"
           }
          ]
         },
         "layout": {
          "annotationdefaults": {
           "arrowcolor": "#2a3f5f",
           "arrowhead": 0,
           "arrowwidth": 1
          },
          "autotypenumbers": "strict",
          "coloraxis": {
           "colorbar": {
            "outlinewidth": 0,
            "ticks": ""
           }
          },
          "colorscale": {
           "diverging": [
            [
             0,
             "#8e0152"
            ],
            [
             0.1,
             "#c51b7d"
            ],
            [
             0.2,
             "#de77ae"
            ],
            [
             0.3,
             "#f1b6da"
            ],
            [
             0.4,
             "#fde0ef"
            ],
            [
             0.5,
             "#f7f7f7"
            ],
            [
             0.6,
             "#e6f5d0"
            ],
            [
             0.7,
             "#b8e186"
            ],
            [
             0.8,
             "#7fbc41"
            ],
            [
             0.9,
             "#4d9221"
            ],
            [
             1,
             "#276419"
            ]
           ],
           "sequential": [
            [
             0,
             "#0d0887"
            ],
            [
             0.1111111111111111,
             "#46039f"
            ],
            [
             0.2222222222222222,
             "#7201a8"
            ],
            [
             0.3333333333333333,
             "#9c179e"
            ],
            [
             0.4444444444444444,
             "#bd3786"
            ],
            [
             0.5555555555555556,
             "#d8576b"
            ],
            [
             0.6666666666666666,
             "#ed7953"
            ],
            [
             0.7777777777777778,
             "#fb9f3a"
            ],
            [
             0.8888888888888888,
             "#fdca26"
            ],
            [
             1,
             "#f0f921"
            ]
           ],
           "sequentialminus": [
            [
             0,
             "#0d0887"
            ],
            [
             0.1111111111111111,
             "#46039f"
            ],
            [
             0.2222222222222222,
             "#7201a8"
            ],
            [
             0.3333333333333333,
             "#9c179e"
            ],
            [
             0.4444444444444444,
             "#bd3786"
            ],
            [
             0.5555555555555556,
             "#d8576b"
            ],
            [
             0.6666666666666666,
             "#ed7953"
            ],
            [
             0.7777777777777778,
             "#fb9f3a"
            ],
            [
             0.8888888888888888,
             "#fdca26"
            ],
            [
             1,
             "#f0f921"
            ]
           ]
          },
          "colorway": [
           "#636efa",
           "#EF553B",
           "#00cc96",
           "#ab63fa",
           "#FFA15A",
           "#19d3f3",
           "#FF6692",
           "#B6E880",
           "#FF97FF",
           "#FECB52"
          ],
          "font": {
           "color": "#2a3f5f"
          },
          "geo": {
           "bgcolor": "white",
           "lakecolor": "white",
           "landcolor": "#E5ECF6",
           "showlakes": true,
           "showland": true,
           "subunitcolor": "white"
          },
          "hoverlabel": {
           "align": "left"
          },
          "hovermode": "closest",
          "mapbox": {
           "style": "light"
          },
          "paper_bgcolor": "white",
          "plot_bgcolor": "#E5ECF6",
          "polar": {
           "angularaxis": {
            "gridcolor": "white",
            "linecolor": "white",
            "ticks": ""
           },
           "bgcolor": "#E5ECF6",
           "radialaxis": {
            "gridcolor": "white",
            "linecolor": "white",
            "ticks": ""
           }
          },
          "scene": {
           "xaxis": {
            "backgroundcolor": "#E5ECF6",
            "gridcolor": "white",
            "gridwidth": 2,
            "linecolor": "white",
            "showbackground": true,
            "ticks": "",
            "zerolinecolor": "white"
           },
           "yaxis": {
            "backgroundcolor": "#E5ECF6",
            "gridcolor": "white",
            "gridwidth": 2,
            "linecolor": "white",
            "showbackground": true,
            "ticks": "",
            "zerolinecolor": "white"
           },
           "zaxis": {
            "backgroundcolor": "#E5ECF6",
            "gridcolor": "white",
            "gridwidth": 2,
            "linecolor": "white",
            "showbackground": true,
            "ticks": "",
            "zerolinecolor": "white"
           }
          },
          "shapedefaults": {
           "line": {
            "color": "#2a3f5f"
           }
          },
          "ternary": {
           "aaxis": {
            "gridcolor": "white",
            "linecolor": "white",
            "ticks": ""
           },
           "baxis": {
            "gridcolor": "white",
            "linecolor": "white",
            "ticks": ""
           },
           "bgcolor": "#E5ECF6",
           "caxis": {
            "gridcolor": "white",
            "linecolor": "white",
            "ticks": ""
           }
          },
          "title": {
           "x": 0.05
          },
          "xaxis": {
           "automargin": true,
           "gridcolor": "white",
           "linecolor": "white",
           "ticks": "",
           "title": {
            "standoff": 15
           },
           "zerolinecolor": "white",
           "zerolinewidth": 2
          },
          "yaxis": {
           "automargin": true,
           "gridcolor": "white",
           "linecolor": "white",
           "ticks": "",
           "title": {
            "standoff": 15
           },
           "zerolinecolor": "white",
           "zerolinewidth": 2
          }
         }
        },
        "title": {
         "text": "Top 25 highly vaccinated countries (as per population)"
        },
        "xaxis": {
         "title": {
          "text": "Country"
         }
        },
        "yaxis": {
         "title": {
          "text": "Vaccination per hundred"
         }
        }
       }
      },
      "text/html": [
       "<div>                            <div id=\"fc88b37e-41e6-437e-aee7-60706572b0bd\" class=\"plotly-graph-div\" style=\"height:525px; width:100%;\"></div>            <script type=\"text/javascript\">                require([\"plotly\"], function(Plotly) {                    window.PLOTLYENV=window.PLOTLYENV || {};                                    if (document.getElementById(\"fc88b37e-41e6-437e-aee7-60706572b0bd\")) {                    Plotly.newPlot(                        \"fc88b37e-41e6-437e-aee7-60706572b0bd\",                        [{\"marker\": {\"color\": [0, 1, 2, 3, 4, 5, 6, 7, 8, 9, 10, 11, 12, 13, 14, 15, 16, 17, 18, 19, 20, 21, 22, 23, 24, 25]}, \"type\": \"bar\", \"x\": [\"Gibraltar\", \"Israel\", \"United Arab Emirates\", \"Seychelles\", \"Isle of Man\", \"Maldives\", \"England\", \"Wales\", \"United Kingdom\", \"Northern Ireland\", \"Scotland\", \"Malta\", \"Barbados\", \"United States\", \"Serbia\", \"Chile\", \"Switzerland\", \"Falkland Islands\", \"Denmark\", \"Turkey\", \"Morocco\", \"Cayman Islands\", \"Slovenia\", \"Slovakia\", \"Hungary\"], \"y\": [62.504999999999995, 51.14487804878049, 37.67234374999999, 25.686166666666665, 15.81551020408163, 13.684054054054053, 13.5432183908046, 13.356321839080458, 13.209655172413795, 12.824597701149424, 12.39793103448276, 11.452692307692304, 10.364999999999998, 9.850617283950617, 7.701612903225807, 6.885974025974025, 6.364883720930231, 5.826874999999999, 5.599864864864866, 5.242982456140351, 5.024523809523809, 4.7498571428571426, 4.434931506849314, 4.40969696969697, 4.355890410958903, 4.252837837837839, 4.021095890410959, 3.976438356164384, 3.9584615384615383, 3.913108108108108, 3.8578378378378373, 3.788378378378378, 3.7826415094339625, 3.7377777777777776, 3.568055555555555, 3.5445205479452055, 3.52, 3.4687671232876713, 3.3858208955223885, 3.354857142857143, 3.320153846153847, 3.3128767123287672, 3.2644736842105266, 3.2625000000000006, 3.221756756756757, 3.0698630136986296, 2.95474358974359, 2.351609195402298, 2.327826086956522, 2.285, 2.2656521739130437, 2.0281428571428566, 1.8208333333333335, 1.76, 1.620144927536232, 1.4673809523809525, 1.3499999999999999, 1.2244444444444444, 1.1938, 1.04875, 1.0343243243243243, 1.0292982456140352, 1.0150000000000003, 0.8995652173913044, 0.848135593220339, 0.815, 0.7640625, 0.7253246753246754, 0.6876000000000001, 0.6136363636363638, 0.605, 0.5823255813953488, 0.554, 0.5397674418604651, 0.5263157894736842, 0.4788461538461538, 0.46444444444444444, 0.45424242424242417, 0.42205479452054795, 0.3997058823529412, 0.3885714285714285, 0.38206896551724134, 0.3162068965517242, 0.306, 0.2858490566037736, 0.25363636363636366, 0.23618421052631577, 0.21937500000000001, 0.21805555555555556, 0.20666666666666667, 0.19289473684210526, 0.1888732394366197, 0.162, 0.15727272727272726, 0.14958333333333332, 0.13595238095238096, 0.13416666666666668, 0.12764705882352942, 0.12190476190476193, 0.10933333333333334, 0.09913043478260869, 0.08884615384615385, 0.06705882352941175, 0.0651111111111111, 0.043333333333333335, 0.043333333333333335, 0.040377358490566034, 0.03777777777777777, 0.03636363636363637, 0.03, 0.03, 0.029523809523809525, 0.02666666666666667, 0.025333333333333333, 0.025, 0.022272727272727274, 0.021666666666666667, 0.013333333333333334, 0.007777777777777778, 0.007727272727272728, 0.0076, 0.005555555555555556, 0.004150943396226415, 0.004, 0.00375, 0.003, 0.0025, 0.0025, 0.001, 0.0]}],                        {\"template\": {\"data\": {\"bar\": [{\"error_x\": {\"color\": \"#2a3f5f\"}, \"error_y\": {\"color\": \"#2a3f5f\"}, \"marker\": {\"line\": {\"color\": \"#E5ECF6\", \"width\": 0.5}}, \"type\": \"bar\"}], \"barpolar\": [{\"marker\": {\"line\": {\"color\": \"#E5ECF6\", \"width\": 0.5}}, \"type\": \"barpolar\"}], \"carpet\": [{\"aaxis\": {\"endlinecolor\": \"#2a3f5f\", \"gridcolor\": \"white\", \"linecolor\": \"white\", \"minorgridcolor\": \"white\", \"startlinecolor\": \"#2a3f5f\"}, \"baxis\": {\"endlinecolor\": \"#2a3f5f\", \"gridcolor\": \"white\", \"linecolor\": \"white\", \"minorgridcolor\": \"white\", \"startlinecolor\": \"#2a3f5f\"}, \"type\": \"carpet\"}], \"choropleth\": [{\"colorbar\": {\"outlinewidth\": 0, \"ticks\": \"\"}, \"type\": \"choropleth\"}], \"contour\": [{\"colorbar\": {\"outlinewidth\": 0, \"ticks\": \"\"}, \"colorscale\": [[0.0, \"#0d0887\"], [0.1111111111111111, \"#46039f\"], [0.2222222222222222, \"#7201a8\"], [0.3333333333333333, \"#9c179e\"], [0.4444444444444444, \"#bd3786\"], [0.5555555555555556, \"#d8576b\"], [0.6666666666666666, \"#ed7953\"], [0.7777777777777778, \"#fb9f3a\"], [0.8888888888888888, \"#fdca26\"], [1.0, \"#f0f921\"]], \"type\": \"contour\"}], \"contourcarpet\": [{\"colorbar\": {\"outlinewidth\": 0, \"ticks\": \"\"}, \"type\": \"contourcarpet\"}], \"heatmap\": [{\"colorbar\": {\"outlinewidth\": 0, \"ticks\": \"\"}, \"colorscale\": [[0.0, \"#0d0887\"], [0.1111111111111111, \"#46039f\"], [0.2222222222222222, \"#7201a8\"], [0.3333333333333333, \"#9c179e\"], [0.4444444444444444, \"#bd3786\"], [0.5555555555555556, \"#d8576b\"], [0.6666666666666666, \"#ed7953\"], [0.7777777777777778, \"#fb9f3a\"], [0.8888888888888888, \"#fdca26\"], [1.0, \"#f0f921\"]], \"type\": \"heatmap\"}], \"heatmapgl\": [{\"colorbar\": {\"outlinewidth\": 0, \"ticks\": \"\"}, \"colorscale\": [[0.0, \"#0d0887\"], [0.1111111111111111, \"#46039f\"], [0.2222222222222222, \"#7201a8\"], [0.3333333333333333, \"#9c179e\"], [0.4444444444444444, \"#bd3786\"], [0.5555555555555556, \"#d8576b\"], [0.6666666666666666, \"#ed7953\"], [0.7777777777777778, \"#fb9f3a\"], [0.8888888888888888, \"#fdca26\"], [1.0, \"#f0f921\"]], \"type\": \"heatmapgl\"}], \"histogram\": [{\"marker\": {\"colorbar\": {\"outlinewidth\": 0, \"ticks\": \"\"}}, \"type\": \"histogram\"}], \"histogram2d\": [{\"colorbar\": {\"outlinewidth\": 0, \"ticks\": \"\"}, \"colorscale\": [[0.0, \"#0d0887\"], [0.1111111111111111, \"#46039f\"], [0.2222222222222222, \"#7201a8\"], [0.3333333333333333, \"#9c179e\"], [0.4444444444444444, \"#bd3786\"], [0.5555555555555556, \"#d8576b\"], [0.6666666666666666, \"#ed7953\"], [0.7777777777777778, \"#fb9f3a\"], [0.8888888888888888, \"#fdca26\"], [1.0, \"#f0f921\"]], \"type\": \"histogram2d\"}], \"histogram2dcontour\": [{\"colorbar\": {\"outlinewidth\": 0, \"ticks\": \"\"}, \"colorscale\": [[0.0, \"#0d0887\"], [0.1111111111111111, \"#46039f\"], [0.2222222222222222, \"#7201a8\"], [0.3333333333333333, \"#9c179e\"], [0.4444444444444444, \"#bd3786\"], [0.5555555555555556, \"#d8576b\"], [0.6666666666666666, \"#ed7953\"], [0.7777777777777778, \"#fb9f3a\"], [0.8888888888888888, \"#fdca26\"], [1.0, \"#f0f921\"]], \"type\": \"histogram2dcontour\"}], \"mesh3d\": [{\"colorbar\": {\"outlinewidth\": 0, \"ticks\": \"\"}, \"type\": \"mesh3d\"}], \"parcoords\": [{\"line\": {\"colorbar\": {\"outlinewidth\": 0, \"ticks\": \"\"}}, \"type\": \"parcoords\"}], \"pie\": [{\"automargin\": true, \"type\": \"pie\"}], \"scatter\": [{\"marker\": {\"colorbar\": {\"outlinewidth\": 0, \"ticks\": \"\"}}, \"type\": \"scatter\"}], \"scatter3d\": [{\"line\": {\"colorbar\": {\"outlinewidth\": 0, \"ticks\": \"\"}}, \"marker\": {\"colorbar\": {\"outlinewidth\": 0, \"ticks\": \"\"}}, \"type\": \"scatter3d\"}], \"scattercarpet\": [{\"marker\": {\"colorbar\": {\"outlinewidth\": 0, \"ticks\": \"\"}}, \"type\": \"scattercarpet\"}], \"scattergeo\": [{\"marker\": {\"colorbar\": {\"outlinewidth\": 0, \"ticks\": \"\"}}, \"type\": \"scattergeo\"}], \"scattergl\": [{\"marker\": {\"colorbar\": {\"outlinewidth\": 0, \"ticks\": \"\"}}, \"type\": \"scattergl\"}], \"scattermapbox\": [{\"marker\": {\"colorbar\": {\"outlinewidth\": 0, \"ticks\": \"\"}}, \"type\": \"scattermapbox\"}], \"scatterpolar\": [{\"marker\": {\"colorbar\": {\"outlinewidth\": 0, \"ticks\": \"\"}}, \"type\": \"scatterpolar\"}], \"scatterpolargl\": [{\"marker\": {\"colorbar\": {\"outlinewidth\": 0, \"ticks\": \"\"}}, \"type\": \"scatterpolargl\"}], \"scatterternary\": [{\"marker\": {\"colorbar\": {\"outlinewidth\": 0, \"ticks\": \"\"}}, \"type\": \"scatterternary\"}], \"surface\": [{\"colorbar\": {\"outlinewidth\": 0, \"ticks\": \"\"}, \"colorscale\": [[0.0, \"#0d0887\"], [0.1111111111111111, \"#46039f\"], [0.2222222222222222, \"#7201a8\"], [0.3333333333333333, \"#9c179e\"], [0.4444444444444444, \"#bd3786\"], [0.5555555555555556, \"#d8576b\"], [0.6666666666666666, \"#ed7953\"], [0.7777777777777778, \"#fb9f3a\"], [0.8888888888888888, \"#fdca26\"], [1.0, \"#f0f921\"]], \"type\": \"surface\"}], \"table\": [{\"cells\": {\"fill\": {\"color\": \"#EBF0F8\"}, \"line\": {\"color\": \"white\"}}, \"header\": {\"fill\": {\"color\": \"#C8D4E3\"}, \"line\": {\"color\": \"white\"}}, \"type\": \"table\"}]}, \"layout\": {\"annotationdefaults\": {\"arrowcolor\": \"#2a3f5f\", \"arrowhead\": 0, \"arrowwidth\": 1}, \"autotypenumbers\": \"strict\", \"coloraxis\": {\"colorbar\": {\"outlinewidth\": 0, \"ticks\": \"\"}}, \"colorscale\": {\"diverging\": [[0, \"#8e0152\"], [0.1, \"#c51b7d\"], [0.2, \"#de77ae\"], [0.3, \"#f1b6da\"], [0.4, \"#fde0ef\"], [0.5, \"#f7f7f7\"], [0.6, \"#e6f5d0\"], [0.7, \"#b8e186\"], [0.8, \"#7fbc41\"], [0.9, \"#4d9221\"], [1, \"#276419\"]], \"sequential\": [[0.0, \"#0d0887\"], [0.1111111111111111, \"#46039f\"], [0.2222222222222222, \"#7201a8\"], [0.3333333333333333, \"#9c179e\"], [0.4444444444444444, \"#bd3786\"], [0.5555555555555556, \"#d8576b\"], [0.6666666666666666, \"#ed7953\"], [0.7777777777777778, \"#fb9f3a\"], [0.8888888888888888, \"#fdca26\"], [1.0, \"#f0f921\"]], \"sequentialminus\": [[0.0, \"#0d0887\"], [0.1111111111111111, \"#46039f\"], [0.2222222222222222, \"#7201a8\"], [0.3333333333333333, \"#9c179e\"], [0.4444444444444444, \"#bd3786\"], [0.5555555555555556, \"#d8576b\"], [0.6666666666666666, \"#ed7953\"], [0.7777777777777778, \"#fb9f3a\"], [0.8888888888888888, \"#fdca26\"], [1.0, \"#f0f921\"]]}, \"colorway\": [\"#636efa\", \"#EF553B\", \"#00cc96\", \"#ab63fa\", \"#FFA15A\", \"#19d3f3\", \"#FF6692\", \"#B6E880\", \"#FF97FF\", \"#FECB52\"], \"font\": {\"color\": \"#2a3f5f\"}, \"geo\": {\"bgcolor\": \"white\", \"lakecolor\": \"white\", \"landcolor\": \"#E5ECF6\", \"showlakes\": true, \"showland\": true, \"subunitcolor\": \"white\"}, \"hoverlabel\": {\"align\": \"left\"}, \"hovermode\": \"closest\", \"mapbox\": {\"style\": \"light\"}, \"paper_bgcolor\": \"white\", \"plot_bgcolor\": \"#E5ECF6\", \"polar\": {\"angularaxis\": {\"gridcolor\": \"white\", \"linecolor\": \"white\", \"ticks\": \"\"}, \"bgcolor\": \"#E5ECF6\", \"radialaxis\": {\"gridcolor\": \"white\", \"linecolor\": \"white\", \"ticks\": \"\"}}, \"scene\": {\"xaxis\": {\"backgroundcolor\": \"#E5ECF6\", \"gridcolor\": \"white\", \"gridwidth\": 2, \"linecolor\": \"white\", \"showbackground\": true, \"ticks\": \"\", \"zerolinecolor\": \"white\"}, \"yaxis\": {\"backgroundcolor\": \"#E5ECF6\", \"gridcolor\": \"white\", \"gridwidth\": 2, \"linecolor\": \"white\", \"showbackground\": true, \"ticks\": \"\", \"zerolinecolor\": \"white\"}, \"zaxis\": {\"backgroundcolor\": \"#E5ECF6\", \"gridcolor\": \"white\", \"gridwidth\": 2, \"linecolor\": \"white\", \"showbackground\": true, \"ticks\": \"\", \"zerolinecolor\": \"white\"}}, \"shapedefaults\": {\"line\": {\"color\": \"#2a3f5f\"}}, \"ternary\": {\"aaxis\": {\"gridcolor\": \"white\", \"linecolor\": \"white\", \"ticks\": \"\"}, \"baxis\": {\"gridcolor\": \"white\", \"linecolor\": \"white\", \"ticks\": \"\"}, \"bgcolor\": \"#E5ECF6\", \"caxis\": {\"gridcolor\": \"white\", \"linecolor\": \"white\", \"ticks\": \"\"}}, \"title\": {\"x\": 0.05}, \"xaxis\": {\"automargin\": true, \"gridcolor\": \"white\", \"linecolor\": \"white\", \"ticks\": \"\", \"title\": {\"standoff\": 15}, \"zerolinecolor\": \"white\", \"zerolinewidth\": 2}, \"yaxis\": {\"automargin\": true, \"gridcolor\": \"white\", \"linecolor\": \"white\", \"ticks\": \"\", \"title\": {\"standoff\": 15}, \"zerolinecolor\": \"white\", \"zerolinewidth\": 2}}}, \"title\": {\"text\": \"Top 25 highly vaccinated countries (as per population)\"}, \"xaxis\": {\"title\": {\"text\": \"Country\"}}, \"yaxis\": {\"title\": {\"text\": \"Vaccination per hundred\"}}},                        {\"responsive\": true}                    ).then(function(){\n",
       "                            \n",
       "var gd = document.getElementById('fc88b37e-41e6-437e-aee7-60706572b0bd');\n",
       "var x = new MutationObserver(function (mutations, observer) {{\n",
       "        var display = window.getComputedStyle(gd).display;\n",
       "        if (!display || display === 'none') {{\n",
       "            console.log([gd, 'removed!']);\n",
       "            Plotly.purge(gd);\n",
       "            observer.disconnect();\n",
       "        }}\n",
       "}});\n",
       "\n",
       "// Listen for the removal of the full notebook cells\n",
       "var notebookContainer = gd.closest('#notebook-container');\n",
       "if (notebookContainer) {{\n",
       "    x.observe(notebookContainer, {childList: true});\n",
       "}}\n",
       "\n",
       "// Listen for the clearing of the current output cell\n",
       "var outputEl = gd.closest('.output');\n",
       "if (outputEl) {{\n",
       "    x.observe(outputEl, {childList: true});\n",
       "}}\n",
       "\n",
       "                        })                };                });            </script>        </div>"
      ]
     },
     "metadata": {},
     "output_type": "display_data"
    }
   ],
   "source": [
    "trace = go.Bar(x=total_vac_hundred.index[:25], y=total_vac_hundred[\"total_vaccinations_per_hundred\"], \n",
    "                marker=dict(\n",
    "                  color=np.arange(26)\n",
    "              ))\n",
    "\n",
    "fig = go.Figure(data=[trace])\n",
    "fig.update_layout(title=\"Top 25 highly vaccinated countries (as per population)\")\n",
    "fig.update_xaxes(title=\"Country\")\n",
    "fig.update_yaxes(title=\"Vaccination per hundred\")\n",
    "\n",
    "iplot(fig)"
   ]
  },
  {
   "cell_type": "markdown",
   "metadata": {},
   "source": [
    "*We can observe that Israel, UAE, etc. have a higher ratio of total vaccinations per hundred as compared to USA, UK, China*"
   ]
  }
 ],
 "metadata": {
  "kernelspec": {
   "display_name": "Python 3",
   "language": "python",
   "name": "python3"
  },
  "language_info": {
   "codemirror_mode": {
    "name": "ipython",
    "version": 3
   },
   "file_extension": ".py",
   "mimetype": "text/x-python",
   "name": "python",
   "nbconvert_exporter": "python",
   "pygments_lexer": "ipython3",
   "version": "3.8.3"
  }
 },
 "nbformat": 4,
 "nbformat_minor": 4
}
